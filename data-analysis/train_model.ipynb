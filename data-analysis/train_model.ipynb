{
 "cells": [
  {
   "cell_type": "code",
   "execution_count": 12,
   "metadata": {},
   "outputs": [],
   "source": [
    "import numpy as np # linear algebra\n",
    "import pandas as pd # data processing\n",
    "import time\n",
    "from sklearn.model_selection import cross_val_score"
   ]
  },
  {
   "cell_type": "markdown",
   "metadata": {},
   "source": [
    "## Read Data"
   ]
  },
  {
   "cell_type": "code",
   "execution_count": 13,
   "metadata": {},
   "outputs": [
    {
     "data": {
      "text/html": [
       "<div>\n",
       "<style scoped>\n",
       "    .dataframe tbody tr th:only-of-type {\n",
       "        vertical-align: middle;\n",
       "    }\n",
       "\n",
       "    .dataframe tbody tr th {\n",
       "        vertical-align: top;\n",
       "    }\n",
       "\n",
       "    .dataframe thead th {\n",
       "        text-align: right;\n",
       "    }\n",
       "</style>\n",
       "<table border=\"1\" class=\"dataframe\">\n",
       "  <thead>\n",
       "    <tr style=\"text-align: right;\">\n",
       "      <th></th>\n",
       "      <th>Inflight wifi service_0</th>\n",
       "      <th>Inflight wifi service_1</th>\n",
       "      <th>Inflight wifi service_2</th>\n",
       "      <th>Inflight wifi service_3</th>\n",
       "      <th>Inflight wifi service_4</th>\n",
       "      <th>Inflight wifi service_5</th>\n",
       "      <th>Departure/Arrival time convenient_0</th>\n",
       "      <th>Departure/Arrival time convenient_1</th>\n",
       "      <th>Departure/Arrival time convenient_2</th>\n",
       "      <th>Departure/Arrival time convenient_3</th>\n",
       "      <th>...</th>\n",
       "      <th>Type of Travel_Business travel</th>\n",
       "      <th>Type of Travel_Personal Travel</th>\n",
       "      <th>Class_Business</th>\n",
       "      <th>Class_Eco</th>\n",
       "      <th>Class_Eco Plus</th>\n",
       "      <th>Age</th>\n",
       "      <th>Flight Distance</th>\n",
       "      <th>Departure Delay in Minutes</th>\n",
       "      <th>Arrival Delay in Minutes</th>\n",
       "      <th>satisfaction</th>\n",
       "    </tr>\n",
       "  </thead>\n",
       "  <tbody>\n",
       "    <tr>\n",
       "      <th>0</th>\n",
       "      <td>0</td>\n",
       "      <td>0</td>\n",
       "      <td>0</td>\n",
       "      <td>1</td>\n",
       "      <td>0</td>\n",
       "      <td>0</td>\n",
       "      <td>0</td>\n",
       "      <td>0</td>\n",
       "      <td>0</td>\n",
       "      <td>0</td>\n",
       "      <td>...</td>\n",
       "      <td>0</td>\n",
       "      <td>1</td>\n",
       "      <td>0</td>\n",
       "      <td>0</td>\n",
       "      <td>1</td>\n",
       "      <td>13</td>\n",
       "      <td>460</td>\n",
       "      <td>25</td>\n",
       "      <td>18.0</td>\n",
       "      <td>neutral or dissatisfied</td>\n",
       "    </tr>\n",
       "    <tr>\n",
       "      <th>1</th>\n",
       "      <td>0</td>\n",
       "      <td>0</td>\n",
       "      <td>0</td>\n",
       "      <td>1</td>\n",
       "      <td>0</td>\n",
       "      <td>0</td>\n",
       "      <td>0</td>\n",
       "      <td>0</td>\n",
       "      <td>1</td>\n",
       "      <td>0</td>\n",
       "      <td>...</td>\n",
       "      <td>1</td>\n",
       "      <td>0</td>\n",
       "      <td>1</td>\n",
       "      <td>0</td>\n",
       "      <td>0</td>\n",
       "      <td>25</td>\n",
       "      <td>235</td>\n",
       "      <td>1</td>\n",
       "      <td>6.0</td>\n",
       "      <td>neutral or dissatisfied</td>\n",
       "    </tr>\n",
       "    <tr>\n",
       "      <th>2</th>\n",
       "      <td>0</td>\n",
       "      <td>0</td>\n",
       "      <td>1</td>\n",
       "      <td>0</td>\n",
       "      <td>0</td>\n",
       "      <td>0</td>\n",
       "      <td>0</td>\n",
       "      <td>0</td>\n",
       "      <td>1</td>\n",
       "      <td>0</td>\n",
       "      <td>...</td>\n",
       "      <td>1</td>\n",
       "      <td>0</td>\n",
       "      <td>1</td>\n",
       "      <td>0</td>\n",
       "      <td>0</td>\n",
       "      <td>26</td>\n",
       "      <td>1142</td>\n",
       "      <td>0</td>\n",
       "      <td>0.0</td>\n",
       "      <td>satisfied</td>\n",
       "    </tr>\n",
       "    <tr>\n",
       "      <th>3</th>\n",
       "      <td>0</td>\n",
       "      <td>0</td>\n",
       "      <td>1</td>\n",
       "      <td>0</td>\n",
       "      <td>0</td>\n",
       "      <td>0</td>\n",
       "      <td>0</td>\n",
       "      <td>0</td>\n",
       "      <td>0</td>\n",
       "      <td>0</td>\n",
       "      <td>...</td>\n",
       "      <td>1</td>\n",
       "      <td>0</td>\n",
       "      <td>1</td>\n",
       "      <td>0</td>\n",
       "      <td>0</td>\n",
       "      <td>25</td>\n",
       "      <td>562</td>\n",
       "      <td>11</td>\n",
       "      <td>9.0</td>\n",
       "      <td>neutral or dissatisfied</td>\n",
       "    </tr>\n",
       "    <tr>\n",
       "      <th>4</th>\n",
       "      <td>0</td>\n",
       "      <td>0</td>\n",
       "      <td>0</td>\n",
       "      <td>1</td>\n",
       "      <td>0</td>\n",
       "      <td>0</td>\n",
       "      <td>0</td>\n",
       "      <td>0</td>\n",
       "      <td>0</td>\n",
       "      <td>1</td>\n",
       "      <td>...</td>\n",
       "      <td>1</td>\n",
       "      <td>0</td>\n",
       "      <td>1</td>\n",
       "      <td>0</td>\n",
       "      <td>0</td>\n",
       "      <td>61</td>\n",
       "      <td>214</td>\n",
       "      <td>0</td>\n",
       "      <td>0.0</td>\n",
       "      <td>satisfied</td>\n",
       "    </tr>\n",
       "  </tbody>\n",
       "</table>\n",
       "<p>5 rows × 97 columns</p>\n",
       "</div>"
      ],
      "text/plain": [
       "   Inflight wifi service_0  Inflight wifi service_1  Inflight wifi service_2  \\\n",
       "0                        0                        0                        0   \n",
       "1                        0                        0                        0   \n",
       "2                        0                        0                        1   \n",
       "3                        0                        0                        1   \n",
       "4                        0                        0                        0   \n",
       "\n",
       "   Inflight wifi service_3  Inflight wifi service_4  Inflight wifi service_5  \\\n",
       "0                        1                        0                        0   \n",
       "1                        1                        0                        0   \n",
       "2                        0                        0                        0   \n",
       "3                        0                        0                        0   \n",
       "4                        1                        0                        0   \n",
       "\n",
       "   Departure/Arrival time convenient_0  Departure/Arrival time convenient_1  \\\n",
       "0                                    0                                    0   \n",
       "1                                    0                                    0   \n",
       "2                                    0                                    0   \n",
       "3                                    0                                    0   \n",
       "4                                    0                                    0   \n",
       "\n",
       "   Departure/Arrival time convenient_2  Departure/Arrival time convenient_3  \\\n",
       "0                                    0                                    0   \n",
       "1                                    1                                    0   \n",
       "2                                    1                                    0   \n",
       "3                                    0                                    0   \n",
       "4                                    0                                    1   \n",
       "\n",
       "   ...  Type of Travel_Business travel  Type of Travel_Personal Travel  \\\n",
       "0  ...                               0                               1   \n",
       "1  ...                               1                               0   \n",
       "2  ...                               1                               0   \n",
       "3  ...                               1                               0   \n",
       "4  ...                               1                               0   \n",
       "\n",
       "   Class_Business  Class_Eco  Class_Eco Plus  Age  Flight Distance  \\\n",
       "0               0          0               1   13              460   \n",
       "1               1          0               0   25              235   \n",
       "2               1          0               0   26             1142   \n",
       "3               1          0               0   25              562   \n",
       "4               1          0               0   61              214   \n",
       "\n",
       "   Departure Delay in Minutes  Arrival Delay in Minutes  \\\n",
       "0                          25                      18.0   \n",
       "1                           1                       6.0   \n",
       "2                           0                       0.0   \n",
       "3                          11                       9.0   \n",
       "4                           0                       0.0   \n",
       "\n",
       "              satisfaction  \n",
       "0  neutral or dissatisfied  \n",
       "1  neutral or dissatisfied  \n",
       "2                satisfied  \n",
       "3  neutral or dissatisfied  \n",
       "4                satisfied  \n",
       "\n",
       "[5 rows x 97 columns]"
      ]
     },
     "execution_count": 13,
     "metadata": {},
     "output_type": "execute_result"
    }
   ],
   "source": [
    "data_name = \"dummy\"\n",
    "# data_name = \"dummy_object\"\n",
    "df = pd.read_csv(f\"../datasets/data_{data_name}.csv\")\n",
    "df_copy = df.copy()\n",
    "df_copy.head()"
   ]
  },
  {
   "cell_type": "markdown",
   "metadata": {},
   "source": [
    "## Train-Test Splitting"
   ]
  },
  {
   "cell_type": "code",
   "execution_count": 14,
   "metadata": {},
   "outputs": [
    {
     "data": {
      "text/html": [
       "<div>\n",
       "<style scoped>\n",
       "    .dataframe tbody tr th:only-of-type {\n",
       "        vertical-align: middle;\n",
       "    }\n",
       "\n",
       "    .dataframe tbody tr th {\n",
       "        vertical-align: top;\n",
       "    }\n",
       "\n",
       "    .dataframe thead th {\n",
       "        text-align: right;\n",
       "    }\n",
       "</style>\n",
       "<table border=\"1\" class=\"dataframe\">\n",
       "  <thead>\n",
       "    <tr style=\"text-align: right;\">\n",
       "      <th></th>\n",
       "      <th>Inflight wifi service_0</th>\n",
       "      <th>Inflight wifi service_1</th>\n",
       "      <th>Inflight wifi service_2</th>\n",
       "      <th>Inflight wifi service_3</th>\n",
       "      <th>Inflight wifi service_4</th>\n",
       "      <th>Inflight wifi service_5</th>\n",
       "      <th>Departure/Arrival time convenient_0</th>\n",
       "      <th>Departure/Arrival time convenient_1</th>\n",
       "      <th>Departure/Arrival time convenient_2</th>\n",
       "      <th>Departure/Arrival time convenient_3</th>\n",
       "      <th>...</th>\n",
       "      <th>Customer Type_disloyal Customer</th>\n",
       "      <th>Type of Travel_Business travel</th>\n",
       "      <th>Type of Travel_Personal Travel</th>\n",
       "      <th>Class_Business</th>\n",
       "      <th>Class_Eco</th>\n",
       "      <th>Class_Eco Plus</th>\n",
       "      <th>Age</th>\n",
       "      <th>Flight Distance</th>\n",
       "      <th>Departure Delay in Minutes</th>\n",
       "      <th>Arrival Delay in Minutes</th>\n",
       "    </tr>\n",
       "  </thead>\n",
       "  <tbody>\n",
       "    <tr>\n",
       "      <th>0</th>\n",
       "      <td>0</td>\n",
       "      <td>0</td>\n",
       "      <td>0</td>\n",
       "      <td>1</td>\n",
       "      <td>0</td>\n",
       "      <td>0</td>\n",
       "      <td>0</td>\n",
       "      <td>0</td>\n",
       "      <td>0</td>\n",
       "      <td>0</td>\n",
       "      <td>...</td>\n",
       "      <td>0</td>\n",
       "      <td>0</td>\n",
       "      <td>1</td>\n",
       "      <td>0</td>\n",
       "      <td>0</td>\n",
       "      <td>1</td>\n",
       "      <td>13</td>\n",
       "      <td>460</td>\n",
       "      <td>25</td>\n",
       "      <td>18.0</td>\n",
       "    </tr>\n",
       "    <tr>\n",
       "      <th>1</th>\n",
       "      <td>0</td>\n",
       "      <td>0</td>\n",
       "      <td>0</td>\n",
       "      <td>1</td>\n",
       "      <td>0</td>\n",
       "      <td>0</td>\n",
       "      <td>0</td>\n",
       "      <td>0</td>\n",
       "      <td>1</td>\n",
       "      <td>0</td>\n",
       "      <td>...</td>\n",
       "      <td>1</td>\n",
       "      <td>1</td>\n",
       "      <td>0</td>\n",
       "      <td>1</td>\n",
       "      <td>0</td>\n",
       "      <td>0</td>\n",
       "      <td>25</td>\n",
       "      <td>235</td>\n",
       "      <td>1</td>\n",
       "      <td>6.0</td>\n",
       "    </tr>\n",
       "    <tr>\n",
       "      <th>2</th>\n",
       "      <td>0</td>\n",
       "      <td>0</td>\n",
       "      <td>1</td>\n",
       "      <td>0</td>\n",
       "      <td>0</td>\n",
       "      <td>0</td>\n",
       "      <td>0</td>\n",
       "      <td>0</td>\n",
       "      <td>1</td>\n",
       "      <td>0</td>\n",
       "      <td>...</td>\n",
       "      <td>0</td>\n",
       "      <td>1</td>\n",
       "      <td>0</td>\n",
       "      <td>1</td>\n",
       "      <td>0</td>\n",
       "      <td>0</td>\n",
       "      <td>26</td>\n",
       "      <td>1142</td>\n",
       "      <td>0</td>\n",
       "      <td>0.0</td>\n",
       "    </tr>\n",
       "    <tr>\n",
       "      <th>3</th>\n",
       "      <td>0</td>\n",
       "      <td>0</td>\n",
       "      <td>1</td>\n",
       "      <td>0</td>\n",
       "      <td>0</td>\n",
       "      <td>0</td>\n",
       "      <td>0</td>\n",
       "      <td>0</td>\n",
       "      <td>0</td>\n",
       "      <td>0</td>\n",
       "      <td>...</td>\n",
       "      <td>0</td>\n",
       "      <td>1</td>\n",
       "      <td>0</td>\n",
       "      <td>1</td>\n",
       "      <td>0</td>\n",
       "      <td>0</td>\n",
       "      <td>25</td>\n",
       "      <td>562</td>\n",
       "      <td>11</td>\n",
       "      <td>9.0</td>\n",
       "    </tr>\n",
       "    <tr>\n",
       "      <th>4</th>\n",
       "      <td>0</td>\n",
       "      <td>0</td>\n",
       "      <td>0</td>\n",
       "      <td>1</td>\n",
       "      <td>0</td>\n",
       "      <td>0</td>\n",
       "      <td>0</td>\n",
       "      <td>0</td>\n",
       "      <td>0</td>\n",
       "      <td>1</td>\n",
       "      <td>...</td>\n",
       "      <td>0</td>\n",
       "      <td>1</td>\n",
       "      <td>0</td>\n",
       "      <td>1</td>\n",
       "      <td>0</td>\n",
       "      <td>0</td>\n",
       "      <td>61</td>\n",
       "      <td>214</td>\n",
       "      <td>0</td>\n",
       "      <td>0.0</td>\n",
       "    </tr>\n",
       "    <tr>\n",
       "      <th>...</th>\n",
       "      <td>...</td>\n",
       "      <td>...</td>\n",
       "      <td>...</td>\n",
       "      <td>...</td>\n",
       "      <td>...</td>\n",
       "      <td>...</td>\n",
       "      <td>...</td>\n",
       "      <td>...</td>\n",
       "      <td>...</td>\n",
       "      <td>...</td>\n",
       "      <td>...</td>\n",
       "      <td>...</td>\n",
       "      <td>...</td>\n",
       "      <td>...</td>\n",
       "      <td>...</td>\n",
       "      <td>...</td>\n",
       "      <td>...</td>\n",
       "      <td>...</td>\n",
       "      <td>...</td>\n",
       "      <td>...</td>\n",
       "      <td>...</td>\n",
       "    </tr>\n",
       "    <tr>\n",
       "      <th>129482</th>\n",
       "      <td>0</td>\n",
       "      <td>0</td>\n",
       "      <td>0</td>\n",
       "      <td>1</td>\n",
       "      <td>0</td>\n",
       "      <td>0</td>\n",
       "      <td>0</td>\n",
       "      <td>0</td>\n",
       "      <td>0</td>\n",
       "      <td>1</td>\n",
       "      <td>...</td>\n",
       "      <td>1</td>\n",
       "      <td>1</td>\n",
       "      <td>0</td>\n",
       "      <td>1</td>\n",
       "      <td>0</td>\n",
       "      <td>0</td>\n",
       "      <td>34</td>\n",
       "      <td>526</td>\n",
       "      <td>0</td>\n",
       "      <td>0.0</td>\n",
       "    </tr>\n",
       "    <tr>\n",
       "      <th>129483</th>\n",
       "      <td>0</td>\n",
       "      <td>0</td>\n",
       "      <td>0</td>\n",
       "      <td>0</td>\n",
       "      <td>1</td>\n",
       "      <td>0</td>\n",
       "      <td>0</td>\n",
       "      <td>0</td>\n",
       "      <td>0</td>\n",
       "      <td>0</td>\n",
       "      <td>...</td>\n",
       "      <td>0</td>\n",
       "      <td>1</td>\n",
       "      <td>0</td>\n",
       "      <td>1</td>\n",
       "      <td>0</td>\n",
       "      <td>0</td>\n",
       "      <td>23</td>\n",
       "      <td>646</td>\n",
       "      <td>0</td>\n",
       "      <td>0.0</td>\n",
       "    </tr>\n",
       "    <tr>\n",
       "      <th>129484</th>\n",
       "      <td>0</td>\n",
       "      <td>0</td>\n",
       "      <td>1</td>\n",
       "      <td>0</td>\n",
       "      <td>0</td>\n",
       "      <td>0</td>\n",
       "      <td>0</td>\n",
       "      <td>0</td>\n",
       "      <td>0</td>\n",
       "      <td>0</td>\n",
       "      <td>...</td>\n",
       "      <td>0</td>\n",
       "      <td>0</td>\n",
       "      <td>1</td>\n",
       "      <td>0</td>\n",
       "      <td>1</td>\n",
       "      <td>0</td>\n",
       "      <td>17</td>\n",
       "      <td>828</td>\n",
       "      <td>0</td>\n",
       "      <td>0.0</td>\n",
       "    </tr>\n",
       "    <tr>\n",
       "      <th>129485</th>\n",
       "      <td>0</td>\n",
       "      <td>0</td>\n",
       "      <td>0</td>\n",
       "      <td>1</td>\n",
       "      <td>0</td>\n",
       "      <td>0</td>\n",
       "      <td>0</td>\n",
       "      <td>0</td>\n",
       "      <td>0</td>\n",
       "      <td>1</td>\n",
       "      <td>...</td>\n",
       "      <td>0</td>\n",
       "      <td>1</td>\n",
       "      <td>0</td>\n",
       "      <td>1</td>\n",
       "      <td>0</td>\n",
       "      <td>0</td>\n",
       "      <td>14</td>\n",
       "      <td>1127</td>\n",
       "      <td>0</td>\n",
       "      <td>0.0</td>\n",
       "    </tr>\n",
       "    <tr>\n",
       "      <th>129486</th>\n",
       "      <td>0</td>\n",
       "      <td>0</td>\n",
       "      <td>1</td>\n",
       "      <td>0</td>\n",
       "      <td>0</td>\n",
       "      <td>0</td>\n",
       "      <td>0</td>\n",
       "      <td>0</td>\n",
       "      <td>0</td>\n",
       "      <td>0</td>\n",
       "      <td>...</td>\n",
       "      <td>0</td>\n",
       "      <td>0</td>\n",
       "      <td>1</td>\n",
       "      <td>0</td>\n",
       "      <td>1</td>\n",
       "      <td>0</td>\n",
       "      <td>42</td>\n",
       "      <td>264</td>\n",
       "      <td>0</td>\n",
       "      <td>0.0</td>\n",
       "    </tr>\n",
       "  </tbody>\n",
       "</table>\n",
       "<p>129487 rows × 96 columns</p>\n",
       "</div>"
      ],
      "text/plain": [
       "        Inflight wifi service_0  Inflight wifi service_1  \\\n",
       "0                             0                        0   \n",
       "1                             0                        0   \n",
       "2                             0                        0   \n",
       "3                             0                        0   \n",
       "4                             0                        0   \n",
       "...                         ...                      ...   \n",
       "129482                        0                        0   \n",
       "129483                        0                        0   \n",
       "129484                        0                        0   \n",
       "129485                        0                        0   \n",
       "129486                        0                        0   \n",
       "\n",
       "        Inflight wifi service_2  Inflight wifi service_3  \\\n",
       "0                             0                        1   \n",
       "1                             0                        1   \n",
       "2                             1                        0   \n",
       "3                             1                        0   \n",
       "4                             0                        1   \n",
       "...                         ...                      ...   \n",
       "129482                        0                        1   \n",
       "129483                        0                        0   \n",
       "129484                        1                        0   \n",
       "129485                        0                        1   \n",
       "129486                        1                        0   \n",
       "\n",
       "        Inflight wifi service_4  Inflight wifi service_5  \\\n",
       "0                             0                        0   \n",
       "1                             0                        0   \n",
       "2                             0                        0   \n",
       "3                             0                        0   \n",
       "4                             0                        0   \n",
       "...                         ...                      ...   \n",
       "129482                        0                        0   \n",
       "129483                        1                        0   \n",
       "129484                        0                        0   \n",
       "129485                        0                        0   \n",
       "129486                        0                        0   \n",
       "\n",
       "        Departure/Arrival time convenient_0  \\\n",
       "0                                         0   \n",
       "1                                         0   \n",
       "2                                         0   \n",
       "3                                         0   \n",
       "4                                         0   \n",
       "...                                     ...   \n",
       "129482                                    0   \n",
       "129483                                    0   \n",
       "129484                                    0   \n",
       "129485                                    0   \n",
       "129486                                    0   \n",
       "\n",
       "        Departure/Arrival time convenient_1  \\\n",
       "0                                         0   \n",
       "1                                         0   \n",
       "2                                         0   \n",
       "3                                         0   \n",
       "4                                         0   \n",
       "...                                     ...   \n",
       "129482                                    0   \n",
       "129483                                    0   \n",
       "129484                                    0   \n",
       "129485                                    0   \n",
       "129486                                    0   \n",
       "\n",
       "        Departure/Arrival time convenient_2  \\\n",
       "0                                         0   \n",
       "1                                         1   \n",
       "2                                         1   \n",
       "3                                         0   \n",
       "4                                         0   \n",
       "...                                     ...   \n",
       "129482                                    0   \n",
       "129483                                    0   \n",
       "129484                                    0   \n",
       "129485                                    0   \n",
       "129486                                    0   \n",
       "\n",
       "        Departure/Arrival time convenient_3  ...  \\\n",
       "0                                         0  ...   \n",
       "1                                         0  ...   \n",
       "2                                         0  ...   \n",
       "3                                         0  ...   \n",
       "4                                         1  ...   \n",
       "...                                     ...  ...   \n",
       "129482                                    1  ...   \n",
       "129483                                    0  ...   \n",
       "129484                                    0  ...   \n",
       "129485                                    1  ...   \n",
       "129486                                    0  ...   \n",
       "\n",
       "        Customer Type_disloyal Customer  Type of Travel_Business travel  \\\n",
       "0                                     0                               0   \n",
       "1                                     1                               1   \n",
       "2                                     0                               1   \n",
       "3                                     0                               1   \n",
       "4                                     0                               1   \n",
       "...                                 ...                             ...   \n",
       "129482                                1                               1   \n",
       "129483                                0                               1   \n",
       "129484                                0                               0   \n",
       "129485                                0                               1   \n",
       "129486                                0                               0   \n",
       "\n",
       "        Type of Travel_Personal Travel  Class_Business  Class_Eco  \\\n",
       "0                                    1               0          0   \n",
       "1                                    0               1          0   \n",
       "2                                    0               1          0   \n",
       "3                                    0               1          0   \n",
       "4                                    0               1          0   \n",
       "...                                ...             ...        ...   \n",
       "129482                               0               1          0   \n",
       "129483                               0               1          0   \n",
       "129484                               1               0          1   \n",
       "129485                               0               1          0   \n",
       "129486                               1               0          1   \n",
       "\n",
       "        Class_Eco Plus  Age  Flight Distance  Departure Delay in Minutes  \\\n",
       "0                    1   13              460                          25   \n",
       "1                    0   25              235                           1   \n",
       "2                    0   26             1142                           0   \n",
       "3                    0   25              562                          11   \n",
       "4                    0   61              214                           0   \n",
       "...                ...  ...              ...                         ...   \n",
       "129482               0   34              526                           0   \n",
       "129483               0   23              646                           0   \n",
       "129484               0   17              828                           0   \n",
       "129485               0   14             1127                           0   \n",
       "129486               0   42              264                           0   \n",
       "\n",
       "        Arrival Delay in Minutes  \n",
       "0                           18.0  \n",
       "1                            6.0  \n",
       "2                            0.0  \n",
       "3                            9.0  \n",
       "4                            0.0  \n",
       "...                          ...  \n",
       "129482                       0.0  \n",
       "129483                       0.0  \n",
       "129484                       0.0  \n",
       "129485                       0.0  \n",
       "129486                       0.0  \n",
       "\n",
       "[129487 rows x 96 columns]"
      ]
     },
     "execution_count": 14,
     "metadata": {},
     "output_type": "execute_result"
    }
   ],
   "source": [
    "X= df_copy.iloc[:,:-1]\n",
    "X"
   ]
  },
  {
   "cell_type": "code",
   "execution_count": 15,
   "metadata": {},
   "outputs": [
    {
     "data": {
      "text/plain": [
       "0         neutral or dissatisfied\n",
       "1         neutral or dissatisfied\n",
       "2                       satisfied\n",
       "3         neutral or dissatisfied\n",
       "4                       satisfied\n",
       "                   ...           \n",
       "129482    neutral or dissatisfied\n",
       "129483                  satisfied\n",
       "129484    neutral or dissatisfied\n",
       "129485                  satisfied\n",
       "129486    neutral or dissatisfied\n",
       "Name: satisfaction, Length: 129487, dtype: object"
      ]
     },
     "execution_count": 15,
     "metadata": {},
     "output_type": "execute_result"
    }
   ],
   "source": [
    "y = df_copy.iloc[:,-1]\n",
    "y"
   ]
  },
  {
   "cell_type": "code",
   "execution_count": 16,
   "metadata": {},
   "outputs": [
    {
     "name": "stdout",
     "output_type": "stream",
     "text": [
      "Shape of training set is : (90640, 96) and test set is :(38847, 96)\n"
     ]
    }
   ],
   "source": [
    "from sklearn.model_selection import train_test_split\n",
    "\n",
    "X_train,X_test,y_train,y_test=train_test_split(X,y,test_size=0.3,random_state=42)\n",
    "print(f\"Shape of training set is : {X_train.shape} and test set is :{X_test.shape}\" )"
   ]
  },
  {
   "cell_type": "code",
   "execution_count": 17,
   "metadata": {},
   "outputs": [
    {
     "data": {
      "text/plain": [
       "array([[-0.17632264, -0.45437674,  1.7418388 , ...,  1.89256284,\n",
       "         1.04110417,  0.98439561],\n",
       "       [-0.17632264, -0.45437674, -0.57410594, ..., -0.66088167,\n",
       "        -0.39052142, -0.29022307],\n",
       "       [-0.17632264,  2.20081686, -0.57410594, ...,  0.65289057,\n",
       "         0.71696252,  0.77195916],\n",
       "       ...,\n",
       "       [-0.17632264, -0.45437674, -0.57410594, ..., -0.17923194,\n",
       "         0.28477367, -0.05123207],\n",
       "       [-0.17632264, -0.45437674, -0.57410594, ..., -0.73498162,\n",
       "        -0.39052142, -0.3964413 ],\n",
       "       [ 5.67142135, -0.45437674, -0.57410594, ..., -0.94025854,\n",
       "        -0.39052142, -0.3964413 ]])"
      ]
     },
     "execution_count": 17,
     "metadata": {},
     "output_type": "execute_result"
    }
   ],
   "source": [
    "from sklearn.preprocessing import StandardScaler\n",
    "scaler = StandardScaler()\n",
    "\n",
    "X_train = scaler.fit_transform(X_train)\n",
    "X_test = scaler.fit_transform(X_test)\n",
    "\n",
    "X_train"
   ]
  },
  {
   "cell_type": "markdown",
   "metadata": {},
   "source": [
    "## Set paramiter CV"
   ]
  },
  {
   "cell_type": "code",
   "execution_count": 18,
   "metadata": {},
   "outputs": [],
   "source": [
    "# ทำ Cross Validation\n",
    "k_folds = 15  # จำนวน k-folds "
   ]
  },
  {
   "cell_type": "markdown",
   "metadata": {},
   "source": [
    "## Logistic Regression"
   ]
  },
  {
   "cell_type": "code",
   "execution_count": 19,
   "metadata": {},
   "outputs": [
    {
     "name": "stdout",
     "output_type": "stream",
     "text": [
      "เวลาที่ใช้ในการฝึกโมเดล: 0.400123 วินาที\n"
     ]
    }
   ],
   "source": [
    "from sklearn.linear_model import LogisticRegression\n",
    "\n",
    "# create logistic regression model and fit to training data\n",
    "model_lr = LogisticRegression()\n",
    "\n",
    "start_time = time.time()  # เวลาเริ่มต้น\n",
    "model_lr.fit(X_train, y_train)\n",
    "end_time = time.time()  # เวลาสิ้นสุด\n",
    "\n",
    "# คำนวณเวลาที่ใช้ในการฝึกโมเดล\n",
    "training_time_LR = end_time - start_time\n",
    "print(f\"เวลาที่ใช้ในการฝึกโมเดล: {training_time_LR:.6f} วินาที\")"
   ]
  },
  {
   "cell_type": "code",
   "execution_count": 20,
   "metadata": {},
   "outputs": [
    {
     "name": "stdout",
     "output_type": "stream",
     "text": [
      "Accuracy of Logistic Regression is : 93.3 % .\n",
      "Classification Report is : \n",
      "                          precision    recall  f1-score   support\n",
      "\n",
      "neutral or dissatisfied       0.94      0.95      0.94     22029\n",
      "              satisfied       0.93      0.92      0.92     16818\n",
      "\n",
      "               accuracy                           0.93     38847\n",
      "              macro avg       0.93      0.93      0.93     38847\n",
      "           weighted avg       0.93      0.93      0.93     38847\n",
      "\n"
     ]
    }
   ],
   "source": [
    "from sklearn.metrics import classification_report,ConfusionMatrixDisplay,confusion_matrix\n",
    "from sklearn.metrics import accuracy_score\n",
    "\n",
    "y_pred_lr=model_lr.predict(X_test)\n",
    "accuracy_LR=accuracy_score(y_pred_lr,y_test)\n",
    "print(f\"Accuracy of Logistic Regression is : {round(accuracy_LR*100,2)} % .\")\n",
    "\n",
    "report=classification_report(y_test,y_pred_lr)\n",
    "print(\"Classification Report is : \\n\",report)"
   ]
  },
  {
   "cell_type": "code",
   "execution_count": 21,
   "metadata": {},
   "outputs": [
    {
     "data": {
      "text/plain": [
       "<sklearn.metrics._plot.confusion_matrix.ConfusionMatrixDisplay at 0x30c8f3bf0>"
      ]
     },
     "execution_count": 21,
     "metadata": {},
     "output_type": "execute_result"
    },
    {
     "data": {
      "image/png": "[encoded data removed]",
      "text/plain": [
       "<Figure size 640x480 with 2 Axes>"
      ]
     },
     "metadata": {},
     "output_type": "display_data"
    }
   ],
   "source": [
    "cm_1= confusion_matrix(y_test, y_pred_lr, labels=model_lr.classes_)\n",
    "disp_1= ConfusionMatrixDisplay(confusion_matrix=cm_1,\n",
    "                          display_labels=model_lr.classes_)\n",
    "disp_1.plot()"
   ]
  },
  {
   "cell_type": "code",
   "execution_count": 22,
   "metadata": {},
   "outputs": [
    {
     "name": "stdout",
     "output_type": "stream",
     "text": [
      "Cross Validation Scores (Logistic Regression): [0.93579348 0.93397319 0.93281483 0.93331127 0.93446963 0.9313255\n",
      " 0.92933973 0.9348006  0.93513156 0.93182194 0.93694141 0.93379676\n",
      " 0.93594836 0.93131413 0.93760344]\n",
      "Mean CV Accuracy: 0.9339\n",
      "Standard Deviation CV Accuracy: 0.0022\n",
      "เวลาที่ใช้ในการทำ Cross Validation: 4.885711 วินาที\n"
     ]
    }
   ],
   "source": [
    "start_time_cv = time.time()  # เวลาเริ่มต้นสำหรับ cross-validation\n",
    "cv_scores_lr = cross_val_score(model_lr, X_train, y_train, cv=k_folds, scoring='accuracy')\n",
    "end_time_cv = time.time()  # เวลาสิ้นสุดสำหรับ cross-validation\n",
    "\n",
    "# แสดงผล Cross Validation Scores\n",
    "print(f\"Cross Validation Scores (Logistic Regression): {cv_scores_lr}\")\n",
    "print(f\"Mean CV Accuracy: {np.mean(cv_scores_lr):.4f}\")\n",
    "print(f\"Standard Deviation CV Accuracy: {np.std(cv_scores_lr):.4f}\")\n",
    "\n",
    "# คำนวณเวลาที่ใช้ในการทำ Cross Validation\n",
    "cv_time_LR = end_time_cv - start_time_cv\n",
    "print(f\"เวลาที่ใช้ในการทำ Cross Validation: {cv_time_LR:.6f} วินาที\")"
   ]
  },
  {
   "cell_type": "code",
   "execution_count": 23,
   "metadata": {},
   "outputs": [
    {
     "name": "stdout",
     "output_type": "stream",
     "text": [
      "Training Accuracy: 0.9342674315975287\n",
      "Test Accuracy: 0.9329677967410611\n"
     ]
    }
   ],
   "source": [
    "# การประเมินผล\n",
    "train_accuracy = accuracy_score(y_train, model_lr.predict(X_train))\n",
    "test_accuracy = accuracy_score(y_test, model_lr.predict(X_test))\n",
    "\n",
    "print(f'Training Accuracy: {train_accuracy}')\n",
    "print(f'Test Accuracy: {test_accuracy}')"
   ]
  },
  {
   "cell_type": "markdown",
   "metadata": {},
   "source": [
    "## K-NN(K Nearest Neighbours)"
   ]
  },
  {
   "cell_type": "code",
   "execution_count": 24,
   "metadata": {},
   "outputs": [
    {
     "name": "stdout",
     "output_type": "stream",
     "text": [
      "เวลาที่ใช้ในการฝึกโมเดล: 0.088249 วินาที\n"
     ]
    }
   ],
   "source": [
    "from sklearn.neighbors import KNeighborsClassifier\n",
    "\n",
    "model_knn=KNeighborsClassifier(n_neighbors=5)\n",
    "\n",
    "#fit the model with trained data\n",
    "start_time = time.time()  # เวลาเริ่มต้น\n",
    "model_knn.fit(X_train,y_train)\n",
    "end_time = time.time()  # เวลาสิ้นสุด\n",
    "\n",
    "# คำนวณเวลาที่ใช้ในการฝึกโมเดล\n",
    "training_time_KNN = end_time - start_time\n",
    "print(f\"เวลาที่ใช้ในการฝึกโมเดล: {training_time_KNN:.6f} วินาที\")\n"
   ]
  },
  {
   "cell_type": "code",
   "execution_count": 25,
   "metadata": {},
   "outputs": [
    {
     "name": "stdout",
     "output_type": "stream",
     "text": [
      "Accuracy of Knn is : 94.2 % .\n",
      "Classification Report is : \n",
      "                          precision    recall  f1-score   support\n",
      "\n",
      "neutral or dissatisfied       0.94      0.96      0.95     22029\n",
      "              satisfied       0.94      0.92      0.93     16818\n",
      "\n",
      "               accuracy                           0.94     38847\n",
      "              macro avg       0.94      0.94      0.94     38847\n",
      "           weighted avg       0.94      0.94      0.94     38847\n",
      "\n"
     ]
    }
   ],
   "source": [
    "\n",
    "#Predict the accuracy of the model\n",
    "y_pred_knn=model_knn.predict(X_test)\n",
    "\n",
    "accuracy_KNN=accuracy_score(y_pred_knn,y_test)\n",
    "print(f\"Accuracy of Knn is : {round(accuracy_KNN*100,2)} % .\")\n",
    "\n",
    "report=classification_report(y_test,y_pred_knn)\n",
    "print(\"Classification Report is : \\n\",report)"
   ]
  },
  {
   "cell_type": "code",
   "execution_count": 26,
   "metadata": {},
   "outputs": [
    {
     "data": {
      "text/plain": [
       "<sklearn.metrics._plot.confusion_matrix.ConfusionMatrixDisplay at 0x30c705d00>"
      ]
     },
     "execution_count": 26,
     "metadata": {},
     "output_type": "execute_result"
    },
    {
     "data": {
      "image/png": "[encoded data removed]",
      "text/plain": [
       "<Figure size 640x480 with 2 Axes>"
      ]
     },
     "metadata": {},
     "output_type": "display_data"
    }
   ],
   "source": [
    "cm_2= confusion_matrix(y_test, y_pred_knn, labels=model_lr.classes_)\n",
    "disp_2= ConfusionMatrixDisplay(confusion_matrix=cm_2,\n",
    "                          display_labels=model_knn.classes_)\n",
    "disp_2.plot()"
   ]
  },
  {
   "cell_type": "code",
   "execution_count": 27,
   "metadata": {},
   "outputs": [
    {
     "name": "stdout",
     "output_type": "stream",
     "text": [
      "Cross Validation Scores (KNN): [0.94092338 0.94241271 0.94290915 0.94191627 0.94605328 0.94208175\n",
      " 0.93943406 0.94108886 0.94489492 0.94141982 0.94571334 0.94472029\n",
      " 0.94654088 0.94157564 0.94935452]\n",
      "Mean CV Accuracy: 0.9434\n",
      "Standard Deviation CV Accuracy: 0.0026\n",
      "เวลาที่ใช้ในการทำ Cross Validation: 12.854909 วินาที\n"
     ]
    }
   ],
   "source": [
    "# ทำ Cross Validation\n",
    "start_time_cv = time.time()  # เวลาเริ่มต้นสำหรับ cross-validation\n",
    "cv_scores_knn = cross_val_score(model_knn, X_train, y_train, cv=k_folds, scoring='accuracy')\n",
    "end_time_cv = time.time()  # เวลาสิ้นสุดสำหรับ cross-validation\n",
    "\n",
    "# แสดงผล Cross Validation Scores\n",
    "print(f\"Cross Validation Scores (KNN): {cv_scores_knn}\")\n",
    "print(f\"Mean CV Accuracy: {np.mean(cv_scores_knn):.4f}\")\n",
    "print(f\"Standard Deviation CV Accuracy: {np.std(cv_scores_knn):.4f}\")\n",
    "\n",
    "# คำนวณเวลาที่ใช้ในการทำ Cross Validation\n",
    "cv_time_KNN = end_time_cv - start_time_cv\n",
    "print(f\"เวลาที่ใช้ในการทำ Cross Validation: {cv_time_KNN:.6f} วินาที\")\n"
   ]
  },
  {
   "cell_type": "code",
   "execution_count": 28,
   "metadata": {},
   "outputs": [
    {
     "name": "stdout",
     "output_type": "stream",
     "text": [
      "Training Accuracy: 0.9597859664607238\n",
      "Test Accuracy: 0.9420289855072463\n"
     ]
    }
   ],
   "source": [
    "# การประเมินผล\n",
    "train_accuracy = accuracy_score(y_train, model_knn.predict(X_train))\n",
    "test_accuracy = accuracy_score(y_test, model_knn.predict(X_test))\n",
    "\n",
    "print(f'Training Accuracy: {train_accuracy}')\n",
    "print(f'Test Accuracy: {test_accuracy}')"
   ]
  },
  {
   "cell_type": "markdown",
   "metadata": {},
   "source": [
    "## Naive-Bayes"
   ]
  },
  {
   "cell_type": "code",
   "execution_count": 29,
   "metadata": {},
   "outputs": [
    {
     "name": "stdout",
     "output_type": "stream",
     "text": [
      "เวลาที่ใช้ในการฝึกโมเดล: 0.214140 วินาที\n"
     ]
    }
   ],
   "source": [
    "from sklearn.naive_bayes import MultinomialNB\n",
    "from sklearn.preprocessing import MinMaxScaler\n",
    "\n",
    "# ใช้ MinMaxScaler แปลง X_train ให้อยู่ในช่วง 0 ถึง 1\n",
    "scaler = MinMaxScaler()\n",
    "\n",
    "X_train_scaled = scaler.fit_transform(X_train)\n",
    "X_test_scaled = scaler.transform(X_test)\n",
    "\n",
    "# ฟิตโมเดลด้วยข้อมูลที่ถูกแปลงแล้ว\n",
    "model_naive = MultinomialNB()\n",
    "\n",
    "start_time = time.time()  # เวลาเริ่มต้น\n",
    "model_naive.fit(X_train_scaled, y_train)\n",
    "end_time = time.time()  # เวลาสิ้นสุด\n",
    "\n",
    "# คำนวณเวลาที่ใช้ในการฝึกโมเดล\n",
    "training_time_NB = end_time - start_time\n",
    "print(f\"เวลาที่ใช้ในการฝึกโมเดล: {training_time_NB:.6f} วินาที\")\n"
   ]
  },
  {
   "cell_type": "code",
   "execution_count": 30,
   "metadata": {},
   "outputs": [
    {
     "name": "stdout",
     "output_type": "stream",
     "text": [
      "Accuracy of Naive Bayes is : 88.51 % .\n",
      "Classification Report is : \n",
      "                          precision    recall  f1-score   support\n",
      "\n",
      "neutral or dissatisfied       0.90      0.89      0.90     22029\n",
      "              satisfied       0.86      0.87      0.87     16818\n",
      "\n",
      "               accuracy                           0.89     38847\n",
      "              macro avg       0.88      0.88      0.88     38847\n",
      "           weighted avg       0.89      0.89      0.89     38847\n",
      "\n"
     ]
    }
   ],
   "source": [
    "\n",
    "#Predict the accuracy of the model\n",
    "y_pred_naive=model_naive.predict(X_test_scaled)\n",
    "\n",
    "accuracy_NB=accuracy_score(y_pred_naive,y_test)\n",
    "print(f\"Accuracy of Naive Bayes is : {round(accuracy_NB*100,2)} % .\")\n",
    "\n",
    "report=classification_report(y_test,y_pred_naive)\n",
    "print(\"Classification Report is : \\n\",report)"
   ]
  },
  {
   "cell_type": "code",
   "execution_count": 31,
   "metadata": {},
   "outputs": [
    {
     "name": "stdout",
     "output_type": "stream",
     "text": [
      "Cross Validation Scores (Naive Bayes): [0.88730763 0.89045176 0.89045176 0.88366705 0.8987258  0.88565282\n",
      " 0.88052292 0.88217773 0.8901208  0.88681119 0.88613042 0.88546839\n",
      " 0.89490235 0.88894406 0.89126117]\n",
      "Mean CV Accuracy: 0.8882\n",
      "Standard Deviation CV Accuracy: 0.0046\n",
      "เวลาที่ใช้ในการทำ Cross Validation: 2.958862 วินาที\n"
     ]
    }
   ],
   "source": [
    "start_time_cv = time.time()  # เวลาเริ่มต้นสำหรับ cross-validation\n",
    "cv_scores_nb = cross_val_score(model_naive, X_train_scaled, y_train, cv=k_folds, scoring='accuracy')\n",
    "end_time_cv = time.time()  # เวลาสิ้นสุดสำหรับ cross-validation\n",
    "\n",
    "# แสดงผล Cross Validation Scores\n",
    "print(f\"Cross Validation Scores (Naive Bayes): {cv_scores_nb}\")\n",
    "print(f\"Mean CV Accuracy: {np.mean(cv_scores_nb):.4f}\")\n",
    "print(f\"Standard Deviation CV Accuracy: {np.std(cv_scores_nb):.4f}\")\n",
    "\n",
    "# คำนวณเวลาที่ใช้ในการทำ Cross Validation\n",
    "cv_time_NB = end_time_cv - start_time_cv\n",
    "print(f\"เวลาที่ใช้ในการทำ Cross Validation: {cv_time_NB:.6f} วินาที\")"
   ]
  },
  {
   "cell_type": "markdown",
   "metadata": {},
   "source": [
    "## Decision Tree"
   ]
  },
  {
   "cell_type": "code",
   "execution_count": 32,
   "metadata": {},
   "outputs": [
    {
     "name": "stdout",
     "output_type": "stream",
     "text": [
      "เวลาที่ใช้ในการฝึกโมเดล: 0.147104 วินาที\n"
     ]
    }
   ],
   "source": [
    "from sklearn.tree import DecisionTreeClassifier\n",
    "\n",
    "model_dt=DecisionTreeClassifier(criterion='gini', splitter='best',max_features=6,random_state=1234)\n",
    "\n",
    "#fit the model with trained data\n",
    "start_time = time.time()  # เวลาเริ่มต้น\n",
    "model_dt.fit(X_train,y_train)\n",
    "end_time = time.time()  # เวลาสิ้นสุด\n",
    "\n",
    "# คำนวณเวลาที่ใช้ในการฝึกโมเดล\n",
    "training_time_DT = end_time - start_time\n",
    "print(f\"เวลาที่ใช้ในการฝึกโมเดล: {training_time_DT:.6f} วินาที\")\n",
    "\n"
   ]
  },
  {
   "cell_type": "code",
   "execution_count": 33,
   "metadata": {},
   "outputs": [
    {
     "name": "stdout",
     "output_type": "stream",
     "text": [
      "Accuracy of Decision Tree is : 91.59 % .\n",
      "Classification Report is : \n",
      "                          precision    recall  f1-score   support\n",
      "\n",
      "neutral or dissatisfied       0.93      0.92      0.93     22029\n",
      "              satisfied       0.90      0.91      0.90     16818\n",
      "\n",
      "               accuracy                           0.92     38847\n",
      "              macro avg       0.91      0.91      0.91     38847\n",
      "           weighted avg       0.92      0.92      0.92     38847\n",
      "\n"
     ]
    }
   ],
   "source": [
    "\n",
    "#Predict the accuracy of the model\n",
    "y_pred_dt=model_dt.predict(X_test)\n",
    "\n",
    "accuracy_DT=accuracy_score(y_pred_dt,y_test)\n",
    "print(f\"Accuracy of Decision Tree is : {round(accuracy_DT*100,2)} % .\")\n",
    "\n",
    "report=classification_report(y_test,y_pred_dt)\n",
    "print(\"Classification Report is : \\n\",report)"
   ]
  },
  {
   "cell_type": "code",
   "execution_count": 34,
   "metadata": {},
   "outputs": [
    {
     "name": "stdout",
     "output_type": "stream",
     "text": [
      "Cross Validation Scores (Decision Tree): [0.91494291 0.92652656 0.92056925 0.91891445 0.91560483 0.92222406\n",
      " 0.91775608 0.92255502 0.92205858 0.91775608 0.91774247 0.9245283\n",
      " 0.92121814 0.91377027 0.9203906 ]\n",
      "Mean CV Accuracy: 0.9198\n",
      "Standard Deviation CV Accuracy: 0.0035\n",
      "เวลาที่ใช้ในการทำ Cross Validation: 2.394165 วินาที\n"
     ]
    }
   ],
   "source": [
    "start_time_cv = time.time()  # เวลาเริ่มต้นสำหรับ cross-validation\n",
    "cv_scores_dt = cross_val_score(model_dt, X_train, y_train, cv=k_folds, scoring='accuracy')\n",
    "end_time_cv = time.time()  # เวลาสิ้นสุดสำหรับ cross-validation\n",
    "\n",
    "# แสดงผล Cross Validation Scores\n",
    "print(f\"Cross Validation Scores (Decision Tree): {cv_scores_dt}\")\n",
    "print(f\"Mean CV Accuracy: {np.mean(cv_scores_dt):.4f}\")\n",
    "print(f\"Standard Deviation CV Accuracy: {np.std(cv_scores_dt):.4f}\")\n",
    "\n",
    "# คำนวณเวลาที่ใช้ในการทำ Cross Validation\n",
    "cv_time_DT = end_time_cv - start_time_cv\n",
    "print(f\"เวลาที่ใช้ในการทำ Cross Validation: {cv_time_DT:.6f} วินาที\")"
   ]
  },
  {
   "cell_type": "code",
   "execution_count": 35,
   "metadata": {},
   "outputs": [
    {
     "name": "stdout",
     "output_type": "stream",
     "text": [
      "Training Accuracy: 1.0\n",
      "Test Accuracy: 0.9159265837773831\n"
     ]
    }
   ],
   "source": [
    "# การประเมินผล\n",
    "train_accuracy = accuracy_score(y_train, model_dt.predict(X_train))\n",
    "test_accuracy = accuracy_score(y_test, model_dt.predict(X_test))\n",
    "\n",
    "print(f'Training Accuracy: {train_accuracy}')\n",
    "print(f'Test Accuracy: {test_accuracy}')"
   ]
  },
  {
   "cell_type": "markdown",
   "metadata": {},
   "source": [
    "## สรูป"
   ]
  },
  {
   "cell_type": "code",
   "execution_count": 36,
   "metadata": {},
   "outputs": [
    {
     "name": "stdout",
     "output_type": "stream",
     "text": [
      "------------------------------ สรูป ------------------------------\n",
      "-----------------------------------------------------------------\n",
      "Accuracy of Logistic Regression is : 93.3 % .\n",
      "เวลาที่ใช้ในการฝึกโมเดล: 0.400123 วินาที\n",
      "Mean CV Accuracy: 0.9339\n",
      "Standard Deviation CV Accuracy: 0.0022\n",
      "-----------------------------------------------------------------\n",
      "Accuracy of Knn is : 94.2 % .\n",
      "เวลาที่ใช้ในการฝึกโมเดล: 0.088249 วินาที\n",
      "Mean CV Accuracy: 0.9434\n",
      "Standard Deviation CV Accuracy: 0.0026\n",
      "-----------------------------------------------------------------\n",
      "Accuracy of Naive Bayes is : 88.51 % .\n",
      "เวลาที่ใช้ในการฝึกโมเดล: 0.214140 วินาที\n",
      "Mean CV Accuracy: 0.8882\n",
      "Standard Deviation CV Accuracy: 0.0046\n",
      "-----------------------------------------------------------------\n",
      "Accuracy of Decision Tree is : 91.59 % .\n",
      "เวลาที่ใช้ในการฝึกโมเดล: 0.147104 วินาที\n",
      "Mean CV Accuracy: 0.9198\n",
      "Standard Deviation CV Accuracy: 0.0035\n"
     ]
    }
   ],
   "source": [
    "print(\"-\"*30,\"สรูป\",\"-\"*30)\n",
    "\n",
    "print(\"-\"*65)\n",
    "print(f\"Accuracy of Logistic Regression is : {round(accuracy_LR*100,2)} % .\")\n",
    "print(f\"เวลาที่ใช้ในการฝึกโมเดล: {training_time_LR:.6f} วินาที\")\n",
    "# print(f\"Cross Validation Scores (Logistic Regression): {cv_scores_lr}\")\n",
    "print(f\"Mean CV Accuracy: {np.mean(cv_scores_lr):.4f}\")\n",
    "print(f\"Standard Deviation CV Accuracy: {np.std(cv_scores_lr):.4f}\")\n",
    "\n",
    "print(\"-\"*65)\n",
    "print(f\"Accuracy of Knn is : {round(accuracy_KNN*100,2)} % .\")\n",
    "print(f\"เวลาที่ใช้ในการฝึกโมเดล: {training_time_KNN:.6f} วินาที\")\n",
    "# print(f\"Cross Validation Scores (KNN): {cv_scores_knn}\")\n",
    "print(f\"Mean CV Accuracy: {np.mean(cv_scores_knn):.4f}\")\n",
    "print(f\"Standard Deviation CV Accuracy: {np.std(cv_scores_knn):.4f}\")\n",
    "\n",
    "print(\"-\"*65)\n",
    "print(f\"Accuracy of Naive Bayes is : {round(accuracy_NB*100,2)} % .\")\n",
    "print(f\"เวลาที่ใช้ในการฝึกโมเดล: {training_time_NB:.6f} วินาที\")\n",
    "# print(f\"Cross Validation Scores (Naive Bayes): {cv_scores_nb}\")\n",
    "print(f\"Mean CV Accuracy: {np.mean(cv_scores_nb):.4f}\")\n",
    "print(f\"Standard Deviation CV Accuracy: {np.std(cv_scores_nb):.4f}\")\n",
    "\n",
    "print(\"-\"*65)\n",
    "print(f\"Accuracy of Decision Tree is : {round(accuracy_DT*100,2)} % .\")\n",
    "print(f\"เวลาที่ใช้ในการฝึกโมเดล: {training_time_DT:.6f} วินาที\")\n",
    "# print(f\"Cross Validation Scores (Decision Tree): {cv_scores_dt}\")\n",
    "print(f\"Mean CV Accuracy: {np.mean(cv_scores_dt):.4f}\")\n",
    "print(f\"Standard Deviation CV Accuracy: {np.std(cv_scores_dt):.4f}\")\n"
   ]
  },
  {
   "cell_type": "code",
   "execution_count": 37,
   "metadata": {},
   "outputs": [
    {
     "name": "stdout",
     "output_type": "stream",
     "text": [
      "Results have been written to model_performance.txt\n"
     ]
    }
   ],
   "source": [
    "name = f\"สรุป {data_name}\".center(65)  # จัดให้ name อยู่ตรงกลางในความกว้าง 65 ตัวอักษร\n",
    "line = \"-\" * 65\n",
    "# Prepare data as a string\n",
    "results = \"\"\"\n",
    "{}\n",
    "{}\n",
    "{}\n",
    "Accuracy of Logistic Regression is : {:.2f} % .\n",
    "เวลาที่ใช้ในการฝึกโมเดล: {:.6f} วินาที\n",
    "Mean CV Accuracy: {:.4f}\n",
    "Standard Deviation CV Accuracy: {:.4f}\n",
    "-----------------------------------------------------------------\n",
    "Accuracy of KNN is : {:.2f} % .\n",
    "เวลาที่ใช้ในการฝึกโมเดล: {:.6f} วินาที\n",
    "Mean CV Accuracy: {:.4f}\n",
    "Standard Deviation CV Accuracy: {:.4f}\n",
    "-----------------------------------------------------------------\n",
    "Accuracy of Naive Bayes is : {:.2f} % .\n",
    "เวลาที่ใช้ในการฝึกโมเดล: {:.6f} วินาที\n",
    "Mean CV Accuracy: {:.4f}\n",
    "Standard Deviation CV Accuracy: {:.4f}\n",
    "-----------------------------------------------------------------\n",
    "Accuracy of Decision Tree is : {:.2f} % .\n",
    "เวลาที่ใช้ในการฝึกโมเดล: {:.6f} วินาที\n",
    "Mean CV Accuracy: {:.4f}\n",
    "Standard Deviation CV Accuracy: {:.4f}\n",
    "-----------------------------------------------------------------\n",
    "\"\"\".format(line, name, line,\n",
    "    round(accuracy_LR*100, 2), training_time_LR, np.mean(cv_scores_lr), np.std(cv_scores_lr),\n",
    "    round(accuracy_KNN*100, 2), training_time_KNN, np.mean(cv_scores_knn), np.std(cv_scores_knn),\n",
    "    round(accuracy_NB*100, 2), training_time_NB, np.mean(cv_scores_nb), np.std(cv_scores_nb),\n",
    "    round(accuracy_DT*100, 2), training_time_DT, np.mean(cv_scores_dt), np.std(cv_scores_dt)\n",
    ")\n",
    "\n",
    "# Write the data to a text file\n",
    "with open(f'model_performance_{data_name}.txt', mode='w', encoding='utf-8') as file:\n",
    "    file.write(results)\n",
    "\n",
    "print(\"Results have been written to model_performance.txt\")\n"
   ]
  },
  {
   "cell_type": "markdown",
   "metadata": {},
   "source": [
    " ## FULL Model"
   ]
  },
  {
   "cell_type": "code",
   "execution_count": 38,
   "metadata": {},
   "outputs": [
    {
     "data": {
      "text/plain": [
       "array([[-0.1764082 , -0.45550451, -0.5757362 , ..., -0.73199886,\n",
       "         0.2730259 ,  0.07562286],\n",
       "       [-0.1764082 , -0.45550451, -0.5757362 , ..., -0.95754986,\n",
       "        -0.35967326, -0.236345  ],\n",
       "       [-0.1764082 , -0.45550451,  1.7369066 , ..., -0.04832872,\n",
       "        -0.38603572, -0.39232892],\n",
       "       ...,\n",
       "       [-0.1764082 , -0.45550451,  1.7369066 , ..., -0.36309767,\n",
       "        -0.38603572, -0.39232892],\n",
       "       [-0.1764082 , -0.45550451, -0.5757362 , ..., -0.06336546,\n",
       "        -0.38603572, -0.39232892],\n",
       "       [-0.1764082 , -0.45550451,  1.7369066 , ..., -0.92847884,\n",
       "        -0.38603572, -0.39232892]])"
      ]
     },
     "execution_count": 38,
     "metadata": {},
     "output_type": "execute_result"
    }
   ],
   "source": [
    "from sklearn.neighbors import KNeighborsClassifier\n",
    "from sklearn.preprocessing import StandardScaler\n",
    "scaler_full = StandardScaler()\n",
    "\n",
    "X = scaler_full.fit_transform(X)\n",
    "X"
   ]
  },
  {
   "cell_type": "code",
   "execution_count": 39,
   "metadata": {},
   "outputs": [
    {
     "name": "stdout",
     "output_type": "stream",
     "text": [
      "เวลาที่ใช้ในการฝึกโมเดล: 0.199037 วินาที\n"
     ]
    }
   ],
   "source": [
    "model_knn_FULL=KNeighborsClassifier(n_neighbors=5)\n",
    "\n",
    "#fit the model with trained data\n",
    "start_time = time.time()  # เวลาเริ่มต้น\n",
    "model_knn_FULL.fit(X,y)\n",
    "end_time = time.time()  # เวลาสิ้นสุด\n",
    "\n",
    "# คำนวณเวลาที่ใช้ในการฝึกโมเดล\n",
    "training_time_KNN = end_time - start_time\n",
    "print(f\"เวลาที่ใช้ในการฝึกโมเดล: {training_time_KNN:.6f} วินาที\")"
   ]
  },
  {
   "cell_type": "code",
   "execution_count": 40,
   "metadata": {},
   "outputs": [
    {
     "name": "stdout",
     "output_type": "stream",
     "text": [
      "Cross Validation Scores (KNN): [0.94428356 0.94185104 0.94312522 0.94405189 0.94509441 0.94463107\n",
      " 0.94636859 0.94172845 0.94531974 0.94335032 0.94613068 0.94867933\n",
      " 0.94392956 0.9449722  0.94613068]\n",
      "Mean CV Accuracy: 0.9446\n",
      "Standard Deviation CV Accuracy: 0.0017\n"
     ]
    }
   ],
   "source": [
    "cv_scores_KNN_FULL = cross_val_score(model_knn_FULL, X, y, cv=k_folds, scoring='accuracy')\n",
    "\n",
    "print(f\"Cross Validation Scores (KNN): {cv_scores_KNN_FULL}\")\n",
    "print(f\"Mean CV Accuracy: {np.mean(cv_scores_KNN_FULL):.4f}\")\n",
    "print(f\"Standard Deviation CV Accuracy: {np.std(cv_scores_KNN_FULL):.4f}\")"
   ]
  },
  {
   "cell_type": "markdown",
   "metadata": {},
   "source": [
    "## Export model and Pipeline"
   ]
  },
  {
   "cell_type": "code",
   "execution_count": 41,
   "metadata": {},
   "outputs": [],
   "source": [
    "import pickle\n",
    "pickle_out = open(\"../model/model_knn_FULL.pkl\", mode = \"wb\")\n",
    "pickle.dump(model_knn_FULL, pickle_out)\n",
    "pickle_out.close()"
   ]
  },
  {
   "cell_type": "code",
   "execution_count": 42,
   "metadata": {},
   "outputs": [],
   "source": [
    "with open('../model/scaler.pkl', 'wb') as f:\n",
    "    pickle.dump(scaler, f)"
   ]
  }
 ],
 "metadata": {
  "kernelspec": {
   "display_name": ".venv",
   "language": "python",
   "name": "python3"
  },
  "language_info": {
   "codemirror_mode": {
    "name": "ipython",
    "version": 3
   },
   "file_extension": ".py",
   "mimetype": "text/x-python",
   "name": "python",
   "nbconvert_exporter": "python",
   "pygments_lexer": "ipython3",
   "version": "3.12.4"
  }
 },
 "nbformat": 4,
 "nbformat_minor": 2
}
