{
 "cells": [
  {
   "cell_type": "code",
   "execution_count": 2,
   "metadata": {},
   "outputs": [],
   "source": [
    "import numpy as np # linear algebra\n",
    "import pandas as pd # data processing\n",
    "import time\n",
    "from sklearn.model_selection import cross_val_score"
   ]
  },
  {
   "cell_type": "markdown",
   "metadata": {},
   "source": [
    "## Read Data"
   ]
  },
  {
   "cell_type": "code",
   "execution_count": 3,
   "metadata": {},
   "outputs": [
    {
     "data": {
      "text/html": [
       "<div>\n",
       "<style scoped>\n",
       "    .dataframe tbody tr th:only-of-type {\n",
       "        vertical-align: middle;\n",
       "    }\n",
       "\n",
       "    .dataframe tbody tr th {\n",
       "        vertical-align: top;\n",
       "    }\n",
       "\n",
       "    .dataframe thead th {\n",
       "        text-align: right;\n",
       "    }\n",
       "</style>\n",
       "<table border=\"1\" class=\"dataframe\">\n",
       "  <thead>\n",
       "    <tr style=\"text-align: right;\">\n",
       "      <th></th>\n",
       "      <th>Age</th>\n",
       "      <th>Flight Distance</th>\n",
       "      <th>Seat comfort</th>\n",
       "      <th>Leg room service</th>\n",
       "      <th>Checkin service</th>\n",
       "      <th>Departure Delay in Minutes</th>\n",
       "      <th>Inflight Comfort and Quality</th>\n",
       "      <th>Customer Service Quality</th>\n",
       "      <th>Convenience and Efficiency</th>\n",
       "      <th>Technological Accessibility</th>\n",
       "      <th>Female</th>\n",
       "      <th>Male</th>\n",
       "      <th>Loyal</th>\n",
       "      <th>Disloyal</th>\n",
       "      <th>Business</th>\n",
       "      <th>Personal</th>\n",
       "      <th>satisfaction</th>\n",
       "    </tr>\n",
       "  </thead>\n",
       "  <tbody>\n",
       "    <tr>\n",
       "      <th>0</th>\n",
       "      <td>13</td>\n",
       "      <td>460</td>\n",
       "      <td>5</td>\n",
       "      <td>3</td>\n",
       "      <td>4</td>\n",
       "      <td>25</td>\n",
       "      <td>13</td>\n",
       "      <td>-7</td>\n",
       "      <td>2</td>\n",
       "      <td>14</td>\n",
       "      <td>0</td>\n",
       "      <td>1</td>\n",
       "      <td>1</td>\n",
       "      <td>0</td>\n",
       "      <td>0</td>\n",
       "      <td>1</td>\n",
       "      <td>0</td>\n",
       "    </tr>\n",
       "    <tr>\n",
       "      <th>1</th>\n",
       "      <td>25</td>\n",
       "      <td>235</td>\n",
       "      <td>1</td>\n",
       "      <td>5</td>\n",
       "      <td>1</td>\n",
       "      <td>1</td>\n",
       "      <td>7</td>\n",
       "      <td>-2</td>\n",
       "      <td>0</td>\n",
       "      <td>8</td>\n",
       "      <td>0</td>\n",
       "      <td>1</td>\n",
       "      <td>0</td>\n",
       "      <td>1</td>\n",
       "      <td>1</td>\n",
       "      <td>0</td>\n",
       "      <td>0</td>\n",
       "    </tr>\n",
       "    <tr>\n",
       "      <th>2</th>\n",
       "      <td>26</td>\n",
       "      <td>1142</td>\n",
       "      <td>5</td>\n",
       "      <td>3</td>\n",
       "      <td>4</td>\n",
       "      <td>0</td>\n",
       "      <td>25</td>\n",
       "      <td>-24</td>\n",
       "      <td>0</td>\n",
       "      <td>35</td>\n",
       "      <td>1</td>\n",
       "      <td>0</td>\n",
       "      <td>1</td>\n",
       "      <td>0</td>\n",
       "      <td>1</td>\n",
       "      <td>0</td>\n",
       "      <td>1</td>\n",
       "    </tr>\n",
       "    <tr>\n",
       "      <th>3</th>\n",
       "      <td>25</td>\n",
       "      <td>562</td>\n",
       "      <td>2</td>\n",
       "      <td>5</td>\n",
       "      <td>1</td>\n",
       "      <td>11</td>\n",
       "      <td>13</td>\n",
       "      <td>-7</td>\n",
       "      <td>-1</td>\n",
       "      <td>16</td>\n",
       "      <td>1</td>\n",
       "      <td>0</td>\n",
       "      <td>1</td>\n",
       "      <td>0</td>\n",
       "      <td>1</td>\n",
       "      <td>0</td>\n",
       "      <td>0</td>\n",
       "    </tr>\n",
       "    <tr>\n",
       "      <th>4</th>\n",
       "      <td>61</td>\n",
       "      <td>214</td>\n",
       "      <td>5</td>\n",
       "      <td>4</td>\n",
       "      <td>3</td>\n",
       "      <td>0</td>\n",
       "      <td>7</td>\n",
       "      <td>-2</td>\n",
       "      <td>1</td>\n",
       "      <td>9</td>\n",
       "      <td>0</td>\n",
       "      <td>1</td>\n",
       "      <td>1</td>\n",
       "      <td>0</td>\n",
       "      <td>1</td>\n",
       "      <td>0</td>\n",
       "      <td>1</td>\n",
       "    </tr>\n",
       "  </tbody>\n",
       "</table>\n",
       "</div>"
      ],
      "text/plain": [
       "   Age  Flight Distance  Seat comfort  Leg room service  Checkin service  \\\n",
       "0   13              460             5                 3                4   \n",
       "1   25              235             1                 5                1   \n",
       "2   26             1142             5                 3                4   \n",
       "3   25              562             2                 5                1   \n",
       "4   61              214             5                 4                3   \n",
       "\n",
       "   Departure Delay in Minutes  Inflight Comfort and Quality  \\\n",
       "0                          25                            13   \n",
       "1                           1                             7   \n",
       "2                           0                            25   \n",
       "3                          11                            13   \n",
       "4                           0                             7   \n",
       "\n",
       "   Customer Service Quality  Convenience and Efficiency  \\\n",
       "0                        -7                           2   \n",
       "1                        -2                           0   \n",
       "2                       -24                           0   \n",
       "3                        -7                          -1   \n",
       "4                        -2                           1   \n",
       "\n",
       "   Technological Accessibility  Female  Male  Loyal  Disloyal  Business  \\\n",
       "0                           14       0     1      1         0         0   \n",
       "1                            8       0     1      0         1         1   \n",
       "2                           35       1     0      1         0         1   \n",
       "3                           16       1     0      1         0         1   \n",
       "4                            9       0     1      1         0         1   \n",
       "\n",
       "   Personal  satisfaction  \n",
       "0         1             0  \n",
       "1         0             0  \n",
       "2         0             1  \n",
       "3         0             0  \n",
       "4         0             1  "
      ]
     },
     "execution_count": 3,
     "metadata": {},
     "output_type": "execute_result"
    }
   ],
   "source": [
    "data_name = \"dummy\"\n",
    "# data_name = \"dummy_object\"\n",
    "df = pd.read_csv(f\"../datasets/data_{data_name}.csv\")\n",
    "# df = pd.read_csv(f\"../datasets/train_transformed.csv\")\n",
    "df_copy = df.copy()\n",
    "df_copy.head()"
   ]
  },
  {
   "cell_type": "markdown",
   "metadata": {},
   "source": [
    "## Train-Test Splitting"
   ]
  },
  {
   "cell_type": "code",
   "execution_count": 4,
   "metadata": {},
   "outputs": [
    {
     "data": {
      "text/html": [
       "<div>\n",
       "<style scoped>\n",
       "    .dataframe tbody tr th:only-of-type {\n",
       "        vertical-align: middle;\n",
       "    }\n",
       "\n",
       "    .dataframe tbody tr th {\n",
       "        vertical-align: top;\n",
       "    }\n",
       "\n",
       "    .dataframe thead th {\n",
       "        text-align: right;\n",
       "    }\n",
       "</style>\n",
       "<table border=\"1\" class=\"dataframe\">\n",
       "  <thead>\n",
       "    <tr style=\"text-align: right;\">\n",
       "      <th></th>\n",
       "      <th>Age</th>\n",
       "      <th>Flight Distance</th>\n",
       "      <th>Seat comfort</th>\n",
       "      <th>Leg room service</th>\n",
       "      <th>Checkin service</th>\n",
       "      <th>Departure Delay in Minutes</th>\n",
       "      <th>Inflight Comfort and Quality</th>\n",
       "      <th>Customer Service Quality</th>\n",
       "      <th>Convenience and Efficiency</th>\n",
       "      <th>Technological Accessibility</th>\n",
       "      <th>Female</th>\n",
       "      <th>Male</th>\n",
       "      <th>Loyal</th>\n",
       "      <th>Disloyal</th>\n",
       "      <th>Business</th>\n",
       "      <th>Personal</th>\n",
       "    </tr>\n",
       "  </thead>\n",
       "  <tbody>\n",
       "    <tr>\n",
       "      <th>0</th>\n",
       "      <td>13</td>\n",
       "      <td>460</td>\n",
       "      <td>5</td>\n",
       "      <td>3</td>\n",
       "      <td>4</td>\n",
       "      <td>25</td>\n",
       "      <td>13</td>\n",
       "      <td>-7</td>\n",
       "      <td>2</td>\n",
       "      <td>14</td>\n",
       "      <td>0</td>\n",
       "      <td>1</td>\n",
       "      <td>1</td>\n",
       "      <td>0</td>\n",
       "      <td>0</td>\n",
       "      <td>1</td>\n",
       "    </tr>\n",
       "    <tr>\n",
       "      <th>1</th>\n",
       "      <td>25</td>\n",
       "      <td>235</td>\n",
       "      <td>1</td>\n",
       "      <td>5</td>\n",
       "      <td>1</td>\n",
       "      <td>1</td>\n",
       "      <td>7</td>\n",
       "      <td>-2</td>\n",
       "      <td>0</td>\n",
       "      <td>8</td>\n",
       "      <td>0</td>\n",
       "      <td>1</td>\n",
       "      <td>0</td>\n",
       "      <td>1</td>\n",
       "      <td>1</td>\n",
       "      <td>0</td>\n",
       "    </tr>\n",
       "    <tr>\n",
       "      <th>2</th>\n",
       "      <td>26</td>\n",
       "      <td>1142</td>\n",
       "      <td>5</td>\n",
       "      <td>3</td>\n",
       "      <td>4</td>\n",
       "      <td>0</td>\n",
       "      <td>25</td>\n",
       "      <td>-24</td>\n",
       "      <td>0</td>\n",
       "      <td>35</td>\n",
       "      <td>1</td>\n",
       "      <td>0</td>\n",
       "      <td>1</td>\n",
       "      <td>0</td>\n",
       "      <td>1</td>\n",
       "      <td>0</td>\n",
       "    </tr>\n",
       "    <tr>\n",
       "      <th>3</th>\n",
       "      <td>25</td>\n",
       "      <td>562</td>\n",
       "      <td>2</td>\n",
       "      <td>5</td>\n",
       "      <td>1</td>\n",
       "      <td>11</td>\n",
       "      <td>13</td>\n",
       "      <td>-7</td>\n",
       "      <td>-1</td>\n",
       "      <td>16</td>\n",
       "      <td>1</td>\n",
       "      <td>0</td>\n",
       "      <td>1</td>\n",
       "      <td>0</td>\n",
       "      <td>1</td>\n",
       "      <td>0</td>\n",
       "    </tr>\n",
       "    <tr>\n",
       "      <th>4</th>\n",
       "      <td>61</td>\n",
       "      <td>214</td>\n",
       "      <td>5</td>\n",
       "      <td>4</td>\n",
       "      <td>3</td>\n",
       "      <td>0</td>\n",
       "      <td>7</td>\n",
       "      <td>-2</td>\n",
       "      <td>1</td>\n",
       "      <td>9</td>\n",
       "      <td>0</td>\n",
       "      <td>1</td>\n",
       "      <td>1</td>\n",
       "      <td>0</td>\n",
       "      <td>1</td>\n",
       "      <td>0</td>\n",
       "    </tr>\n",
       "    <tr>\n",
       "      <th>...</th>\n",
       "      <td>...</td>\n",
       "      <td>...</td>\n",
       "      <td>...</td>\n",
       "      <td>...</td>\n",
       "      <td>...</td>\n",
       "      <td>...</td>\n",
       "      <td>...</td>\n",
       "      <td>...</td>\n",
       "      <td>...</td>\n",
       "      <td>...</td>\n",
       "      <td>...</td>\n",
       "      <td>...</td>\n",
       "      <td>...</td>\n",
       "      <td>...</td>\n",
       "      <td>...</td>\n",
       "      <td>...</td>\n",
       "    </tr>\n",
       "    <tr>\n",
       "      <th>129875</th>\n",
       "      <td>34</td>\n",
       "      <td>526</td>\n",
       "      <td>4</td>\n",
       "      <td>2</td>\n",
       "      <td>4</td>\n",
       "      <td>0</td>\n",
       "      <td>14</td>\n",
       "      <td>-9</td>\n",
       "      <td>1</td>\n",
       "      <td>16</td>\n",
       "      <td>0</td>\n",
       "      <td>1</td>\n",
       "      <td>0</td>\n",
       "      <td>1</td>\n",
       "      <td>1</td>\n",
       "      <td>0</td>\n",
       "    </tr>\n",
       "    <tr>\n",
       "      <th>129876</th>\n",
       "      <td>23</td>\n",
       "      <td>646</td>\n",
       "      <td>4</td>\n",
       "      <td>5</td>\n",
       "      <td>5</td>\n",
       "      <td>0</td>\n",
       "      <td>17</td>\n",
       "      <td>-10</td>\n",
       "      <td>0</td>\n",
       "      <td>20</td>\n",
       "      <td>0</td>\n",
       "      <td>1</td>\n",
       "      <td>1</td>\n",
       "      <td>0</td>\n",
       "      <td>1</td>\n",
       "      <td>0</td>\n",
       "    </tr>\n",
       "    <tr>\n",
       "      <th>129877</th>\n",
       "      <td>17</td>\n",
       "      <td>828</td>\n",
       "      <td>2</td>\n",
       "      <td>3</td>\n",
       "      <td>5</td>\n",
       "      <td>0</td>\n",
       "      <td>19</td>\n",
       "      <td>-15</td>\n",
       "      <td>-1</td>\n",
       "      <td>22</td>\n",
       "      <td>1</td>\n",
       "      <td>0</td>\n",
       "      <td>1</td>\n",
       "      <td>0</td>\n",
       "      <td>0</td>\n",
       "      <td>1</td>\n",
       "    </tr>\n",
       "    <tr>\n",
       "      <th>129878</th>\n",
       "      <td>14</td>\n",
       "      <td>1127</td>\n",
       "      <td>4</td>\n",
       "      <td>2</td>\n",
       "      <td>4</td>\n",
       "      <td>0</td>\n",
       "      <td>25</td>\n",
       "      <td>-22</td>\n",
       "      <td>-1</td>\n",
       "      <td>33</td>\n",
       "      <td>0</td>\n",
       "      <td>1</td>\n",
       "      <td>1</td>\n",
       "      <td>0</td>\n",
       "      <td>1</td>\n",
       "      <td>0</td>\n",
       "    </tr>\n",
       "    <tr>\n",
       "      <th>129879</th>\n",
       "      <td>42</td>\n",
       "      <td>264</td>\n",
       "      <td>2</td>\n",
       "      <td>2</td>\n",
       "      <td>1</td>\n",
       "      <td>0</td>\n",
       "      <td>5</td>\n",
       "      <td>-2</td>\n",
       "      <td>0</td>\n",
       "      <td>7</td>\n",
       "      <td>1</td>\n",
       "      <td>0</td>\n",
       "      <td>1</td>\n",
       "      <td>0</td>\n",
       "      <td>0</td>\n",
       "      <td>1</td>\n",
       "    </tr>\n",
       "  </tbody>\n",
       "</table>\n",
       "<p>129880 rows × 16 columns</p>\n",
       "</div>"
      ],
      "text/plain": [
       "        Age  Flight Distance  Seat comfort  Leg room service  Checkin service  \\\n",
       "0        13              460             5                 3                4   \n",
       "1        25              235             1                 5                1   \n",
       "2        26             1142             5                 3                4   \n",
       "3        25              562             2                 5                1   \n",
       "4        61              214             5                 4                3   \n",
       "...     ...              ...           ...               ...              ...   \n",
       "129875   34              526             4                 2                4   \n",
       "129876   23              646             4                 5                5   \n",
       "129877   17              828             2                 3                5   \n",
       "129878   14             1127             4                 2                4   \n",
       "129879   42              264             2                 2                1   \n",
       "\n",
       "        Departure Delay in Minutes  Inflight Comfort and Quality  \\\n",
       "0                               25                            13   \n",
       "1                                1                             7   \n",
       "2                                0                            25   \n",
       "3                               11                            13   \n",
       "4                                0                             7   \n",
       "...                            ...                           ...   \n",
       "129875                           0                            14   \n",
       "129876                           0                            17   \n",
       "129877                           0                            19   \n",
       "129878                           0                            25   \n",
       "129879                           0                             5   \n",
       "\n",
       "        Customer Service Quality  Convenience and Efficiency  \\\n",
       "0                             -7                           2   \n",
       "1                             -2                           0   \n",
       "2                            -24                           0   \n",
       "3                             -7                          -1   \n",
       "4                             -2                           1   \n",
       "...                          ...                         ...   \n",
       "129875                        -9                           1   \n",
       "129876                       -10                           0   \n",
       "129877                       -15                          -1   \n",
       "129878                       -22                          -1   \n",
       "129879                        -2                           0   \n",
       "\n",
       "        Technological Accessibility  Female  Male  Loyal  Disloyal  Business  \\\n",
       "0                                14       0     1      1         0         0   \n",
       "1                                 8       0     1      0         1         1   \n",
       "2                                35       1     0      1         0         1   \n",
       "3                                16       1     0      1         0         1   \n",
       "4                                 9       0     1      1         0         1   \n",
       "...                             ...     ...   ...    ...       ...       ...   \n",
       "129875                           16       0     1      0         1         1   \n",
       "129876                           20       0     1      1         0         1   \n",
       "129877                           22       1     0      1         0         0   \n",
       "129878                           33       0     1      1         0         1   \n",
       "129879                            7       1     0      1         0         0   \n",
       "\n",
       "        Personal  \n",
       "0              1  \n",
       "1              0  \n",
       "2              0  \n",
       "3              0  \n",
       "4              0  \n",
       "...          ...  \n",
       "129875         0  \n",
       "129876         0  \n",
       "129877         1  \n",
       "129878         0  \n",
       "129879         1  \n",
       "\n",
       "[129880 rows x 16 columns]"
      ]
     },
     "execution_count": 4,
     "metadata": {},
     "output_type": "execute_result"
    }
   ],
   "source": [
    "X= df_copy.iloc[:,:-1]\n",
    "X"
   ]
  },
  {
   "cell_type": "code",
   "execution_count": 5,
   "metadata": {},
   "outputs": [
    {
     "data": {
      "text/plain": [
       "0         0\n",
       "1         0\n",
       "2         1\n",
       "3         0\n",
       "4         1\n",
       "         ..\n",
       "129875    0\n",
       "129876    1\n",
       "129877    0\n",
       "129878    1\n",
       "129879    0\n",
       "Name: satisfaction, Length: 129880, dtype: int64"
      ]
     },
     "execution_count": 5,
     "metadata": {},
     "output_type": "execute_result"
    }
   ],
   "source": [
    "y = df_copy.iloc[:,-1]\n",
    "y"
   ]
  },
  {
   "cell_type": "code",
   "execution_count": 6,
   "metadata": {},
   "outputs": [
    {
     "name": "stdout",
     "output_type": "stream",
     "text": [
      "Shape of training set is : (90916, 16) and test set is :(38964, 16)\n"
     ]
    }
   ],
   "source": [
    "from sklearn.model_selection import train_test_split\n",
    "\n",
    "X_train,X_test,y_train,y_test=train_test_split(X,y,test_size=0.3,random_state=42)\n",
    "print(f\"Shape of training set is : {X_train.shape} and test set is :{X_test.shape}\" )"
   ]
  },
  {
   "cell_type": "code",
   "execution_count": 7,
   "metadata": {},
   "outputs": [
    {
     "data": {
      "text/plain": [
       "array([[-0.55602933, -0.93183077, -0.33371896, ..., -0.47486601,\n",
       "        -1.49129864,  1.49129864],\n",
       "       [-1.41495429,  0.37845464, -1.09145209, ..., -0.47486601,\n",
       "        -1.49129864,  1.49129864],\n",
       "       [ 0.50110909, -0.95390295,  0.42401418, ..., -0.47486601,\n",
       "         0.6705565 , -0.6705565 ],\n",
       "       ...,\n",
       "       [-0.15960242, -0.8706306 ,  1.18174732, ..., -0.47486601,\n",
       "         0.6705565 , -0.6705565 ],\n",
       "       [-1.6792389 , -0.83952888,  0.42401418, ..., -0.47486601,\n",
       "        -1.49129864,  1.49129864],\n",
       "       [-0.35781588, -0.32183572, -1.09145209, ..., -0.47486601,\n",
       "         0.6705565 , -0.6705565 ]])"
      ]
     },
     "execution_count": 7,
     "metadata": {},
     "output_type": "execute_result"
    }
   ],
   "source": [
    "from sklearn.preprocessing import StandardScaler\n",
    "scaler = StandardScaler()\n",
    "\n",
    "X_train = scaler.fit_transform(X_train)\n",
    "X_test = scaler.fit_transform(X_test)\n",
    "\n",
    "X_train"
   ]
  },
  {
   "cell_type": "markdown",
   "metadata": {},
   "source": [
    "## Set paramiter CV"
   ]
  },
  {
   "cell_type": "code",
   "execution_count": 8,
   "metadata": {},
   "outputs": [],
   "source": [
    "# ทำ Cross Validation\n",
    "k_folds = 15  # จำนวน k-folds "
   ]
  },
  {
   "cell_type": "markdown",
   "metadata": {},
   "source": [
    "## Logistic Regression"
   ]
  },
  {
   "cell_type": "code",
   "execution_count": 9,
   "metadata": {},
   "outputs": [
    {
     "name": "stdout",
     "output_type": "stream",
     "text": [
      "เวลาที่ใช้ในการฝึกโมเดล: 0.479662 วินาที\n"
     ]
    }
   ],
   "source": [
    "from sklearn.linear_model import LogisticRegression\n",
    "\n",
    "# create logistic regression model and fit to training data\n",
    "model_lr = LogisticRegression()\n",
    "\n",
    "start_time = time.time()  # เวลาเริ่มต้น\n",
    "model_lr.fit(X_train, y_train)\n",
    "end_time = time.time()  # เวลาสิ้นสุด\n",
    "\n",
    "# คำนวณเวลาที่ใช้ในการฝึกโมเดล\n",
    "training_time_LR = end_time - start_time\n",
    "print(f\"เวลาที่ใช้ในการฝึกโมเดล: {training_time_LR:.6f} วินาที\")"
   ]
  },
  {
   "cell_type": "code",
   "execution_count": 10,
   "metadata": {},
   "outputs": [
    {
     "name": "stdout",
     "output_type": "stream",
     "text": [
      "Accuracy of Logistic Regression is : 86.19 % .\n",
      "Classification Report is : \n",
      "               precision    recall  f1-score   support\n",
      "\n",
      "           0       0.86      0.90      0.88     21979\n",
      "           1       0.86      0.82      0.84     16985\n",
      "\n",
      "    accuracy                           0.86     38964\n",
      "   macro avg       0.86      0.86      0.86     38964\n",
      "weighted avg       0.86      0.86      0.86     38964\n",
      "\n"
     ]
    }
   ],
   "source": [
    "from sklearn.metrics import classification_report,ConfusionMatrixDisplay,confusion_matrix\n",
    "from sklearn.metrics import accuracy_score\n",
    "\n",
    "y_pred_lr=model_lr.predict(X_test)\n",
    "accuracy_LR=accuracy_score(y_pred_lr,y_test)\n",
    "print(f\"Accuracy of Logistic Regression is : {round(accuracy_LR*100,2)} % .\")\n",
    "\n",
    "report=classification_report(y_test,y_pred_lr)\n",
    "print(\"Classification Report is : \\n\",report)"
   ]
  },
  {
   "cell_type": "code",
   "execution_count": 11,
   "metadata": {},
   "outputs": [
    {
     "data": {
      "text/plain": [
       "<sklearn.metrics._plot.confusion_matrix.ConfusionMatrixDisplay at 0x20e4a8071d0>"
      ]
     },
     "execution_count": 11,
     "metadata": {},
     "output_type": "execute_result"
    },
    {
     "data": {
      "image/png": "[encoded data removed]",
      "text/plain": [
       "<Figure size 640x480 with 2 Axes>"
      ]
     },
     "metadata": {},
     "output_type": "display_data"
    }
   ],
   "source": [
    "cm_1= confusion_matrix(y_test, y_pred_lr, labels=model_lr.classes_)\n",
    "disp_1= ConfusionMatrixDisplay(confusion_matrix=cm_1,\n",
    "                          display_labels=model_lr.classes_)\n",
    "disp_1.plot()"
   ]
  },
  {
   "cell_type": "code",
   "execution_count": 12,
   "metadata": {},
   "outputs": [
    {
     "name": "stdout",
     "output_type": "stream",
     "text": [
      "Cross Validation Scores (Logistic Regression): [0.85978225 0.85777924 0.85662432 0.86503877 0.86734862 0.85365451\n",
      " 0.85810922 0.86734862 0.86949348 0.86190398 0.86124402 0.86008909\n",
      " 0.86800858 0.86487378 0.8569543 ]\n",
      "Mean CV Accuracy: 0.8619\n",
      "Standard Deviation CV Accuracy: 0.0047\n",
      "เวลาที่ใช้ในการทำ Cross Validation: 8.203102 วินาที\n"
     ]
    }
   ],
   "source": [
    "start_time_cv = time.time()  # เวลาเริ่มต้นสำหรับ cross-validation\n",
    "cv_scores_lr = cross_val_score(model_lr, X_train, y_train, cv=k_folds, scoring='accuracy')\n",
    "end_time_cv = time.time()  # เวลาสิ้นสุดสำหรับ cross-validation\n",
    "\n",
    "# แสดงผล Cross Validation Scores\n",
    "print(f\"Cross Validation Scores (Logistic Regression): {cv_scores_lr}\")\n",
    "print(f\"Mean CV Accuracy: {np.mean(cv_scores_lr):.4f}\")\n",
    "print(f\"Standard Deviation CV Accuracy: {np.std(cv_scores_lr):.4f}\")\n",
    "\n",
    "# คำนวณเวลาที่ใช้ในการทำ Cross Validation\n",
    "cv_time_LR = end_time_cv - start_time_cv\n",
    "print(f\"เวลาที่ใช้ในการทำ Cross Validation: {cv_time_LR:.6f} วินาที\")"
   ]
  },
  {
   "cell_type": "code",
   "execution_count": 13,
   "metadata": {},
   "outputs": [
    {
     "name": "stdout",
     "output_type": "stream",
     "text": [
      "Training Accuracy: 0.8622464692683356\n",
      "Test Accuracy: 0.8619494918386202\n"
     ]
    }
   ],
   "source": [
    "# การประเมินผล\n",
    "train_accuracy = accuracy_score(y_train, model_lr.predict(X_train))\n",
    "test_accuracy = accuracy_score(y_test, model_lr.predict(X_test))\n",
    "\n",
    "print(f'Training Accuracy: {train_accuracy}')\n",
    "print(f'Test Accuracy: {test_accuracy}')"
   ]
  },
  {
   "cell_type": "markdown",
   "metadata": {},
   "source": [
    "## K-NN(K Nearest Neighbours)"
   ]
  },
  {
   "cell_type": "code",
   "execution_count": 14,
   "metadata": {},
   "outputs": [
    {
     "name": "stdout",
     "output_type": "stream",
     "text": [
      "เวลาที่ใช้ในการฝึกโมเดล: 0.022506 วินาที\n"
     ]
    }
   ],
   "source": [
    "from sklearn.neighbors import KNeighborsClassifier\n",
    "\n",
    "model_knn=KNeighborsClassifier(n_neighbors=5)\n",
    "\n",
    "#fit the model with trained data\n",
    "start_time = time.time()  # เวลาเริ่มต้น\n",
    "model_knn.fit(X_train,y_train)\n",
    "end_time = time.time()  # เวลาสิ้นสุด\n",
    "\n",
    "# คำนวณเวลาที่ใช้ในการฝึกโมเดล\n",
    "training_time_KNN = end_time - start_time\n",
    "print(f\"เวลาที่ใช้ในการฝึกโมเดล: {training_time_KNN:.6f} วินาที\")\n"
   ]
  },
  {
   "cell_type": "code",
   "execution_count": 15,
   "metadata": {},
   "outputs": [
    {
     "name": "stdout",
     "output_type": "stream",
     "text": [
      "Accuracy of Knn is : 85.85 % .\n",
      "Classification Report is : \n",
      "               precision    recall  f1-score   support\n",
      "\n",
      "           0       0.85      0.91      0.88     21979\n",
      "           1       0.87      0.79      0.83     16985\n",
      "\n",
      "    accuracy                           0.86     38964\n",
      "   macro avg       0.86      0.85      0.85     38964\n",
      "weighted avg       0.86      0.86      0.86     38964\n",
      "\n"
     ]
    }
   ],
   "source": [
    "\n",
    "#Predict the accuracy of the model\n",
    "y_pred_knn=model_knn.predict(X_test)\n",
    "\n",
    "accuracy_KNN=accuracy_score(y_pred_knn,y_test)\n",
    "print(f\"Accuracy of Knn is : {round(accuracy_KNN*100,2)} % .\")\n",
    "\n",
    "report=classification_report(y_test,y_pred_knn)\n",
    "print(\"Classification Report is : \\n\",report)"
   ]
  },
  {
   "cell_type": "code",
   "execution_count": 16,
   "metadata": {},
   "outputs": [
    {
     "data": {
      "text/plain": [
       "<sklearn.metrics._plot.confusion_matrix.ConfusionMatrixDisplay at 0x20e50d1eb90>"
      ]
     },
     "execution_count": 16,
     "metadata": {},
     "output_type": "execute_result"
    },
    {
     "data": {
      "image/png": "[encoded data removed]",
      "text/plain": [
       "<Figure size 640x480 with 2 Axes>"
      ]
     },
     "metadata": {},
     "output_type": "display_data"
    }
   ],
   "source": [
    "cm_2= confusion_matrix(y_test, y_pred_knn, labels=model_lr.classes_)\n",
    "disp_2= ConfusionMatrixDisplay(confusion_matrix=cm_2,\n",
    "                          display_labels=model_knn.classes_)\n",
    "disp_2.plot()"
   ]
  },
  {
   "cell_type": "code",
   "execution_count": 17,
   "metadata": {},
   "outputs": [
    {
     "name": "stdout",
     "output_type": "stream",
     "text": [
      "Cross Validation Scores (KNN): [0.85582316 0.85860419 0.85612935 0.86173899 0.8661937  0.85777924\n",
      " 0.85480944 0.85744927 0.86470879 0.85513942 0.86190398 0.86206897\n",
      " 0.86239894 0.86536875 0.85662432]\n",
      "Mean CV Accuracy: 0.8598\n",
      "Standard Deviation CV Accuracy: 0.0038\n",
      "เวลาที่ใช้ในการทำ Cross Validation: 11.281670 วินาที\n"
     ]
    }
   ],
   "source": [
    "# ทำ Cross Validation\n",
    "start_time_cv = time.time()  # เวลาเริ่มต้นสำหรับ cross-validation\n",
    "cv_scores_knn = cross_val_score(model_knn, X_train, y_train, cv=k_folds, scoring='accuracy')\n",
    "end_time_cv = time.time()  # เวลาสิ้นสุดสำหรับ cross-validation\n",
    "\n",
    "# แสดงผล Cross Validation Scores\n",
    "print(f\"Cross Validation Scores (KNN): {cv_scores_knn}\")\n",
    "print(f\"Mean CV Accuracy: {np.mean(cv_scores_knn):.4f}\")\n",
    "print(f\"Standard Deviation CV Accuracy: {np.std(cv_scores_knn):.4f}\")\n",
    "\n",
    "# คำนวณเวลาที่ใช้ในการทำ Cross Validation\n",
    "cv_time_KNN = end_time_cv - start_time_cv\n",
    "print(f\"เวลาที่ใช้ในการทำ Cross Validation: {cv_time_KNN:.6f} วินาที\")\n"
   ]
  },
  {
   "cell_type": "code",
   "execution_count": 18,
   "metadata": {},
   "outputs": [
    {
     "name": "stdout",
     "output_type": "stream",
     "text": [
      "Training Accuracy: 0.8956729288574068\n",
      "Test Accuracy: 0.8584847551586079\n"
     ]
    }
   ],
   "source": [
    "# การประเมินผล\n",
    "train_accuracy = accuracy_score(y_train, model_knn.predict(X_train))\n",
    "test_accuracy = accuracy_score(y_test, model_knn.predict(X_test))\n",
    "\n",
    "print(f'Training Accuracy: {train_accuracy}')\n",
    "print(f'Test Accuracy: {test_accuracy}')"
   ]
  },
  {
   "cell_type": "markdown",
   "metadata": {},
   "source": [
    "## Naive-Bayes"
   ]
  },
  {
   "cell_type": "code",
   "execution_count": 19,
   "metadata": {},
   "outputs": [
    {
     "name": "stdout",
     "output_type": "stream",
     "text": [
      "เวลาที่ใช้ในการฝึกโมเดล: 0.036095 วินาที\n"
     ]
    }
   ],
   "source": [
    "from sklearn.naive_bayes import MultinomialNB\n",
    "from sklearn.preprocessing import MinMaxScaler\n",
    "\n",
    "# ใช้ MinMaxScaler แปลง X_train ให้อยู่ในช่วง 0 ถึง 1\n",
    "scaler = MinMaxScaler()\n",
    "\n",
    "X_train_scaled = scaler.fit_transform(X_train)\n",
    "X_test_scaled = scaler.transform(X_test)\n",
    "\n",
    "# ฟิตโมเดลด้วยข้อมูลที่ถูกแปลงแล้ว\n",
    "model_naive = MultinomialNB()\n",
    "\n",
    "start_time = time.time()  # เวลาเริ่มต้น\n",
    "model_naive.fit(X_train_scaled, y_train)\n",
    "end_time = time.time()  # เวลาสิ้นสุด\n",
    "\n",
    "# คำนวณเวลาที่ใช้ในการฝึกโมเดล\n",
    "training_time_NB = end_time - start_time\n",
    "print(f\"เวลาที่ใช้ในการฝึกโมเดล: {training_time_NB:.6f} วินาที\")\n"
   ]
  },
  {
   "cell_type": "code",
   "execution_count": 20,
   "metadata": {},
   "outputs": [
    {
     "name": "stdout",
     "output_type": "stream",
     "text": [
      "Accuracy of Naive Bayes is : 77.37 % .\n",
      "Classification Report is : \n",
      "               precision    recall  f1-score   support\n",
      "\n",
      "           0       0.85      0.73      0.78     21979\n",
      "           1       0.70      0.83      0.76     16985\n",
      "\n",
      "    accuracy                           0.77     38964\n",
      "   macro avg       0.78      0.78      0.77     38964\n",
      "weighted avg       0.78      0.77      0.77     38964\n",
      "\n"
     ]
    }
   ],
   "source": [
    "\n",
    "#Predict the accuracy of the model\n",
    "y_pred_naive=model_naive.predict(X_test_scaled)\n",
    "\n",
    "accuracy_NB=accuracy_score(y_pred_naive,y_test)\n",
    "print(f\"Accuracy of Naive Bayes is : {round(accuracy_NB*100,2)} % .\")\n",
    "\n",
    "report=classification_report(y_test,y_pred_naive)\n",
    "print(\"Classification Report is : \\n\",report)"
   ]
  },
  {
   "cell_type": "code",
   "execution_count": 21,
   "metadata": {},
   "outputs": [
    {
     "name": "stdout",
     "output_type": "stream",
     "text": [
      "Cross Validation Scores (Naive Bayes): [0.7791158  0.7737997  0.77049992 0.77033493 0.77709949 0.77148985\n",
      " 0.77346972 0.77825441 0.78419403 0.7737997  0.78039927 0.77478964\n",
      " 0.78204917 0.77858439 0.77610955]\n",
      "Mean CV Accuracy: 0.7763\n",
      "Standard Deviation CV Accuracy: 0.0040\n",
      "เวลาที่ใช้ในการทำ Cross Validation: 0.652939 วินาที\n"
     ]
    }
   ],
   "source": [
    "start_time_cv = time.time()  # เวลาเริ่มต้นสำหรับ cross-validation\n",
    "cv_scores_nb = cross_val_score(model_naive, X_train_scaled, y_train, cv=k_folds, scoring='accuracy')\n",
    "end_time_cv = time.time()  # เวลาสิ้นสุดสำหรับ cross-validation\n",
    "\n",
    "# แสดงผล Cross Validation Scores\n",
    "print(f\"Cross Validation Scores (Naive Bayes): {cv_scores_nb}\")\n",
    "print(f\"Mean CV Accuracy: {np.mean(cv_scores_nb):.4f}\")\n",
    "print(f\"Standard Deviation CV Accuracy: {np.std(cv_scores_nb):.4f}\")\n",
    "\n",
    "# คำนวณเวลาที่ใช้ในการทำ Cross Validation\n",
    "cv_time_NB = end_time_cv - start_time_cv\n",
    "print(f\"เวลาที่ใช้ในการทำ Cross Validation: {cv_time_NB:.6f} วินาที\")"
   ]
  },
  {
   "cell_type": "markdown",
   "metadata": {},
   "source": [
    "## Decision Tree"
   ]
  },
  {
   "cell_type": "code",
   "execution_count": 22,
   "metadata": {},
   "outputs": [
    {
     "name": "stdout",
     "output_type": "stream",
     "text": [
      "เวลาที่ใช้ในการฝึกโมเดล: 0.442237 วินาที\n"
     ]
    }
   ],
   "source": [
    "from sklearn.tree import DecisionTreeClassifier\n",
    "\n",
    "model_dt=DecisionTreeClassifier(criterion='gini', splitter='best',max_features=6,random_state=1234)\n",
    "\n",
    "#fit the model with trained data\n",
    "start_time = time.time()  # เวลาเริ่มต้น\n",
    "model_dt.fit(X_train,y_train)\n",
    "end_time = time.time()  # เวลาสิ้นสุด\n",
    "\n",
    "# คำนวณเวลาที่ใช้ในการฝึกโมเดล\n",
    "training_time_DT = end_time - start_time\n",
    "print(f\"เวลาที่ใช้ในการฝึกโมเดล: {training_time_DT:.6f} วินาที\")\n",
    "\n"
   ]
  },
  {
   "cell_type": "code",
   "execution_count": 23,
   "metadata": {},
   "outputs": [
    {
     "name": "stdout",
     "output_type": "stream",
     "text": [
      "Accuracy of Decision Tree is : 84.46 % .\n",
      "Classification Report is : \n",
      "               precision    recall  f1-score   support\n",
      "\n",
      "           0       0.86      0.86      0.86     21979\n",
      "           1       0.82      0.82      0.82     16985\n",
      "\n",
      "    accuracy                           0.84     38964\n",
      "   macro avg       0.84      0.84      0.84     38964\n",
      "weighted avg       0.84      0.84      0.84     38964\n",
      "\n"
     ]
    }
   ],
   "source": [
    "\n",
    "#Predict the accuracy of the model\n",
    "y_pred_dt=model_dt.predict(X_test)\n",
    "\n",
    "accuracy_DT=accuracy_score(y_pred_dt,y_test)\n",
    "print(f\"Accuracy of Decision Tree is : {round(accuracy_DT*100,2)} % .\")\n",
    "\n",
    "report=classification_report(y_test,y_pred_dt)\n",
    "print(\"Classification Report is : \\n\",report)"
   ]
  },
  {
   "cell_type": "code",
   "execution_count": 24,
   "metadata": {},
   "outputs": [
    {
     "name": "stdout",
     "output_type": "stream",
     "text": [
      "Cross Validation Scores (Decision Tree): [0.83553283 0.84853984 0.84688995 0.84375516 0.84524006 0.83864049\n",
      " 0.84721993 0.84227025 0.84491008 0.84210526 0.84210526 0.85810922\n",
      " 0.8491998  0.84590002 0.84540505]\n",
      "Mean CV Accuracy: 0.8451\n",
      "Standard Deviation CV Accuracy: 0.0049\n",
      "เวลาที่ใช้ในการทำ Cross Validation: 7.077894 วินาที\n"
     ]
    }
   ],
   "source": [
    "start_time_cv = time.time()  # เวลาเริ่มต้นสำหรับ cross-validation\n",
    "cv_scores_dt = cross_val_score(model_dt, X_train, y_train, cv=k_folds, scoring='accuracy')\n",
    "end_time_cv = time.time()  # เวลาสิ้นสุดสำหรับ cross-validation\n",
    "\n",
    "# แสดงผล Cross Validation Scores\n",
    "print(f\"Cross Validation Scores (Decision Tree): {cv_scores_dt}\")\n",
    "print(f\"Mean CV Accuracy: {np.mean(cv_scores_dt):.4f}\")\n",
    "print(f\"Standard Deviation CV Accuracy: {np.std(cv_scores_dt):.4f}\")\n",
    "\n",
    "# คำนวณเวลาที่ใช้ในการทำ Cross Validation\n",
    "cv_time_DT = end_time_cv - start_time_cv\n",
    "print(f\"เวลาที่ใช้ในการทำ Cross Validation: {cv_time_DT:.6f} วินาที\")"
   ]
  },
  {
   "cell_type": "code",
   "execution_count": 25,
   "metadata": {},
   "outputs": [
    {
     "name": "stdout",
     "output_type": "stream",
     "text": [
      "Training Accuracy: 1.0\n",
      "Test Accuracy: 0.8445744790062621\n"
     ]
    }
   ],
   "source": [
    "# การประเมินผล\n",
    "train_accuracy = accuracy_score(y_train, model_dt.predict(X_train))\n",
    "test_accuracy = accuracy_score(y_test, model_dt.predict(X_test))\n",
    "\n",
    "print(f'Training Accuracy: {train_accuracy}')\n",
    "print(f'Test Accuracy: {test_accuracy}')"
   ]
  },
  {
   "cell_type": "markdown",
   "metadata": {},
   "source": [
    "## สรูป"
   ]
  },
  {
   "cell_type": "code",
   "execution_count": 26,
   "metadata": {},
   "outputs": [
    {
     "name": "stdout",
     "output_type": "stream",
     "text": [
      "------------------------------ สรูป ------------------------------\n",
      "-----------------------------------------------------------------\n",
      "Accuracy of Logistic Regression is : 86.19 % .\n",
      "เวลาที่ใช้ในการฝึกโมเดล: 0.479662 วินาที\n",
      "Mean CV Accuracy: 0.8619\n",
      "Standard Deviation CV Accuracy: 0.0047\n",
      "-----------------------------------------------------------------\n",
      "Accuracy of Knn is : 85.85 % .\n",
      "เวลาที่ใช้ในการฝึกโมเดล: 0.022506 วินาที\n",
      "Mean CV Accuracy: 0.8598\n",
      "Standard Deviation CV Accuracy: 0.0038\n",
      "-----------------------------------------------------------------\n",
      "Accuracy of Naive Bayes is : 77.37 % .\n",
      "เวลาที่ใช้ในการฝึกโมเดล: 0.036095 วินาที\n",
      "Mean CV Accuracy: 0.7763\n",
      "Standard Deviation CV Accuracy: 0.0040\n",
      "-----------------------------------------------------------------\n",
      "Accuracy of Decision Tree is : 84.46 % .\n",
      "เวลาที่ใช้ในการฝึกโมเดล: 0.442237 วินาที\n",
      "Mean CV Accuracy: 0.8451\n",
      "Standard Deviation CV Accuracy: 0.0049\n"
     ]
    }
   ],
   "source": [
    "print(\"-\"*30,\"สรูป\",\"-\"*30)\n",
    "\n",
    "print(\"-\"*65)\n",
    "print(f\"Accuracy of Logistic Regression is : {round(accuracy_LR*100,2)} % .\")\n",
    "print(f\"เวลาที่ใช้ในการฝึกโมเดล: {training_time_LR:.6f} วินาที\")\n",
    "# print(f\"Cross Validation Scores (Logistic Regression): {cv_scores_lr}\")\n",
    "print(f\"Mean CV Accuracy: {np.mean(cv_scores_lr):.4f}\")\n",
    "print(f\"Standard Deviation CV Accuracy: {np.std(cv_scores_lr):.4f}\")\n",
    "\n",
    "print(\"-\"*65)\n",
    "print(f\"Accuracy of Knn is : {round(accuracy_KNN*100,2)} % .\")\n",
    "print(f\"เวลาที่ใช้ในการฝึกโมเดล: {training_time_KNN:.6f} วินาที\")\n",
    "# print(f\"Cross Validation Scores (KNN): {cv_scores_knn}\")\n",
    "print(f\"Mean CV Accuracy: {np.mean(cv_scores_knn):.4f}\")\n",
    "print(f\"Standard Deviation CV Accuracy: {np.std(cv_scores_knn):.4f}\")\n",
    "\n",
    "print(\"-\"*65)\n",
    "print(f\"Accuracy of Naive Bayes is : {round(accuracy_NB*100,2)} % .\")\n",
    "print(f\"เวลาที่ใช้ในการฝึกโมเดล: {training_time_NB:.6f} วินาที\")\n",
    "# print(f\"Cross Validation Scores (Naive Bayes): {cv_scores_nb}\")\n",
    "print(f\"Mean CV Accuracy: {np.mean(cv_scores_nb):.4f}\")\n",
    "print(f\"Standard Deviation CV Accuracy: {np.std(cv_scores_nb):.4f}\")\n",
    "\n",
    "print(\"-\"*65)\n",
    "print(f\"Accuracy of Decision Tree is : {round(accuracy_DT*100,2)} % .\")\n",
    "print(f\"เวลาที่ใช้ในการฝึกโมเดล: {training_time_DT:.6f} วินาที\")\n",
    "# print(f\"Cross Validation Scores (Decision Tree): {cv_scores_dt}\")\n",
    "print(f\"Mean CV Accuracy: {np.mean(cv_scores_dt):.4f}\")\n",
    "print(f\"Standard Deviation CV Accuracy: {np.std(cv_scores_dt):.4f}\")\n"
   ]
  },
  {
   "cell_type": "code",
   "execution_count": 27,
   "metadata": {},
   "outputs": [
    {
     "name": "stdout",
     "output_type": "stream",
     "text": [
      "Results have been written to model_performance.txt\n"
     ]
    }
   ],
   "source": [
    "name = f\"สรุป {data_name}\".center(65)  # จัดให้ name อยู่ตรงกลางในความกว้าง 65 ตัวอักษร\n",
    "line = \"-\" * 65\n",
    "# Prepare data as a string\n",
    "results = \"\"\"\n",
    "{}\n",
    "{}\n",
    "{}\n",
    "Accuracy of Logistic Regression is : {:.2f} % .\n",
    "เวลาที่ใช้ในการฝึกโมเดล: {:.6f} วินาที\n",
    "Mean CV Accuracy: {:.4f}\n",
    "Standard Deviation CV Accuracy: {:.4f}\n",
    "-----------------------------------------------------------------\n",
    "Accuracy of KNN is : {:.2f} % .\n",
    "เวลาที่ใช้ในการฝึกโมเดล: {:.6f} วินาที\n",
    "Mean CV Accuracy: {:.4f}\n",
    "Standard Deviation CV Accuracy: {:.4f}\n",
    "-----------------------------------------------------------------\n",
    "Accuracy of Naive Bayes is : {:.2f} % .\n",
    "เวลาที่ใช้ในการฝึกโมเดล: {:.6f} วินาที\n",
    "Mean CV Accuracy: {:.4f}\n",
    "Standard Deviation CV Accuracy: {:.4f}\n",
    "-----------------------------------------------------------------\n",
    "Accuracy of Decision Tree is : {:.2f} % .\n",
    "เวลาที่ใช้ในการฝึกโมเดล: {:.6f} วินาที\n",
    "Mean CV Accuracy: {:.4f}\n",
    "Standard Deviation CV Accuracy: {:.4f}\n",
    "-----------------------------------------------------------------\n",
    "\"\"\".format(line, name, line,\n",
    "    round(accuracy_LR*100, 2), training_time_LR, np.mean(cv_scores_lr), np.std(cv_scores_lr),\n",
    "    round(accuracy_KNN*100, 2), training_time_KNN, np.mean(cv_scores_knn), np.std(cv_scores_knn),\n",
    "    round(accuracy_NB*100, 2), training_time_NB, np.mean(cv_scores_nb), np.std(cv_scores_nb),\n",
    "    round(accuracy_DT*100, 2), training_time_DT, np.mean(cv_scores_dt), np.std(cv_scores_dt)\n",
    ")\n",
    "\n",
    "# Write the data to a text file\n",
    "with open(f'model_performance_{data_name}.txt', mode='w', encoding='utf-8') as file:\n",
    "    file.write(results)\n",
    "\n",
    "print(\"Results have been written to model_performance.txt\")\n"
   ]
  },
  {
   "cell_type": "markdown",
   "metadata": {},
   "source": [
    " ## FULL Model"
   ]
  },
  {
   "cell_type": "code",
   "execution_count": 28,
   "metadata": {},
   "outputs": [
    {
     "data": {
      "text/plain": [
       "array([[-1.74796145, -0.73218446,  1.18142794, ..., -0.47342178,\n",
       "        -1.49395144,  1.49395144],\n",
       "       [-0.954274  , -0.95775999, -1.85052014, ...,  2.11228136,\n",
       "         0.6693658 , -0.6693658 ],\n",
       "       [-0.88813338, -0.04843998,  1.18142794, ..., -0.47342178,\n",
       "         0.6693658 , -0.6693658 ],\n",
       "       ...,\n",
       "       [-1.48339897, -0.36324316, -1.09253312, ..., -0.47342178,\n",
       "        -1.49395144,  1.49395144],\n",
       "       [-1.68182083, -0.06347835,  0.42344092, ..., -0.47342178,\n",
       "         0.6693658 , -0.6693658 ],\n",
       "       [ 0.17011655, -0.92868581, -1.09253312, ..., -0.47342178,\n",
       "        -1.49395144,  1.49395144]])"
      ]
     },
     "execution_count": 28,
     "metadata": {},
     "output_type": "execute_result"
    }
   ],
   "source": [
    "from sklearn.neighbors import KNeighborsClassifier\n",
    "from sklearn.preprocessing import StandardScaler\n",
    "scaler_full = StandardScaler()\n",
    "\n",
    "X = scaler_full.fit_transform(X)\n",
    "X"
   ]
  },
  {
   "cell_type": "code",
   "execution_count": 29,
   "metadata": {},
   "outputs": [
    {
     "name": "stdout",
     "output_type": "stream",
     "text": [
      "เวลาที่ใช้ในการฝึกโมเดล: 0.033747 วินาที\n"
     ]
    }
   ],
   "source": [
    "model_knn_FULL=KNeighborsClassifier(n_neighbors=5)\n",
    "\n",
    "#fit the model with trained data\n",
    "start_time = time.time()  # เวลาเริ่มต้น\n",
    "model_knn_FULL.fit(X,y)\n",
    "end_time = time.time()  # เวลาสิ้นสุด\n",
    "\n",
    "# คำนวณเวลาที่ใช้ในการฝึกโมเดล\n",
    "training_time_KNN = end_time - start_time\n",
    "print(f\"เวลาที่ใช้ในการฝึกโมเดล: {training_time_KNN:.6f} วินาที\")"
   ]
  },
  {
   "cell_type": "code",
   "execution_count": 30,
   "metadata": {},
   "outputs": [
    {
     "name": "stdout",
     "output_type": "stream",
     "text": [
      "Cross Validation Scores (KNN): [0.86534242 0.8550641  0.86210879 0.86060746 0.86095392 0.86014551\n",
      " 0.86499596 0.86268622 0.85910613 0.86130038 0.86636637 0.87040887\n",
      " 0.85666436 0.86163086 0.86012936]\n",
      "Mean CV Accuracy: 0.8618\n",
      "Standard Deviation CV Accuracy: 0.0037\n"
     ]
    }
   ],
   "source": [
    "cv_scores_KNN_FULL = cross_val_score(model_knn_FULL, X, y, cv=k_folds, scoring='accuracy')\n",
    "\n",
    "print(f\"Cross Validation Scores (KNN): {cv_scores_KNN_FULL}\")\n",
    "print(f\"Mean CV Accuracy: {np.mean(cv_scores_KNN_FULL):.4f}\")\n",
    "print(f\"Standard Deviation CV Accuracy: {np.std(cv_scores_KNN_FULL):.4f}\")"
   ]
  }
 ],
 "metadata": {
  "kernelspec": {
   "display_name": ".venv",
   "language": "python",
   "name": "python3"
  },
  "language_info": {
   "codemirror_mode": {
    "name": "ipython",
    "version": 3
   },
   "file_extension": ".py",
   "mimetype": "text/x-python",
   "name": "python",
   "nbconvert_exporter": "python",
   "pygments_lexer": "ipython3",
   "version": "3.11.0"
  }
 },
 "nbformat": 4,
 "nbformat_minor": 2
}
