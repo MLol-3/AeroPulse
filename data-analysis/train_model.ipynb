{
 "cells": [
  {
   "cell_type": "code",
<<<<<<< HEAD
   "execution_count": 2,
=======
   "execution_count": 1,
>>>>>>> 0f5ecae (:coffin: : experiments.)
   "metadata": {},
   "outputs": [],
   "source": [
    "import numpy as np # linear algebra\n",
    "import pandas as pd # data processing\n",
    "import time\n",
    "from sklearn.model_selection import cross_val_score"
   ]
  },
  {
   "cell_type": "markdown",
   "metadata": {},
   "source": [
    "## Read Data"
   ]
  },
  {
   "cell_type": "code",
<<<<<<< HEAD
   "execution_count": 3,
=======
   "execution_count": 32,
>>>>>>> 0f5ecae (:coffin: : experiments.)
   "metadata": {},
   "outputs": [
    {
     "data": {
      "text/html": [
       "<div>\n",
       "<style scoped>\n",
       "    .dataframe tbody tr th:only-of-type {\n",
       "        vertical-align: middle;\n",
       "    }\n",
       "\n",
       "    .dataframe tbody tr th {\n",
       "        vertical-align: top;\n",
       "    }\n",
       "\n",
       "    .dataframe thead th {\n",
       "        text-align: right;\n",
       "    }\n",
       "</style>\n",
       "<table border=\"1\" class=\"dataframe\">\n",
       "  <thead>\n",
       "    <tr style=\"text-align: right;\">\n",
       "      <th></th>\n",
<<<<<<< HEAD
       "      <th>Age</th>\n",
       "      <th>Flight Distance</th>\n",
       "      <th>Seat comfort</th>\n",
       "      <th>Leg room service</th>\n",
       "      <th>Checkin service</th>\n",
=======
       "      <th>Inflight wifi service_0</th>\n",
       "      <th>Inflight wifi service_1</th>\n",
       "      <th>Inflight wifi service_2</th>\n",
       "      <th>Inflight wifi service_3</th>\n",
       "      <th>Inflight wifi service_4</th>\n",
       "      <th>Inflight wifi service_5</th>\n",
       "      <th>Departure/Arrival time convenient_0</th>\n",
       "      <th>Departure/Arrival time convenient_1</th>\n",
       "      <th>Departure/Arrival time convenient_2</th>\n",
       "      <th>Departure/Arrival time convenient_3</th>\n",
       "      <th>...</th>\n",
       "      <th>Customer Type_Loyal Customer</th>\n",
       "      <th>Customer Type_disloyal Customer</th>\n",
       "      <th>Type of Travel_Business travel</th>\n",
       "      <th>Type of Travel_Personal Travel</th>\n",
       "      <th>Class_Business</th>\n",
       "      <th>Age</th>\n",
       "      <th>Flight Distance</th>\n",
>>>>>>> 0f5ecae (:coffin: : experiments.)
       "      <th>Departure Delay in Minutes</th>\n",
       "      <th>Inflight Comfort and Quality</th>\n",
       "      <th>Customer Service Quality</th>\n",
       "      <th>Convenience and Efficiency</th>\n",
       "      <th>Technological Accessibility</th>\n",
       "      <th>Female</th>\n",
       "      <th>Male</th>\n",
       "      <th>Loyal</th>\n",
       "      <th>Disloyal</th>\n",
       "      <th>Business</th>\n",
       "      <th>Personal</th>\n",
       "      <th>satisfaction</th>\n",
       "    </tr>\n",
       "  </thead>\n",
       "  <tbody>\n",
       "    <tr>\n",
       "      <th>0</th>\n",
<<<<<<< HEAD
       "      <td>13</td>\n",
       "      <td>460</td>\n",
       "      <td>5</td>\n",
       "      <td>3</td>\n",
       "      <td>4</td>\n",
       "      <td>25</td>\n",
       "      <td>13</td>\n",
       "      <td>-7</td>\n",
       "      <td>2</td>\n",
       "      <td>14</td>\n",
       "      <td>0</td>\n",
       "      <td>1</td>\n",
       "      <td>1</td>\n",
       "      <td>0</td>\n",
       "      <td>0</td>\n",
       "      <td>1</td>\n",
       "      <td>0</td>\n",
       "    </tr>\n",
       "    <tr>\n",
       "      <th>1</th>\n",
       "      <td>25</td>\n",
       "      <td>235</td>\n",
       "      <td>1</td>\n",
       "      <td>5</td>\n",
       "      <td>1</td>\n",
       "      <td>1</td>\n",
       "      <td>7</td>\n",
       "      <td>-2</td>\n",
       "      <td>0</td>\n",
       "      <td>8</td>\n",
       "      <td>0</td>\n",
=======
       "      <td>0</td>\n",
       "      <td>0</td>\n",
       "      <td>0</td>\n",
       "      <td>1</td>\n",
       "      <td>0</td>\n",
       "      <td>0</td>\n",
       "      <td>0</td>\n",
       "      <td>0</td>\n",
       "      <td>1</td>\n",
       "      <td>0</td>\n",
       "      <td>...</td>\n",
       "      <td>0</td>\n",
       "      <td>1</td>\n",
       "      <td>1</td>\n",
       "      <td>0</td>\n",
       "      <td>1</td>\n",
       "      <td>25</td>\n",
       "      <td>235</td>\n",
>>>>>>> 0f5ecae (:coffin: : experiments.)
       "      <td>1</td>\n",
       "      <td>0</td>\n",
       "      <td>1</td>\n",
       "      <td>1</td>\n",
       "      <td>0</td>\n",
       "      <td>0</td>\n",
       "    </tr>\n",
       "    <tr>\n",
<<<<<<< HEAD
       "      <th>2</th>\n",
       "      <td>26</td>\n",
       "      <td>1142</td>\n",
       "      <td>5</td>\n",
       "      <td>3</td>\n",
       "      <td>4</td>\n",
=======
       "      <th>1</th>\n",
       "      <td>0</td>\n",
       "      <td>0</td>\n",
       "      <td>1</td>\n",
       "      <td>0</td>\n",
       "      <td>0</td>\n",
       "      <td>0</td>\n",
       "      <td>0</td>\n",
       "      <td>0</td>\n",
       "      <td>1</td>\n",
       "      <td>0</td>\n",
       "      <td>...</td>\n",
       "      <td>1</td>\n",
       "      <td>0</td>\n",
       "      <td>1</td>\n",
       "      <td>0</td>\n",
       "      <td>1</td>\n",
       "      <td>26</td>\n",
       "      <td>1142</td>\n",
>>>>>>> 0f5ecae (:coffin: : experiments.)
       "      <td>0</td>\n",
       "      <td>25</td>\n",
       "      <td>-24</td>\n",
       "      <td>0</td>\n",
       "      <td>35</td>\n",
       "      <td>1</td>\n",
       "      <td>0</td>\n",
       "      <td>1</td>\n",
       "      <td>0</td>\n",
       "      <td>1</td>\n",
       "      <td>0</td>\n",
       "      <td>1</td>\n",
       "    </tr>\n",
       "    <tr>\n",
<<<<<<< HEAD
       "      <th>3</th>\n",
       "      <td>25</td>\n",
       "      <td>562</td>\n",
       "      <td>2</td>\n",
       "      <td>5</td>\n",
       "      <td>1</td>\n",
=======
       "      <th>2</th>\n",
       "      <td>0</td>\n",
       "      <td>0</td>\n",
       "      <td>1</td>\n",
       "      <td>0</td>\n",
       "      <td>0</td>\n",
       "      <td>0</td>\n",
       "      <td>0</td>\n",
       "      <td>0</td>\n",
       "      <td>0</td>\n",
       "      <td>0</td>\n",
       "      <td>...</td>\n",
       "      <td>1</td>\n",
       "      <td>0</td>\n",
       "      <td>1</td>\n",
       "      <td>0</td>\n",
       "      <td>1</td>\n",
       "      <td>25</td>\n",
       "      <td>562</td>\n",
>>>>>>> 0f5ecae (:coffin: : experiments.)
       "      <td>11</td>\n",
       "      <td>13</td>\n",
       "      <td>-7</td>\n",
       "      <td>-1</td>\n",
       "      <td>16</td>\n",
       "      <td>1</td>\n",
       "      <td>0</td>\n",
       "      <td>1</td>\n",
       "      <td>0</td>\n",
       "      <td>1</td>\n",
       "      <td>0</td>\n",
       "      <td>0</td>\n",
       "    </tr>\n",
       "    <tr>\n",
       "      <th>3</th>\n",
       "      <td>0</td>\n",
       "      <td>0</td>\n",
       "      <td>0</td>\n",
       "      <td>1</td>\n",
       "      <td>0</td>\n",
       "      <td>0</td>\n",
       "      <td>0</td>\n",
       "      <td>0</td>\n",
       "      <td>0</td>\n",
       "      <td>1</td>\n",
       "      <td>...</td>\n",
       "      <td>1</td>\n",
       "      <td>0</td>\n",
       "      <td>1</td>\n",
       "      <td>0</td>\n",
       "      <td>1</td>\n",
       "      <td>61</td>\n",
       "      <td>214</td>\n",
       "      <td>0</td>\n",
       "      <td>0.0</td>\n",
       "      <td>satisfied</td>\n",
       "    </tr>\n",
       "    <tr>\n",
       "      <th>4</th>\n",
<<<<<<< HEAD
       "      <td>61</td>\n",
       "      <td>214</td>\n",
       "      <td>5</td>\n",
       "      <td>4</td>\n",
       "      <td>3</td>\n",
=======
       "      <td>0</td>\n",
       "      <td>0</td>\n",
       "      <td>0</td>\n",
       "      <td>0</td>\n",
       "      <td>1</td>\n",
       "      <td>0</td>\n",
       "      <td>0</td>\n",
       "      <td>0</td>\n",
       "      <td>0</td>\n",
       "      <td>1</td>\n",
       "      <td>...</td>\n",
       "      <td>1</td>\n",
       "      <td>0</td>\n",
       "      <td>1</td>\n",
       "      <td>0</td>\n",
       "      <td>1</td>\n",
       "      <td>52</td>\n",
       "      <td>2035</td>\n",
       "      <td>4</td>\n",
       "      <td>0.0</td>\n",
       "      <td>satisfied</td>\n",
       "    </tr>\n",
       "    <tr>\n",
       "      <th>...</th>\n",
       "      <td>...</td>\n",
       "      <td>...</td>\n",
       "      <td>...</td>\n",
       "      <td>...</td>\n",
       "      <td>...</td>\n",
       "      <td>...</td>\n",
       "      <td>...</td>\n",
       "      <td>...</td>\n",
       "      <td>...</td>\n",
       "      <td>...</td>\n",
       "      <td>...</td>\n",
       "      <td>...</td>\n",
       "      <td>...</td>\n",
       "      <td>...</td>\n",
       "      <td>...</td>\n",
       "      <td>...</td>\n",
       "      <td>...</td>\n",
       "      <td>...</td>\n",
       "      <td>...</td>\n",
       "      <td>...</td>\n",
       "      <td>...</td>\n",
       "    </tr>\n",
       "    <tr>\n",
       "      <th>61985</th>\n",
       "      <td>0</td>\n",
       "      <td>1</td>\n",
       "      <td>0</td>\n",
       "      <td>0</td>\n",
       "      <td>0</td>\n",
       "      <td>0</td>\n",
       "      <td>0</td>\n",
       "      <td>1</td>\n",
       "      <td>0</td>\n",
       "      <td>0</td>\n",
       "      <td>...</td>\n",
       "      <td>0</td>\n",
       "      <td>1</td>\n",
       "      <td>1</td>\n",
       "      <td>0</td>\n",
       "      <td>1</td>\n",
       "      <td>39</td>\n",
       "      <td>404</td>\n",
       "      <td>0</td>\n",
       "      <td>0.0</td>\n",
       "      <td>neutral or dissatisfied</td>\n",
       "    </tr>\n",
       "    <tr>\n",
       "      <th>61986</th>\n",
       "      <td>0</td>\n",
       "      <td>0</td>\n",
       "      <td>0</td>\n",
       "      <td>1</td>\n",
       "      <td>0</td>\n",
       "      <td>0</td>\n",
       "      <td>0</td>\n",
       "      <td>0</td>\n",
       "      <td>0</td>\n",
       "      <td>1</td>\n",
       "      <td>...</td>\n",
       "      <td>1</td>\n",
       "      <td>0</td>\n",
       "      <td>1</td>\n",
       "      <td>0</td>\n",
       "      <td>1</td>\n",
       "      <td>52</td>\n",
       "      <td>280</td>\n",
       "      <td>0</td>\n",
       "      <td>0.0</td>\n",
       "      <td>satisfied</td>\n",
       "    </tr>\n",
       "    <tr>\n",
       "      <th>61987</th>\n",
       "      <td>0</td>\n",
       "      <td>0</td>\n",
       "      <td>0</td>\n",
       "      <td>1</td>\n",
       "      <td>0</td>\n",
       "      <td>0</td>\n",
       "      <td>0</td>\n",
       "      <td>0</td>\n",
       "      <td>0</td>\n",
       "      <td>1</td>\n",
       "      <td>...</td>\n",
       "      <td>0</td>\n",
       "      <td>1</td>\n",
       "      <td>1</td>\n",
       "      <td>0</td>\n",
       "      <td>1</td>\n",
       "      <td>34</td>\n",
       "      <td>526</td>\n",
       "      <td>0</td>\n",
       "      <td>0.0</td>\n",
       "      <td>neutral or dissatisfied</td>\n",
       "    </tr>\n",
       "    <tr>\n",
       "      <th>61988</th>\n",
       "      <td>0</td>\n",
       "      <td>0</td>\n",
       "      <td>0</td>\n",
       "      <td>0</td>\n",
       "      <td>1</td>\n",
       "      <td>0</td>\n",
       "      <td>0</td>\n",
       "      <td>0</td>\n",
       "      <td>0</td>\n",
       "      <td>0</td>\n",
       "      <td>...</td>\n",
       "      <td>1</td>\n",
       "      <td>0</td>\n",
       "      <td>1</td>\n",
       "      <td>0</td>\n",
       "      <td>1</td>\n",
       "      <td>23</td>\n",
       "      <td>646</td>\n",
       "      <td>0</td>\n",
       "      <td>0.0</td>\n",
       "      <td>satisfied</td>\n",
       "    </tr>\n",
       "    <tr>\n",
       "      <th>61989</th>\n",
       "      <td>0</td>\n",
       "      <td>0</td>\n",
       "      <td>0</td>\n",
       "      <td>1</td>\n",
       "      <td>0</td>\n",
       "      <td>0</td>\n",
       "      <td>0</td>\n",
       "      <td>0</td>\n",
       "      <td>0</td>\n",
       "      <td>1</td>\n",
       "      <td>...</td>\n",
       "      <td>1</td>\n",
       "      <td>0</td>\n",
       "      <td>1</td>\n",
       "      <td>0</td>\n",
       "      <td>1</td>\n",
       "      <td>14</td>\n",
       "      <td>1127</td>\n",
>>>>>>> 0f5ecae (:coffin: : experiments.)
       "      <td>0</td>\n",
       "      <td>7</td>\n",
       "      <td>-2</td>\n",
       "      <td>1</td>\n",
       "      <td>9</td>\n",
       "      <td>0</td>\n",
       "      <td>1</td>\n",
       "      <td>1</td>\n",
       "      <td>0</td>\n",
       "      <td>1</td>\n",
       "      <td>0</td>\n",
       "      <td>1</td>\n",
       "    </tr>\n",
       "  </tbody>\n",
       "</table>\n",
<<<<<<< HEAD
       "</div>"
      ],
      "text/plain": [
       "   Age  Flight Distance  Seat comfort  Leg room service  Checkin service  \\\n",
       "0   13              460             5                 3                4   \n",
       "1   25              235             1                 5                1   \n",
       "2   26             1142             5                 3                4   \n",
       "3   25              562             2                 5                1   \n",
       "4   61              214             5                 4                3   \n",
       "\n",
       "   Departure Delay in Minutes  Inflight Comfort and Quality  \\\n",
       "0                          25                            13   \n",
       "1                           1                             7   \n",
       "2                           0                            25   \n",
       "3                          11                            13   \n",
       "4                           0                             7   \n",
       "\n",
       "   Customer Service Quality  Convenience and Efficiency  \\\n",
       "0                        -7                           2   \n",
       "1                        -2                           0   \n",
       "2                       -24                           0   \n",
       "3                        -7                          -1   \n",
       "4                        -2                           1   \n",
       "\n",
       "   Technological Accessibility  Female  Male  Loyal  Disloyal  Business  \\\n",
       "0                           14       0     1      1         0         0   \n",
       "1                            8       0     1      0         1         1   \n",
       "2                           35       1     0      1         0         1   \n",
       "3                           16       1     0      1         0         1   \n",
       "4                            9       0     1      1         0         1   \n",
       "\n",
       "   Personal  satisfaction  \n",
       "0         1             0  \n",
       "1         0             0  \n",
       "2         0             1  \n",
       "3         0             0  \n",
       "4         0             1  "
      ]
     },
     "execution_count": 3,
=======
       "<p>61990 rows × 95 columns</p>\n",
       "</div>"
      ],
      "text/plain": [
       "       Inflight wifi service_0  Inflight wifi service_1  \\\n",
       "0                            0                        0   \n",
       "1                            0                        0   \n",
       "2                            0                        0   \n",
       "3                            0                        0   \n",
       "4                            0                        0   \n",
       "...                        ...                      ...   \n",
       "61985                        0                        1   \n",
       "61986                        0                        0   \n",
       "61987                        0                        0   \n",
       "61988                        0                        0   \n",
       "61989                        0                        0   \n",
       "\n",
       "       Inflight wifi service_2  Inflight wifi service_3  \\\n",
       "0                            0                        1   \n",
       "1                            1                        0   \n",
       "2                            1                        0   \n",
       "3                            0                        1   \n",
       "4                            0                        0   \n",
       "...                        ...                      ...   \n",
       "61985                        0                        0   \n",
       "61986                        0                        1   \n",
       "61987                        0                        1   \n",
       "61988                        0                        0   \n",
       "61989                        0                        1   \n",
       "\n",
       "       Inflight wifi service_4  Inflight wifi service_5  \\\n",
       "0                            0                        0   \n",
       "1                            0                        0   \n",
       "2                            0                        0   \n",
       "3                            0                        0   \n",
       "4                            1                        0   \n",
       "...                        ...                      ...   \n",
       "61985                        0                        0   \n",
       "61986                        0                        0   \n",
       "61987                        0                        0   \n",
       "61988                        1                        0   \n",
       "61989                        0                        0   \n",
       "\n",
       "       Departure/Arrival time convenient_0  \\\n",
       "0                                        0   \n",
       "1                                        0   \n",
       "2                                        0   \n",
       "3                                        0   \n",
       "4                                        0   \n",
       "...                                    ...   \n",
       "61985                                    0   \n",
       "61986                                    0   \n",
       "61987                                    0   \n",
       "61988                                    0   \n",
       "61989                                    0   \n",
       "\n",
       "       Departure/Arrival time convenient_1  \\\n",
       "0                                        0   \n",
       "1                                        0   \n",
       "2                                        0   \n",
       "3                                        0   \n",
       "4                                        0   \n",
       "...                                    ...   \n",
       "61985                                    1   \n",
       "61986                                    0   \n",
       "61987                                    0   \n",
       "61988                                    0   \n",
       "61989                                    0   \n",
       "\n",
       "       Departure/Arrival time convenient_2  \\\n",
       "0                                        1   \n",
       "1                                        1   \n",
       "2                                        0   \n",
       "3                                        0   \n",
       "4                                        0   \n",
       "...                                    ...   \n",
       "61985                                    0   \n",
       "61986                                    0   \n",
       "61987                                    0   \n",
       "61988                                    0   \n",
       "61989                                    0   \n",
       "\n",
       "       Departure/Arrival time convenient_3  ...  Customer Type_Loyal Customer  \\\n",
       "0                                        0  ...                             0   \n",
       "1                                        0  ...                             1   \n",
       "2                                        0  ...                             1   \n",
       "3                                        1  ...                             1   \n",
       "4                                        1  ...                             1   \n",
       "...                                    ...  ...                           ...   \n",
       "61985                                    0  ...                             0   \n",
       "61986                                    1  ...                             1   \n",
       "61987                                    1  ...                             0   \n",
       "61988                                    0  ...                             1   \n",
       "61989                                    1  ...                             1   \n",
       "\n",
       "       Customer Type_disloyal Customer  Type of Travel_Business travel  \\\n",
       "0                                    1                               1   \n",
       "1                                    0                               1   \n",
       "2                                    0                               1   \n",
       "3                                    0                               1   \n",
       "4                                    0                               1   \n",
       "...                                ...                             ...   \n",
       "61985                                1                               1   \n",
       "61986                                0                               1   \n",
       "61987                                1                               1   \n",
       "61988                                0                               1   \n",
       "61989                                0                               1   \n",
       "\n",
       "       Type of Travel_Personal Travel  Class_Business  Age  Flight Distance  \\\n",
       "0                                   0               1   25              235   \n",
       "1                                   0               1   26             1142   \n",
       "2                                   0               1   25              562   \n",
       "3                                   0               1   61              214   \n",
       "4                                   0               1   52             2035   \n",
       "...                               ...             ...  ...              ...   \n",
       "61985                               0               1   39              404   \n",
       "61986                               0               1   52              280   \n",
       "61987                               0               1   34              526   \n",
       "61988                               0               1   23              646   \n",
       "61989                               0               1   14             1127   \n",
       "\n",
       "       Departure Delay in Minutes  Arrival Delay in Minutes  \\\n",
       "0                               1                       6.0   \n",
       "1                               0                       0.0   \n",
       "2                              11                       9.0   \n",
       "3                               0                       0.0   \n",
       "4                               4                       0.0   \n",
       "...                           ...                       ...   \n",
       "61985                           0                       0.0   \n",
       "61986                           0                       0.0   \n",
       "61987                           0                       0.0   \n",
       "61988                           0                       0.0   \n",
       "61989                           0                       0.0   \n",
       "\n",
       "                  satisfaction  \n",
       "0      neutral or dissatisfied  \n",
       "1                    satisfied  \n",
       "2      neutral or dissatisfied  \n",
       "3                    satisfied  \n",
       "4                    satisfied  \n",
       "...                        ...  \n",
       "61985  neutral or dissatisfied  \n",
       "61986                satisfied  \n",
       "61987  neutral or dissatisfied  \n",
       "61988                satisfied  \n",
       "61989                satisfied  \n",
       "\n",
       "[61990 rows x 95 columns]"
      ]
     },
     "execution_count": 32,
>>>>>>> 0f5ecae (:coffin: : experiments.)
     "metadata": {},
     "output_type": "execute_result"
    }
   ],
   "source": [
    "data_name = \"dummy\"\n",
    "# data_name = \"dummy_object\"\n",
    "df = pd.read_csv(f\"../datasets/data_{data_name}.csv\")\n",
    "# df = pd.read_csv(f\"../datasets/train_transformed.csv\")\n",
    "df_copy = df.copy()\n",
    "df_copy"
   ]
  },
  {
   "cell_type": "markdown",
   "metadata": {},
   "source": [
    "## Train-Test Splitting"
   ]
  },
  {
   "cell_type": "code",
<<<<<<< HEAD
   "execution_count": 4,
=======
   "execution_count": 3,
>>>>>>> 0f5ecae (:coffin: : experiments.)
   "metadata": {},
   "outputs": [
    {
     "data": {
      "text/html": [
       "<div>\n",
       "<style scoped>\n",
       "    .dataframe tbody tr th:only-of-type {\n",
       "        vertical-align: middle;\n",
       "    }\n",
       "\n",
       "    .dataframe tbody tr th {\n",
       "        vertical-align: top;\n",
       "    }\n",
       "\n",
       "    .dataframe thead th {\n",
       "        text-align: right;\n",
       "    }\n",
       "</style>\n",
       "<table border=\"1\" class=\"dataframe\">\n",
       "  <thead>\n",
       "    <tr style=\"text-align: right;\">\n",
       "      <th></th>\n",
<<<<<<< HEAD
       "      <th>Age</th>\n",
       "      <th>Flight Distance</th>\n",
       "      <th>Seat comfort</th>\n",
       "      <th>Leg room service</th>\n",
       "      <th>Checkin service</th>\n",
=======
       "      <th>Inflight wifi service_0</th>\n",
       "      <th>Inflight wifi service_1</th>\n",
       "      <th>Inflight wifi service_2</th>\n",
       "      <th>Inflight wifi service_3</th>\n",
       "      <th>Inflight wifi service_4</th>\n",
       "      <th>Inflight wifi service_5</th>\n",
       "      <th>Departure/Arrival time convenient_0</th>\n",
       "      <th>Departure/Arrival time convenient_1</th>\n",
       "      <th>Departure/Arrival time convenient_2</th>\n",
       "      <th>Departure/Arrival time convenient_3</th>\n",
       "      <th>...</th>\n",
       "      <th>Gender_Male</th>\n",
       "      <th>Customer Type_Loyal Customer</th>\n",
       "      <th>Customer Type_disloyal Customer</th>\n",
       "      <th>Type of Travel_Business travel</th>\n",
       "      <th>Type of Travel_Personal Travel</th>\n",
       "      <th>Class_Business</th>\n",
       "      <th>Age</th>\n",
       "      <th>Flight Distance</th>\n",
>>>>>>> 0f5ecae (:coffin: : experiments.)
       "      <th>Departure Delay in Minutes</th>\n",
       "      <th>Inflight Comfort and Quality</th>\n",
       "      <th>Customer Service Quality</th>\n",
       "      <th>Convenience and Efficiency</th>\n",
       "      <th>Technological Accessibility</th>\n",
       "      <th>Female</th>\n",
       "      <th>Male</th>\n",
       "      <th>Loyal</th>\n",
       "      <th>Disloyal</th>\n",
       "      <th>Business</th>\n",
       "      <th>Personal</th>\n",
       "    </tr>\n",
       "  </thead>\n",
       "  <tbody>\n",
       "    <tr>\n",
       "      <th>0</th>\n",
<<<<<<< HEAD
       "      <td>13</td>\n",
       "      <td>460</td>\n",
       "      <td>5</td>\n",
       "      <td>3</td>\n",
       "      <td>4</td>\n",
       "      <td>25</td>\n",
       "      <td>13</td>\n",
       "      <td>-7</td>\n",
       "      <td>2</td>\n",
       "      <td>14</td>\n",
       "      <td>0</td>\n",
       "      <td>1</td>\n",
       "      <td>1</td>\n",
       "      <td>0</td>\n",
       "      <td>0</td>\n",
       "      <td>1</td>\n",
       "    </tr>\n",
       "    <tr>\n",
       "      <th>1</th>\n",
       "      <td>25</td>\n",
       "      <td>235</td>\n",
       "      <td>1</td>\n",
       "      <td>5</td>\n",
       "      <td>1</td>\n",
       "      <td>1</td>\n",
       "      <td>7</td>\n",
       "      <td>-2</td>\n",
       "      <td>0</td>\n",
       "      <td>8</td>\n",
       "      <td>0</td>\n",
=======
       "      <td>0</td>\n",
       "      <td>0</td>\n",
       "      <td>0</td>\n",
       "      <td>1</td>\n",
       "      <td>0</td>\n",
       "      <td>0</td>\n",
       "      <td>0</td>\n",
       "      <td>0</td>\n",
       "      <td>1</td>\n",
       "      <td>0</td>\n",
       "      <td>...</td>\n",
       "      <td>1</td>\n",
       "      <td>0</td>\n",
       "      <td>1</td>\n",
       "      <td>1</td>\n",
       "      <td>0</td>\n",
       "      <td>1</td>\n",
       "      <td>25</td>\n",
       "      <td>235</td>\n",
>>>>>>> 0f5ecae (:coffin: : experiments.)
       "      <td>1</td>\n",
       "      <td>0</td>\n",
       "      <td>1</td>\n",
       "      <td>1</td>\n",
       "      <td>0</td>\n",
       "    </tr>\n",
       "    <tr>\n",
<<<<<<< HEAD
       "      <th>2</th>\n",
       "      <td>26</td>\n",
       "      <td>1142</td>\n",
       "      <td>5</td>\n",
       "      <td>3</td>\n",
       "      <td>4</td>\n",
=======
       "      <th>1</th>\n",
       "      <td>0</td>\n",
       "      <td>0</td>\n",
       "      <td>1</td>\n",
       "      <td>0</td>\n",
       "      <td>0</td>\n",
       "      <td>0</td>\n",
       "      <td>0</td>\n",
       "      <td>0</td>\n",
       "      <td>1</td>\n",
       "      <td>0</td>\n",
       "      <td>...</td>\n",
       "      <td>0</td>\n",
       "      <td>1</td>\n",
       "      <td>0</td>\n",
       "      <td>1</td>\n",
       "      <td>0</td>\n",
       "      <td>1</td>\n",
       "      <td>26</td>\n",
       "      <td>1142</td>\n",
>>>>>>> 0f5ecae (:coffin: : experiments.)
       "      <td>0</td>\n",
       "      <td>25</td>\n",
       "      <td>-24</td>\n",
       "      <td>0</td>\n",
       "      <td>35</td>\n",
       "      <td>1</td>\n",
       "      <td>0</td>\n",
       "      <td>1</td>\n",
       "      <td>0</td>\n",
       "      <td>1</td>\n",
       "      <td>0</td>\n",
       "    </tr>\n",
       "    <tr>\n",
<<<<<<< HEAD
       "      <th>3</th>\n",
       "      <td>25</td>\n",
       "      <td>562</td>\n",
       "      <td>2</td>\n",
       "      <td>5</td>\n",
       "      <td>1</td>\n",
=======
       "      <th>2</th>\n",
       "      <td>0</td>\n",
       "      <td>0</td>\n",
       "      <td>1</td>\n",
       "      <td>0</td>\n",
       "      <td>0</td>\n",
       "      <td>0</td>\n",
       "      <td>0</td>\n",
       "      <td>0</td>\n",
       "      <td>0</td>\n",
       "      <td>0</td>\n",
       "      <td>...</td>\n",
       "      <td>0</td>\n",
       "      <td>1</td>\n",
       "      <td>0</td>\n",
       "      <td>1</td>\n",
       "      <td>0</td>\n",
       "      <td>1</td>\n",
       "      <td>25</td>\n",
       "      <td>562</td>\n",
>>>>>>> 0f5ecae (:coffin: : experiments.)
       "      <td>11</td>\n",
       "      <td>13</td>\n",
       "      <td>-7</td>\n",
       "      <td>-1</td>\n",
       "      <td>16</td>\n",
       "      <td>1</td>\n",
       "      <td>0</td>\n",
       "      <td>1</td>\n",
       "      <td>0</td>\n",
       "      <td>1</td>\n",
       "      <td>0</td>\n",
       "    </tr>\n",
       "    <tr>\n",
       "      <th>3</th>\n",
       "      <td>0</td>\n",
       "      <td>0</td>\n",
       "      <td>0</td>\n",
       "      <td>1</td>\n",
       "      <td>0</td>\n",
       "      <td>0</td>\n",
       "      <td>0</td>\n",
       "      <td>0</td>\n",
       "      <td>0</td>\n",
       "      <td>1</td>\n",
       "      <td>...</td>\n",
       "      <td>1</td>\n",
       "      <td>1</td>\n",
       "      <td>0</td>\n",
       "      <td>1</td>\n",
       "      <td>0</td>\n",
       "      <td>1</td>\n",
       "      <td>61</td>\n",
       "      <td>214</td>\n",
       "      <td>0</td>\n",
       "      <td>0.0</td>\n",
       "    </tr>\n",
       "    <tr>\n",
       "      <th>4</th>\n",
<<<<<<< HEAD
       "      <td>61</td>\n",
       "      <td>214</td>\n",
       "      <td>5</td>\n",
       "      <td>4</td>\n",
       "      <td>3</td>\n",
       "      <td>0</td>\n",
       "      <td>7</td>\n",
       "      <td>-2</td>\n",
       "      <td>1</td>\n",
       "      <td>9</td>\n",
       "      <td>0</td>\n",
       "      <td>1</td>\n",
       "      <td>1</td>\n",
       "      <td>0</td>\n",
       "      <td>1</td>\n",
       "      <td>0</td>\n",
=======
       "      <td>0</td>\n",
       "      <td>0</td>\n",
       "      <td>0</td>\n",
       "      <td>0</td>\n",
       "      <td>1</td>\n",
       "      <td>0</td>\n",
       "      <td>0</td>\n",
       "      <td>0</td>\n",
       "      <td>0</td>\n",
       "      <td>1</td>\n",
       "      <td>...</td>\n",
       "      <td>0</td>\n",
       "      <td>1</td>\n",
       "      <td>0</td>\n",
       "      <td>1</td>\n",
       "      <td>0</td>\n",
       "      <td>1</td>\n",
       "      <td>52</td>\n",
       "      <td>2035</td>\n",
       "      <td>4</td>\n",
       "      <td>0.0</td>\n",
>>>>>>> 0f5ecae (:coffin: : experiments.)
       "    </tr>\n",
       "    <tr>\n",
       "      <th>...</th>\n",
       "      <td>...</td>\n",
       "      <td>...</td>\n",
       "      <td>...</td>\n",
       "      <td>...</td>\n",
       "      <td>...</td>\n",
       "      <td>...</td>\n",
       "      <td>...</td>\n",
       "      <td>...</td>\n",
       "      <td>...</td>\n",
       "      <td>...</td>\n",
       "      <td>...</td>\n",
       "      <td>...</td>\n",
       "      <td>...</td>\n",
       "      <td>...</td>\n",
       "      <td>...</td>\n",
       "      <td>...</td>\n",
       "    </tr>\n",
       "    <tr>\n",
<<<<<<< HEAD
       "      <th>129875</th>\n",
       "      <td>34</td>\n",
       "      <td>526</td>\n",
       "      <td>4</td>\n",
       "      <td>2</td>\n",
       "      <td>4</td>\n",
       "      <td>0</td>\n",
       "      <td>14</td>\n",
       "      <td>-9</td>\n",
       "      <td>1</td>\n",
       "      <td>16</td>\n",
       "      <td>0</td>\n",
       "      <td>1</td>\n",
       "      <td>0</td>\n",
       "      <td>1</td>\n",
       "      <td>1</td>\n",
       "      <td>0</td>\n",
       "    </tr>\n",
       "    <tr>\n",
       "      <th>129876</th>\n",
       "      <td>23</td>\n",
       "      <td>646</td>\n",
       "      <td>4</td>\n",
       "      <td>5</td>\n",
       "      <td>5</td>\n",
       "      <td>0</td>\n",
       "      <td>17</td>\n",
       "      <td>-10</td>\n",
       "      <td>0</td>\n",
       "      <td>20</td>\n",
       "      <td>0</td>\n",
       "      <td>1</td>\n",
       "      <td>1</td>\n",
       "      <td>0</td>\n",
       "      <td>1</td>\n",
       "      <td>0</td>\n",
       "    </tr>\n",
       "    <tr>\n",
       "      <th>129877</th>\n",
       "      <td>17</td>\n",
       "      <td>828</td>\n",
       "      <td>2</td>\n",
       "      <td>3</td>\n",
       "      <td>5</td>\n",
       "      <td>0</td>\n",
       "      <td>19</td>\n",
       "      <td>-15</td>\n",
       "      <td>-1</td>\n",
       "      <td>22</td>\n",
       "      <td>1</td>\n",
       "      <td>0</td>\n",
       "      <td>1</td>\n",
       "      <td>0</td>\n",
       "      <td>0</td>\n",
       "      <td>1</td>\n",
       "    </tr>\n",
       "    <tr>\n",
       "      <th>129878</th>\n",
       "      <td>14</td>\n",
       "      <td>1127</td>\n",
       "      <td>4</td>\n",
       "      <td>2</td>\n",
       "      <td>4</td>\n",
       "      <td>0</td>\n",
       "      <td>25</td>\n",
       "      <td>-22</td>\n",
       "      <td>-1</td>\n",
       "      <td>33</td>\n",
       "      <td>0</td>\n",
       "      <td>1</td>\n",
       "      <td>1</td>\n",
       "      <td>0</td>\n",
       "      <td>1</td>\n",
       "      <td>0</td>\n",
       "    </tr>\n",
       "    <tr>\n",
       "      <th>129879</th>\n",
       "      <td>42</td>\n",
       "      <td>264</td>\n",
       "      <td>2</td>\n",
       "      <td>2</td>\n",
       "      <td>1</td>\n",
=======
       "      <th>61985</th>\n",
       "      <td>0</td>\n",
       "      <td>1</td>\n",
       "      <td>0</td>\n",
       "      <td>0</td>\n",
       "      <td>0</td>\n",
       "      <td>0</td>\n",
       "      <td>0</td>\n",
       "      <td>1</td>\n",
       "      <td>0</td>\n",
       "      <td>0</td>\n",
       "      <td>...</td>\n",
       "      <td>0</td>\n",
       "      <td>0</td>\n",
       "      <td>1</td>\n",
       "      <td>1</td>\n",
       "      <td>0</td>\n",
       "      <td>1</td>\n",
       "      <td>39</td>\n",
       "      <td>404</td>\n",
       "      <td>0</td>\n",
       "      <td>0.0</td>\n",
       "    </tr>\n",
       "    <tr>\n",
       "      <th>61986</th>\n",
       "      <td>0</td>\n",
       "      <td>0</td>\n",
       "      <td>0</td>\n",
       "      <td>1</td>\n",
       "      <td>0</td>\n",
       "      <td>0</td>\n",
       "      <td>0</td>\n",
       "      <td>0</td>\n",
       "      <td>0</td>\n",
       "      <td>1</td>\n",
       "      <td>...</td>\n",
       "      <td>1</td>\n",
       "      <td>1</td>\n",
       "      <td>0</td>\n",
       "      <td>1</td>\n",
       "      <td>0</td>\n",
       "      <td>1</td>\n",
       "      <td>52</td>\n",
       "      <td>280</td>\n",
       "      <td>0</td>\n",
       "      <td>0.0</td>\n",
       "    </tr>\n",
       "    <tr>\n",
       "      <th>61987</th>\n",
       "      <td>0</td>\n",
       "      <td>0</td>\n",
       "      <td>0</td>\n",
       "      <td>1</td>\n",
       "      <td>0</td>\n",
       "      <td>0</td>\n",
       "      <td>0</td>\n",
       "      <td>0</td>\n",
       "      <td>0</td>\n",
       "      <td>1</td>\n",
       "      <td>...</td>\n",
       "      <td>1</td>\n",
       "      <td>0</td>\n",
       "      <td>1</td>\n",
       "      <td>1</td>\n",
       "      <td>0</td>\n",
       "      <td>1</td>\n",
       "      <td>34</td>\n",
       "      <td>526</td>\n",
       "      <td>0</td>\n",
       "      <td>0.0</td>\n",
       "    </tr>\n",
       "    <tr>\n",
       "      <th>61988</th>\n",
       "      <td>0</td>\n",
       "      <td>0</td>\n",
       "      <td>0</td>\n",
       "      <td>0</td>\n",
       "      <td>1</td>\n",
       "      <td>0</td>\n",
       "      <td>0</td>\n",
       "      <td>0</td>\n",
       "      <td>0</td>\n",
       "      <td>0</td>\n",
       "      <td>...</td>\n",
       "      <td>1</td>\n",
       "      <td>1</td>\n",
       "      <td>0</td>\n",
       "      <td>1</td>\n",
       "      <td>0</td>\n",
       "      <td>1</td>\n",
       "      <td>23</td>\n",
       "      <td>646</td>\n",
       "      <td>0</td>\n",
       "      <td>0.0</td>\n",
       "    </tr>\n",
       "    <tr>\n",
       "      <th>61989</th>\n",
       "      <td>0</td>\n",
       "      <td>0</td>\n",
       "      <td>0</td>\n",
       "      <td>1</td>\n",
       "      <td>0</td>\n",
       "      <td>0</td>\n",
       "      <td>0</td>\n",
       "      <td>0</td>\n",
       "      <td>0</td>\n",
       "      <td>1</td>\n",
       "      <td>...</td>\n",
       "      <td>1</td>\n",
       "      <td>1</td>\n",
       "      <td>0</td>\n",
       "      <td>1</td>\n",
       "      <td>0</td>\n",
       "      <td>1</td>\n",
       "      <td>14</td>\n",
       "      <td>1127</td>\n",
>>>>>>> 0f5ecae (:coffin: : experiments.)
       "      <td>0</td>\n",
       "      <td>5</td>\n",
       "      <td>-2</td>\n",
       "      <td>0</td>\n",
       "      <td>7</td>\n",
       "      <td>1</td>\n",
       "      <td>0</td>\n",
       "      <td>1</td>\n",
       "      <td>0</td>\n",
       "      <td>0</td>\n",
       "      <td>1</td>\n",
       "    </tr>\n",
       "  </tbody>\n",
       "</table>\n",
<<<<<<< HEAD
       "<p>129880 rows × 16 columns</p>\n",
       "</div>"
      ],
      "text/plain": [
       "        Age  Flight Distance  Seat comfort  Leg room service  Checkin service  \\\n",
       "0        13              460             5                 3                4   \n",
       "1        25              235             1                 5                1   \n",
       "2        26             1142             5                 3                4   \n",
       "3        25              562             2                 5                1   \n",
       "4        61              214             5                 4                3   \n",
       "...     ...              ...           ...               ...              ...   \n",
       "129875   34              526             4                 2                4   \n",
       "129876   23              646             4                 5                5   \n",
       "129877   17              828             2                 3                5   \n",
       "129878   14             1127             4                 2                4   \n",
       "129879   42              264             2                 2                1   \n",
       "\n",
       "        Departure Delay in Minutes  Inflight Comfort and Quality  \\\n",
       "0                               25                            13   \n",
       "1                                1                             7   \n",
       "2                                0                            25   \n",
       "3                               11                            13   \n",
       "4                                0                             7   \n",
       "...                            ...                           ...   \n",
       "129875                           0                            14   \n",
       "129876                           0                            17   \n",
       "129877                           0                            19   \n",
       "129878                           0                            25   \n",
       "129879                           0                             5   \n",
       "\n",
       "        Customer Service Quality  Convenience and Efficiency  \\\n",
       "0                             -7                           2   \n",
       "1                             -2                           0   \n",
       "2                            -24                           0   \n",
       "3                             -7                          -1   \n",
       "4                             -2                           1   \n",
       "...                          ...                         ...   \n",
       "129875                        -9                           1   \n",
       "129876                       -10                           0   \n",
       "129877                       -15                          -1   \n",
       "129878                       -22                          -1   \n",
       "129879                        -2                           0   \n",
       "\n",
       "        Technological Accessibility  Female  Male  Loyal  Disloyal  Business  \\\n",
       "0                                14       0     1      1         0         0   \n",
       "1                                 8       0     1      0         1         1   \n",
       "2                                35       1     0      1         0         1   \n",
       "3                                16       1     0      1         0         1   \n",
       "4                                 9       0     1      1         0         1   \n",
       "...                             ...     ...   ...    ...       ...       ...   \n",
       "129875                           16       0     1      0         1         1   \n",
       "129876                           20       0     1      1         0         1   \n",
       "129877                           22       1     0      1         0         0   \n",
       "129878                           33       0     1      1         0         1   \n",
       "129879                            7       1     0      1         0         0   \n",
       "\n",
       "        Personal  \n",
       "0              1  \n",
       "1              0  \n",
       "2              0  \n",
       "3              0  \n",
       "4              0  \n",
       "...          ...  \n",
       "129875         0  \n",
       "129876         0  \n",
       "129877         1  \n",
       "129878         0  \n",
       "129879         1  \n",
       "\n",
       "[129880 rows x 16 columns]"
      ]
     },
     "execution_count": 4,
=======
       "<p>61990 rows × 94 columns</p>\n",
       "</div>"
      ],
      "text/plain": [
       "       Inflight wifi service_0  Inflight wifi service_1  \\\n",
       "0                            0                        0   \n",
       "1                            0                        0   \n",
       "2                            0                        0   \n",
       "3                            0                        0   \n",
       "4                            0                        0   \n",
       "...                        ...                      ...   \n",
       "61985                        0                        1   \n",
       "61986                        0                        0   \n",
       "61987                        0                        0   \n",
       "61988                        0                        0   \n",
       "61989                        0                        0   \n",
       "\n",
       "       Inflight wifi service_2  Inflight wifi service_3  \\\n",
       "0                            0                        1   \n",
       "1                            1                        0   \n",
       "2                            1                        0   \n",
       "3                            0                        1   \n",
       "4                            0                        0   \n",
       "...                        ...                      ...   \n",
       "61985                        0                        0   \n",
       "61986                        0                        1   \n",
       "61987                        0                        1   \n",
       "61988                        0                        0   \n",
       "61989                        0                        1   \n",
       "\n",
       "       Inflight wifi service_4  Inflight wifi service_5  \\\n",
       "0                            0                        0   \n",
       "1                            0                        0   \n",
       "2                            0                        0   \n",
       "3                            0                        0   \n",
       "4                            1                        0   \n",
       "...                        ...                      ...   \n",
       "61985                        0                        0   \n",
       "61986                        0                        0   \n",
       "61987                        0                        0   \n",
       "61988                        1                        0   \n",
       "61989                        0                        0   \n",
       "\n",
       "       Departure/Arrival time convenient_0  \\\n",
       "0                                        0   \n",
       "1                                        0   \n",
       "2                                        0   \n",
       "3                                        0   \n",
       "4                                        0   \n",
       "...                                    ...   \n",
       "61985                                    0   \n",
       "61986                                    0   \n",
       "61987                                    0   \n",
       "61988                                    0   \n",
       "61989                                    0   \n",
       "\n",
       "       Departure/Arrival time convenient_1  \\\n",
       "0                                        0   \n",
       "1                                        0   \n",
       "2                                        0   \n",
       "3                                        0   \n",
       "4                                        0   \n",
       "...                                    ...   \n",
       "61985                                    1   \n",
       "61986                                    0   \n",
       "61987                                    0   \n",
       "61988                                    0   \n",
       "61989                                    0   \n",
       "\n",
       "       Departure/Arrival time convenient_2  \\\n",
       "0                                        1   \n",
       "1                                        1   \n",
       "2                                        0   \n",
       "3                                        0   \n",
       "4                                        0   \n",
       "...                                    ...   \n",
       "61985                                    0   \n",
       "61986                                    0   \n",
       "61987                                    0   \n",
       "61988                                    0   \n",
       "61989                                    0   \n",
       "\n",
       "       Departure/Arrival time convenient_3  ...  Gender_Male  \\\n",
       "0                                        0  ...            1   \n",
       "1                                        0  ...            0   \n",
       "2                                        0  ...            0   \n",
       "3                                        1  ...            1   \n",
       "4                                        1  ...            0   \n",
       "...                                    ...  ...          ...   \n",
       "61985                                    0  ...            0   \n",
       "61986                                    1  ...            1   \n",
       "61987                                    1  ...            1   \n",
       "61988                                    0  ...            1   \n",
       "61989                                    1  ...            1   \n",
       "\n",
       "       Customer Type_Loyal Customer  Customer Type_disloyal Customer  \\\n",
       "0                                 0                                1   \n",
       "1                                 1                                0   \n",
       "2                                 1                                0   \n",
       "3                                 1                                0   \n",
       "4                                 1                                0   \n",
       "...                             ...                              ...   \n",
       "61985                             0                                1   \n",
       "61986                             1                                0   \n",
       "61987                             0                                1   \n",
       "61988                             1                                0   \n",
       "61989                             1                                0   \n",
       "\n",
       "       Type of Travel_Business travel  Type of Travel_Personal Travel  \\\n",
       "0                                   1                               0   \n",
       "1                                   1                               0   \n",
       "2                                   1                               0   \n",
       "3                                   1                               0   \n",
       "4                                   1                               0   \n",
       "...                               ...                             ...   \n",
       "61985                               1                               0   \n",
       "61986                               1                               0   \n",
       "61987                               1                               0   \n",
       "61988                               1                               0   \n",
       "61989                               1                               0   \n",
       "\n",
       "       Class_Business  Age  Flight Distance  Departure Delay in Minutes  \\\n",
       "0                   1   25              235                           1   \n",
       "1                   1   26             1142                           0   \n",
       "2                   1   25              562                          11   \n",
       "3                   1   61              214                           0   \n",
       "4                   1   52             2035                           4   \n",
       "...               ...  ...              ...                         ...   \n",
       "61985               1   39              404                           0   \n",
       "61986               1   52              280                           0   \n",
       "61987               1   34              526                           0   \n",
       "61988               1   23              646                           0   \n",
       "61989               1   14             1127                           0   \n",
       "\n",
       "       Arrival Delay in Minutes  \n",
       "0                           6.0  \n",
       "1                           0.0  \n",
       "2                           9.0  \n",
       "3                           0.0  \n",
       "4                           0.0  \n",
       "...                         ...  \n",
       "61985                       0.0  \n",
       "61986                       0.0  \n",
       "61987                       0.0  \n",
       "61988                       0.0  \n",
       "61989                       0.0  \n",
       "\n",
       "[61990 rows x 94 columns]"
      ]
     },
     "execution_count": 3,
>>>>>>> 0f5ecae (:coffin: : experiments.)
     "metadata": {},
     "output_type": "execute_result"
    }
   ],
   "source": [
    "X= df_copy.iloc[:,:-1]\n",
    "X"
   ]
  },
  {
   "cell_type": "code",
<<<<<<< HEAD
   "execution_count": 5,
=======
   "execution_count": 4,
>>>>>>> 0f5ecae (:coffin: : experiments.)
   "metadata": {},
   "outputs": [
    {
     "data": {
      "text/plain": [
<<<<<<< HEAD
       "0         0\n",
       "1         0\n",
       "2         1\n",
       "3         0\n",
       "4         1\n",
       "         ..\n",
       "129875    0\n",
       "129876    1\n",
       "129877    0\n",
       "129878    1\n",
       "129879    0\n",
       "Name: satisfaction, Length: 129880, dtype: int64"
      ]
     },
     "execution_count": 5,
=======
       "0        neutral or dissatisfied\n",
       "1                      satisfied\n",
       "2        neutral or dissatisfied\n",
       "3                      satisfied\n",
       "4                      satisfied\n",
       "                  ...           \n",
       "61985    neutral or dissatisfied\n",
       "61986                  satisfied\n",
       "61987    neutral or dissatisfied\n",
       "61988                  satisfied\n",
       "61989                  satisfied\n",
       "Name: satisfaction, Length: 61990, dtype: object"
      ]
     },
     "execution_count": 4,
>>>>>>> 0f5ecae (:coffin: : experiments.)
     "metadata": {},
     "output_type": "execute_result"
    }
   ],
   "source": [
    "y = df_copy.iloc[:,-1]\n",
    "y"
   ]
  },
  {
   "cell_type": "code",
<<<<<<< HEAD
   "execution_count": 6,
=======
   "execution_count": 5,
>>>>>>> 0f5ecae (:coffin: : experiments.)
   "metadata": {},
   "outputs": [
    {
     "name": "stdout",
     "output_type": "stream",
     "text": [
<<<<<<< HEAD
      "Shape of training set is : (90916, 16) and test set is :(38964, 16)\n"
=======
      "Shape of training set is : (43393, 94) and test set is :(18597, 94)\n"
>>>>>>> 0f5ecae (:coffin: : experiments.)
     ]
    }
   ],
   "source": [
    "from sklearn.model_selection import train_test_split\n",
    "\n",
    "X_train,X_test,y_train,y_test=train_test_split(X,y,test_size=0.3,random_state=42)\n",
    "print(f\"Shape of training set is : {X_train.shape} and test set is :{X_test.shape}\" )"
   ]
  },
  {
   "cell_type": "code",
<<<<<<< HEAD
   "execution_count": 7,
=======
   "execution_count": 6,
>>>>>>> 0f5ecae (:coffin: : experiments.)
   "metadata": {},
   "outputs": [
    {
     "data": {
      "text/plain": [
<<<<<<< HEAD
       "array([[-0.55602933, -0.93183077, -0.33371896, ..., -0.47486601,\n",
       "        -1.49129864,  1.49129864],\n",
       "       [-1.41495429,  0.37845464, -1.09145209, ..., -0.47486601,\n",
       "        -1.49129864,  1.49129864],\n",
       "       [ 0.50110909, -0.95390295,  0.42401418, ..., -0.47486601,\n",
       "         0.6705565 , -0.6705565 ],\n",
       "       ...,\n",
       "       [-0.15960242, -0.8706306 ,  1.18174732, ..., -0.47486601,\n",
       "         0.6705565 , -0.6705565 ],\n",
       "       [-1.6792389 , -0.83952888,  0.42401418, ..., -0.47486601,\n",
       "        -1.49129864,  1.49129864],\n",
       "       [-0.35781588, -0.32183572, -1.09145209, ..., -0.47486601,\n",
       "         0.6705565 , -0.6705565 ]])"
      ]
     },
     "execution_count": 7,
=======
       "array([[ 4.90740858, -0.47061431, -0.53409881, ...,  0.76281939,\n",
       "        -0.00783643, -0.09293955],\n",
       "       [-0.20377354, -0.47061431, -0.53409881, ...,  1.80537414,\n",
       "        -0.37460452, -0.37736359],\n",
       "       [-0.20377354, -0.47061431,  1.87231274, ..., -0.32992592,\n",
       "        -0.00783643,  0.24319794],\n",
       "       ...,\n",
       "       [-0.20377354, -0.47061431, -0.53409881, ...,  0.94244876,\n",
       "        -0.37460452, -0.32565012],\n",
       "       [-0.20377354, -0.47061431, -0.53409881, ...,  0.88697498,\n",
       "        -0.37460452, -0.37736359],\n",
       "       [-0.20377354,  2.12488225, -0.53409881, ..., -1.08014268,\n",
       "        -0.37460452, -0.37736359]])"
      ]
     },
     "execution_count": 6,
>>>>>>> 0f5ecae (:coffin: : experiments.)
     "metadata": {},
     "output_type": "execute_result"
    }
   ],
   "source": [
    "from sklearn.preprocessing import StandardScaler\n",
    "scaler = StandardScaler()\n",
    "\n",
    "X_train = scaler.fit_transform(X_train)\n",
    "X_test = scaler.fit_transform(X_test)\n",
    "\n",
    "X_train"
   ]
  },
  {
   "cell_type": "markdown",
   "metadata": {},
   "source": [
    "## Set paramiter CV"
   ]
  },
  {
   "cell_type": "code",
<<<<<<< HEAD
   "execution_count": 8,
=======
   "execution_count": 7,
>>>>>>> 0f5ecae (:coffin: : experiments.)
   "metadata": {},
   "outputs": [],
   "source": [
    "# ทำ Cross Validation\n",
    "k_folds = 15  # จำนวน k-folds "
   ]
  },
  {
   "cell_type": "markdown",
   "metadata": {},
   "source": [
    "## Logistic Regression"
   ]
  },
  {
   "cell_type": "code",
<<<<<<< HEAD
   "execution_count": 9,
=======
   "execution_count": 8,
>>>>>>> 0f5ecae (:coffin: : experiments.)
   "metadata": {},
   "outputs": [
    {
     "name": "stdout",
     "output_type": "stream",
     "text": [
<<<<<<< HEAD
      "เวลาที่ใช้ในการฝึกโมเดล: 0.479662 วินาที\n"
=======
      "เวลาที่ใช้ในการฝึกโมเดล: 0.439063 วินาที\n"
>>>>>>> 0f5ecae (:coffin: : experiments.)
     ]
    }
   ],
   "source": [
    "from sklearn.linear_model import LogisticRegression\n",
    "\n",
    "# create logistic regression model and fit to training data\n",
    "model_lr = LogisticRegression()\n",
    "\n",
    "start_time = time.time()  # เวลาเริ่มต้น\n",
    "model_lr.fit(X_train, y_train)\n",
    "end_time = time.time()  # เวลาสิ้นสุด\n",
    "\n",
    "# คำนวณเวลาที่ใช้ในการฝึกโมเดล\n",
    "training_time_LR = end_time - start_time\n",
    "print(f\"เวลาที่ใช้ในการฝึกโมเดล: {training_time_LR:.6f} วินาที\")"
   ]
  },
  {
   "cell_type": "code",
<<<<<<< HEAD
   "execution_count": 10,
=======
   "execution_count": 9,
>>>>>>> 0f5ecae (:coffin: : experiments.)
   "metadata": {},
   "outputs": [
    {
     "name": "stdout",
     "output_type": "stream",
     "text": [
<<<<<<< HEAD
      "Accuracy of Logistic Regression is : 86.19 % .\n",
=======
      "Accuracy of Logistic Regression is : 93.89 % .\n",
>>>>>>> 0f5ecae (:coffin: : experiments.)
      "Classification Report is : \n",
      "               precision    recall  f1-score   support\n",
      "\n",
<<<<<<< HEAD
      "           0       0.86      0.90      0.88     21979\n",
      "           1       0.86      0.82      0.84     16985\n",
      "\n",
      "    accuracy                           0.86     38964\n",
      "   macro avg       0.86      0.86      0.86     38964\n",
      "weighted avg       0.86      0.86      0.86     38964\n",
=======
      "neutral or dissatisfied       0.90      0.90      0.90      5692\n",
      "              satisfied       0.96      0.95      0.96     12905\n",
      "\n",
      "               accuracy                           0.94     18597\n",
      "              macro avg       0.93      0.93      0.93     18597\n",
      "           weighted avg       0.94      0.94      0.94     18597\n",
>>>>>>> 0f5ecae (:coffin: : experiments.)
      "\n"
     ]
    }
   ],
   "source": [
    "from sklearn.metrics import classification_report,ConfusionMatrixDisplay,confusion_matrix\n",
    "from sklearn.metrics import accuracy_score\n",
    "\n",
    "y_pred_lr=model_lr.predict(X_test)\n",
    "accuracy_LR=accuracy_score(y_pred_lr,y_test)\n",
    "print(f\"Accuracy of Logistic Regression is : {round(accuracy_LR*100,2)} % .\")\n",
    "\n",
    "report=classification_report(y_test,y_pred_lr)\n",
    "print(\"Classification Report is : \\n\",report)"
   ]
  },
  {
   "cell_type": "code",
<<<<<<< HEAD
   "execution_count": 11,
=======
   "execution_count": 10,
>>>>>>> 0f5ecae (:coffin: : experiments.)
   "metadata": {},
   "outputs": [
    {
     "data": {
      "text/plain": [
<<<<<<< HEAD
       "<sklearn.metrics._plot.confusion_matrix.ConfusionMatrixDisplay at 0x20e4a8071d0>"
      ]
     },
     "execution_count": 11,
=======
       "<sklearn.metrics._plot.confusion_matrix.ConfusionMatrixDisplay at 0x137ebd460>"
      ]
     },
     "execution_count": 10,
>>>>>>> 0f5ecae (:coffin: : experiments.)
     "metadata": {},
     "output_type": "execute_result"
    },
    {
     "data": {
<<<<<<< HEAD
      "image/png": "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",
=======
      "image/png": "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",
>>>>>>> 0f5ecae (:coffin: : experiments.)
      "text/plain": [
       "<Figure size 640x480 with 2 Axes>"
      ]
     },
     "metadata": {},
     "output_type": "display_data"
    }
   ],
   "source": [
    "cm_1= confusion_matrix(y_test, y_pred_lr, labels=model_lr.classes_)\n",
    "disp_1= ConfusionMatrixDisplay(confusion_matrix=cm_1,\n",
    "                          display_labels=model_lr.classes_)\n",
    "disp_1.plot()"
   ]
  },
  {
   "cell_type": "code",
<<<<<<< HEAD
   "execution_count": 12,
=======
   "execution_count": 11,
>>>>>>> 0f5ecae (:coffin: : experiments.)
   "metadata": {},
   "outputs": [
    {
     "name": "stdout",
     "output_type": "stream",
     "text": [
<<<<<<< HEAD
      "Cross Validation Scores (Logistic Regression): [0.85978225 0.85777924 0.85662432 0.86503877 0.86734862 0.85365451\n",
      " 0.85810922 0.86734862 0.86949348 0.86190398 0.86124402 0.86008909\n",
      " 0.86800858 0.86487378 0.8569543 ]\n",
      "Mean CV Accuracy: 0.8619\n",
      "Standard Deviation CV Accuracy: 0.0047\n",
      "เวลาที่ใช้ในการทำ Cross Validation: 8.203102 วินาที\n"
=======
      "Cross Validation Scores (Logistic Regression): [0.94676806 0.9363982  0.93259592 0.93881784 0.94745938 0.94158313\n",
      " 0.93674386 0.93363291 0.94745938 0.94607674 0.94262012 0.93743519\n",
      " 0.94089181 0.94329184 0.93775934]\n",
      "Mean CV Accuracy: 0.9406\n",
      "Standard Deviation CV Accuracy: 0.0048\n",
      "เวลาที่ใช้ในการทำ Cross Validation: 7.018878 วินาที\n"
>>>>>>> 0f5ecae (:coffin: : experiments.)
     ]
    }
   ],
   "source": [
    "start_time_cv = time.time()  # เวลาเริ่มต้นสำหรับ cross-validation\n",
    "cv_scores_lr = cross_val_score(model_lr, X_train, y_train, cv=k_folds, scoring='accuracy')\n",
    "end_time_cv = time.time()  # เวลาสิ้นสุดสำหรับ cross-validation\n",
    "\n",
    "# แสดงผล Cross Validation Scores\n",
    "print(f\"Cross Validation Scores (Logistic Regression): {cv_scores_lr}\")\n",
    "print(f\"Mean CV Accuracy: {np.mean(cv_scores_lr):.4f}\")\n",
    "print(f\"Standard Deviation CV Accuracy: {np.std(cv_scores_lr):.4f}\")\n",
    "\n",
    "# คำนวณเวลาที่ใช้ในการทำ Cross Validation\n",
    "cv_time_LR = end_time_cv - start_time_cv\n",
    "print(f\"เวลาที่ใช้ในการทำ Cross Validation: {cv_time_LR:.6f} วินาที\")"
   ]
  },
  {
   "cell_type": "code",
<<<<<<< HEAD
   "execution_count": 13,
=======
   "execution_count": 12,
>>>>>>> 0f5ecae (:coffin: : experiments.)
   "metadata": {},
   "outputs": [
    {
     "name": "stdout",
     "output_type": "stream",
     "text": [
<<<<<<< HEAD
      "Training Accuracy: 0.8622464692683356\n",
      "Test Accuracy: 0.8619494918386202\n"
=======
      "Training Accuracy: 0.9415343488581107\n",
      "Test Accuracy: 0.9389148787438835\n"
>>>>>>> 0f5ecae (:coffin: : experiments.)
     ]
    }
   ],
   "source": [
    "# การประเมินผล\n",
    "train_accuracy = accuracy_score(y_train, model_lr.predict(X_train))\n",
    "test_accuracy = accuracy_score(y_test, model_lr.predict(X_test))\n",
    "\n",
    "print(f'Training Accuracy: {train_accuracy}')\n",
    "print(f'Test Accuracy: {test_accuracy}')"
   ]
  },
  {
   "cell_type": "markdown",
   "metadata": {},
   "source": [
    "## K-NN(K Nearest Neighbours)"
   ]
  },
  {
   "cell_type": "code",
<<<<<<< HEAD
   "execution_count": 14,
=======
   "execution_count": 13,
>>>>>>> 0f5ecae (:coffin: : experiments.)
   "metadata": {},
   "outputs": [
    {
     "name": "stdout",
     "output_type": "stream",
     "text": [
<<<<<<< HEAD
      "เวลาที่ใช้ในการฝึกโมเดล: 0.022506 วินาที\n"
=======
      "เวลาที่ใช้ในการฝึกโมเดล: 0.057050 วินาที\n"
>>>>>>> 0f5ecae (:coffin: : experiments.)
     ]
    }
   ],
   "source": [
    "from sklearn.neighbors import KNeighborsClassifier\n",
    "\n",
    "model_knn=KNeighborsClassifier(n_neighbors=5)\n",
    "\n",
    "#fit the model with trained data\n",
    "start_time = time.time()  # เวลาเริ่มต้น\n",
    "model_knn.fit(X_train,y_train)\n",
    "end_time = time.time()  # เวลาสิ้นสุด\n",
    "\n",
    "# คำนวณเวลาที่ใช้ในการฝึกโมเดล\n",
    "training_time_KNN = end_time - start_time\n",
    "print(f\"เวลาที่ใช้ในการฝึกโมเดล: {training_time_KNN:.6f} วินาที\")\n"
   ]
  },
  {
   "cell_type": "code",
<<<<<<< HEAD
   "execution_count": 15,
=======
   "execution_count": 14,
>>>>>>> 0f5ecae (:coffin: : experiments.)
   "metadata": {},
   "outputs": [
    {
     "name": "stdout",
     "output_type": "stream",
     "text": [
<<<<<<< HEAD
      "Accuracy of Knn is : 85.85 % .\n",
=======
      "Accuracy of Knn is : 95.89 % .\n",
>>>>>>> 0f5ecae (:coffin: : experiments.)
      "Classification Report is : \n",
      "               precision    recall  f1-score   support\n",
      "\n",
<<<<<<< HEAD
      "           0       0.85      0.91      0.88     21979\n",
      "           1       0.87      0.79      0.83     16985\n",
      "\n",
      "    accuracy                           0.86     38964\n",
      "   macro avg       0.86      0.85      0.85     38964\n",
      "weighted avg       0.86      0.86      0.86     38964\n",
=======
      "neutral or dissatisfied       0.94      0.93      0.93      5692\n",
      "              satisfied       0.97      0.97      0.97     12905\n",
      "\n",
      "               accuracy                           0.96     18597\n",
      "              macro avg       0.95      0.95      0.95     18597\n",
      "           weighted avg       0.96      0.96      0.96     18597\n",
>>>>>>> 0f5ecae (:coffin: : experiments.)
      "\n"
     ]
    }
   ],
   "source": [
    "\n",
    "#Predict the accuracy of the model\n",
    "y_pred_knn=model_knn.predict(X_test)\n",
    "\n",
    "accuracy_KNN=accuracy_score(y_pred_knn,y_test)\n",
    "print(f\"Accuracy of Knn is : {round(accuracy_KNN*100,2)} % .\")\n",
    "\n",
    "report=classification_report(y_test,y_pred_knn)\n",
    "print(\"Classification Report is : \\n\",report)"
   ]
  },
  {
   "cell_type": "code",
<<<<<<< HEAD
   "execution_count": 16,
=======
   "execution_count": 15,
>>>>>>> 0f5ecae (:coffin: : experiments.)
   "metadata": {},
   "outputs": [
    {
     "data": {
      "text/plain": [
<<<<<<< HEAD
       "<sklearn.metrics._plot.confusion_matrix.ConfusionMatrixDisplay at 0x20e50d1eb90>"
      ]
     },
     "execution_count": 16,
=======
       "<sklearn.metrics._plot.confusion_matrix.ConfusionMatrixDisplay at 0x305047b90>"
      ]
     },
     "execution_count": 15,
>>>>>>> 0f5ecae (:coffin: : experiments.)
     "metadata": {},
     "output_type": "execute_result"
    },
    {
     "data": {
<<<<<<< HEAD
      "image/png": "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",
=======
      "image/png": "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",
>>>>>>> 0f5ecae (:coffin: : experiments.)
      "text/plain": [
       "<Figure size 640x480 with 2 Axes>"
      ]
     },
     "metadata": {},
     "output_type": "display_data"
    }
   ],
   "source": [
    "cm_2= confusion_matrix(y_test, y_pred_knn, labels=model_lr.classes_)\n",
    "disp_2= ConfusionMatrixDisplay(confusion_matrix=cm_2,\n",
    "                          display_labels=model_knn.classes_)\n",
    "disp_2.plot()"
   ]
  },
  {
   "cell_type": "code",
<<<<<<< HEAD
   "execution_count": 17,
=======
   "execution_count": 16,
>>>>>>> 0f5ecae (:coffin: : experiments.)
   "metadata": {},
   "outputs": [
    {
     "name": "stdout",
     "output_type": "stream",
     "text": [
<<<<<<< HEAD
      "Cross Validation Scores (KNN): [0.85582316 0.85860419 0.85612935 0.86173899 0.8661937  0.85777924\n",
      " 0.85480944 0.85744927 0.86470879 0.85513942 0.86190398 0.86206897\n",
      " 0.86239894 0.86536875 0.85662432]\n",
      "Mean CV Accuracy: 0.8598\n",
      "Standard Deviation CV Accuracy: 0.0038\n",
      "เวลาที่ใช้ในการทำ Cross Validation: 11.281670 วินาที\n"
=======
      "Cross Validation Scores (KNN): [0.96301417 0.96301417 0.95852057 0.96059454 0.96543381 0.9637055\n",
      " 0.95782924 0.95990321 0.96439682 0.96508814 0.95713792 0.95990321\n",
      " 0.9609402  0.96473029 0.96127248]\n",
      "Mean CV Accuracy: 0.9617\n",
      "Standard Deviation CV Accuracy: 0.0026\n",
      "เวลาที่ใช้ในการทำ Cross Validation: 4.511356 วินาที\n"
>>>>>>> 0f5ecae (:coffin: : experiments.)
     ]
    }
   ],
   "source": [
    "# ทำ Cross Validation\n",
    "start_time_cv = time.time()  # เวลาเริ่มต้นสำหรับ cross-validation\n",
    "cv_scores_knn = cross_val_score(model_knn, X_train, y_train, cv=k_folds, scoring='accuracy')\n",
    "end_time_cv = time.time()  # เวลาสิ้นสุดสำหรับ cross-validation\n",
    "\n",
    "# แสดงผล Cross Validation Scores\n",
    "print(f\"Cross Validation Scores (KNN): {cv_scores_knn}\")\n",
    "print(f\"Mean CV Accuracy: {np.mean(cv_scores_knn):.4f}\")\n",
    "print(f\"Standard Deviation CV Accuracy: {np.std(cv_scores_knn):.4f}\")\n",
    "\n",
    "# คำนวณเวลาที่ใช้ในการทำ Cross Validation\n",
    "cv_time_KNN = end_time_cv - start_time_cv\n",
    "print(f\"เวลาที่ใช้ในการทำ Cross Validation: {cv_time_KNN:.6f} วินาที\")\n"
   ]
  },
  {
   "cell_type": "code",
<<<<<<< HEAD
   "execution_count": 18,
=======
   "execution_count": 17,
>>>>>>> 0f5ecae (:coffin: : experiments.)
   "metadata": {},
   "outputs": [
    {
     "name": "stdout",
     "output_type": "stream",
     "text": [
<<<<<<< HEAD
      "Training Accuracy: 0.8956729288574068\n",
      "Test Accuracy: 0.8584847551586079\n"
=======
      "Training Accuracy: 0.973544120019358\n",
      "Test Accuracy: 0.9588643329569285\n"
>>>>>>> 0f5ecae (:coffin: : experiments.)
     ]
    }
   ],
   "source": [
    "# การประเมินผล\n",
    "train_accuracy = accuracy_score(y_train, model_knn.predict(X_train))\n",
    "test_accuracy = accuracy_score(y_test, model_knn.predict(X_test))\n",
    "\n",
    "print(f'Training Accuracy: {train_accuracy}')\n",
    "print(f'Test Accuracy: {test_accuracy}')"
   ]
  },
  {
   "cell_type": "markdown",
   "metadata": {},
   "source": [
    "## Naive-Bayes"
   ]
  },
  {
   "cell_type": "code",
<<<<<<< HEAD
   "execution_count": 19,
=======
   "execution_count": 18,
>>>>>>> 0f5ecae (:coffin: : experiments.)
   "metadata": {},
   "outputs": [
    {
     "name": "stdout",
     "output_type": "stream",
     "text": [
<<<<<<< HEAD
      "เวลาที่ใช้ในการฝึกโมเดล: 0.036095 วินาที\n"
=======
      "เวลาที่ใช้ในการฝึกโมเดล: 0.096288 วินาที\n"
>>>>>>> 0f5ecae (:coffin: : experiments.)
     ]
    }
   ],
   "source": [
    "from sklearn.naive_bayes import MultinomialNB\n",
    "from sklearn.preprocessing import MinMaxScaler\n",
    "\n",
    "# ใช้ MinMaxScaler แปลง X_train ให้อยู่ในช่วง 0 ถึง 1\n",
    "scaler = MinMaxScaler()\n",
    "\n",
    "X_train_scaled = scaler.fit_transform(X_train)\n",
    "X_test_scaled = scaler.transform(X_test)\n",
    "\n",
    "# ฟิตโมเดลด้วยข้อมูลที่ถูกแปลงแล้ว\n",
    "model_naive = MultinomialNB()\n",
    "\n",
    "start_time = time.time()  # เวลาเริ่มต้น\n",
    "model_naive.fit(X_train_scaled, y_train)\n",
    "end_time = time.time()  # เวลาสิ้นสุด\n",
    "\n",
    "# คำนวณเวลาที่ใช้ในการฝึกโมเดล\n",
    "training_time_NB = end_time - start_time\n",
    "print(f\"เวลาที่ใช้ในการฝึกโมเดล: {training_time_NB:.6f} วินาที\")\n"
   ]
  },
  {
   "cell_type": "code",
<<<<<<< HEAD
   "execution_count": 20,
=======
   "execution_count": 19,
>>>>>>> 0f5ecae (:coffin: : experiments.)
   "metadata": {},
   "outputs": [
    {
     "name": "stdout",
     "output_type": "stream",
     "text": [
<<<<<<< HEAD
      "Accuracy of Naive Bayes is : 77.37 % .\n",
=======
      "Accuracy of Naive Bayes is : 87.04 % .\n",
>>>>>>> 0f5ecae (:coffin: : experiments.)
      "Classification Report is : \n",
      "               precision    recall  f1-score   support\n",
      "\n",
<<<<<<< HEAD
      "           0       0.85      0.73      0.78     21979\n",
      "           1       0.70      0.83      0.76     16985\n",
      "\n",
      "    accuracy                           0.77     38964\n",
      "   macro avg       0.78      0.78      0.77     38964\n",
      "weighted avg       0.78      0.77      0.77     38964\n",
=======
      "neutral or dissatisfied       0.77      0.82      0.80      5692\n",
      "              satisfied       0.92      0.89      0.91     12905\n",
      "\n",
      "               accuracy                           0.87     18597\n",
      "              macro avg       0.84      0.86      0.85     18597\n",
      "           weighted avg       0.87      0.87      0.87     18597\n",
>>>>>>> 0f5ecae (:coffin: : experiments.)
      "\n"
     ]
    }
   ],
   "source": [
    "\n",
    "#Predict the accuracy of the model\n",
    "y_pred_naive=model_naive.predict(X_test_scaled)\n",
    "\n",
    "accuracy_NB=accuracy_score(y_pred_naive,y_test)\n",
    "print(f\"Accuracy of Naive Bayes is : {round(accuracy_NB*100,2)} % .\")\n",
    "\n",
    "report=classification_report(y_test,y_pred_naive)\n",
    "print(\"Classification Report is : \\n\",report)"
   ]
  },
  {
   "cell_type": "code",
<<<<<<< HEAD
   "execution_count": 21,
=======
   "execution_count": 20,
>>>>>>> 0f5ecae (:coffin: : experiments.)
   "metadata": {},
   "outputs": [
    {
     "name": "stdout",
     "output_type": "stream",
     "text": [
<<<<<<< HEAD
      "Cross Validation Scores (Naive Bayes): [0.7791158  0.7737997  0.77049992 0.77033493 0.77709949 0.77148985\n",
      " 0.77346972 0.77825441 0.78419403 0.7737997  0.78039927 0.77478964\n",
      " 0.78204917 0.77858439 0.77610955]\n",
      "Mean CV Accuracy: 0.7763\n",
      "Standard Deviation CV Accuracy: 0.0040\n",
      "เวลาที่ใช้ในการทำ Cross Validation: 0.652939 วินาที\n"
=======
      "Cross Validation Scores (Naive Bayes): [0.87141376 0.86795714 0.86588317 0.86484618 0.87314207 0.87314207\n",
      " 0.86864846 0.86795714 0.8828206  0.88040097 0.86899412 0.86311787\n",
      " 0.8655375  0.87344398 0.87033195]\n",
      "Mean CV Accuracy: 0.8705\n",
      "Standard Deviation CV Accuracy: 0.0053\n",
      "เวลาที่ใช้ในการทำ Cross Validation: 3.952723 วินาที\n"
>>>>>>> 0f5ecae (:coffin: : experiments.)
     ]
    }
   ],
   "source": [
    "start_time_cv = time.time()  # เวลาเริ่มต้นสำหรับ cross-validation\n",
    "cv_scores_nb = cross_val_score(model_naive, X_train_scaled, y_train, cv=k_folds, scoring='accuracy')\n",
    "end_time_cv = time.time()  # เวลาสิ้นสุดสำหรับ cross-validation\n",
    "\n",
    "# แสดงผล Cross Validation Scores\n",
    "print(f\"Cross Validation Scores (Naive Bayes): {cv_scores_nb}\")\n",
    "print(f\"Mean CV Accuracy: {np.mean(cv_scores_nb):.4f}\")\n",
    "print(f\"Standard Deviation CV Accuracy: {np.std(cv_scores_nb):.4f}\")\n",
    "\n",
    "# คำนวณเวลาที่ใช้ในการทำ Cross Validation\n",
    "cv_time_NB = end_time_cv - start_time_cv\n",
    "print(f\"เวลาที่ใช้ในการทำ Cross Validation: {cv_time_NB:.6f} วินาที\")"
   ]
  },
  {
   "cell_type": "markdown",
   "metadata": {},
   "source": [
    "## Decision Tree"
   ]
  },
  {
   "cell_type": "code",
<<<<<<< HEAD
   "execution_count": 22,
=======
   "execution_count": 21,
>>>>>>> 0f5ecae (:coffin: : experiments.)
   "metadata": {},
   "outputs": [
    {
     "name": "stdout",
     "output_type": "stream",
     "text": [
<<<<<<< HEAD
      "เวลาที่ใช้ในการฝึกโมเดล: 0.442237 วินาที\n"
=======
      "เวลาที่ใช้ในการฝึกโมเดล: 0.094741 วินาที\n"
>>>>>>> 0f5ecae (:coffin: : experiments.)
     ]
    }
   ],
   "source": [
    "from sklearn.tree import DecisionTreeClassifier\n",
    "\n",
    "model_dt=DecisionTreeClassifier(criterion='gini', splitter='best',max_features=6,random_state=1234)\n",
    "\n",
    "#fit the model with trained data\n",
    "start_time = time.time()  # เวลาเริ่มต้น\n",
    "model_dt.fit(X_train,y_train)\n",
    "end_time = time.time()  # เวลาสิ้นสุด\n",
    "\n",
    "# คำนวณเวลาที่ใช้ในการฝึกโมเดล\n",
    "training_time_DT = end_time - start_time\n",
    "print(f\"เวลาที่ใช้ในการฝึกโมเดล: {training_time_DT:.6f} วินาที\")\n",
    "\n"
   ]
  },
  {
   "cell_type": "code",
<<<<<<< HEAD
   "execution_count": 23,
=======
   "execution_count": 22,
>>>>>>> 0f5ecae (:coffin: : experiments.)
   "metadata": {},
   "outputs": [
    {
     "name": "stdout",
     "output_type": "stream",
     "text": [
<<<<<<< HEAD
      "Accuracy of Decision Tree is : 84.46 % .\n",
=======
      "Accuracy of Decision Tree is : 93.25 % .\n",
>>>>>>> 0f5ecae (:coffin: : experiments.)
      "Classification Report is : \n",
      "               precision    recall  f1-score   support\n",
      "\n",
<<<<<<< HEAD
      "           0       0.86      0.86      0.86     21979\n",
      "           1       0.82      0.82      0.82     16985\n",
      "\n",
      "    accuracy                           0.84     38964\n",
      "   macro avg       0.84      0.84      0.84     38964\n",
      "weighted avg       0.84      0.84      0.84     38964\n",
=======
      "neutral or dissatisfied       0.89      0.89      0.89      5692\n",
      "              satisfied       0.95      0.95      0.95     12905\n",
      "\n",
      "               accuracy                           0.93     18597\n",
      "              macro avg       0.92      0.92      0.92     18597\n",
      "           weighted avg       0.93      0.93      0.93     18597\n",
>>>>>>> 0f5ecae (:coffin: : experiments.)
      "\n"
     ]
    }
   ],
   "source": [
    "\n",
    "#Predict the accuracy of the model\n",
    "y_pred_dt=model_dt.predict(X_test)\n",
    "\n",
    "accuracy_DT=accuracy_score(y_pred_dt,y_test)\n",
    "print(f\"Accuracy of Decision Tree is : {round(accuracy_DT*100,2)} % .\")\n",
    "\n",
    "report=classification_report(y_test,y_pred_dt)\n",
    "print(\"Classification Report is : \\n\",report)"
   ]
  },
  {
   "cell_type": "code",
<<<<<<< HEAD
   "execution_count": 24,
=======
   "execution_count": 23,
>>>>>>> 0f5ecae (:coffin: : experiments.)
   "metadata": {},
   "outputs": [
    {
     "name": "stdout",
     "output_type": "stream",
     "text": [
<<<<<<< HEAD
      "Cross Validation Scores (Decision Tree): [0.83553283 0.84853984 0.84688995 0.84375516 0.84524006 0.83864049\n",
      " 0.84721993 0.84227025 0.84491008 0.84210526 0.84210526 0.85810922\n",
      " 0.8491998  0.84590002 0.84540505]\n",
      "Mean CV Accuracy: 0.8451\n",
      "Standard Deviation CV Accuracy: 0.0049\n",
      "เวลาที่ใช้ในการทำ Cross Validation: 7.077894 วินาที\n"
=======
      "Cross Validation Scores (Decision Tree): [0.93536122 0.92499136 0.92948496 0.93432423 0.94089181 0.93052195\n",
      " 0.92533702 0.93466989 0.93536122 0.94227446 0.92118908 0.92671967\n",
      " 0.93225026 0.94329184 0.92980636]\n",
      "Mean CV Accuracy: 0.9324\n",
      "Standard Deviation CV Accuracy: 0.0063\n",
      "เวลาที่ใช้ในการทำ Cross Validation: 1.584749 วินาที\n"
>>>>>>> 0f5ecae (:coffin: : experiments.)
     ]
    }
   ],
   "source": [
    "start_time_cv = time.time()  # เวลาเริ่มต้นสำหรับ cross-validation\n",
    "cv_scores_dt = cross_val_score(model_dt, X_train, y_train, cv=k_folds, scoring='accuracy')\n",
    "end_time_cv = time.time()  # เวลาสิ้นสุดสำหรับ cross-validation\n",
    "\n",
    "# แสดงผล Cross Validation Scores\n",
    "print(f\"Cross Validation Scores (Decision Tree): {cv_scores_dt}\")\n",
    "print(f\"Mean CV Accuracy: {np.mean(cv_scores_dt):.4f}\")\n",
    "print(f\"Standard Deviation CV Accuracy: {np.std(cv_scores_dt):.4f}\")\n",
    "\n",
    "# คำนวณเวลาที่ใช้ในการทำ Cross Validation\n",
    "cv_time_DT = end_time_cv - start_time_cv\n",
    "print(f\"เวลาที่ใช้ในการทำ Cross Validation: {cv_time_DT:.6f} วินาที\")"
   ]
  },
  {
   "cell_type": "code",
<<<<<<< HEAD
   "execution_count": 25,
=======
   "execution_count": 24,
>>>>>>> 0f5ecae (:coffin: : experiments.)
   "metadata": {},
   "outputs": [
    {
     "name": "stdout",
     "output_type": "stream",
     "text": [
      "Training Accuracy: 1.0\n",
<<<<<<< HEAD
      "Test Accuracy: 0.8445744790062621\n"
=======
      "Test Accuracy: 0.9324622250900683\n"
>>>>>>> 0f5ecae (:coffin: : experiments.)
     ]
    }
   ],
   "source": [
    "# การประเมินผล\n",
    "train_accuracy = accuracy_score(y_train, model_dt.predict(X_train))\n",
    "test_accuracy = accuracy_score(y_test, model_dt.predict(X_test))\n",
    "\n",
    "print(f'Training Accuracy: {train_accuracy}')\n",
    "print(f'Test Accuracy: {test_accuracy}')"
   ]
  },
  {
   "cell_type": "markdown",
   "metadata": {},
   "source": [
    "## สรูป"
   ]
  },
  {
   "cell_type": "code",
<<<<<<< HEAD
   "execution_count": 26,
=======
   "execution_count": 25,
>>>>>>> 0f5ecae (:coffin: : experiments.)
   "metadata": {},
   "outputs": [
    {
     "name": "stdout",
     "output_type": "stream",
     "text": [
      "------------------------------ สรูป ------------------------------\n",
      "-----------------------------------------------------------------\n",
<<<<<<< HEAD
      "Accuracy of Logistic Regression is : 86.19 % .\n",
      "เวลาที่ใช้ในการฝึกโมเดล: 0.479662 วินาที\n",
      "Mean CV Accuracy: 0.8619\n",
      "Standard Deviation CV Accuracy: 0.0047\n",
      "-----------------------------------------------------------------\n",
      "Accuracy of Knn is : 85.85 % .\n",
      "เวลาที่ใช้ในการฝึกโมเดล: 0.022506 วินาที\n",
      "Mean CV Accuracy: 0.8598\n",
      "Standard Deviation CV Accuracy: 0.0038\n",
      "-----------------------------------------------------------------\n",
      "Accuracy of Naive Bayes is : 77.37 % .\n",
      "เวลาที่ใช้ในการฝึกโมเดล: 0.036095 วินาที\n",
      "Mean CV Accuracy: 0.7763\n",
      "Standard Deviation CV Accuracy: 0.0040\n",
      "-----------------------------------------------------------------\n",
      "Accuracy of Decision Tree is : 84.46 % .\n",
      "เวลาที่ใช้ในการฝึกโมเดล: 0.442237 วินาที\n",
      "Mean CV Accuracy: 0.8451\n",
      "Standard Deviation CV Accuracy: 0.0049\n"
=======
      "Accuracy of Logistic Regression is : 93.89 % .\n",
      "เวลาที่ใช้ในการฝึกโมเดล: 0.439063 วินาที\n",
      "Mean CV Accuracy: 0.9406\n",
      "Standard Deviation CV Accuracy: 0.0048\n",
      "-----------------------------------------------------------------\n",
      "Accuracy of Knn is : 95.89 % .\n",
      "เวลาที่ใช้ในการฝึกโมเดล: 0.057050 วินาที\n",
      "Mean CV Accuracy: 0.9617\n",
      "Standard Deviation CV Accuracy: 0.0026\n",
      "-----------------------------------------------------------------\n",
      "Accuracy of Naive Bayes is : 87.04 % .\n",
      "เวลาที่ใช้ในการฝึกโมเดล: 0.096288 วินาที\n",
      "Mean CV Accuracy: 0.8705\n",
      "Standard Deviation CV Accuracy: 0.0053\n",
      "-----------------------------------------------------------------\n",
      "Accuracy of Decision Tree is : 93.25 % .\n",
      "เวลาที่ใช้ในการฝึกโมเดล: 0.094741 วินาที\n",
      "Mean CV Accuracy: 0.9324\n",
      "Standard Deviation CV Accuracy: 0.0063\n"
>>>>>>> 0f5ecae (:coffin: : experiments.)
     ]
    }
   ],
   "source": [
    "print(\"-\"*30,\"สรูป\",\"-\"*30)\n",
    "\n",
    "print(\"-\"*65)\n",
    "print(f\"Accuracy of Logistic Regression is : {round(accuracy_LR*100,2)} % .\")\n",
    "print(f\"เวลาที่ใช้ในการฝึกโมเดล: {training_time_LR:.6f} วินาที\")\n",
    "# print(f\"Cross Validation Scores (Logistic Regression): {cv_scores_lr}\")\n",
    "print(f\"Mean CV Accuracy: {np.mean(cv_scores_lr):.4f}\")\n",
    "print(f\"Standard Deviation CV Accuracy: {np.std(cv_scores_lr):.4f}\")\n",
    "\n",
    "print(\"-\"*65)\n",
    "print(f\"Accuracy of Knn is : {round(accuracy_KNN*100,2)} % .\")\n",
    "print(f\"เวลาที่ใช้ในการฝึกโมเดล: {training_time_KNN:.6f} วินาที\")\n",
    "# print(f\"Cross Validation Scores (KNN): {cv_scores_knn}\")\n",
    "print(f\"Mean CV Accuracy: {np.mean(cv_scores_knn):.4f}\")\n",
    "print(f\"Standard Deviation CV Accuracy: {np.std(cv_scores_knn):.4f}\")\n",
    "\n",
    "print(\"-\"*65)\n",
    "print(f\"Accuracy of Naive Bayes is : {round(accuracy_NB*100,2)} % .\")\n",
    "print(f\"เวลาที่ใช้ในการฝึกโมเดล: {training_time_NB:.6f} วินาที\")\n",
    "# print(f\"Cross Validation Scores (Naive Bayes): {cv_scores_nb}\")\n",
    "print(f\"Mean CV Accuracy: {np.mean(cv_scores_nb):.4f}\")\n",
    "print(f\"Standard Deviation CV Accuracy: {np.std(cv_scores_nb):.4f}\")\n",
    "\n",
    "print(\"-\"*65)\n",
    "print(f\"Accuracy of Decision Tree is : {round(accuracy_DT*100,2)} % .\")\n",
    "print(f\"เวลาที่ใช้ในการฝึกโมเดล: {training_time_DT:.6f} วินาที\")\n",
    "# print(f\"Cross Validation Scores (Decision Tree): {cv_scores_dt}\")\n",
    "print(f\"Mean CV Accuracy: {np.mean(cv_scores_dt):.4f}\")\n",
    "print(f\"Standard Deviation CV Accuracy: {np.std(cv_scores_dt):.4f}\")\n"
   ]
  },
  {
   "cell_type": "code",
<<<<<<< HEAD
   "execution_count": 27,
=======
   "execution_count": 26,
>>>>>>> 0f5ecae (:coffin: : experiments.)
   "metadata": {},
   "outputs": [
    {
     "name": "stdout",
     "output_type": "stream",
     "text": [
      "Results have been written to model_performance.txt\n"
     ]
    }
   ],
   "source": [
    "name = f\"สรุป {data_name}\".center(65)  # จัดให้ name อยู่ตรงกลางในความกว้าง 65 ตัวอักษร\n",
    "line = \"-\" * 65\n",
    "# Prepare data as a string\n",
    "results = \"\"\"\n",
    "{}\n",
    "{}\n",
    "{}\n",
    "Accuracy of Logistic Regression is : {:.2f} % .\n",
    "เวลาที่ใช้ในการฝึกโมเดล: {:.6f} วินาที\n",
    "Mean CV Accuracy: {:.4f}\n",
    "Standard Deviation CV Accuracy: {:.4f}\n",
    "-----------------------------------------------------------------\n",
    "Accuracy of KNN is : {:.2f} % .\n",
    "เวลาที่ใช้ในการฝึกโมเดล: {:.6f} วินาที\n",
    "Mean CV Accuracy: {:.4f}\n",
    "Standard Deviation CV Accuracy: {:.4f}\n",
    "-----------------------------------------------------------------\n",
    "Accuracy of Naive Bayes is : {:.2f} % .\n",
    "เวลาที่ใช้ในการฝึกโมเดล: {:.6f} วินาที\n",
    "Mean CV Accuracy: {:.4f}\n",
    "Standard Deviation CV Accuracy: {:.4f}\n",
    "-----------------------------------------------------------------\n",
    "Accuracy of Decision Tree is : {:.2f} % .\n",
    "เวลาที่ใช้ในการฝึกโมเดล: {:.6f} วินาที\n",
    "Mean CV Accuracy: {:.4f}\n",
    "Standard Deviation CV Accuracy: {:.4f}\n",
    "-----------------------------------------------------------------\n",
    "\"\"\".format(line, name, line,\n",
    "    round(accuracy_LR*100, 2), training_time_LR, np.mean(cv_scores_lr), np.std(cv_scores_lr),\n",
    "    round(accuracy_KNN*100, 2), training_time_KNN, np.mean(cv_scores_knn), np.std(cv_scores_knn),\n",
    "    round(accuracy_NB*100, 2), training_time_NB, np.mean(cv_scores_nb), np.std(cv_scores_nb),\n",
    "    round(accuracy_DT*100, 2), training_time_DT, np.mean(cv_scores_dt), np.std(cv_scores_dt)\n",
    ")\n",
    "\n",
    "# Write the data to a text file\n",
    "with open(f'model_performance_{data_name}.txt', mode='w', encoding='utf-8') as file:\n",
    "    file.write(results)\n",
    "\n",
    "print(\"Results have been written to model_performance.txt\")\n"
   ]
  },
  {
   "cell_type": "markdown",
   "metadata": {},
   "source": [
    " ## FULL Model"
   ]
  },
  {
   "cell_type": "code",
<<<<<<< HEAD
   "execution_count": 28,
=======
   "execution_count": 27,
>>>>>>> 0f5ecae (:coffin: : experiments.)
   "metadata": {},
   "outputs": [
    {
     "data": {
      "text/plain": [
<<<<<<< HEAD
       "array([[-1.74796145, -0.73218446,  1.18142794, ..., -0.47342178,\n",
       "        -1.49395144,  1.49395144],\n",
       "       [-0.954274  , -0.95775999, -1.85052014, ...,  2.11228136,\n",
       "         0.6693658 , -0.6693658 ],\n",
       "       [-0.88813338, -0.04843998,  1.18142794, ..., -0.47342178,\n",
       "         0.6693658 , -0.6693658 ],\n",
       "       ...,\n",
       "       [-1.48339897, -0.36324316, -1.09253312, ..., -0.47342178,\n",
       "        -1.49395144,  1.49395144],\n",
       "       [-1.68182083, -0.06347835,  0.42344092, ..., -0.47342178,\n",
       "         0.6693658 , -0.6693658 ],\n",
       "       [ 0.17011655, -0.92868581, -1.09253312, ..., -0.47342178,\n",
       "        -1.49395144,  1.49395144]])"
      ]
     },
     "execution_count": 28,
=======
       "array([[-0.20444122, -0.47120236, -0.53510725, ..., -1.26769127,\n",
       "        -0.35260622, -0.22361182],\n",
       "       [-0.20444122, -0.47120236,  1.86878424, ..., -0.46983933,\n",
       "        -0.37925209, -0.38160778],\n",
       "       [-0.20444122, -0.47120236,  1.86878424, ..., -0.98004233,\n",
       "        -0.08614753, -0.14461384],\n",
       "       ...,\n",
       "       [-0.20444122, -0.47120236, -0.53510725, ..., -1.01171011,\n",
       "        -0.37925209, -0.38160778],\n",
       "       [-0.20444122, -0.47120236, -0.53510725, ..., -0.90615086,\n",
       "        -0.37925209, -0.38160778],\n",
       "       [-0.20444122, -0.47120236, -0.53510725, ..., -0.48303424,\n",
       "        -0.37925209, -0.38160778]])"
      ]
     },
     "execution_count": 27,
>>>>>>> 0f5ecae (:coffin: : experiments.)
     "metadata": {},
     "output_type": "execute_result"
    }
   ],
   "source": [
    "from sklearn.neighbors import KNeighborsClassifier\n",
    "from sklearn.preprocessing import StandardScaler\n",
    "scaler_full = StandardScaler()\n",
    "\n",
    "X = scaler_full.fit_transform(X)\n",
    "X"
   ]
  },
  {
   "cell_type": "code",
<<<<<<< HEAD
   "execution_count": 29,
=======
   "execution_count": 28,
>>>>>>> 0f5ecae (:coffin: : experiments.)
   "metadata": {},
   "outputs": [
    {
     "name": "stdout",
     "output_type": "stream",
     "text": [
<<<<<<< HEAD
      "เวลาที่ใช้ในการฝึกโมเดล: 0.033747 วินาที\n"
=======
      "เวลาที่ใช้ในการฝึกโมเดล: 0.136679 วินาที\n"
>>>>>>> 0f5ecae (:coffin: : experiments.)
     ]
    }
   ],
   "source": [
    "model_knn_FULL=KNeighborsClassifier(n_neighbors=5)\n",
    "\n",
    "#fit the model with trained data\n",
    "start_time = time.time()  # เวลาเริ่มต้น\n",
    "model_knn_FULL.fit(X,y)\n",
    "end_time = time.time()  # เวลาสิ้นสุด\n",
    "\n",
    "# คำนวณเวลาที่ใช้ในการฝึกโมเดล\n",
    "training_time_KNN = end_time - start_time\n",
    "print(f\"เวลาที่ใช้ในการฝึกโมเดล: {training_time_KNN:.6f} วินาที\")"
   ]
  },
  {
   "cell_type": "code",
<<<<<<< HEAD
   "execution_count": 30,
=======
   "execution_count": 29,
>>>>>>> 0f5ecae (:coffin: : experiments.)
   "metadata": {},
   "outputs": [
    {
     "name": "stdout",
     "output_type": "stream",
     "text": [
<<<<<<< HEAD
      "Cross Validation Scores (KNN): [0.86534242 0.8550641  0.86210879 0.86060746 0.86095392 0.86014551\n",
      " 0.86499596 0.86268622 0.85910613 0.86130038 0.86636637 0.87040887\n",
      " 0.85666436 0.86163086 0.86012936]\n",
      "Mean CV Accuracy: 0.8618\n",
      "Standard Deviation CV Accuracy: 0.0037\n"
=======
      "Cross Validation Scores (KNN): [0.96056134 0.96104525 0.95935156 0.95959352 0.95983547 0.96370675\n",
      " 0.96636826 0.9661263  0.96104525 0.96152916 0.96829622 0.96369797\n",
      " 0.96345595 0.96369797 0.96176186]\n",
      "Mean CV Accuracy: 0.9627\n",
      "Standard Deviation CV Accuracy: 0.0026\n"
>>>>>>> 0f5ecae (:coffin: : experiments.)
     ]
    }
   ],
   "source": [
    "cv_scores_KNN_FULL = cross_val_score(model_knn_FULL, X, y, cv=k_folds, scoring='accuracy')\n",
    "\n",
    "print(f\"Cross Validation Scores (KNN): {cv_scores_KNN_FULL}\")\n",
    "print(f\"Mean CV Accuracy: {np.mean(cv_scores_KNN_FULL):.4f}\")\n",
    "print(f\"Standard Deviation CV Accuracy: {np.std(cv_scores_KNN_FULL):.4f}\")"
   ]
<<<<<<< HEAD
=======
  },
  {
   "cell_type": "markdown",
   "metadata": {},
   "source": [
    "## Export model and Pipeline"
   ]
  },
  {
   "cell_type": "code",
   "execution_count": 30,
   "metadata": {},
   "outputs": [],
   "source": [
    "import pickle\n",
    "pickle_out = open(\"../model/model_lr.pkl\", mode = \"wb\")\n",
    "pickle.dump(model_lr, pickle_out)\n",
    "pickle_out.close()"
   ]
  },
  {
   "cell_type": "code",
   "execution_count": 31,
   "metadata": {},
   "outputs": [],
   "source": [
    "with open('../model/scaler.pkl', 'wb') as f:\n",
    "    pickle.dump(scaler, f)"
   ]
>>>>>>> 0f5ecae (:coffin: : experiments.)
  }
 ],
 "metadata": {
  "kernelspec": {
   "display_name": ".venv",
   "language": "python",
   "name": "python3"
  },
  "language_info": {
   "codemirror_mode": {
    "name": "ipython",
    "version": 3
   },
   "file_extension": ".py",
   "mimetype": "text/x-python",
   "name": "python",
   "nbconvert_exporter": "python",
   "pygments_lexer": "ipython3",
   "version": "3.11.0"
  }
 },
 "nbformat": 4,
 "nbformat_minor": 2
}
