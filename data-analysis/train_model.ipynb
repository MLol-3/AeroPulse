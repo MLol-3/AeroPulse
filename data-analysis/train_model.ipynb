{
 "cells": [
  {
   "cell_type": "code",
<<<<<<< HEAD
<<<<<<< HEAD
   "execution_count": 12,
=======
   "execution_count": 107,
>>>>>>> 006006e (train model)
=======
   "execution_count": 195,
>>>>>>> f0600e8 (update crate full model data 100%💀)
   "metadata": {},
   "outputs": [],
   "source": [
    "import numpy as np # linear algebra\n",
    "import pandas as pd # data processing\n",
    "import time\n",
    "from sklearn.model_selection import cross_val_score"
   ]
  },
  {
   "cell_type": "markdown",
   "metadata": {},
   "source": [
    "## Read Data"
   ]
  },
  {
   "cell_type": "code",
<<<<<<< HEAD
<<<<<<< HEAD
   "execution_count": 13,
=======
   "execution_count": 108,
>>>>>>> 006006e (train model)
=======
   "execution_count": 196,
>>>>>>> f0600e8 (update crate full model data 100%💀)
   "metadata": {},
   "outputs": [
    {
     "data": {
      "text/html": [
       "<div>\n",
       "<style scoped>\n",
       "    .dataframe tbody tr th:only-of-type {\n",
       "        vertical-align: middle;\n",
       "    }\n",
       "\n",
       "    .dataframe tbody tr th {\n",
       "        vertical-align: top;\n",
       "    }\n",
       "\n",
       "    .dataframe thead th {\n",
       "        text-align: right;\n",
       "    }\n",
       "</style>\n",
       "<table border=\"1\" class=\"dataframe\">\n",
       "  <thead>\n",
       "    <tr style=\"text-align: right;\">\n",
       "      <th></th>\n",
<<<<<<< HEAD
<<<<<<< HEAD
=======
>>>>>>> f0600e8 (update crate full model data 100%💀)
       "      <th>Inflight wifi service_0</th>\n",
       "      <th>Inflight wifi service_1</th>\n",
       "      <th>Inflight wifi service_2</th>\n",
       "      <th>Inflight wifi service_3</th>\n",
       "      <th>Inflight wifi service_4</th>\n",
       "      <th>Inflight wifi service_5</th>\n",
       "      <th>Departure/Arrival time convenient_0</th>\n",
       "      <th>Departure/Arrival time convenient_1</th>\n",
       "      <th>Departure/Arrival time convenient_2</th>\n",
       "      <th>Departure/Arrival time convenient_3</th>\n",
       "      <th>...</th>\n",
<<<<<<< HEAD
=======
       "      <th>Gender_Female</th>\n",
       "      <th>Gender_Male</th>\n",
       "      <th>Customer Type_Loyal Customer</th>\n",
       "      <th>Customer Type_disloyal Customer</th>\n",
>>>>>>> 006006e (train model)
=======
>>>>>>> f0600e8 (update crate full model data 100%💀)
       "      <th>Type of Travel_Business travel</th>\n",
       "      <th>Type of Travel_Personal Travel</th>\n",
       "      <th>Class_Business</th>\n",
       "      <th>Class_Eco</th>\n",
       "      <th>Class_Eco Plus</th>\n",
       "      <th>Age</th>\n",
<<<<<<< HEAD
<<<<<<< HEAD
       "      <th>Flight Distance</th>\n",
=======
       "      <th>...</th>\n",
       "      <th>Inflight entertainment</th>\n",
       "      <th>On-board service</th>\n",
       "      <th>Leg room service</th>\n",
       "      <th>Baggage handling</th>\n",
       "      <th>Checkin service</th>\n",
       "      <th>Inflight service</th>\n",
       "      <th>Cleanliness</th>\n",
>>>>>>> 006006e (train model)
=======
       "      <th>Flight Distance</th>\n",
>>>>>>> f0600e8 (update crate full model data 100%💀)
       "      <th>Departure Delay in Minutes</th>\n",
       "      <th>Arrival Delay in Minutes</th>\n",
       "      <th>satisfaction</th>\n",
       "    </tr>\n",
       "  </thead>\n",
       "  <tbody>\n",
       "    <tr>\n",
       "      <th>0</th>\n",
       "      <td>0</td>\n",
<<<<<<< HEAD
<<<<<<< HEAD
       "      <td>0</td>\n",
       "      <td>0</td>\n",
       "      <td>1</td>\n",
       "      <td>0</td>\n",
       "      <td>0</td>\n",
       "      <td>0</td>\n",
       "      <td>0</td>\n",
       "      <td>0</td>\n",
       "      <td>0</td>\n",
       "      <td>...</td>\n",
       "      <td>0</td>\n",
=======
       "      <td>1</td>\n",
       "      <td>1</td>\n",
       "      <td>0</td>\n",
       "      <td>0</td>\n",
>>>>>>> 006006e (train model)
=======
       "      <td>0</td>\n",
       "      <td>0</td>\n",
       "      <td>1</td>\n",
       "      <td>0</td>\n",
       "      <td>0</td>\n",
       "      <td>0</td>\n",
       "      <td>0</td>\n",
       "      <td>0</td>\n",
       "      <td>0</td>\n",
       "      <td>...</td>\n",
       "      <td>0</td>\n",
>>>>>>> f0600e8 (update crate full model data 100%💀)
       "      <td>1</td>\n",
       "      <td>0</td>\n",
       "      <td>0</td>\n",
       "      <td>1</td>\n",
       "      <td>13</td>\n",
<<<<<<< HEAD
<<<<<<< HEAD
       "      <td>460</td>\n",
=======
       "      <td>...</td>\n",
       "      <td>5</td>\n",
       "      <td>4</td>\n",
       "      <td>3</td>\n",
       "      <td>4</td>\n",
       "      <td>4</td>\n",
       "      <td>5</td>\n",
       "      <td>5</td>\n",
>>>>>>> 006006e (train model)
=======
       "      <td>460</td>\n",
>>>>>>> f0600e8 (update crate full model data 100%💀)
       "      <td>25</td>\n",
       "      <td>18.0</td>\n",
       "      <td>neutral or dissatisfied</td>\n",
       "    </tr>\n",
       "    <tr>\n",
       "      <th>1</th>\n",
       "      <td>0</td>\n",
<<<<<<< HEAD
<<<<<<< HEAD
       "      <td>0</td>\n",
       "      <td>0</td>\n",
       "      <td>1</td>\n",
       "      <td>0</td>\n",
       "      <td>0</td>\n",
       "      <td>0</td>\n",
       "      <td>0</td>\n",
       "      <td>1</td>\n",
       "      <td>0</td>\n",
       "      <td>...</td>\n",
=======
       "      <td>1</td>\n",
       "      <td>0</td>\n",
       "      <td>1</td>\n",
>>>>>>> 006006e (train model)
=======
       "      <td>0</td>\n",
       "      <td>0</td>\n",
       "      <td>1</td>\n",
       "      <td>0</td>\n",
       "      <td>0</td>\n",
       "      <td>0</td>\n",
       "      <td>0</td>\n",
       "      <td>1</td>\n",
       "      <td>0</td>\n",
       "      <td>...</td>\n",
>>>>>>> f0600e8 (update crate full model data 100%💀)
       "      <td>1</td>\n",
       "      <td>0</td>\n",
       "      <td>1</td>\n",
       "      <td>0</td>\n",
       "      <td>0</td>\n",
       "      <td>25</td>\n",
<<<<<<< HEAD
<<<<<<< HEAD
       "      <td>235</td>\n",
=======
       "      <td>...</td>\n",
       "      <td>1</td>\n",
       "      <td>1</td>\n",
       "      <td>5</td>\n",
       "      <td>3</td>\n",
       "      <td>1</td>\n",
       "      <td>4</td>\n",
       "      <td>1</td>\n",
>>>>>>> 006006e (train model)
=======
       "      <td>235</td>\n",
>>>>>>> f0600e8 (update crate full model data 100%💀)
       "      <td>1</td>\n",
       "      <td>6.0</td>\n",
       "      <td>neutral or dissatisfied</td>\n",
       "    </tr>\n",
       "    <tr>\n",
       "      <th>2</th>\n",
<<<<<<< HEAD
<<<<<<< HEAD
       "      <td>0</td>\n",
       "      <td>0</td>\n",
       "      <td>1</td>\n",
       "      <td>0</td>\n",
       "      <td>0</td>\n",
       "      <td>0</td>\n",
       "      <td>0</td>\n",
       "      <td>0</td>\n",
       "      <td>1</td>\n",
       "      <td>0</td>\n",
       "      <td>...</td>\n",
=======
       "      <td>1</td>\n",
       "      <td>0</td>\n",
       "      <td>1</td>\n",
       "      <td>0</td>\n",
>>>>>>> 006006e (train model)
=======
       "      <td>0</td>\n",
       "      <td>0</td>\n",
       "      <td>1</td>\n",
       "      <td>0</td>\n",
       "      <td>0</td>\n",
       "      <td>0</td>\n",
       "      <td>0</td>\n",
       "      <td>0</td>\n",
       "      <td>1</td>\n",
       "      <td>0</td>\n",
       "      <td>...</td>\n",
>>>>>>> f0600e8 (update crate full model data 100%💀)
       "      <td>1</td>\n",
       "      <td>0</td>\n",
       "      <td>1</td>\n",
       "      <td>0</td>\n",
       "      <td>0</td>\n",
       "      <td>26</td>\n",
<<<<<<< HEAD
<<<<<<< HEAD
       "      <td>1142</td>\n",
=======
       "      <td>...</td>\n",
       "      <td>5</td>\n",
       "      <td>4</td>\n",
       "      <td>3</td>\n",
       "      <td>4</td>\n",
       "      <td>4</td>\n",
       "      <td>4</td>\n",
       "      <td>5</td>\n",
>>>>>>> 006006e (train model)
=======
       "      <td>1142</td>\n",
>>>>>>> f0600e8 (update crate full model data 100%💀)
       "      <td>0</td>\n",
       "      <td>0.0</td>\n",
       "      <td>satisfied</td>\n",
       "    </tr>\n",
       "    <tr>\n",
       "      <th>3</th>\n",
<<<<<<< HEAD
<<<<<<< HEAD
       "      <td>0</td>\n",
       "      <td>0</td>\n",
       "      <td>1</td>\n",
       "      <td>0</td>\n",
       "      <td>0</td>\n",
       "      <td>0</td>\n",
       "      <td>0</td>\n",
       "      <td>0</td>\n",
       "      <td>0</td>\n",
       "      <td>0</td>\n",
       "      <td>...</td>\n",
=======
       "      <td>1</td>\n",
       "      <td>0</td>\n",
       "      <td>1</td>\n",
       "      <td>0</td>\n",
>>>>>>> 006006e (train model)
=======
       "      <td>0</td>\n",
       "      <td>0</td>\n",
       "      <td>1</td>\n",
       "      <td>0</td>\n",
       "      <td>0</td>\n",
       "      <td>0</td>\n",
       "      <td>0</td>\n",
       "      <td>0</td>\n",
       "      <td>0</td>\n",
       "      <td>0</td>\n",
       "      <td>...</td>\n",
>>>>>>> f0600e8 (update crate full model data 100%💀)
       "      <td>1</td>\n",
       "      <td>0</td>\n",
       "      <td>1</td>\n",
       "      <td>0</td>\n",
       "      <td>0</td>\n",
       "      <td>25</td>\n",
<<<<<<< HEAD
<<<<<<< HEAD
       "      <td>562</td>\n",
=======
       "      <td>...</td>\n",
       "      <td>2</td>\n",
       "      <td>2</td>\n",
       "      <td>5</td>\n",
       "      <td>3</td>\n",
       "      <td>1</td>\n",
       "      <td>4</td>\n",
       "      <td>2</td>\n",
>>>>>>> 006006e (train model)
=======
       "      <td>562</td>\n",
>>>>>>> f0600e8 (update crate full model data 100%💀)
       "      <td>11</td>\n",
       "      <td>9.0</td>\n",
       "      <td>neutral or dissatisfied</td>\n",
       "    </tr>\n",
       "    <tr>\n",
       "      <th>4</th>\n",
       "      <td>0</td>\n",
<<<<<<< HEAD
<<<<<<< HEAD
       "      <td>0</td>\n",
       "      <td>0</td>\n",
       "      <td>1</td>\n",
       "      <td>0</td>\n",
       "      <td>0</td>\n",
       "      <td>0</td>\n",
       "      <td>0</td>\n",
       "      <td>0</td>\n",
       "      <td>1</td>\n",
       "      <td>...</td>\n",
=======
       "      <td>1</td>\n",
       "      <td>1</td>\n",
       "      <td>0</td>\n",
>>>>>>> 006006e (train model)
=======
       "      <td>0</td>\n",
       "      <td>0</td>\n",
       "      <td>1</td>\n",
       "      <td>0</td>\n",
       "      <td>0</td>\n",
       "      <td>0</td>\n",
       "      <td>0</td>\n",
       "      <td>0</td>\n",
       "      <td>1</td>\n",
       "      <td>...</td>\n",
>>>>>>> f0600e8 (update crate full model data 100%💀)
       "      <td>1</td>\n",
       "      <td>0</td>\n",
       "      <td>1</td>\n",
       "      <td>0</td>\n",
       "      <td>0</td>\n",
       "      <td>61</td>\n",
<<<<<<< HEAD
<<<<<<< HEAD
       "      <td>214</td>\n",
=======
       "      <td>...</td>\n",
       "      <td>3</td>\n",
       "      <td>3</td>\n",
       "      <td>4</td>\n",
       "      <td>4</td>\n",
       "      <td>3</td>\n",
       "      <td>3</td>\n",
       "      <td>3</td>\n",
>>>>>>> 006006e (train model)
=======
       "      <td>214</td>\n",
>>>>>>> f0600e8 (update crate full model data 100%💀)
       "      <td>0</td>\n",
       "      <td>0.0</td>\n",
       "      <td>satisfied</td>\n",
       "    </tr>\n",
       "  </tbody>\n",
       "</table>\n",
<<<<<<< HEAD
<<<<<<< HEAD
       "<p>5 rows × 97 columns</p>\n",
       "</div>"
      ],
      "text/plain": [
       "   Inflight wifi service_0  Inflight wifi service_1  Inflight wifi service_2  \\\n",
       "0                        0                        0                        0   \n",
       "1                        0                        0                        0   \n",
       "2                        0                        0                        1   \n",
       "3                        0                        0                        1   \n",
       "4                        0                        0                        0   \n",
       "\n",
       "   Inflight wifi service_3  Inflight wifi service_4  Inflight wifi service_5  \\\n",
       "0                        1                        0                        0   \n",
       "1                        1                        0                        0   \n",
       "2                        0                        0                        0   \n",
       "3                        0                        0                        0   \n",
       "4                        1                        0                        0   \n",
       "\n",
       "   Departure/Arrival time convenient_0  Departure/Arrival time convenient_1  \\\n",
       "0                                    0                                    0   \n",
       "1                                    0                                    0   \n",
       "2                                    0                                    0   \n",
       "3                                    0                                    0   \n",
       "4                                    0                                    0   \n",
       "\n",
       "   Departure/Arrival time convenient_2  Departure/Arrival time convenient_3  \\\n",
       "0                                    0                                    0   \n",
       "1                                    1                                    0   \n",
       "2                                    1                                    0   \n",
       "3                                    0                                    0   \n",
       "4                                    0                                    1   \n",
       "\n",
       "   ...  Type of Travel_Business travel  Type of Travel_Personal Travel  \\\n",
       "0  ...                               0                               1   \n",
       "1  ...                               1                               0   \n",
       "2  ...                               1                               0   \n",
       "3  ...                               1                               0   \n",
       "4  ...                               1                               0   \n",
       "\n",
       "   Class_Business  Class_Eco  Class_Eco Plus  Age  Flight Distance  \\\n",
       "0               0          0               1   13              460   \n",
       "1               1          0               0   25              235   \n",
       "2               1          0               0   26             1142   \n",
       "3               1          0               0   25              562   \n",
       "4               1          0               0   61              214   \n",
=======
       "<p>5 rows × 28 columns</p>\n",
=======
       "<p>5 rows × 97 columns</p>\n",
>>>>>>> f0600e8 (update crate full model data 100%💀)
       "</div>"
      ],
      "text/plain": [
       "   Inflight wifi service_0  Inflight wifi service_1  Inflight wifi service_2  \\\n",
       "0                        0                        0                        0   \n",
       "1                        0                        0                        0   \n",
       "2                        0                        0                        1   \n",
       "3                        0                        0                        1   \n",
       "4                        0                        0                        0   \n",
       "\n",
       "   Inflight wifi service_3  Inflight wifi service_4  Inflight wifi service_5  \\\n",
       "0                        1                        0                        0   \n",
       "1                        1                        0                        0   \n",
       "2                        0                        0                        0   \n",
       "3                        0                        0                        0   \n",
       "4                        1                        0                        0   \n",
       "\n",
       "   Departure/Arrival time convenient_0  Departure/Arrival time convenient_1  \\\n",
       "0                                    0                                    0   \n",
       "1                                    0                                    0   \n",
       "2                                    0                                    0   \n",
       "3                                    0                                    0   \n",
       "4                                    0                                    0   \n",
       "\n",
       "   Departure/Arrival time convenient_2  Departure/Arrival time convenient_3  \\\n",
       "0                                    0                                    0   \n",
       "1                                    1                                    0   \n",
       "2                                    1                                    0   \n",
       "3                                    0                                    0   \n",
       "4                                    0                                    1   \n",
       "\n",
<<<<<<< HEAD
       "   Baggage handling  Checkin service  Inflight service  Cleanliness  \\\n",
       "0                 4                4                 5            5   \n",
       "1                 3                1                 4            1   \n",
       "2                 4                4                 4            5   \n",
       "3                 3                1                 4            2   \n",
       "4                 4                3                 3            3   \n",
>>>>>>> 006006e (train model)
=======
       "   ...  Type of Travel_Business travel  Type of Travel_Personal Travel  \\\n",
       "0  ...                               0                               1   \n",
       "1  ...                               1                               0   \n",
       "2  ...                               1                               0   \n",
       "3  ...                               1                               0   \n",
       "4  ...                               1                               0   \n",
       "\n",
       "   Class_Business  Class_Eco  Class_Eco Plus  Age  Flight Distance  \\\n",
       "0               0          0               1   13              460   \n",
       "1               1          0               0   25              235   \n",
       "2               1          0               0   26             1142   \n",
       "3               1          0               0   25              562   \n",
       "4               1          0               0   61              214   \n",
>>>>>>> f0600e8 (update crate full model data 100%💀)
       "\n",
       "   Departure Delay in Minutes  Arrival Delay in Minutes  \\\n",
       "0                          25                      18.0   \n",
       "1                           1                       6.0   \n",
       "2                           0                       0.0   \n",
       "3                          11                       9.0   \n",
       "4                           0                       0.0   \n",
       "\n",
       "              satisfaction  \n",
       "0  neutral or dissatisfied  \n",
       "1  neutral or dissatisfied  \n",
       "2                satisfied  \n",
       "3  neutral or dissatisfied  \n",
       "4                satisfied  \n",
       "\n",
<<<<<<< HEAD
<<<<<<< HEAD
       "[5 rows x 97 columns]"
      ]
     },
     "execution_count": 13,
=======
       "[5 rows x 28 columns]"
      ]
     },
     "execution_count": 108,
>>>>>>> 006006e (train model)
=======
       "[5 rows x 97 columns]"
      ]
     },
     "execution_count": 196,
>>>>>>> f0600e8 (update crate full model data 100%💀)
     "metadata": {},
     "output_type": "execute_result"
    }
   ],
   "source": [
<<<<<<< HEAD
<<<<<<< HEAD
    "data_name = \"dummy\"\n",
    "# data_name = \"dummy_object\"\n",
=======
    "# data_name = \"dummy\"\n",
    "data_name = \"dummy_object\"\n",
>>>>>>> 006006e (train model)
=======
    "data_name = \"dummy\"\n",
    "# data_name = \"dummy_object\"\n",
>>>>>>> f0600e8 (update crate full model data 100%💀)
    "df = pd.read_csv(f\"../datasets/data_{data_name}.csv\")\n",
    "df_copy = df.copy()\n",
    "df_copy.head()"
   ]
  },
  {
   "cell_type": "markdown",
   "metadata": {},
   "source": [
    "## Train-Test Splitting"
   ]
  },
  {
   "cell_type": "code",
<<<<<<< HEAD
<<<<<<< HEAD
   "execution_count": 14,
=======
   "execution_count": 109,
>>>>>>> 006006e (train model)
=======
   "execution_count": 197,
>>>>>>> f0600e8 (update crate full model data 100%💀)
   "metadata": {},
   "outputs": [
    {
     "data": {
      "text/html": [
       "<div>\n",
       "<style scoped>\n",
       "    .dataframe tbody tr th:only-of-type {\n",
       "        vertical-align: middle;\n",
       "    }\n",
       "\n",
       "    .dataframe tbody tr th {\n",
       "        vertical-align: top;\n",
       "    }\n",
       "\n",
       "    .dataframe thead th {\n",
       "        text-align: right;\n",
       "    }\n",
       "</style>\n",
       "<table border=\"1\" class=\"dataframe\">\n",
       "  <thead>\n",
       "    <tr style=\"text-align: right;\">\n",
       "      <th></th>\n",
<<<<<<< HEAD
<<<<<<< HEAD
=======
>>>>>>> f0600e8 (update crate full model data 100%💀)
       "      <th>Inflight wifi service_0</th>\n",
       "      <th>Inflight wifi service_1</th>\n",
       "      <th>Inflight wifi service_2</th>\n",
       "      <th>Inflight wifi service_3</th>\n",
       "      <th>Inflight wifi service_4</th>\n",
       "      <th>Inflight wifi service_5</th>\n",
       "      <th>Departure/Arrival time convenient_0</th>\n",
       "      <th>Departure/Arrival time convenient_1</th>\n",
       "      <th>Departure/Arrival time convenient_2</th>\n",
       "      <th>Departure/Arrival time convenient_3</th>\n",
       "      <th>...</th>\n",
<<<<<<< HEAD
=======
       "      <th>Gender_Female</th>\n",
       "      <th>Gender_Male</th>\n",
       "      <th>Customer Type_Loyal Customer</th>\n",
>>>>>>> 006006e (train model)
=======
>>>>>>> f0600e8 (update crate full model data 100%💀)
       "      <th>Customer Type_disloyal Customer</th>\n",
       "      <th>Type of Travel_Business travel</th>\n",
       "      <th>Type of Travel_Personal Travel</th>\n",
       "      <th>Class_Business</th>\n",
       "      <th>Class_Eco</th>\n",
       "      <th>Class_Eco Plus</th>\n",
       "      <th>Age</th>\n",
<<<<<<< HEAD
<<<<<<< HEAD
       "      <th>Flight Distance</th>\n",
=======
       "      <th>...</th>\n",
       "      <th>Seat comfort</th>\n",
       "      <th>Inflight entertainment</th>\n",
       "      <th>On-board service</th>\n",
       "      <th>Leg room service</th>\n",
       "      <th>Baggage handling</th>\n",
       "      <th>Checkin service</th>\n",
       "      <th>Inflight service</th>\n",
       "      <th>Cleanliness</th>\n",
>>>>>>> 006006e (train model)
=======
       "      <th>Flight Distance</th>\n",
>>>>>>> f0600e8 (update crate full model data 100%💀)
       "      <th>Departure Delay in Minutes</th>\n",
       "      <th>Arrival Delay in Minutes</th>\n",
       "    </tr>\n",
       "  </thead>\n",
       "  <tbody>\n",
       "    <tr>\n",
       "      <th>0</th>\n",
       "      <td>0</td>\n",
<<<<<<< HEAD
<<<<<<< HEAD
       "      <td>0</td>\n",
       "      <td>0</td>\n",
       "      <td>1</td>\n",
       "      <td>0</td>\n",
       "      <td>0</td>\n",
       "      <td>0</td>\n",
       "      <td>0</td>\n",
       "      <td>0</td>\n",
       "      <td>0</td>\n",
       "      <td>...</td>\n",
=======
       "      <td>1</td>\n",
       "      <td>1</td>\n",
>>>>>>> 006006e (train model)
=======
       "      <td>0</td>\n",
       "      <td>0</td>\n",
       "      <td>1</td>\n",
       "      <td>0</td>\n",
       "      <td>0</td>\n",
       "      <td>0</td>\n",
       "      <td>0</td>\n",
       "      <td>0</td>\n",
       "      <td>0</td>\n",
       "      <td>...</td>\n",
>>>>>>> f0600e8 (update crate full model data 100%💀)
       "      <td>0</td>\n",
       "      <td>0</td>\n",
       "      <td>1</td>\n",
       "      <td>0</td>\n",
       "      <td>0</td>\n",
       "      <td>1</td>\n",
       "      <td>13</td>\n",
<<<<<<< HEAD
<<<<<<< HEAD
       "      <td>460</td>\n",
=======
       "      <td>...</td>\n",
       "      <td>5</td>\n",
       "      <td>5</td>\n",
       "      <td>4</td>\n",
       "      <td>3</td>\n",
       "      <td>4</td>\n",
       "      <td>4</td>\n",
       "      <td>5</td>\n",
       "      <td>5</td>\n",
>>>>>>> 006006e (train model)
=======
       "      <td>460</td>\n",
>>>>>>> f0600e8 (update crate full model data 100%💀)
       "      <td>25</td>\n",
       "      <td>18.0</td>\n",
       "    </tr>\n",
       "    <tr>\n",
       "      <th>1</th>\n",
       "      <td>0</td>\n",
<<<<<<< HEAD
<<<<<<< HEAD
=======
>>>>>>> f0600e8 (update crate full model data 100%💀)
       "      <td>0</td>\n",
       "      <td>0</td>\n",
       "      <td>1</td>\n",
       "      <td>0</td>\n",
       "      <td>0</td>\n",
       "      <td>0</td>\n",
       "      <td>0</td>\n",
       "      <td>1</td>\n",
       "      <td>0</td>\n",
       "      <td>...</td>\n",
<<<<<<< HEAD
=======
       "      <td>1</td>\n",
       "      <td>0</td>\n",
>>>>>>> 006006e (train model)
=======
>>>>>>> f0600e8 (update crate full model data 100%💀)
       "      <td>1</td>\n",
       "      <td>1</td>\n",
       "      <td>0</td>\n",
       "      <td>1</td>\n",
       "      <td>0</td>\n",
       "      <td>0</td>\n",
       "      <td>25</td>\n",
<<<<<<< HEAD
<<<<<<< HEAD
       "      <td>235</td>\n",
=======
       "      <td>...</td>\n",
       "      <td>1</td>\n",
       "      <td>1</td>\n",
       "      <td>1</td>\n",
       "      <td>5</td>\n",
       "      <td>3</td>\n",
       "      <td>1</td>\n",
       "      <td>4</td>\n",
       "      <td>1</td>\n",
>>>>>>> 006006e (train model)
=======
       "      <td>235</td>\n",
>>>>>>> f0600e8 (update crate full model data 100%💀)
       "      <td>1</td>\n",
       "      <td>6.0</td>\n",
       "    </tr>\n",
       "    <tr>\n",
       "      <th>2</th>\n",
<<<<<<< HEAD
<<<<<<< HEAD
       "      <td>0</td>\n",
       "      <td>0</td>\n",
       "      <td>1</td>\n",
       "      <td>0</td>\n",
       "      <td>0</td>\n",
       "      <td>0</td>\n",
       "      <td>0</td>\n",
       "      <td>0</td>\n",
       "      <td>1</td>\n",
       "      <td>0</td>\n",
       "      <td>...</td>\n",
       "      <td>0</td>\n",
=======
       "      <td>1</td>\n",
       "      <td>0</td>\n",
       "      <td>1</td>\n",
       "      <td>0</td>\n",
>>>>>>> 006006e (train model)
=======
       "      <td>0</td>\n",
       "      <td>0</td>\n",
       "      <td>1</td>\n",
       "      <td>0</td>\n",
       "      <td>0</td>\n",
       "      <td>0</td>\n",
       "      <td>0</td>\n",
       "      <td>0</td>\n",
       "      <td>1</td>\n",
       "      <td>0</td>\n",
       "      <td>...</td>\n",
       "      <td>0</td>\n",
>>>>>>> f0600e8 (update crate full model data 100%💀)
       "      <td>1</td>\n",
       "      <td>0</td>\n",
       "      <td>1</td>\n",
       "      <td>0</td>\n",
       "      <td>0</td>\n",
       "      <td>26</td>\n",
<<<<<<< HEAD
<<<<<<< HEAD
       "      <td>1142</td>\n",
=======
       "      <td>...</td>\n",
       "      <td>5</td>\n",
       "      <td>5</td>\n",
       "      <td>4</td>\n",
       "      <td>3</td>\n",
       "      <td>4</td>\n",
       "      <td>4</td>\n",
       "      <td>4</td>\n",
       "      <td>5</td>\n",
>>>>>>> 006006e (train model)
=======
       "      <td>1142</td>\n",
>>>>>>> f0600e8 (update crate full model data 100%💀)
       "      <td>0</td>\n",
       "      <td>0.0</td>\n",
       "    </tr>\n",
       "    <tr>\n",
       "      <th>3</th>\n",
<<<<<<< HEAD
<<<<<<< HEAD
       "      <td>0</td>\n",
       "      <td>0</td>\n",
       "      <td>1</td>\n",
       "      <td>0</td>\n",
       "      <td>0</td>\n",
       "      <td>0</td>\n",
       "      <td>0</td>\n",
       "      <td>0</td>\n",
       "      <td>0</td>\n",
       "      <td>0</td>\n",
       "      <td>...</td>\n",
=======
       "      <td>1</td>\n",
=======
       "      <td>0</td>\n",
>>>>>>> f0600e8 (update crate full model data 100%💀)
       "      <td>0</td>\n",
       "      <td>1</td>\n",
>>>>>>> 006006e (train model)
       "      <td>0</td>\n",
       "      <td>0</td>\n",
       "      <td>0</td>\n",
       "      <td>0</td>\n",
       "      <td>0</td>\n",
       "      <td>0</td>\n",
       "      <td>0</td>\n",
       "      <td>...</td>\n",
       "      <td>0</td>\n",
       "      <td>1</td>\n",
       "      <td>0</td>\n",
       "      <td>1</td>\n",
       "      <td>0</td>\n",
       "      <td>0</td>\n",
       "      <td>25</td>\n",
<<<<<<< HEAD
<<<<<<< HEAD
       "      <td>562</td>\n",
=======
       "      <td>...</td>\n",
       "      <td>2</td>\n",
       "      <td>2</td>\n",
       "      <td>2</td>\n",
       "      <td>5</td>\n",
       "      <td>3</td>\n",
       "      <td>1</td>\n",
       "      <td>4</td>\n",
       "      <td>2</td>\n",
>>>>>>> 006006e (train model)
=======
       "      <td>562</td>\n",
>>>>>>> f0600e8 (update crate full model data 100%💀)
       "      <td>11</td>\n",
       "      <td>9.0</td>\n",
       "    </tr>\n",
       "    <tr>\n",
       "      <th>4</th>\n",
       "      <td>0</td>\n",
<<<<<<< HEAD
<<<<<<< HEAD
       "      <td>0</td>\n",
       "      <td>0</td>\n",
       "      <td>1</td>\n",
       "      <td>0</td>\n",
       "      <td>0</td>\n",
       "      <td>0</td>\n",
       "      <td>0</td>\n",
       "      <td>0</td>\n",
       "      <td>1</td>\n",
       "      <td>...</td>\n",
=======
=======
       "      <td>0</td>\n",
       "      <td>0</td>\n",
>>>>>>> f0600e8 (update crate full model data 100%💀)
       "      <td>1</td>\n",
       "      <td>0</td>\n",
       "      <td>0</td>\n",
       "      <td>0</td>\n",
       "      <td>0</td>\n",
       "      <td>0</td>\n",
       "      <td>1</td>\n",
<<<<<<< HEAD
>>>>>>> 006006e (train model)
=======
       "      <td>...</td>\n",
>>>>>>> f0600e8 (update crate full model data 100%💀)
       "      <td>0</td>\n",
       "      <td>1</td>\n",
       "      <td>0</td>\n",
       "      <td>1</td>\n",
       "      <td>0</td>\n",
       "      <td>0</td>\n",
       "      <td>61</td>\n",
<<<<<<< HEAD
<<<<<<< HEAD
       "      <td>214</td>\n",
=======
       "      <td>...</td>\n",
       "      <td>5</td>\n",
       "      <td>3</td>\n",
       "      <td>3</td>\n",
       "      <td>4</td>\n",
       "      <td>4</td>\n",
       "      <td>3</td>\n",
       "      <td>3</td>\n",
       "      <td>3</td>\n",
>>>>>>> 006006e (train model)
=======
       "      <td>214</td>\n",
>>>>>>> f0600e8 (update crate full model data 100%💀)
       "      <td>0</td>\n",
       "      <td>0.0</td>\n",
       "    </tr>\n",
       "    <tr>\n",
       "      <th>...</th>\n",
       "      <td>...</td>\n",
       "      <td>...</td>\n",
       "      <td>...</td>\n",
       "      <td>...</td>\n",
       "      <td>...</td>\n",
       "      <td>...</td>\n",
       "      <td>...</td>\n",
       "      <td>...</td>\n",
       "      <td>...</td>\n",
       "      <td>...</td>\n",
       "      <td>...</td>\n",
       "      <td>...</td>\n",
       "      <td>...</td>\n",
       "      <td>...</td>\n",
       "      <td>...</td>\n",
       "      <td>...</td>\n",
       "      <td>...</td>\n",
       "      <td>...</td>\n",
       "      <td>...</td>\n",
       "      <td>...</td>\n",
       "      <td>...</td>\n",
       "    </tr>\n",
       "    <tr>\n",
       "      <th>129482</th>\n",
       "      <td>0</td>\n",
<<<<<<< HEAD
<<<<<<< HEAD
=======
>>>>>>> f0600e8 (update crate full model data 100%💀)
       "      <td>0</td>\n",
       "      <td>0</td>\n",
       "      <td>1</td>\n",
       "      <td>0</td>\n",
       "      <td>0</td>\n",
       "      <td>0</td>\n",
       "      <td>0</td>\n",
       "      <td>0</td>\n",
       "      <td>1</td>\n",
       "      <td>...</td>\n",
<<<<<<< HEAD
=======
       "      <td>1</td>\n",
       "      <td>0</td>\n",
>>>>>>> 006006e (train model)
=======
>>>>>>> f0600e8 (update crate full model data 100%💀)
       "      <td>1</td>\n",
       "      <td>1</td>\n",
       "      <td>0</td>\n",
       "      <td>1</td>\n",
       "      <td>0</td>\n",
       "      <td>0</td>\n",
       "      <td>34</td>\n",
<<<<<<< HEAD
<<<<<<< HEAD
       "      <td>526</td>\n",
=======
       "      <td>...</td>\n",
       "      <td>4</td>\n",
       "      <td>4</td>\n",
       "      <td>3</td>\n",
       "      <td>2</td>\n",
       "      <td>4</td>\n",
       "      <td>4</td>\n",
       "      <td>5</td>\n",
       "      <td>4</td>\n",
>>>>>>> 006006e (train model)
=======
       "      <td>526</td>\n",
>>>>>>> f0600e8 (update crate full model data 100%💀)
       "      <td>0</td>\n",
       "      <td>0.0</td>\n",
       "    </tr>\n",
       "    <tr>\n",
       "      <th>129483</th>\n",
       "      <td>0</td>\n",
<<<<<<< HEAD
<<<<<<< HEAD
       "      <td>0</td>\n",
       "      <td>0</td>\n",
       "      <td>0</td>\n",
       "      <td>1</td>\n",
       "      <td>0</td>\n",
       "      <td>0</td>\n",
       "      <td>0</td>\n",
       "      <td>0</td>\n",
       "      <td>0</td>\n",
       "      <td>...</td>\n",
=======
       "      <td>1</td>\n",
       "      <td>1</td>\n",
>>>>>>> 006006e (train model)
=======
       "      <td>0</td>\n",
       "      <td>0</td>\n",
       "      <td>0</td>\n",
       "      <td>1</td>\n",
       "      <td>0</td>\n",
       "      <td>0</td>\n",
       "      <td>0</td>\n",
       "      <td>0</td>\n",
       "      <td>0</td>\n",
       "      <td>...</td>\n",
>>>>>>> f0600e8 (update crate full model data 100%💀)
       "      <td>0</td>\n",
       "      <td>1</td>\n",
       "      <td>0</td>\n",
       "      <td>1</td>\n",
       "      <td>0</td>\n",
       "      <td>0</td>\n",
       "      <td>23</td>\n",
<<<<<<< HEAD
<<<<<<< HEAD
       "      <td>646</td>\n",
=======
       "      <td>...</td>\n",
       "      <td>4</td>\n",
       "      <td>4</td>\n",
       "      <td>4</td>\n",
       "      <td>5</td>\n",
       "      <td>5</td>\n",
       "      <td>5</td>\n",
       "      <td>5</td>\n",
       "      <td>4</td>\n",
>>>>>>> 006006e (train model)
=======
       "      <td>646</td>\n",
>>>>>>> f0600e8 (update crate full model data 100%💀)
       "      <td>0</td>\n",
       "      <td>0.0</td>\n",
       "    </tr>\n",
       "    <tr>\n",
       "      <th>129484</th>\n",
<<<<<<< HEAD
<<<<<<< HEAD
       "      <td>0</td>\n",
       "      <td>0</td>\n",
       "      <td>1</td>\n",
       "      <td>0</td>\n",
       "      <td>0</td>\n",
       "      <td>0</td>\n",
       "      <td>0</td>\n",
       "      <td>0</td>\n",
       "      <td>0</td>\n",
       "      <td>0</td>\n",
       "      <td>...</td>\n",
=======
       "      <td>1</td>\n",
=======
       "      <td>0</td>\n",
>>>>>>> f0600e8 (update crate full model data 100%💀)
       "      <td>0</td>\n",
       "      <td>1</td>\n",
>>>>>>> 006006e (train model)
       "      <td>0</td>\n",
       "      <td>0</td>\n",
       "      <td>0</td>\n",
       "      <td>0</td>\n",
       "      <td>0</td>\n",
       "      <td>0</td>\n",
       "      <td>0</td>\n",
       "      <td>...</td>\n",
       "      <td>0</td>\n",
       "      <td>0</td>\n",
       "      <td>1</td>\n",
       "      <td>0</td>\n",
       "      <td>1</td>\n",
       "      <td>0</td>\n",
       "      <td>17</td>\n",
<<<<<<< HEAD
<<<<<<< HEAD
       "      <td>828</td>\n",
=======
       "      <td>...</td>\n",
       "      <td>2</td>\n",
       "      <td>2</td>\n",
       "      <td>4</td>\n",
       "      <td>3</td>\n",
       "      <td>4</td>\n",
       "      <td>5</td>\n",
       "      <td>4</td>\n",
       "      <td>2</td>\n",
>>>>>>> 006006e (train model)
=======
       "      <td>828</td>\n",
>>>>>>> f0600e8 (update crate full model data 100%💀)
       "      <td>0</td>\n",
       "      <td>0.0</td>\n",
       "    </tr>\n",
       "    <tr>\n",
       "      <th>129485</th>\n",
       "      <td>0</td>\n",
<<<<<<< HEAD
<<<<<<< HEAD
       "      <td>0</td>\n",
       "      <td>0</td>\n",
       "      <td>1</td>\n",
       "      <td>0</td>\n",
       "      <td>0</td>\n",
       "      <td>0</td>\n",
       "      <td>0</td>\n",
       "      <td>0</td>\n",
       "      <td>1</td>\n",
       "      <td>...</td>\n",
=======
=======
       "      <td>0</td>\n",
       "      <td>0</td>\n",
>>>>>>> f0600e8 (update crate full model data 100%💀)
       "      <td>1</td>\n",
       "      <td>0</td>\n",
       "      <td>0</td>\n",
       "      <td>0</td>\n",
       "      <td>0</td>\n",
       "      <td>0</td>\n",
       "      <td>1</td>\n",
<<<<<<< HEAD
>>>>>>> 006006e (train model)
=======
       "      <td>...</td>\n",
>>>>>>> f0600e8 (update crate full model data 100%💀)
       "      <td>0</td>\n",
       "      <td>1</td>\n",
       "      <td>0</td>\n",
       "      <td>1</td>\n",
       "      <td>0</td>\n",
       "      <td>0</td>\n",
       "      <td>14</td>\n",
<<<<<<< HEAD
<<<<<<< HEAD
       "      <td>1127</td>\n",
=======
       "      <td>...</td>\n",
       "      <td>4</td>\n",
       "      <td>4</td>\n",
       "      <td>3</td>\n",
       "      <td>2</td>\n",
       "      <td>5</td>\n",
       "      <td>4</td>\n",
       "      <td>5</td>\n",
       "      <td>4</td>\n",
>>>>>>> 006006e (train model)
=======
       "      <td>1127</td>\n",
>>>>>>> f0600e8 (update crate full model data 100%💀)
       "      <td>0</td>\n",
       "      <td>0.0</td>\n",
       "    </tr>\n",
       "    <tr>\n",
       "      <th>129486</th>\n",
<<<<<<< HEAD
<<<<<<< HEAD
       "      <td>0</td>\n",
       "      <td>0</td>\n",
       "      <td>1</td>\n",
       "      <td>0</td>\n",
       "      <td>0</td>\n",
       "      <td>0</td>\n",
       "      <td>0</td>\n",
       "      <td>0</td>\n",
       "      <td>0</td>\n",
       "      <td>0</td>\n",
       "      <td>...</td>\n",
=======
       "      <td>1</td>\n",
=======
       "      <td>0</td>\n",
>>>>>>> f0600e8 (update crate full model data 100%💀)
       "      <td>0</td>\n",
       "      <td>1</td>\n",
>>>>>>> 006006e (train model)
       "      <td>0</td>\n",
       "      <td>0</td>\n",
       "      <td>0</td>\n",
       "      <td>0</td>\n",
       "      <td>0</td>\n",
       "      <td>0</td>\n",
       "      <td>0</td>\n",
       "      <td>...</td>\n",
       "      <td>0</td>\n",
       "      <td>0</td>\n",
       "      <td>1</td>\n",
       "      <td>0</td>\n",
       "      <td>1</td>\n",
       "      <td>0</td>\n",
       "      <td>42</td>\n",
<<<<<<< HEAD
<<<<<<< HEAD
       "      <td>264</td>\n",
=======
       "      <td>...</td>\n",
       "      <td>2</td>\n",
       "      <td>1</td>\n",
       "      <td>1</td>\n",
       "      <td>2</td>\n",
       "      <td>1</td>\n",
       "      <td>1</td>\n",
       "      <td>1</td>\n",
       "      <td>1</td>\n",
>>>>>>> 006006e (train model)
=======
       "      <td>264</td>\n",
>>>>>>> f0600e8 (update crate full model data 100%💀)
       "      <td>0</td>\n",
       "      <td>0.0</td>\n",
       "    </tr>\n",
       "  </tbody>\n",
       "</table>\n",
<<<<<<< HEAD
<<<<<<< HEAD
       "<p>129487 rows × 96 columns</p>\n",
       "</div>"
      ],
      "text/plain": [
       "        Inflight wifi service_0  Inflight wifi service_1  \\\n",
       "0                             0                        0   \n",
       "1                             0                        0   \n",
       "2                             0                        0   \n",
       "3                             0                        0   \n",
       "4                             0                        0   \n",
       "...                         ...                      ...   \n",
       "129482                        0                        0   \n",
       "129483                        0                        0   \n",
       "129484                        0                        0   \n",
       "129485                        0                        0   \n",
       "129486                        0                        0   \n",
       "\n",
       "        Inflight wifi service_2  Inflight wifi service_3  \\\n",
       "0                             0                        1   \n",
       "1                             0                        1   \n",
       "2                             1                        0   \n",
       "3                             1                        0   \n",
       "4                             0                        1   \n",
       "...                         ...                      ...   \n",
       "129482                        0                        1   \n",
       "129483                        0                        0   \n",
       "129484                        1                        0   \n",
       "129485                        0                        1   \n",
       "129486                        1                        0   \n",
       "\n",
       "        Inflight wifi service_4  Inflight wifi service_5  \\\n",
       "0                             0                        0   \n",
       "1                             0                        0   \n",
       "2                             0                        0   \n",
       "3                             0                        0   \n",
       "4                             0                        0   \n",
       "...                         ...                      ...   \n",
       "129482                        0                        0   \n",
       "129483                        1                        0   \n",
       "129484                        0                        0   \n",
       "129485                        0                        0   \n",
       "129486                        0                        0   \n",
       "\n",
       "        Departure/Arrival time convenient_0  \\\n",
       "0                                         0   \n",
       "1                                         0   \n",
       "2                                         0   \n",
       "3                                         0   \n",
       "4                                         0   \n",
       "...                                     ...   \n",
       "129482                                    0   \n",
       "129483                                    0   \n",
       "129484                                    0   \n",
       "129485                                    0   \n",
       "129486                                    0   \n",
       "\n",
       "        Departure/Arrival time convenient_1  \\\n",
       "0                                         0   \n",
       "1                                         0   \n",
       "2                                         0   \n",
       "3                                         0   \n",
       "4                                         0   \n",
       "...                                     ...   \n",
       "129482                                    0   \n",
       "129483                                    0   \n",
       "129484                                    0   \n",
       "129485                                    0   \n",
       "129486                                    0   \n",
       "\n",
       "        Departure/Arrival time convenient_2  \\\n",
       "0                                         0   \n",
       "1                                         1   \n",
       "2                                         1   \n",
       "3                                         0   \n",
       "4                                         0   \n",
       "...                                     ...   \n",
       "129482                                    0   \n",
       "129483                                    0   \n",
       "129484                                    0   \n",
       "129485                                    0   \n",
       "129486                                    0   \n",
       "\n",
       "        Departure/Arrival time convenient_3  ...  \\\n",
       "0                                         0  ...   \n",
       "1                                         0  ...   \n",
       "2                                         0  ...   \n",
       "3                                         0  ...   \n",
       "4                                         1  ...   \n",
       "...                                     ...  ...   \n",
       "129482                                    1  ...   \n",
       "129483                                    0  ...   \n",
       "129484                                    0  ...   \n",
       "129485                                    1  ...   \n",
       "129486                                    0  ...   \n",
=======
       "<p>129487 rows × 27 columns</p>\n",
       "</div>"
      ],
      "text/plain": [
       "        Gender_Female  Gender_Male  Customer Type_Loyal Customer  \\\n",
       "0                   0            1                             1   \n",
       "1                   0            1                             0   \n",
       "2                   1            0                             1   \n",
       "3                   1            0                             1   \n",
       "4                   0            1                             1   \n",
       "...               ...          ...                           ...   \n",
       "129482              0            1                             0   \n",
       "129483              0            1                             1   \n",
       "129484              1            0                             1   \n",
       "129485              0            1                             1   \n",
       "129486              1            0                             1   \n",
>>>>>>> 006006e (train model)
=======
       "<p>129487 rows × 96 columns</p>\n",
       "</div>"
      ],
      "text/plain": [
       "        Inflight wifi service_0  Inflight wifi service_1  \\\n",
       "0                             0                        0   \n",
       "1                             0                        0   \n",
       "2                             0                        0   \n",
       "3                             0                        0   \n",
       "4                             0                        0   \n",
       "...                         ...                      ...   \n",
       "129482                        0                        0   \n",
       "129483                        0                        0   \n",
       "129484                        0                        0   \n",
       "129485                        0                        0   \n",
       "129486                        0                        0   \n",
       "\n",
       "        Inflight wifi service_2  Inflight wifi service_3  \\\n",
       "0                             0                        1   \n",
       "1                             0                        1   \n",
       "2                             1                        0   \n",
       "3                             1                        0   \n",
       "4                             0                        1   \n",
       "...                         ...                      ...   \n",
       "129482                        0                        1   \n",
       "129483                        0                        0   \n",
       "129484                        1                        0   \n",
       "129485                        0                        1   \n",
       "129486                        1                        0   \n",
       "\n",
       "        Inflight wifi service_4  Inflight wifi service_5  \\\n",
       "0                             0                        0   \n",
       "1                             0                        0   \n",
       "2                             0                        0   \n",
       "3                             0                        0   \n",
       "4                             0                        0   \n",
       "...                         ...                      ...   \n",
       "129482                        0                        0   \n",
       "129483                        1                        0   \n",
       "129484                        0                        0   \n",
       "129485                        0                        0   \n",
       "129486                        0                        0   \n",
       "\n",
       "        Departure/Arrival time convenient_0  \\\n",
       "0                                         0   \n",
       "1                                         0   \n",
       "2                                         0   \n",
       "3                                         0   \n",
       "4                                         0   \n",
       "...                                     ...   \n",
       "129482                                    0   \n",
       "129483                                    0   \n",
       "129484                                    0   \n",
       "129485                                    0   \n",
       "129486                                    0   \n",
       "\n",
       "        Departure/Arrival time convenient_1  \\\n",
       "0                                         0   \n",
       "1                                         0   \n",
       "2                                         0   \n",
       "3                                         0   \n",
       "4                                         0   \n",
       "...                                     ...   \n",
       "129482                                    0   \n",
       "129483                                    0   \n",
       "129484                                    0   \n",
       "129485                                    0   \n",
       "129486                                    0   \n",
       "\n",
       "        Departure/Arrival time convenient_2  \\\n",
       "0                                         0   \n",
       "1                                         1   \n",
       "2                                         1   \n",
       "3                                         0   \n",
       "4                                         0   \n",
       "...                                     ...   \n",
       "129482                                    0   \n",
       "129483                                    0   \n",
       "129484                                    0   \n",
       "129485                                    0   \n",
       "129486                                    0   \n",
       "\n",
       "        Departure/Arrival time convenient_3  ...  \\\n",
       "0                                         0  ...   \n",
       "1                                         0  ...   \n",
       "2                                         0  ...   \n",
       "3                                         0  ...   \n",
       "4                                         1  ...   \n",
       "...                                     ...  ...   \n",
       "129482                                    1  ...   \n",
       "129483                                    0  ...   \n",
       "129484                                    0  ...   \n",
       "129485                                    1  ...   \n",
       "129486                                    0  ...   \n",
>>>>>>> f0600e8 (update crate full model data 100%💀)
       "\n",
       "        Customer Type_disloyal Customer  Type of Travel_Business travel  \\\n",
       "0                                     0                               0   \n",
       "1                                     1                               1   \n",
       "2                                     0                               1   \n",
       "3                                     0                               1   \n",
       "4                                     0                               1   \n",
       "...                                 ...                             ...   \n",
       "129482                                1                               1   \n",
       "129483                                0                               1   \n",
       "129484                                0                               0   \n",
       "129485                                0                               1   \n",
       "129486                                0                               0   \n",
       "\n",
       "        Type of Travel_Personal Travel  Class_Business  Class_Eco  \\\n",
       "0                                    1               0          0   \n",
       "1                                    0               1          0   \n",
       "2                                    0               1          0   \n",
       "3                                    0               1          0   \n",
       "4                                    0               1          0   \n",
       "...                                ...             ...        ...   \n",
       "129482                               0               1          0   \n",
       "129483                               0               1          0   \n",
       "129484                               1               0          1   \n",
       "129485                               0               1          0   \n",
       "129486                               1               0          1   \n",
       "\n",
<<<<<<< HEAD
<<<<<<< HEAD
=======
>>>>>>> f0600e8 (update crate full model data 100%💀)
       "        Class_Eco Plus  Age  Flight Distance  Departure Delay in Minutes  \\\n",
       "0                    1   13              460                          25   \n",
       "1                    0   25              235                           1   \n",
       "2                    0   26             1142                           0   \n",
       "3                    0   25              562                          11   \n",
       "4                    0   61              214                           0   \n",
       "...                ...  ...              ...                         ...   \n",
       "129482               0   34              526                           0   \n",
       "129483               0   23              646                           0   \n",
       "129484               0   17              828                           0   \n",
       "129485               0   14             1127                           0   \n",
       "129486               0   42              264                           0   \n",
<<<<<<< HEAD
=======
       "        Class_Eco Plus  Age  ...  Seat comfort  Inflight entertainment  \\\n",
       "0                    1   13  ...             5                       5   \n",
       "1                    0   25  ...             1                       1   \n",
       "2                    0   26  ...             5                       5   \n",
       "3                    0   25  ...             2                       2   \n",
       "4                    0   61  ...             5                       3   \n",
       "...                ...  ...  ...           ...                     ...   \n",
       "129482               0   34  ...             4                       4   \n",
       "129483               0   23  ...             4                       4   \n",
       "129484               0   17  ...             2                       2   \n",
       "129485               0   14  ...             4                       4   \n",
       "129486               0   42  ...             2                       1   \n",
       "\n",
       "        On-board service  Leg room service  Baggage handling  Checkin service  \\\n",
       "0                      4                 3                 4                4   \n",
       "1                      1                 5                 3                1   \n",
       "2                      4                 3                 4                4   \n",
       "3                      2                 5                 3                1   \n",
       "4                      3                 4                 4                3   \n",
       "...                  ...               ...               ...              ...   \n",
       "129482                 3                 2                 4                4   \n",
       "129483                 4                 5                 5                5   \n",
       "129484                 4                 3                 4                5   \n",
       "129485                 3                 2                 5                4   \n",
       "129486                 1                 2                 1                1   \n",
       "\n",
       "        Inflight service  Cleanliness  Departure Delay in Minutes  \\\n",
       "0                      5            5                          25   \n",
       "1                      4            1                           1   \n",
       "2                      4            5                           0   \n",
       "3                      4            2                          11   \n",
       "4                      3            3                           0   \n",
       "...                  ...          ...                         ...   \n",
       "129482                 5            4                           0   \n",
       "129483                 5            4                           0   \n",
       "129484                 4            2                           0   \n",
       "129485                 5            4                           0   \n",
       "129486                 1            1                           0   \n",
>>>>>>> 006006e (train model)
=======
>>>>>>> f0600e8 (update crate full model data 100%💀)
       "\n",
       "        Arrival Delay in Minutes  \n",
       "0                           18.0  \n",
       "1                            6.0  \n",
       "2                            0.0  \n",
       "3                            9.0  \n",
       "4                            0.0  \n",
       "...                          ...  \n",
       "129482                       0.0  \n",
       "129483                       0.0  \n",
       "129484                       0.0  \n",
       "129485                       0.0  \n",
       "129486                       0.0  \n",
       "\n",
<<<<<<< HEAD
<<<<<<< HEAD
       "[129487 rows x 96 columns]"
      ]
     },
     "execution_count": 14,
=======
       "[129487 rows x 27 columns]"
      ]
     },
     "execution_count": 109,
>>>>>>> 006006e (train model)
=======
       "[129487 rows x 96 columns]"
      ]
     },
     "execution_count": 197,
>>>>>>> f0600e8 (update crate full model data 100%💀)
     "metadata": {},
     "output_type": "execute_result"
    }
   ],
   "source": [
    "X= df_copy.iloc[:,:-1]\n",
    "X"
   ]
  },
  {
   "cell_type": "code",
<<<<<<< HEAD
<<<<<<< HEAD
   "execution_count": 15,
=======
   "execution_count": 110,
>>>>>>> 006006e (train model)
=======
   "execution_count": 198,
>>>>>>> f0600e8 (update crate full model data 100%💀)
   "metadata": {},
   "outputs": [
    {
     "data": {
      "text/plain": [
       "0         neutral or dissatisfied\n",
       "1         neutral or dissatisfied\n",
       "2                       satisfied\n",
       "3         neutral or dissatisfied\n",
       "4                       satisfied\n",
       "                   ...           \n",
       "129482    neutral or dissatisfied\n",
       "129483                  satisfied\n",
       "129484    neutral or dissatisfied\n",
       "129485                  satisfied\n",
       "129486    neutral or dissatisfied\n",
       "Name: satisfaction, Length: 129487, dtype: object"
      ]
     },
<<<<<<< HEAD
<<<<<<< HEAD
     "execution_count": 15,
=======
     "execution_count": 110,
>>>>>>> 006006e (train model)
=======
     "execution_count": 198,
>>>>>>> f0600e8 (update crate full model data 100%💀)
     "metadata": {},
     "output_type": "execute_result"
    }
   ],
   "source": [
    "y = df_copy.iloc[:,-1]\n",
    "y"
   ]
  },
  {
   "cell_type": "code",
<<<<<<< HEAD
<<<<<<< HEAD
   "execution_count": 16,
=======
   "execution_count": 111,
>>>>>>> 006006e (train model)
=======
   "execution_count": 199,
>>>>>>> f0600e8 (update crate full model data 100%💀)
   "metadata": {},
   "outputs": [
    {
     "name": "stdout",
     "output_type": "stream",
     "text": [
<<<<<<< HEAD
<<<<<<< HEAD
      "Shape of training set is : (90640, 96) and test set is :(38847, 96)\n"
=======
      "Shape of training set is : (90640, 27) and test set is :(38847, 27)\n"
>>>>>>> 006006e (train model)
=======
      "Shape of training set is : (90640, 96) and test set is :(38847, 96)\n"
>>>>>>> f0600e8 (update crate full model data 100%💀)
     ]
    }
   ],
   "source": [
    "from sklearn.model_selection import train_test_split\n",
    "\n",
    "X_train,X_test,y_train,y_test=train_test_split(X,y,test_size=0.3,random_state=42)\n",
    "print(f\"Shape of training set is : {X_train.shape} and test set is :{X_test.shape}\" )"
   ]
  },
  {
   "cell_type": "code",
<<<<<<< HEAD
<<<<<<< HEAD
   "execution_count": 17,
=======
   "execution_count": 112,
>>>>>>> 006006e (train model)
=======
   "execution_count": 200,
>>>>>>> f0600e8 (update crate full model data 100%💀)
   "metadata": {},
   "outputs": [
    {
     "data": {
      "text/plain": [
<<<<<<< HEAD
<<<<<<< HEAD
       "array([[-0.17632264, -0.45437674,  1.7418388 , ...,  1.89256284,\n",
       "         1.04110417,  0.98439561],\n",
       "       [-0.17632264, -0.45437674, -0.57410594, ..., -0.66088167,\n",
       "        -0.39052142, -0.29022307],\n",
       "       [-0.17632264,  2.20081686, -0.57410594, ...,  0.65289057,\n",
       "         0.71696252,  0.77195916],\n",
       "       ...,\n",
       "       [-0.17632264, -0.45437674, -0.57410594, ..., -0.17923194,\n",
       "         0.28477367, -0.05123207],\n",
       "       [-0.17632264, -0.45437674, -0.57410594, ..., -0.73498162,\n",
       "        -0.39052142, -0.3964413 ],\n",
       "       [ 5.67142135, -0.45437674, -0.57410594, ..., -0.94025854,\n",
       "        -0.39052142, -0.3964413 ]])"
      ]
     },
     "execution_count": 17,
=======
       "array([[ 0.98488909, -0.98488909,  0.47343109, ..., -0.97939185,\n",
=======
       "array([[-0.17632264, -0.45437674,  1.7418388 , ...,  1.89256284,\n",
>>>>>>> f0600e8 (update crate full model data 100%💀)
       "         1.04110417,  0.98439561],\n",
       "       [-0.17632264, -0.45437674, -0.57410594, ..., -0.66088167,\n",
       "        -0.39052142, -0.29022307],\n",
       "       [-0.17632264,  2.20081686, -0.57410594, ...,  0.65289057,\n",
       "         0.71696252,  0.77195916],\n",
       "       ...,\n",
       "       [-0.17632264, -0.45437674, -0.57410594, ..., -0.17923194,\n",
       "         0.28477367, -0.05123207],\n",
       "       [-0.17632264, -0.45437674, -0.57410594, ..., -0.73498162,\n",
       "        -0.39052142, -0.3964413 ],\n",
       "       [ 5.67142135, -0.45437674, -0.57410594, ..., -0.94025854,\n",
       "        -0.39052142, -0.3964413 ]])"
      ]
     },
<<<<<<< HEAD
     "execution_count": 112,
>>>>>>> 006006e (train model)
=======
     "execution_count": 200,
>>>>>>> f0600e8 (update crate full model data 100%💀)
     "metadata": {},
     "output_type": "execute_result"
    }
   ],
   "source": [
    "from sklearn.preprocessing import StandardScaler\n",
    "scaler = StandardScaler()\n",
    "\n",
    "X_train = scaler.fit_transform(X_train)\n",
    "X_test = scaler.fit_transform(X_test)\n",
    "\n",
    "X_train"
   ]
  },
  {
   "cell_type": "markdown",
   "metadata": {},
   "source": [
    "## Set paramiter CV"
   ]
  },
  {
   "cell_type": "code",
<<<<<<< HEAD
<<<<<<< HEAD
   "execution_count": 18,
=======
   "execution_count": 113,
>>>>>>> 006006e (train model)
=======
   "execution_count": 201,
>>>>>>> f0600e8 (update crate full model data 100%💀)
   "metadata": {},
   "outputs": [],
   "source": [
    "# ทำ Cross Validation\n",
    "k_folds = 15  # จำนวน k-folds "
   ]
  },
  {
   "cell_type": "markdown",
   "metadata": {},
   "source": [
    "## Logistic Regression"
   ]
  },
  {
   "cell_type": "code",
<<<<<<< HEAD
<<<<<<< HEAD
   "execution_count": 19,
=======
   "execution_count": 114,
>>>>>>> 006006e (train model)
=======
   "execution_count": 202,
>>>>>>> f0600e8 (update crate full model data 100%💀)
   "metadata": {},
   "outputs": [
    {
     "name": "stdout",
     "output_type": "stream",
     "text": [
<<<<<<< HEAD
<<<<<<< HEAD
      "เวลาที่ใช้ในการฝึกโมเดล: 0.400123 วินาที\n"
=======
      "เวลาที่ใช้ในการฝึกโมเดล: 0.173603 วินาที\n"
>>>>>>> 006006e (train model)
=======
      "เวลาที่ใช้ในการฝึกโมเดล: 0.350557 วินาที\n"
>>>>>>> f0600e8 (update crate full model data 100%💀)
     ]
    }
   ],
   "source": [
    "from sklearn.linear_model import LogisticRegression\n",
    "\n",
    "# create logistic regression model and fit to training data\n",
    "model_lr = LogisticRegression()\n",
    "\n",
    "start_time = time.time()  # เวลาเริ่มต้น\n",
    "model_lr.fit(X_train, y_train)\n",
    "end_time = time.time()  # เวลาสิ้นสุด\n",
    "\n",
    "# คำนวณเวลาที่ใช้ในการฝึกโมเดล\n",
    "training_time_LR = end_time - start_time\n",
    "print(f\"เวลาที่ใช้ในการฝึกโมเดล: {training_time_LR:.6f} วินาที\")"
   ]
  },
  {
   "cell_type": "code",
<<<<<<< HEAD
<<<<<<< HEAD
   "execution_count": 20,
=======
   "execution_count": 115,
>>>>>>> 006006e (train model)
=======
   "execution_count": 203,
>>>>>>> f0600e8 (update crate full model data 100%💀)
   "metadata": {},
   "outputs": [
    {
     "name": "stdout",
     "output_type": "stream",
     "text": [
<<<<<<< HEAD
<<<<<<< HEAD
      "Accuracy of Logistic Regression is : 93.3 % .\n",
      "Classification Report is : \n",
      "                          precision    recall  f1-score   support\n",
      "\n",
      "neutral or dissatisfied       0.94      0.95      0.94     22029\n",
      "              satisfied       0.93      0.92      0.92     16818\n",
      "\n",
      "               accuracy                           0.93     38847\n",
      "              macro avg       0.93      0.93      0.93     38847\n",
      "           weighted avg       0.93      0.93      0.93     38847\n",
=======
      "Accuracy of Logistic Regression is : 87.29 % .\n",
=======
      "Accuracy of Logistic Regression is : 93.3 % .\n",
>>>>>>> f0600e8 (update crate full model data 100%💀)
      "Classification Report is : \n",
      "                          precision    recall  f1-score   support\n",
      "\n",
      "neutral or dissatisfied       0.94      0.95      0.94     22029\n",
      "              satisfied       0.93      0.92      0.92     16818\n",
      "\n",
<<<<<<< HEAD
      "               accuracy                           0.87     38847\n",
      "              macro avg       0.87      0.87      0.87     38847\n",
      "           weighted avg       0.87      0.87      0.87     38847\n",
>>>>>>> 006006e (train model)
=======
      "               accuracy                           0.93     38847\n",
      "              macro avg       0.93      0.93      0.93     38847\n",
      "           weighted avg       0.93      0.93      0.93     38847\n",
>>>>>>> f0600e8 (update crate full model data 100%💀)
      "\n"
     ]
    }
   ],
   "source": [
    "from sklearn.metrics import classification_report,ConfusionMatrixDisplay,confusion_matrix\n",
    "from sklearn.metrics import accuracy_score\n",
    "\n",
    "y_pred_lr=model_lr.predict(X_test)\n",
    "accuracy_LR=accuracy_score(y_pred_lr,y_test)\n",
    "print(f\"Accuracy of Logistic Regression is : {round(accuracy_LR*100,2)} % .\")\n",
    "\n",
    "report=classification_report(y_test,y_pred_lr)\n",
    "print(\"Classification Report is : \\n\",report)"
   ]
  },
  {
   "cell_type": "code",
<<<<<<< HEAD
<<<<<<< HEAD
   "execution_count": 21,
=======
   "execution_count": 116,
>>>>>>> 006006e (train model)
=======
   "execution_count": 204,
>>>>>>> f0600e8 (update crate full model data 100%💀)
   "metadata": {},
   "outputs": [
    {
     "data": {
      "text/plain": [
<<<<<<< HEAD
<<<<<<< HEAD
       "<sklearn.metrics._plot.confusion_matrix.ConfusionMatrixDisplay at 0x30c8f3bf0>"
      ]
     },
     "execution_count": 21,
=======
       "<sklearn.metrics._plot.confusion_matrix.ConfusionMatrixDisplay at 0x13fa22cc0>"
      ]
     },
     "execution_count": 116,
>>>>>>> 006006e (train model)
=======
       "<sklearn.metrics._plot.confusion_matrix.ConfusionMatrixDisplay at 0x13e503cb0>"
      ]
     },
     "execution_count": 204,
>>>>>>> f0600e8 (update crate full model data 100%💀)
     "metadata": {},
     "output_type": "execute_result"
    },
    {
     "data": {
<<<<<<< HEAD
<<<<<<< HEAD
      "image/png": "iVBORw0KGgoAAAANSUhEUgAAApoAAAGwCAYAAAAJ08UyAAAAOXRFWHRTb2Z0d2FyZQBNYXRwbG90bGliIHZlcnNpb24zLjkuMiwgaHR0cHM6Ly9tYXRwbG90bGliLm9yZy8hTgPZAAAACXBIWXMAAA9hAAAPYQGoP6dpAABmkklEQVR4nO3de3zO9f/H8ce1zXVts5Nhp8z5NAxDaSmHLHNIiU5STaGInHLI16GhUphTJ+mAiqQD30gyyilLkVU0CxmK0S9s5rDT9fn9se+uXM3F5toV2fN+u31u7fP5vN/vz/tzXdP12uv9fn8uk2EYBiIiIiIipcztSndARERERK5NCjRFRERExCUUaIqIiIiISyjQFBERERGXUKApIiIiIi6hQFNEREREXEKBpoiIiIi4hMeV7oDIP81qtXL48GF8fX0xmUxXujsiIlJChmFw6tQpwsLCcHNzXc7s3Llz5OTkON2O2WzG09OzFHr076NAU8qcw4cPEx4efqW7ISIiTjp06BBVqlRxSdvnzp2jRjUf0o/lO91WSEgI+/fvL5PBpgJNKXN8fX0BOPB9dfx8NHtErk131Y280l0QcZk8ctnMKtv/z10hJyeH9GP5HNheHT/fy/+syDxlpVrzNHJychRoipQFhcPlfj5uTv3PQ+Rq5mEqd6W7IOI6//vy7H9i+pOPrwkf38u/jpWyPUVLgaaIiIiIA/mGlXzDufplmQJNEREREQesGFi5/EjTmbrXAo0bioiIiIhLKKMpIiIi4oAVK84MfjtX+99PgaaIiIiIA/mGQb5x+cPfztS9FmjoXERERERcQhlNEREREQe0GMg5CjRFREREHLBikK9A87Jp6FxEREREXEIZTREREREHNHTuHGU0RURERBwoXHXuzFYSU6ZM4frrr8fX15egoCC6detGamqqXZlz584xcOBAKlasiI+PDz169ODo0aN2ZQ4ePEiXLl3w9vYmKCiIkSNHkpeXZ1dm/fr1NGvWDIvFQu3atVmwYEGR/rzyyitUr14dT09PWrZsybffflui+1GgKSIiInKV2LBhAwMHDuSbb74hMTGR3NxcOnTowOnTp21lhg0bxooVK/jwww/ZsGEDhw8fpnv37rbz+fn5dOnShZycHLZs2cLChQtZsGABEyZMsJXZv38/Xbp0oV27diQnJzN06FD69u3LF198YSvzwQcfMHz4cJ555hm+//57mjRpQmxsLMeOHSv2/ZgMo4w/4EnKnMzMTPz9/TnxS038fPW3llybYsOaXukuiLhMnpHLev5LRkYGfn5+LrlG4WfF7pRgfJ34rDh1ykr9iKMcOnTIrq8WiwWLxXLJ+n/88QdBQUFs2LCB1q1bk5GRQeXKlVm8eDF33303ALt37yYiIoKkpCRuvPFGPv/8c26//XYOHz5McHAwAHPnzmX06NH88ccfmM1mRo8ezWeffcbOnTtt17r//vs5efIkq1evBqBly5Zcf/31vPzyywBYrVbCw8N58sknefrpp4t1//qUFREREXEg/3+rzp3ZAMLDw/H397dtU6ZMKdb1MzIyAAgMDARg+/bt5ObmEhMTYytTv359qlatSlJSEgBJSUlERkbagkyA2NhYMjMz2bVrl63M+W0UlilsIycnh+3bt9uVcXNzIyYmxlamOLQYSERERMSBfKNgc6Y+cMGM5qVYrVaGDh1Kq1ataNSoEQDp6emYzWYCAgLsygYHB5Oenm4rc36QWXi+8NzFymRmZnL27FlOnDhBfn7+Bcvs3r37kn0vpEBTRERExMX8/PxKPMw/cOBAdu7cyebNm13UK9fT0LmIiIiIA9ZS2C7HoEGDWLlyJV999RVVqlSxHQ8JCSEnJ4eTJ0/alT969CghISG2Mn9fhV64f6kyfn5+eHl5UalSJdzd3S9YprCN4lCgKSIiIuKAFRP5TmxWTCW6nmEYDBo0iGXLlvHll19So0YNu/PNmzenXLlyrFu3znYsNTWVgwcPEh0dDUB0dDQ//fST3erwxMRE/Pz8aNCgga3M+W0Ulilsw2w207x5c7syVquVdevW2coUh4bORURERK4SAwcOZPHixfz3v//F19fXNqfS398fLy8v/P396dOnD8OHDycwMBA/Pz+efPJJoqOjufHGGwHo0KEDDRo04KGHHmLq1Kmkp6czbtw4Bg4caJsb2r9/f15++WVGjRrFo48+ypdffsnSpUv57LPPbH0ZPnw4cXFxtGjRghtuuIFZs2Zx+vRpHnnkkWLfjwJNEREREQesRsHmTP2SeO211wBo27at3fH58+fTu3dvAGbOnImbmxs9evQgOzub2NhYXn31VVtZd3d3Vq5cyYABA4iOjqZ8+fLExcUxadIkW5kaNWrw2WefMWzYMGbPnk2VKlV48803iY2NtZW57777+OOPP5gwYQLp6ek0bdqU1atXF1kgdDF6jqaUOXqOppQFeo6mXMv+yedobt0Vgo8TnxVZp6y0bJju0r5ezfQpKyIiIiIuoaFzEREREQcKF/U4U78sU6ApIiIi4oDVMGE1Lj9YdKbutUBD5yIiIiLiEspoioiIiDigoXPnKNAUERERcSAfN/KdGADOL8W+/Bsp0BQRERFxwHByjqahOZoiIiIiIqVPGU0RERERBzRH0zkKNEVEREQcyDfcyDecmKNZxr9/UUPnIiIiIuISymiKiIiIOGDFhNWJvJyVsp3SVKApIiIi4oDmaDpHQ+ciIiIi4hLKaIqIiIg44PxiIA2di4iIiMgFFMzRvPzhb2fqXgs0dC4iIiIiLqGMpoiIiIgDVie/61yrzkVERETkgjRH0zkKNEVEREQcsOKm52g6QXM0RURERMQllNEUERERcSDfMJFvOPHAdifqXgsUaIqIiIg4kO/kYqB8DZ2LiIiIiJQ+ZTRFREREHLAablidWHVu1apzEREREbkQDZ07R0PnIiIiIuISymiKiIiIOGDFuZXj1tLryr+SAk0RERERB5x/YHvZHjwu23cvIiIiIi6jjKaIiIiIA85/13nZzukp0BQRERFxwIoJK87M0dQ3A4mIiIjIBSij6ZyyffciIiIi4jLKaIqIiIg44PwD28t2Tq9s372IiIjIRVgNk9NbSW3cuJGuXbsSFhaGyWRi+fLldudNJtMFt2nTptnKVK9evcj5F154wa6dH3/8kVtuuQVPT0/Cw8OZOnVqkb58+OGH1K9fH09PTyIjI1m1alWJ7kWBpoiIiMhV5PTp0zRp0oRXXnnlguePHDlit7399tuYTCZ69OhhV27SpEl25Z588knbuczMTDp06EC1atXYvn0706ZNIz4+nnnz5tnKbNmyhZ49e9KnTx927NhBt27d6NatGzt37iz2vWjoXERERMQBq5ND55fzwPZOnTrRqVMnh+dDQkLs9v/73//Srl07atasaXfc19e3SNlCixYtIicnh7fffhuz2UzDhg1JTk5mxowZPPbYYwDMnj2bjh07MnLkSAAmT55MYmIiL7/8MnPnzi3WvSijKSIiIuKA1XBzeoOCDOL5W3Z2dqn07+jRo3z22Wf06dOnyLkXXniBihUrEhUVxbRp08jLy7OdS0pKonXr1pjNZtux2NhYUlNTOXHihK1MTEyMXZuxsbEkJSUVu38KNEVERERcLDw8HH9/f9s2ZcqUUml34cKF+Pr60r17d7vjgwcPZsmSJXz11Vc8/vjjPP/884waNcp2Pj09neDgYLs6hfvp6ekXLVN4vjg0dC4iIiLiQD4m8p146Hph3UOHDuHn52c7brFYnO4bwNtvv02vXr3w9PS0Oz58+HDbz40bN8ZsNvP4448zZcqUUrt2cSjQFBEREXHg/OHvy60P4OfnZxdoloZNmzaRmprKBx98cMmyLVu2JC8vj7S0NOrVq0dISAhHjx61K1O4Xziv01EZR/M+L0RD5yIiIiL/Qm+99RbNmzenSZMmlyybnJyMm5sbQUFBAERHR7Nx40Zyc3NtZRITE6lXrx4VKlSwlVm3bp1dO4mJiURHRxe7j8poioiIiDiQD04OnZdcVlYWe/fute3v37+f5ORkAgMDqVq1KlCwuOjDDz8kISGhSP2kpCS2bt1Ku3bt8PX1JSkpiWHDhvHggw/agsgHHniAiRMn0qdPH0aPHs3OnTuZPXs2M2fOtLUzZMgQ2rRpQ0JCAl26dGHJkiVs27bN7hFIl6JAU0RERMSB0ho6L4lt27bRrl07237hfMu4uDgWLFgAwJIlSzAMg549exapb7FYWLJkCfHx8WRnZ1OjRg2GDRtmN2/T39+fNWvWMHDgQJo3b06lSpWYMGGC7dFGADfddBOLFy9m3Lhx/Oc//6FOnTosX76cRo0aFfteTIZhGCV9AUT+zTIzM/H39+fELzXx89XsEbk2xYY1vdJdEHGZPCOX9fyXjIyMUp/3WKjws2JMUkc8fcpddjvnsnKZEr3apX29mulTVkRERERcQkPnIiIiIg4YmLA6MUfTcKLutUCBpoiIiIgD+YYb+U7M0XSm7rWgbN+9iIiIiLiMMpoiIiIiDlgNE1bj8oe/nal7LVCgKSIiIuJAPm7kOzEA7Ezda0HZvnsRERERcRllNEVEREQc0NC5cxRoioiIiDhgxQ2rEwPAztS9FpTtuxcRERERl1FGU0RERMSBfMNEvhPD387UvRYo0BQRERFxQHM0naNAU0RERMQBw3DD6sS3+xj6ZiARERERkdKnjKaIiIiIA/mYyMeJOZpO1L0WKNAUERERccBqODfP0mqUYmf+hTR0LiIiIiIuoYymiBSx5KUgvl4VwKG9FsyeVhq0OEOfsYcJr51tK5NzzsS8iWGs/7QCudkmmrc9xZNTfqNC5TxbmdRkL95+Pow9P3pjMhnUa3qGPuMOU6vhOQDSD5mJa9mgyPVnrfiFiOZnihxfvzyAKU9UJzo2g/j5+11w51KWNWqZxT1P/EGdyDNUDMkj/tHqJK32t51v1ekkXR7+kzqRZ/ELzGfAbXX5dZeX7XxwlRze+Tblgm0/+1g1Nq0MAOCLwz8UOf/8gKps+G+F0r0hKRVWJxcDOVP3WlC27/4yVa9enVmzZl2x65tMJpYvXw5AWloaJpOJ5OTkK9afkrweZ86coUePHvj5+WEymTh58mSpvJ7x8fE0bdrUqTbkLz8m+dC19/8xa+UepizZR34e/KdnLc6d+et/GXPjr+ObRH/GvZ7G9E/2cvxoOSb1qW47f/a0G2N71aJyWA6zV/5CwvK9ePlYGftALfJy7a/3wgd7eT95p22r07hokJl+yMwbk8No1DLLVbctZZynt5Vfd3ny8n+qODy/69vyvPV86AXP/3G4HPc3aWC3vTMtmDNZbnz3pa9d2elDw+3KbTkvoJWrixWT01tZViYymm3btqVp06ZXNDh0lfDwcI4cOUKlSpVcfq0FCxYwdOhQTp48aXf8u+++o3z58sVqY+HChWzatIktW7ZQqVIl/P39S1Rf/hnPL/7Vbv+pWQe5LzKSPT96EXnjaU5nuvHF+4E8/coBmt5cEPgNn3GQfm0iSNnuTUTzMxzaa+HUCQ8eHplO0HUFkeWDw9Pp374+R38zc12NHFv7fhXyCQzKw5H8fHhxYFUeeiqdnd/6kJXh7oK7lrJu21d+bPvKz+H5dR8HAgWZywuxWk2c+KOc3bGbOmWwcUUA587Y/85mZboXKStyLVJG838MwyAvz/EHnavl5uZeutAFuLu7ExISgofHlfuboXLlynh7exer7L59+4iIiKBRo0aEhIRgMplKVF+ujNOZBR+SvgH5AOz50Zu8XDeibvkru1i1TjZB1+WQsr3gj4YqtbLxq5DHF+9XJDfHRPZZE6vfr0jVOucICbf/oH6mdw3ujWzI8Dtrk/RF0Q/6RTNCCKiUR8cHjrvqFkVKXe3IM9RudI4v3g8scm7Qc7+xdOdO5nz2Cx3u/xMo4ytGrmKF3wzkzFaWXdFAs23btgwePJhRo0YRGBhISEgI8fHxdmVOnjxJ3759qVy5Mn5+ftx666388MNf81t69+5Nt27d7OoMHTqUtm3b2s5v2LCB2bNnYzKZMJlMpKWlsX79ekwmE59//jnNmzfHYrGwefNm9u3bx5133klwcDA+Pj5cf/31rF27tkT3ZbVamTRpElWqVMFisdC0aVNWr15tO1843P3BBx/Qpk0bPD09WbRo0QXb2rNnD61bt8bT05MGDRqQmJhod/7vQ+cnTpygV69eVK5cGS8vL+rUqcP8+fMByMnJYdCgQYSGhuLp6Um1atWYMmWKra0ZM2YQGRlJ+fLlCQ8P54knniArqyCQWL9+PY888ggZGRm217HwvTp/6NswDOLj46latSoWi4WwsDAGDx4MFLzfCQkJbNy4EZPJZHuP/j50fqn3HOCFF14gODgYX19f+vTpw7lz54r/BkmJWK0w95nraHh9FtXrF7zOx495UM5sxcc/365sQOVcjh8r+KPH28fKtI/3su6TCtxRszHd6jRm21e+PLtoH+7/+7vIyzufx575nXHz0pj87q80vOE0Ex+tYRds7txani+WBDJ02qF/5oZFSknHnsc58IuFn7fZj9gsnBrCc/2rM+b+mmxeFcCTz//OnX3+7wr1Ui6lcI6mM1tZdsWHzhcuXMjw4cPZunUrSUlJ9O7dm1atWnHbbbcBcM899+Dl5cXnn3+Ov78/r7/+Ou3bt+eXX34hMLDoX4l/N3v2bH755RcaNWrEpEmTgIIMXFpaGgBPP/0006dPp2bNmlSoUIFDhw7RuXNnnnvuOSwWC++88w5du3YlNTWVqlWrFuueZs+eTUJCAq+//jpRUVG8/fbb3HHHHezatYs6derYyj399NMkJCQQFRWFp6dnkXasVivdu3cnODiYrVu3kpGRwdChQy967fHjx/Pzzz/z+eefU6lSJfbu3cvZs2cBmDNnDp9++ilLly6latWqHDp0iEOH/vrwdnNzY86cOdSoUYNff/2VJ554glGjRvHqq69y0003MWvWLCZMmEBqaioAPj4+Ra7/8ccfM3PmTJYsWULDhg1JT0+3BYmffPIJTz/9NDt37uSTTz7BbDZf8B4u9Z4vXbqU+Ph4XnnlFW6++Wbeffdd5syZQ82aNS/YXnZ2NtnZfy1iyczMvOhrKPZe/k8VDuz2ImH5nhLVyz5rYsZT4TS8/jRjXk3Dmm/io7lBjH+oJi+t+gWLl4F/xXx6PP6HrU69pmf582g5PnwtiOjYTM5kuTF1cFWGTjuEf8X8i1xN5Opi9rTS7q4TLJ4VXOTc+cf27fTG09vKPQP+4L9vVf4nuyjyj7jigWbjxo155plnAKhTpw4vv/wy69at47bbbmPz5s18++23HDt2DIvFAsD06dNZvnw5H330EY899tgl2/f398dsNuPt7U1ISEiR85MmTbIFtQCBgYE0adLEtj958mSWLVvGp59+yqBBg4p1T9OnT2f06NHcf//9ALz44ot89dVXzJo1i1deecVWbujQoXTv3t1hO2vXrmX37t188cUXhIWFAfD888/TqVMnh3UOHjxIVFQULVq0AAqyheefq1OnDjfffDMmk4lq1arZ1T0/iK1evTrPPvss/fv359VXX8VsNuPv74/JZLrg63j+NUJCQoiJiaFcuXJUrVqVG264ASh4bb29vTGbzQ7bKM57PmvWLPr06UOfPn0AePbZZ1m7dq3DrOaUKVOYOHGiwz6LYy//5zq2JvqRsGwvlcP+mt4RGJRHbo4bWRnudlnNk3+Us821/GpZBY4eMjNrxR7c/vcH/dOvHKBHRCOSvvCnbbeTF7xm/agz7NhYsHDiSJqFo4csTIj7648Iw1rw307hTXhrUwph1S88X07kSrqly0ksXgZrP7x0QmT39970GnaUcmYruTllO/t1NbLi5Hedl/HFQFf8N7px48Z2+6GhoRw7dgyAH374gaysLCpWrIiPj49t279/P/v27SuV6xcGZIWysrIYMWIEERERBAQE4OPjQ0pKCgcPHixWe5mZmRw+fJhWrVrZHW/VqhUpKfaPvfj7tf8uJSWF8PBwW5AJEB0dfdE6AwYMYMmSJTRt2pRRo0axZcsW27nevXuTnJxMvXr1GDx4MGvWrLGru3btWtq3b891112Hr68vDz30EH/++SdnzhRdAezIPffcw9mzZ6lZsyb9+vVj2bJlJZr7Wpz3PCUlhZYtW9rVu9jrMmbMGDIyMmzb+VlcuTDDKAgyt6z2Z+qHewmpah/M1Wl8Bo9yVnZs/iurfWivhWO/m4lofhqA7LNuuLmB6bz/x7q5GZhMBcPxjuzb5UVgUEFQG177HK9/uZvXElNt240dMmnSKovXElPtgl+Rq0lsz+N8s8aPjOOXzufUaniWUyfcFWRepQwnV5wbZTzQvOIZzXLl7FfdmUwmrP/7FMrKyiI0NJT169cXqRcQEAAUDPcahv0k6pIsrPn7aucRI0aQmJjI9OnTqV27Nl5eXtx9993k5JR+1sQVK607derEgQMHWLVqFYmJibRv356BAwcyffp0mjVrxv79+/n8889Zu3Yt9957LzExMXz00UekpaVx++23M2DAAJ577jkCAwPZvHkzffr0IScnp9iLdcLDw0lNTWXt2rUkJibyxBNPMG3aNDZs2FDkvb6Q4rznJWWxWGzZUSmel/9Tha+WVSB+/q94+Vht8y7L++Zj8TIo72cltudx5sVfh29APuV983llbBUimp+2Pf8yqvUp3ng2jJf/U4U7H/0Dq9XE0peDcPeAJq0K5v4mLq2ARzmDWo0Kpnd8/bk/a5YEMnR6wR8DZk/DNi+0UGEG9e/HRZzl6Z1P2HlPQwgJz6Fmw7OcOunOH7+b8Q3Io/J1uVQM/t8fQrUKfgdPHPOwW0EeVj2byBtPM/7BGkWu0fK2DCpUziNluze52W40a32K+wcf46O5Gja/WlkNJzOaZXwx0BUPNC+mWbNmpKen4+HhYTcEfL7KlSuzc+dOu2PJycl2QY3ZbCY/v3jzu77++mt69+7NXXfdBRQEPoXzOYvDz8+PsLAwvv76a9q0aWPXbuEQcnFFRERw6NAhjhw5QmhowXPbvvnmm0vWq1y5MnFxccTFxXHLLbcwcuRIpk+fbuvffffdx3333cfdd99Nx44dOX78ONu3b8dqtZKQkIDb/8Y5ly5datducV9HLy8vunbtSteuXRk4cCD169fnp59+olmzZpesW5z3PCIigq1bt/Lwww/bjhXndZHiW7mw4HFZI3vUsTv+1MyDdLivYOV3//jfcTMZTO5XndxsEy3anmLQlN9sZavWyWbigl9ZNCOEoV3rYnIzqN3oLM8t2kfF4L+y3ItnhXD0t3K4exRkMP8zN41bbs/4B+5SxF7dJmeZ9vFfo2X9Jx4GYM0HFUgYVpUbO2QyYtZfIyL/mVsw0vVuQjDvJfw1HSj2/uP835FybN9g/+xMgPxcE117/x+Px+dgMsHhNDOvx4fx+aJLD7GL/Btd1YFmTEwM0dHRdOvWjalTp1K3bl0OHz7MZ599xl133UWLFi249dZbmTZtGu+88w7R0dG899577Ny5k6ioKFs71atXZ+vWraSlpeHj43PRRUR16tThk08+oWvXrphMJsaPH2/LsBbXyJEjeeaZZ6hVqxZNmzZl/vz5JCcnO1xZfrH7r1u3LnFxcUybNo3MzEzGjh170ToTJkygefPmNGzYkOzsbFauXElERARQsKo8NDSUqKgo3Nzc+PDDDwkJCSEgIIDatWuTm5vLSy+9RNeuXfn666+ZO3euXdvVq1cnKyuLdevW0aRJE7y9vYtkOhcsWEB+fj4tW7bE29ub9957Dy8vryLzQS92z5d6z4cMGULv3r1p0aIFrVq1YtGiRezatcvhYiApuS8OJ1+yjNnTYNCU3xk05XeHZZq3yaJ5m70Oz9927wluu/dEifo2YlbxprGIlNSPST7EhjVxeD5xaSCJSy8dEM5/IZT5L1z4oe7b1vuxbb3jZ3XK1UffDOScq/ruTSYTq1atonXr1jzyyCPUrVuX+++/nwMHDhAcXLBqLzY2lvHjxzNq1Ciuv/56Tp06ZZfpgoLhcHd3dxo0aEDlypUvOt9yxowZVKhQgZtuuomuXbsSGxtbrEzc+QYPHszw4cN56qmniIyMZPXq1Xz66ad2K86Lw83NjWXLlnH27FluuOEG+vbty3PPPXfROmazmTFjxtC4cWNat26Nu7s7S5YsAcDX15epU6fSokULrr/+etLS0li1ahVubm40adKEGTNm8OKLL9KoUSMWLVpk9+gjgJtuuon+/ftz3333UblyZaZOnVrk+gEBAbzxxhu0atWKxo0bs3btWlasWEHFihWLdc/Fec/vu+8+23vevHlzDhw4wIABA4rVvoiISEkUDp07s5VlJuPvExxFrnGZmZn4+/tz4pea+Ple1X9riVy22LCmV7oLIi6TZ+Synv+SkZGBn59rMsSFnxV3rnmUcuUv/Di+4sg9ncN/O7zt0r5eza7qoXMRERGRK8nZ7ysv6483UqApIiIi4oBWnTtH44YiIiIi4hLKaIqIiIg4oIymcxRoioiIiDigQNM5GjoXEREREZdQoCkiIiLiwJV4jubGjRvp2rUrYWFhmEwmli9fbne+d+/emEwmu61jx452ZY4fP06vXr3w8/MjICCAPn36kJWVZVfmxx9/5JZbbsHT05Pw8PALPh/7ww8/pH79+nh6ehIZGcmqVatKdC8KNEVEREQcMPjrEUeXs13Ow8pPnz5NkyZNeOWVVxyW6dixI0eOHLFt77//vt35Xr16sWvXLhITE1m5ciUbN27kscces53PzMykQ4cOVKtWje3btzNt2jTi4+OZN2+ercyWLVvo2bMnffr0YceOHXTr1o1u3boV+ervi9EcTREREREHrsQczU6dOtGpU6eLlrFYLISEhFzwXEpKCqtXr+a7776jRYsWALz00kt07tyZ6dOnExYWxqJFi8jJyeHtt9/GbDbTsGFDkpOTmTFjhi0gnT17Nh07dmTkyJEATJ48mcTERF5++eUiX1PtiDKaIiIiIi6WmZlpt2VnZzvV3vr16wkKCqJevXoMGDCAP//803YuKSmJgIAAW5AJEBMTg5ubG1u3brWVad26NWbzX996FBsbS2pqKidOnLCViYmJsbtubGwsSUlJxe6nAk0RERERB0prjmZ4eDj+/v62bcqUKZfdp44dO/LOO++wbt06XnzxRTZs2ECnTp3Iz88HID09naCgILs6Hh4eBAYGkp6ebisTHBxsV6Zw/1JlCs8Xh4bORURERBworaHzQ4cO2X3XucViuew277//ftvPkZGRNG7cmFq1arF+/Xrat29/2e26gjKaIiIiIi7m5+dntzkTaP5dzZo1qVSpEnv37gUgJCSEY8eO2ZXJy8vj+PHjtnmdISEhHD161K5M4f6lyjiaG3ohCjRFREREHLgSjzcqqd9++40///yT0NBQAKKjozl58iTbt2+3lfnyyy+xWq20bNnSVmbjxo3k5ubayiQmJlKvXj0qVKhgK7Nu3Tq7ayUmJhIdHV3svinQFBEREXHAMExObyWVlZVFcnIyycnJAOzfv5/k5GQOHjxIVlYWI0eO5JtvviEtLY1169Zx5513Urt2bWJjYwGIiIigY8eO9OvXj2+//Zavv/6aQYMGcf/99xMWFgbAAw88gNlspk+fPuzatYsPPviA2bNnM3z4cFs/hgwZwurVq0lISGD37t3Ex8ezbds2Bg0aVOx7UaApIiIichXZtm0bUVFRREVFATB8+HCioqKYMGEC7u7u/Pjjj9xxxx3UrVuXPn360Lx5czZt2mQ3HL9o0SLq169P+/bt6dy5MzfffLPdMzL9/f1Zs2YN+/fvp3nz5jz11FNMmDDB7lmbN910E4sXL2bevHk0adKEjz76iOXLl9OoUaNi34vJMIzLeZaoyL9WZmYm/v7+nPilJn6++ltLrk2xYU2vdBdEXCbPyGU9/yUjI8NugU1pKvysiP7vk3iUv/z5lHmns0m68yWX9vVqplXnIiIiIg5ciQe2X0uUzhERERERl1BGU0RERMSBy13Qc379skyBpoiIiIgDGjp3jgJNEREREQeU0XSO5miKiIiIiEsooykiIiLigOHk0HlZz2gq0BQRERFxwACceeJ4WX9YuYbORURERMQllNEUERERccCKCRNOrDp3ou61QIGmiIiIiANade4cDZ2LiIiIiEsooykiIiLigNUwYdID2y+bAk0RERERBwzDyVXnZXzZuYbORURERMQllNEUERERcUCLgZyjQFNERETEAQWazlGgKSIiIuKAFgM5R3M0RURERMQllNEUERERcUCrzp2jQFNERETEgYJA05k5mqXYmX8hDZ2LiIiIiEsooykiIiLigFadO0eBpoiIiIgDxv82Z+qXZRo6FxERERGXUEZTRERExAENnTtHgaaIiIiIIxo7d4oCTRERERFHnMxoUsYzmpqjKSIiIiIuoYymiIiIiAP6ZiDnKNAUERERcUCLgZyjoXMRERERcQllNEVEREQcMUzOLegp4xlNBZoiIiIiDmiOpnM0dC4iIiIiLqGMpoiIiIgjemC7U5TRFBEREXGgcNW5M1tJbdy4ka5duxIWFobJZGL58uW2c7m5uYwePZrIyEjKly9PWFgYDz/8MIcPH7Zro3r16phMJrvthRdesCvz448/csstt+Dp6Ul4eDhTp04t0pcPP/yQ+vXr4+npSWRkJKtWrSrRvRQro/npp58Wu8E77rijRB0QERERkb+cPn2aJk2a8Oijj9K9e3e7c2fOnOH7779n/PjxNGnShBMnTjBkyBDuuOMOtm3bZld20qRJ9OvXz7bv6+tr+zkzM5MOHToQExPD3Llz+emnn3j00UcJCAjgscceA2DLli307NmTKVOmcPvtt7N48WK6devG999/T6NGjYp1L8UKNLt161asxkwmE/n5+cUqKyIiIvKv8A8Pf3fq1IlOnTpd8Jy/vz+JiYl2x15++WVuuOEGDh48SNWqVW3HfX19CQkJuWA7ixYtIicnh7fffhuz2UzDhg1JTk5mxowZtkBz9uzZdOzYkZEjRwIwefJkEhMTefnll5k7d26x7qVYQ+dWq7VYm4JMERERuZaU1tB5Zmam3ZadnV1qfczIyMBkMhEQEGB3/IUXXqBixYpERUUxbdo08vLybOeSkpJo3bo1ZrPZdiw2NpbU1FROnDhhKxMTE2PXZmxsLElJScXum1NzNM+dO+dMdREREZGrm1EKGxAeHo6/v79tmzJlSql079y5c4wePZqePXvi5+dnOz548GCWLFnCV199xeOPP87zzz/PqFGjbOfT09MJDg62a6twPz09/aJlCs8XR4lXnefn5/P8888zd+5cjh49yi+//ELNmjUZP3481atXp0+fPiVtUkREROSadujQIbtA0GKxON1mbm4u9957L4Zh8Nprr9mdGz58uO3nxo0bYzabefzxx5kyZUqpXLu4SpzRfO6551iwYAFTp061S7c2atSIN998s1Q7JyIiInJlmUphAz8/P7vN2WCvMMg8cOAAiYmJdkHshbRs2ZK8vDzS0tIACAkJ4ejRo3ZlCvcL53U6KuNo3ueFlDjQfOedd5g3bx69evXC3d3ddrxJkybs3r27pM2JiIiIXL1Kaei8NBUGmXv27GHt2rVUrFjxknWSk5Nxc3MjKCgIgOjoaDZu3Ehubq6tTGJiIvXq1aNChQq2MuvWrbNrJzExkejo6GL3tcRD57///ju1a9cuctxqtdp1VkRERERKLisri71799r29+/fT3JyMoGBgYSGhnL33Xfz/fffs3LlSvLz821zJgMDAzGbzSQlJbF161batWuHr68vSUlJDBs2jAcffNAWRD7wwANMnDiRPn36MHr0aHbu3Mns2bOZOXOm7bpDhgyhTZs2JCQk0KVLF5YsWcK2bduYN29ese+lxIFmgwYN2LRpE9WqVbM7/tFHHxEVFVXS5kRERESuXlfgm4G2bdtGu3btbPuF8y3j4uKIj4+3Pd+8adOmdvW++uor2rZti8ViYcmSJcTHx5OdnU2NGjUYNmyY3bxNf39/1qxZw8CBA2nevDmVKlViwoQJtkcbAdx0000sXryYcePG8Z///Ic6deqwfPnyYj9DEy4j0JwwYQJxcXH8/vvvWK1WPvnkE1JTU3nnnXdYuXJlSZsTERERuXoZpoLNmfol1LZtWwzDcYR6sXMAzZo145tvvrnkdRo3bsymTZsuWuaee+7hnnvuuWRbjpR4juadd97JihUrWLt2LeXLl2fChAmkpKSwYsUKbrvttsvuiIiIiIhcW0qc0QS45ZZbijyVXkRERORaYxgFmzP1y7LLCjShYP5ASkoKUDBvs3nz5qXWKREREZGrwhWYo3ktKXGg+dtvv9GzZ0++/vpr21cdnTx5kptuuoklS5ZQpUqV0u6jiIiIiPwLlXiOZt++fcnNzSUlJYXjx49z/PhxUlJSsFqt9O3b1xV9FBEREbkyChcDObOVYSXOaG7YsIEtW7ZQr14927F69erx0ksvccstt5Rq50RERESuJJNRsDlTvywrcaAZHh5+wQez5+fnExYWViqdEhEREbkqaI6mU0o8dD5t2jSefPJJtm3bZju2bds2hgwZwvTp00u1cyIiIiLy71WsjGaFChUwmf6aY3D69GlatmyJh0dB9by8PDw8PHj00Ufp1q2bSzoqIiIi8o+7Ag9sv5YUK9CcNWuWi7shIiIichXS0LlTihVoxsXFubofIiIiInKNuewHtgOcO3eOnJwcu2N+fn5OdUhERETkqqGMplNKvBjo9OnTDBo0iKCgIMqXL0+FChXsNhEREZFrhlEKWxlW4kBz1KhRfPnll7z22mtYLBbefPNNJk6cSFhYGO+8844r+igiIiIi/0IlHjpfsWIF77zzDm3btuWRRx7hlltuoXbt2lSrVo1FixbRq1cvV/RTRERE5J+nVedOKXFG8/jx49SsWRMomI95/PhxAG6++WY2btxYur0TERERuYIKvxnIma0sK3GgWbNmTfbv3w9A/fr1Wbp0KVCQ6QwICCjVzomIiIjIv1eJA81HHnmEH374AYCnn36aV155BU9PT4YNG8bIkSNLvYMiIiIiV4wWAzmlxHM0hw0bZvs5JiaG3bt3s337dmrXrk3jxo1LtXMiIiIi8u/l1HM0AapVq0a1atVKoy8iIiIiVxUTzs2zLNtLgYoZaM6ZM6fYDQ4ePPiyOyMiIiIi145iBZozZ84sVmMmk0mBpvxrdG8QhYep3JXuhohLeG2oeKW7IOIyuadzoNM/dDE93sgpxQo0C1eZi4iIiJQp+gpKp5R41bmIiIiISHE4vRhIRERE5JqljKZTFGiKiIiIOODst/vom4FERERERFxAGU0RERERRzR07pTLymhu2rSJBx98kOjoaH7//XcA3n33XTZv3lyqnRMRERG5ovQVlE4pcaD58ccfExsbi5eXFzt27CA7OxuAjIwMnn/++VLvoIiIiIj8O5U40Hz22WeZO3cub7zxBuXK/fWw61atWvH999+XaudERERErqTCxUDObGVZiedopqam0rp16yLH/f39OXnyZGn0SUREROTqoG8GckqJM5ohISHs3bu3yPHNmzdTs2bNUumUiIiIyFVBczSdUuJAs1+/fgwZMoStW7diMpk4fPgwixYtYsSIEQwYMMAVfRQRERGRf6ESD50//fTTWK1W2rdvz5kzZ2jdujUWi4URI0bw5JNPuqKPIiIiIleEHtjunBIHmiaTibFjxzJy5Ej27t1LVlYWDRo0wMfHxxX9ExEREbly9BxNp1z2NwOZzWYaNGjADTfcoCBTREREpJRs3LiRrl27EhYWhslkYvny5XbnDcNgwoQJhIaG4uXlRUxMDHv27LErc/z4cXr16oWfnx8BAQH06dOHrKwsuzI//vgjt9xyC56enoSHhzN16tQiffnwww+pX78+np6eREZGsmrVqhLdS4kzmu3atcNkcryC6ssvvyxpkyIiIiJXJ2cfUXQZdU+fPk2TJk149NFH6d69e5HzU6dOZc6cOSxcuJAaNWowfvx4YmNj+fnnn/H09ASgV69eHDlyhMTERHJzc3nkkUd47LHHWLx4MQCZmZl06NCBmJgY5s6dy08//cSjjz5KQEAAjz32GABbtmyhZ8+eTJkyhdtvv53FixfTrVs3vv/+exo1alSseylxoNm0aVO7/dzcXJKTk9m5cydxcXElbU5ERETk6nUFhs47depEp06dLtycYTBr1izGjRvHnXfeCcA777xDcHAwy5cv5/777yclJYXVq1fz3Xff0aJFCwBeeuklOnfuzPTp0wkLC2PRokXk5OTw9ttvYzabadiwIcnJycyYMcMWaM6ePZuOHTsycuRIACZPnkxiYiIvv/wyc+fOLda9lDjQnDlz5gWPx8fHF0nJioiIiEhBBvF8FosFi8VS4nb2799Peno6MTExtmP+/v60bNmSpKQk7r//fpKSkggICLAFmQAxMTG4ubmxdetW7rrrLpKSkmjdujVms9lWJjY2lhdffJETJ05QoUIFkpKSGD58uN31Y2NjiwzlX8xlz9H8uwcffJC33367tJoTERERufJK6Tma4eHh+Pv727YpU6ZcVnfS09MBCA4OtjseHBxsO5eenk5QUJDdeQ8PDwIDA+3KXKiN86/hqEzh+eIocUbTkaSkJNu8ABEREZFrQWk93ujQoUP4+fnZjl9ONvPfqMSB5t8npRqGwZEjR9i2bRvjx48vtY6JiIiIXCv8/PzsAs3LFRISAsDRo0cJDQ21HT969KhtHU1ISAjHjh2zq5eXl8fx48dt9UNCQjh69KhdmcL9S5UpPF8cJR46Pz/t6+/vT2BgIG3btmXVqlU888wzJW1ORERERIqpRo0ahISEsG7dOtuxzMxMtm7dSnR0NADR0dGcPHmS7du328p8+eWXWK1WWrZsaSuzceNGcnNzbWUSExOpV68eFSpUsJU5/zqFZQqvUxwlymjm5+fzyCOPEBkZaeuEiIiIyDXrCqw6z8rKYu/evbb9/fv3k5ycTGBgIFWrVmXo0KE8++yz1KlTx/Z4o7CwMLp16wZAREQEHTt2pF+/fsydO5fc3FwGDRrE/fffT1hYGAAPPPAAEydOpE+fPowePZqdO3cye/Zsu0XfQ4YMoU2bNiQkJNClSxeWLFnCtm3bmDdvXrHvpUSBpru7Ox06dCAlJUWBpoiIiFzzrsRXUG7bto127drZ9gtXfsfFxbFgwQJGjRrF6dOneeyxxzh58iQ333wzq1evtlsrs2jRIgYNGkT79u1xc3OjR48ezJkzx3be39+fNWvWMHDgQJo3b06lSpWYMGGC7dFGADfddBOLFy9m3Lhx/Oc//6FOnTosX7682M/QLLh/wyjRS9CiRQtefPFF2rdvX5JqIleNzMxM/P39aefRAw9TuSvdHRGX8FxX8Up3QcRlck/nsLrTG2RkZJTKvMcLKfysqP3087g7sdg5/9w59r7wH5f29WpW4jmazz77LCNGjGDlypUcOXKEzMxMu01ERETkmuLko43KsmIPnU+aNImnnnqKzp07A3DHHXfYfRWlYRiYTCby8/NLv5ciIiIiV8IVmKN5LSl2oDlx4kT69+/PV1995cr+iIiIiMg1otiBZuFUzjZt2risMyIiIiJXkyuxGOhaUqJV5+cPlYuIiIhc8zR07pQSBZp169a9ZLB5/PhxpzokIiIiIteGEgWaEydOxN/f31V9EREREbmqaOjcOSUKNO+//36CgoJc1RcRERGRq4uGzp1S7Odoan6miIiIiJREiVedi4iIiJQZymg6pdiBptVqdWU/RERERK46mqPpnBLN0RQREREpU5TRdEqJv+tcRERERKQ4lNEUERERcUQZTaco0BQRERFxQHM0naOhcxERERFxCWU0RURERBzR0LlTFGiKiIiIOKChc+do6FxEREREXEIZTRERERFHNHTuFAWaIiIiIo4o0HSKhs5FRERExCWU0RQRERFxwPS/zZn6ZZkCTRERERFHNHTuFAWaIiIiIg7o8UbO0RxNEREREXEJZTRFREREHNHQuVMUaIqIiIhcTBkPFp2hoXMRERERcQllNEVEREQc0GIg5yjQFBEREXFEczSdoqFzEREREXEJZTRFREREHNDQuXMUaIqIiIg4oqFzp2joXERERERcQhlNEREREQc0dO4cZTRFREREHDFKYSuB6tWrYzKZimwDBw4EoG3btkXO9e/f366NgwcP0qVLF7y9vQkKCmLkyJHk5eXZlVm/fj3NmjXDYrFQu3ZtFixYULKOFpMymiIiIiKO/MNzNL/77jvy8/Nt+zt37uS2227jnnvusR3r168fkyZNsu17e3vbfs7Pz6dLly6EhISwZcsWjhw5wsMPP0y5cuV4/vnnAdi/fz9dunShf//+LFq0iHXr1tG3b19CQ0OJjY29zBu9MAWaIiIiIleJypUr2+2/8MIL1KpVizZt2tiOeXt7ExIScsH6a9as4eeff2bt2rUEBwfTtGlTJk+ezOjRo4mPj8dsNjN37lxq1KhBQkICABEREWzevJmZM2eWeqCpoXMRERERBwrnaDqzAWRmZtpt2dnZl7x2Tk4O7733Ho8++igmk8l2fNGiRVSqVIlGjRoxZswYzpw5YzuXlJREZGQkwcHBtmOxsbFkZmaya9cuW5mYmBi7a8XGxpKUlOTMS3VBymiKiIiIOFJKQ+fh4eF2h5955hni4+MvWnX58uWcPHmS3r1724498MADVKtWjbCwMH788UdGjx5Namoqn3zyCQDp6el2QSZg209PT79omczMTM6ePYuXl1dJ79IhBZoiIiIiLnbo0CH8/Pxs+xaL5ZJ13nrrLTp16kRYWJjt2GOPPWb7OTIyktDQUNq3b8++ffuoVatW6Xa6FCjQFBEREXHAZBiYjMtPaRbW9fPzsws0L+XAgQOsXbvWlql0pGXLlgDs3buXWrVqERISwrfffmtX5ujRowC2eZ0hISG2Y+eX8fPzK9VsJmiOpoiIiIhj//DjjQrNnz+foKAgunTpctFyycnJAISGhgIQHR3NTz/9xLFjx2xlEhMT8fPzo0GDBrYy69ats2snMTGR6Ojoy+vsRSjQFBEREbmKWK1W5s+fT1xcHB4efw0+79u3j8mTJ7N9+3bS0tL49NNPefjhh2ndujWNGzcGoEOHDjRo0ICHHnqIH374gS+++IJx48YxcOBA23B9//79+fXXXxk1ahS7d+/m1VdfZenSpQwbNqzU70WBpoiIiIgDpbXqvCTWrl3LwYMHefTRR+2Om81m1q5dS4cOHahfvz5PPfUUPXr0YMWKFbYy7u7urFy5End3d6Kjo3nwwQd5+OGH7Z67WaNGDT777DMSExNp0qQJCQkJvPnmm6X+aCPQHE0RERERx/7hB7ZDQVbSuMC80PDwcDZs2HDJ+tWqVWPVqlUXLdO2bVt27NhR8s6VkDKaIiIiIuISymiKiIiIOHC5w9/n1y/LFGiKiIiIOHIFhs6vJQo0RURERBxQRtM5mqMpIiIiIi6hjKaIiIiIIxo6d4oCTREREZGLKOvD387Q0LmIiIiIuIQymiIiIiKOGEbB5kz9MkyBpoiIiIgDWnXuHA2di4iIiIhLKKMpIiIi4ohWnTtFgaaIiIiIAyZrweZM/bJMQ+ciIiIi4hLKaIpIsTS64RR39z9KncgzVAzOZWLfWiStCbhg2SefP0CXB/+PuROrsPytYACCq2TzwOAjNLnpFBWCcvnzaDm+XFaRJS+FkJf719+8t9x+nPsHpnNdzXNk/FmOFQsr89HrIf/ELUoZkv9DDnnvn8b6Sx78acX8rD/ut3jazudMySB/9Tm7Om43mLFMq2Dbzx5zAmNvHsZJK/i44d7cTLn+Ppgquf91nW+zyZ1/GmN/HpjBrYmZck/44hb6V5m8ZWfI++QMRno+pmB3PB4sj0dHLxfevZSIhs6dooymOCU+Pp6mTZsWu/y8efMIDw/Hzc2NWbNmlbj+haSlpWEymUhOTnaqHbk4T28r+3/24pVx4Rctd1PsCepHneb/0svZHa9S6xwmN5gzphqPxzRk3qRwuvT6g96jDtvKtGibwejZ+/lsUWX639aQV8ZV5a6+x+gad8wl9yRl2FkDt9rlMA/1dVjE7QYznp9Usm3mCf52592jzJjj/bG8WwnzZH+Mw/nkTMiwnbceySdn7Enco8pheSsQy/QKkGElZ/xJW5m85WfInZeFxyM+WBZWxOMRH3JnnSL/6+xSv2W5PIWrzp3ZyjJlNKXYTCYTy5Yto1u3brZjI0aM4MknnyxW/czMTAYNGsSMGTPo0aMH/v7+WK3WYteXK2vben+2rfe/aJmKwTkMmHSIcQ/VYdL8vXbntm/wZ/uGv+qnH7RQpeY5ujz0B28+VwWA9t3/JGlNAKveq2wr88ErIdw7IJ0VCysDptK9KSmz3G+04H6j5X97GRcuZDZhquh+4XOAx73l/9oJcYde3uSMzcDIMzB5mDBScyEfPPr6YHIr+N31uK88OWNP2srkrzmHxx1eeNxakE11C/PA2J1L3vuncW9ludBl5Z+m52g6RYGmOMXHxwcfH59ilT148CC5ubl06dKF0NBQuzbk389kMhg5K42PXg/mwC/FG/Yr75vPqZN//W+onNkg+5z9QEvOOTcqh+USXCWHo7/pg1f+OdbkHM7eeQyTrxtuUWbK9fXB5H/hgUAj00p+4jncGpXD5FEQVJrqlQM3yP/8HO4dPeGsQf6as7g1N9vKGLkGmP/2B5TFhDUl1xaMivybaei8jPnoo4+IjIzEy8uLihUrEhMTw+nTp/nuu++47bbbqFSpEv7+/rRp04bvv//eVq969eoA3HXXXZhMJtv+34e+169fzw033ED58uUJCAigVatWHDhwgAULFhAZGQlAzZo1MZlMpKWlXXDo/M033yQiIgJPT0/q16/Pq6++anf+22+/JSoqCk9PT1q0aMGOHTsues/Z2dlkZmbabVL67n0infx8+O/bQcUqH1rtHHf0PsaqRZVsx7Zv9KNVx5M0bZWJyWRwXY1zdO93FIDAoFyX9FvkQtxusGD+jx+WGRUo97gP1h9yyB51AiPfPjuVO/cUZ2OPcq7rH1iPWjE/F/BXG6HumKdXIPeNLM7ddoxzXf7A+MOKOf6vzL779WbyVp7FmpqLYRhYd+eS99lZyAMyyvhy5auEhs6do4xmGXLkyBF69uzJ1KlTueuuuzh16hSbNm3CMAxOnTpFXFwcL730EoZhkJCQQOfOndmzZw++vr589913BAUFMX/+fDp27Ii7e9HhpLy8PLp160a/fv14//33ycnJ4dtvv8VkMnHfffcRHh5OTEwM3377LeHh4VSuXLlIG4sWLWLChAm8/PLLREVFsWPHDvr160f58uWJi4sjKyuL22+/ndtuu4333nuP/fv3M2TIkIve95QpU5g4cWKpvY5SVO3I09z5yDEGdYmgOMPbFYNzeO7dvWz6rAKr3//r9+DzxZUIrZbNxPl78fAwOJPlzvK3g3ho+BGsVmV25J/j0f6vhUHUKoeplgfZPf/EmpyDe/O/Muse95fHvYsXRno+eQtPk/N8BuYXAjCZTBh/5pM7LROPWE/c23tinDXIezuLnGcyMCcUlPGI88E4biV7wPGCBiu44RHrSd77ZzRT5GqhxUBOUaBZhhw5coS8vDy6d+9OtWrVAGxZxltvvdWu7Lx58wgICGDDhg3cfvvttqAwICCAkJALrwDOzMwkIyOD22+/nVq1agEQERFhO1+xYkUAKleu7LCNZ555hoSEBLp37w5AjRo1+Pnnn3n99deJi4tj8eLFWK1W3nrrLTw9PWnYsCG//fYbAwYMcHjfY8aMYfjw4Xb9DA+/+IIWKZlGN2QRUCmPd5N+sh1z94B+437jrkePEdcq0nY8MDiHFz/4hZ+3l2f209X+1pKJt6dUYcGL11Ghci4Zxz1o2uoUAOkHzf/ErYhckFuYB/ibMH7Ph+Z/HTcFuGEKcINwD9yqeXDunv/DuisX90Zm8pafhfImyg34a8GR21h/zt3zfxg/52JqaMZkMWF+2h9jhB8ct0JFN/JXnAVvEwRo0FH+/RRoliFNmjShffv2REZGEhsbS4cOHbj77rupUKECR48eZdy4caxfv55jx46Rn5/PmTNnOHjwYLHbDwwMpHfv3sTGxnLbbbcRExPDvffeazcf82JOnz7Nvn376NOnD/369bMdz8vLw9+/YKgpJSWFxo0b4+n5V7YhOjr6ou1aLBYsFs3tc6V1H1dkxyY/u2PPvbeHdZ8Ekrj0r6Hxiv8LMvf+5M2Mp6pjGBdO2VitJv48WhBYtr3zOD9vK0/G8XIXLCvyTzCO5UOmgami4+DPtuajcJbHOaPoBDX3v5X9H5OHCYIKTuZ/eQ73aIttAZFcWfquc+co0CxD3N3dSUxMZMuWLaxZs4aXXnqJsWPHsnXrVgYMGMCff/7J7NmzqVatGhaLhejoaHJyckp0jfnz5zN48GBWr17NBx98wLhx40hMTOTGG2+8ZN2srCwA3njjDVq2bFmk73JleXrnE1b9r0euhIRnU7PBGU6d9OCPw2a7RT0A+bkmTvxRjt9+LfijoGJwDlOX/sKx38288WwV/Cvm2cqe+KMgiPSrkMfNXU7wY5IvZouVDvf+yS1dTjDynnr/wB1KWWKcsRZkJwv3j+Rj3ZMLfm6YfE3kLTyNe2sLBLpjHM4jd24Wpuvccbu+4I9W68+5WHfn4hZZDnzdMA7nk/fW/8o0LPh9dou2kPfhGXIXZOEe4wlnDHLfyMIU4oZbnYIy1kN5WFNycWtQDk4Z5C09jXV/HpYxF3/Cg/yDtOrcKQo0yxiTyUSrVq1o1aoVEyZMoFq1aixbtoyvv/6aV199lc6dOwNw6NAh/u///s+ubrly5cjPz79Qs3aioqKIiopizJgxREdHs3jx4mIFmsHBwYSFhfHrr7/Sq1evC5aJiIjg3Xff5dy5c7as5jfffHPJtsV5dRufYerSX2z7jz/zGwCJH1Yk4anql6zf7JZMrquRzXU1sln03U925zpW/Wss8rYef9Jv7G+YTJDyfXlG3VuPX34o//fmRJxiTc0jZ+gJ237uKwV/6Lp39KTccD+s+/LIW30WsgxMldxwa2GhXJ/ymApXiFsgf+M5cudnwTkDU6BbwQKih/8q497MTLnx/uS9f5q8JWfAAm4NzZinVsBk+V87+ZD3wRmMQ3ngYcItyozllUC7B7qL/Jsp0CxDtm7dyrp16+jQoQNBQUFs3bqVP/74g4iICOrUqcO7775LixYtyMzMZOTIkXh52T+ipnr16qxbt45WrVphsVioUKGC3fn9+/czb9487rjjDsLCwkhNTWXPnj08/PDDxe7jxIkTGTx4MP7+/nTs2JHs7Gy2bdvGiRMnGD58OA888ABjx46lX79+jBkzhrS0NKZPn14qr49c3I/f+NoFhJdy/rxMgMSPKpH4USUHpQtknvBg2F31L6t/IiXhHmXGa0Oww/OW6RUcngNwq1UOy6zAS17Ho72n/cKiv7dT3QPPtypesh25cjR07hzNNC5D/Pz82LhxI507d6Zu3bqMGzeOhIQEOnXqxFtvvcWJEydo1qwZDz30EIMHDyYoyP4xNQkJCSQmJhIeHk5UVFSR9r29vdm9ezc9evSgbt26PPbYYwwcOJDHH3+82H3s27cvb775JvPnzycyMpI2bdqwYMECatSoARQ8c3PFihX89NNPREVFMXbsWF588UXnXhgRERFHjFLYyjCTYZTxyQNS5mRmZuLv7087jx54mLTARK5NnuuUJZNrV+7pHFZ3eoOMjAz8/PwuXeEyFH5WRHechEc5x1npS8nLPUfS6gku7evVTEPnIiIiIg5o6Nw5CjRFREREHLEaBZsz9cswBZoiIiIijuibgZyixUAiIiIi4hLKaIqIiIg4YMLJOZql1pN/JwWaIiIiIo7om4GcoqFzEREREXEJZTRFREREHNDjjZyjQFNERETEEa06d4qGzkVERESuEvHx8ZhMJrutfv36tvPnzp1j4MCBVKxYER8fH3r06MHRo0ft2jh48CBdunTB29uboKAgRo4cSV5enl2Z9evX06xZMywWC7Vr12bBggUuuR8FmiIiIiIOmAzD6a2kGjZsyJEjR2zb5s2bbeeGDRvGihUr+PDDD9mwYQOHDx+me/futvP5+fl06dKFnJwctmzZwsKFC1mwYAETJkywldm/fz9dunShXbt2JCcnM3ToUPr27csXX3zh3It1ARo6FxEREXHE+r/Nmfol5OHhQUhISJHjGRkZvPXWWyxevJhbb70VgPnz5xMREcE333zDjTfeyJo1a/j5559Zu3YtwcHBNG3alMmTJzN69Gji4+Mxm83MnTuXGjVqkJCQAEBERASbN29m5syZxMbGOnGzRSmjKSIiIuJimZmZdlt2drbDsnv27CEsLIyaNWvSq1cvDh48CMD27dvJzc0lJibGVrZ+/fpUrVqVpKQkAJKSkoiMjCQ4ONhWJjY2lszMTHbt2mUrc34bhWUK2yhNCjRFREREHCitofPw8HD8/f1t25QpUy54vZYtW7JgwQJWr17Na6+9xv79+7nllls4deoU6enpmM1mAgIC7OoEBweTnp4OQHp6ul2QWXi+8NzFymRmZnL27FmnX7PzaehcRERExJFSWnV+6NAh/Pz8bIctFssFi3fq1Mn2c+PGjWnZsiXVqlVj6dKleHl5OdGRK0MZTRERERFHCr8ZyJkN8PPzs9scBZp/FxAQQN26ddm7dy8hISHk5ORw8uRJuzJHjx61zekMCQkpsgq9cP9SZfz8/Eo9mFWgKSIiInKVysrKYt++fYSGhtK8eXPKlSvHunXrbOdTU1M5ePAg0dHRAERHR/PTTz9x7NgxW5nExET8/Pxo0KCBrcz5bRSWKWyjNCnQFBEREXGg8JuBnNlKYsSIEWzYsIG0tDS2bNnCXXfdhbu7Oz179sTf358+ffowfPhwvvrqK7Zv384jjzxCdHQ0N954IwAdOnSgQYMGPPTQQ/zwww988cUXjBs3joEDB9qyqP379+fXX39l1KhR7N69m1dffZWlS5cybNiw0n75NEdTRERExKHzhr8vu34J/Pbbb/Ts2ZM///yTypUrc/PNN/PNN99QuXJlAGbOnImbmxs9evQgOzub2NhYXn31VVt9d3d3Vq5cyYABA4iOjqZ8+fLExcUxadIkW5kaNWrw2WefMWzYMGbPnk2VKlV48803S/3RRgAmw3Dm1RP598nMzMTf3592Hj3wMJW70t0RcQnPdRWvdBdEXCb3dA6rO71BRkaG3QKb0lT4WdEmehweHp6X3U5e3jk2JD3r0r5ezZTRFBEREXHAZC3YnKlflinQFBEREXHkHx46v9ZoMZCIiIiIuIQymiIiIiKOlNID28sqBZoiIiIiDpz/NZKXW78s09C5iIiIiLiEMpoiIiIijmgxkFMUaIqIiIg4YgDOPKKobMeZCjRFREREHNEcTedojqaIiIiIuIQymiIiIiKOGDg5R7PUevKvpEBTRERExBEtBnKKhs5FRERExCWU0RQRERFxxAqYnKxfhinQFBEREXFAq86do6FzEREREXEJZTRFREREHNFiIKco0BQRERFxRIGmUzR0LiIiIiIuoYymiIiIiCPKaDpFgaaIiIiII3q8kVMUaIqIiIg4oMcbOUdzNEVERETEJZTRFBEREXFEczSdokBTRERExBGrASYngkVr2Q40NXQuIiIiIi6hjKaIiIiIIxo6d4oCTRERERGHnAw0KduBpobORURERMQllNEUERERcURD505RoCkiIiLiiNXAqeFvrToXERERESl9ymiKiIiIOGJYCzZn6pdhCjRFREREHNEcTaco0BQRERFxRHM0naI5miIiIiLiEgo0RURERBwpHDp3ZiuBKVOmcP311+Pr60tQUBDdunUjNTXVrkzbtm0xmUx2W//+/e3KHDx4kC5duuDt7U1QUBAjR44kLy/Prsz69etp1qwZFouF2rVrs2DBgst6iS5GgaaIiIiIIwZOBpolu9yGDRsYOHAg33zzDYmJieTm5tKhQwdOnz5tV65fv34cOXLEtk2dOtV2Lj8/ny5dupCTk8OWLVtYuHAhCxYsYMKECbYy+/fvp0uXLrRr147k5GSGDh1K3759+eKLL5x5tYrQHE0RERGRq8Tq1avt9hcsWEBQUBDbt2+ndevWtuPe3t6EhIRcsI01a9bw888/s3btWoKDg2natCmTJ09m9OjRxMfHYzabmTt3LjVq1CAhIQGAiIgINm/ezMyZM4mNjS21+1FGU0RERMSRUho6z8zMtNuys7OLdfmMjAwAAgMD7Y4vWrSISpUq0ahRI8aMGcOZM2ds55KSkoiMjCQ4ONh2LDY2lszMTHbt2mUrExMTY9dmbGwsSUlJJX+NLkIZTRERERFHrFbAiWdhWgvqhoeH2x1+5plniI+Pv0RVK0OHDqVVq1Y0atTIdvyBBx6gWrVqhIWF8eOPPzJ69GhSU1P55JNPAEhPT7cLMgHbfnp6+kXLZGZmcvbsWby8vEp+rxegQFNERETExQ4dOoSfn59t32KxXLLOwIED2blzJ5s3b7Y7/thjj9l+joyMJDQ0lPbt27Nv3z5q1apVep0uBRo6FxEREXGklIbO/fz87LZLBZqDBg1i5cqVfPXVV1SpUuWiZVu2bAnA3r17AQgJCeHo0aN2ZQr3C+d1Oirj5+dXatlMUKApIiIi4tg//HgjwzAYNGgQy5Yt48svv6RGjRqXrJOcnAxAaGgoANHR0fz0008cO3bMViYxMRE/Pz8aNGhgK7Nu3Tq7dhITE4mOji5Rfy9FgaaIiIjIVWLgwIG89957LF68GF9fX9LT00lPT+fs2bMA7Nu3j8mTJ7N9+3bS0tL49NNPefjhh2ndujWNGzcGoEOHDjRo0ICHHnqIH374gS+++IJx48YxcOBAWya1f//+/Prrr4waNYrdu3fz6quvsnTpUoYNG1aq96NAU0RERMQRq+H8VgKvvfYaGRkZtG3bltDQUNv2wQcfAGA2m1m7di0dOnSgfv36PPXUU/To0YMVK1bY2nB3d2flypW4u7sTHR3Ngw8+yMMPP8ykSZNsZWrUqMFnn31GYmIiTZo0ISEhgTfffLNUH20EWgwkIiIi4pBhWDGMy191XtK6xiWG2sPDw9mwYcMl26lWrRqrVq26aJm2bduyY8eOEvWvpBRoioiIiDhilDwrWaR+GaahcxERERFxCWU0RURERBwxDEr8heVF6pddCjRFREREHLFaweTENwM5Mb/zWqChcxERERFxCWU0RURERBzR0LlTFGiKiIiIOGBYrRhODJ0782ika4GGzkVERETEJZTRFBEREXFEQ+dOUaApIiIi4ojVAJMCzculoXMRERERcQllNEVEREQcMQzAmedolu2MpgJNEREREQcMq4HhxNC5oUBTRERERC7IsOJcRlOPNxIRERERKXXKaIqIiIg4oKFz5yjQFBEREXFEQ+dOUaApZU7hX5d5Ru4V7omI6+SezrnSXRBxmbz//X7/E9nCPHKdel57HmX7s0aBppQ5p06dAmBT/qdXuCciLtTpSndAxPVOnTqFv7+/S9o2m82EhISwOX2V022FhIRgNptLoVf/PiajrE8ekDLHarVy+PBhfH19MZlMV7o7ZUJmZibh4eEcOnQIPz+/K90dkVKn3/F/lmEYnDp1irCwMNzcXLeu+dy5c+TkOD86YDab8fT0LIUe/fsooylljpubG1WqVLnS3SiT/Pz89CEs1zT9jv9zXJXJPJ+np2eZDRBLix5vJCIiIiIuoUBTRERERFxCgaaIuJzFYuGZZ57BYrFc6a6IuIR+x0UuTIuBRERERMQllNEUEREREZdQoCkiIiIiLqFAU0RERERcQoGmSBlUvXp1Zs2adcWubzKZWL58OQBpaWmYTCaSk5OvWH9K8nqcOXOGHj164Ofnh8lk4uTJk6XyesbHx9O0aVOn2hDXKul7NG/ePMLDw3Fzc2PWrFml8h5fDf9eREpCD2wX+Rdo27YtTZs2vaLBoauEh4dz5MgRKlWq5PJrLViwgKFDh3Ly5Em749999x3ly5cvVhsLFy5k06ZNbNmyhUqVKuHv71+i+vLvYDKZWLZsGd26dbMdGzFiBE8++WSx6mdmZjJo0CBmzJhBjx498Pf3x2q1Fru+yLVCgabINcIwDPLz8/HwuDL/rHNzcylXrlyJ67m7uxMSEuKCHhVf5cqVi1123759RERE0KhRo8uqL/9ePj4++Pj4FKvswYMHyc3NpUuXLoSGhtq1IVKWaOhcxAlt27Zl8ODBjBo1isDAQEJCQoiPj7crc/LkSfr27UvlypXx8/Pj1ltv5YcffrCd7927t13WBGDo0KG0bdvWdn7Dhg3Mnj0bk8mEyWQiLS2N9evXYzKZ+Pzzz2nevDkWi4XNmzezb98+7rzzToKDg/Hx8eH6669n7dq1Jbovq9XKpEmTqFKlChaLhaZNm7J69Wrb+cLhuw8++IA2bdrg6enJokWLLtjWnj17aN26NZ6enjRo0IDExES7838fCjxx4gS9evWicuXKeHl5UadOHebPnw9ATk4OgwYNIjQ0FE9PT6pVq8aUKVNsbc2YMYPIyEjKly9PeHg4TzzxBFlZWQCsX7+eRx55hIyMDNvrWPhenT/0bRgG8fHxVK1aFYvFQlhYGIMHDwYK3u+EhAQ2btyIyWSyvUd/Hzq/1HsO8MILLxAcHIyvry99+vTh3LlzxX+DpFg++ugjIiMj8fLyomLFisTExHD69Gm+++47brvtNltGuk2bNnz//fe2etWrVwfgrrvuwmQy2fb/PvS9fv16brjhBsqXL09AQACtWrXiwIEDLFiwgMjISABq1qxp+zd7oaHzN998k4iICDw9Palfvz6vvvqq3flvv/2WqKgoPD09adGiBTt27Cj110nElRRoijhp4cKFlC9fnq1btzJ16lQmTZpkF0zdc889HDt2jM8//5zt27fTrFkz2rdvz/Hjx4vV/uzZs4mOjqZfv34cOXKEI0eOEB4ebjv/9NNP88ILL5CSkkLjxo3Jysqic+fOrFu3jh07dtCxY0e6du3KwYMHi31Ps2fPJiEhgenTp/Pjjz8SGxvLHXfcwZ49e+zKPf300wwZMoSUlBRiY2OLtGO1WunevTtms5mtW7cyd+5cRo8efdFrjx8/np9//pnPP/+clJQUXnvtNduw+pw5c/j0009ZunQpqampLFq0yBYEQMH32M+ZM4ddu3axcOFCvvzyS0aNGgXATTfdxKxZs/Dz87O9jiNGjChy/Y8//piZM2fy+uuvs2fPHpYvX24LGj755BP69etHdHQ0R44c4ZNPPrngPVzqPV+6dCnx8fE8//zzbNu2jdDQ0CIBhjjnyJEj9OzZk0cffZSUlBTWr19P9+7dMQyDU6dOERcXx+bNm/nmm2+oU6cOnTt35tSpU0DBVAqA+fPnc+TIEdv++fLy8ujWrRtt2rThxx9/JCkpicceewyTycR9991n++Pu22+/LfJvttCiRYuYMGECzz33HCkpKTz//POMHz+ehQsXApCVlcXtt99OgwYN2L59O/Hx8Rf8nRW5qhkictnatGlj3HzzzXbHrr/+emP06NGGYRjGpk2bDD8/P+PcuXN2ZWrVqmW8/vrrhmEYRlxcnHHnnXfanR8yZIjRpk0bu+sMGTLErsxXX31lAMby5csv2c+GDRsaL730km2/WrVqxsyZMx2WDwsLM5577rki9/XEE08YhmEY+/fvNwBj1qxZF73uF198YXh4eBi///677djnn39uAMayZcvs2tqxY4dhGIbRtWtX45FHHrlge08++aRx6623Glar9aLXLfThhx8aFStWtO3Pnz/f8Pf3L1Lu/NcjISHBqFu3rpGTk3PBNv/+3vy9fnHe8+joaNtrWahly5ZGkyZNinVfcmnbt283ACMtLe2SZfPz8w1fX19jxYoVtmPn/44WeuaZZ2zv0Z9//mkAxvr16y/Y5o4dOwzA2L9//wXrG0bB78TixYvt6k2ePNmIjo42DMMwXn/9daNixYrG2bNnbedfe+01u38vIlc7ZTRFnNS4cWO7/dDQUI4dOwbADz/8QFZWFhUrVrTN7/Lx8WH//v3s27evVK7fokULu/2srCxGjBhBREQEAQEB+Pj4kJKSUuyMZmZmJocPH6ZVq1Z2x1u1akVKSspFr/13KSkphIeHExYWZjsWHR190ToDBgxgyZIlNG3alFGjRrFlyxbbud69e5OcnEy9evUYPHgwa9assau7du1a2rdvz3XXXYevry8PPfQQf/75J2fOnLnoNc93zz33cPbsWWrWrEm/fv1YtmwZeXl5xa5fnPc8JSWFli1b2tW71OsiJdOkSRPat29PZGQk99xzD2+88QYnTpwA4OjRo/Tr1486derg7++Pn58fWVlZJcr6BwYG0rt3b2JjY+natSuzZ8/myJEjxa5/+vRp9u3bR58+fex+T5599lm735PGjRvj6elpq6ffE/m30WIgESf9fQGMyWTCarUCBUFfaGgo69evL1IvICAAKBjuNf72TbC5ubnFvv7fVzuPGDGCxMREpk+fTu3atfHy8uLuu+8mJyen2G1e7rVLQ6dOnThw4ACrVq0iMTGR9u3bM3DgQKZPn06zZs3Yv38/n3/+OWvXruXee+8lJiaGjz76iLS0NG6//XYGDBjAc889R2BgIJs3b6ZPnz7k5OTg7e1drOuHh4eTmprK2rVrSUxM5IknnmDatGls2LChWIudivOei+u5u7uTmJjIli1bWLNmDS+99BJjx45l69atDBgwgD///JPZs2dTrVo1LBYL0dHRJf43Mn/+fAYPHszq1av54IMPGDduHImJidx4442XrFs4d/iNN94o8keHu7t7ifohcjVTRlPEhZo1a0Z6ejoeHh7Url3bbiucd1i5cuUimZC/PyPPbDaTn59frGt+/fXX9O7dm7vuuovIyEhCQkJIS0srdp/9/PwICwvj66+/LtJugwYNit0OQEREBIcOHbK7v2+++eaS9SpXrkxcXBzvvfces2bNYt68eXb9u++++3jjjTf44IMP+Pjjjzl+/Djbt2/HarWSkJDAjTfeSN26dTl8+LBdu8V9Hb28vOjatStz5sxh/fr1JCUl8dNPPxXrnovznkdERLB161a7esV5XaRkTCYTrVq1YuLEiezYsQOz2cyyZcv4+uuvGTx4MJ07d6Zhw4ZYLBb+7//+z65uuXLlivW7EhUVxZgxY9iyZQuNGjVi8eLFxepbcHAwYWFh/Prrr0V+T2rUqAEU/J78+OOPdgvF9Hsi/zbKaIq4UExMDNHR0XTr1o2pU6fagp/PPvuMu+66ixYtWnDrrbcybdo03nnnHaKjo3nvvffYuXMnUVFRtnaqV6/O1q1bSUtLw8fHh8DAQIfXrFOnDp988gldu3bFZDIxfvx4W4a1uEaOHMkzzzxDrVq1aNq0KfPnzyc5OdnhyvKL3X/dunWJi4tj2rRpZGZmMnbs2IvWmTBhAs2bN6dhw4ZkZ2ezcuVKIiIigIJV5aGhoURFReHm5saHH35ISEgIAQEB1K5dm9zcXF566SW6du3K119/zdy5c+3arl69OllZWaxbt44mTZrg7e1dJNO5YMEC8vPzadmyJd7e3rz33nt4eXlRrVq1Yt/zpd7zIUOG0Lt3b1q0aEGrVq1YtGgRu3btombNmiV4deVitm7dyrp16+jQoQNBQUFs3bqVP/74g4iICOrUqcO7775LixYtyMzMZOTIkXh5ednVr169OuvWraNVq1ZYLBYqVKhgd37//v3MmzePO+64g7CwMFJTU9mzZw8PP/xwsfs4ceJEBg8ejL+/Px07diQ7O5tt27Zx4sQJhg8fzgMPPMDYsWPp168fY8aMIS0tjenTp5fK6yPyT1FGU8SFTCYTq1atonXr1jzyyCPUrVuX+++/nwMHDhAcHAxAbGws48ePZ9SoUVx//fWcOnWqyIfViBEjcHd3p0GDBlSuXPmic8lmzJhBhQoVuOmmm+jatSuxsbE0a9asRP0ePHgww4cP56mnniIyMpLVq1fz6aefUqdOnRK14+bmxrJlyzh79iw33HADffv25bnnnrtoHbPZzJgxY2jcuDGtW7fG3d2dJUuWAODr68vUqVNp0aIF119/PWlpaaxatQo3NzeaNGnCjBkzePHFF2nUqBGLFi2ye/QRFKw879+/P/fddx+VK1dm6tSpRa4fEBDAG2+8QatWrWjcuDFr165lxYoVVKxYsVj3XJz3/L777rO9582bN+fAgQMMGDCgWO1L8fj5+bFx40Y6d+5M3bp1GTduHAkJCXTq1Im33nqLEydO0KxZMx566CEGDx5MUFCQXf2EhAQSExMJDw+3+6OvkLe3N7t376ZHjx7UrVuXxx57jIEDB/L4448Xu499+/blzTffZP78+URGRtKmTRsWLFhgy2j6+PiwYsUKfvrpJ6Kiohg7diwvvviicy+MyD/MZPx9cpiIiIiISClQRlNEREREXEKBpoiIiIi4hAJNEREREXEJBZoiIiIi4hIKNEVERETEJRRoioiIiIhLKNAUEREREZdQoCkiIiIiLqFAU0TkCujduzfdunWz7bdt25ahQ4f+4/1Yv349JpOJkydPOixjMplYvnx5sduMj4+nadOmTvUrLS0Nk8lEcnKyU+2IyJWlQFNE5H969+6NyWTCZDJhNpupXbs2kyZNIi8vz+XX/uSTT5g8eXKxyhYnOBQRuRp4XOkOiIhcTTp27Mj8+fPJzs5m1apVDBw4kHLlyjFmzJgiZXNycjCbzaVy3cDAwFJpR0TkaqKMpojIeSwWCyEhIVSrVo0BAwYQExPDp59+Cvw13P3cc88RFhZGvXr1ADh06BD33nsvAQEBBAYGcuedd5KWlmZrMz8/n+HDhxMQEEDFihUZNWoUhmHYXffvQ+fZ2dmMHj2a8PBwLBYLtWvX5q233iItLY127doBUKFCBUwmE7179wbAarUyZcoUatSogZeXF02aNOGjjz6yu86qVauoW7cuXl5etGvXzq6fxTV69Gjq1q2Lt7c3NWvWZPz48eTm5hYp9/rrrxMeHo63tzf33nsvGRkZdufffPNNIiIi8PT0pH79+rz66qsl7ouIXN0UaIqIXISXlxc5OTm2/XXr1pGamkpiYiIrV64kNzeX2NhYfH192bRpE19//TU+Pj507NjRVi8hIYEFCxbw9ttvs3nzZo4fP86yZcsuet2HH36Y999/nzlz5pCSksLrr7+Oj48P4eHhfPzxxwCkpqZy5MgRZs+eDcCUKVN45513mDt3Lrt27WLYsGE8+OCDbNiwASgIiLt3707Xrl1JTk6mb9++PP300yV+TXx9fVmwYAE///wzs2fP5o033mDmzJl2Zfbu3cvSpUtZsWIFq1evZseOHTzxxBO284sWLWLChAk899xzpKSk8PzzzzN+/HgWLlxY4v6IyFXMEBERwzAMIy4uzrjzzjsNwzAMq9VqJCYmGhaLxRgxYoTtfHBwsJGdnW2r8+677xr16tUzrFar7Vh2drbh5eVlfPHFF4ZhGEZoaKgxdepU2/nc3FyjSpUqtmsZhmG0adPGGDJkiGEYhpGammoARmJi4gX7+dVXXxmAceLECduxc+fOGd7e3saWLVvsyvbp08fo2bOnYRiGMWbMGKNBgwZ250ePHl2krb8DjGXLljk8P23aNKN58+a2/WeeecZwd3c3fvvtN9uxzz//3HBzczOOHDliGIZh1KpVy1i8eLFdO5MnTzaio6MNwzCM/fv3G4CxY8cOh9cVkauf5miKiJxn5cqV+Pj4kJubi9Vq5YEHHiA+Pt52PjIy0m5e5g8//MDevXvx9fW1a+fcuXPs27ePjIwMjhw5QsuWLW3nPDw8aNGiRZHh80LJycm4u7vTpk2bYvd77969nDlzhttuu83ueE5ODlFRUQCkpKTY9QMgOjq62Nco9MEHHzBnzhz27dtHVlYWeXl5+Pn52ZWpWrUq1113nd11rFYrqamp+Pr6sm/fPvr06UO/fv1sZfLy8vD39y9xf0Tk6qVAU0TkPO3ateO1117DbDYTFhaGh4f9/ybLly9vt5+VlUXz5s1ZtGhRkbYqV658WX3w8vIqcZ2srCwAPvvsM7sADwrmnZaWpKQkevXqxcSJE4mNjcXf358lS5aQkJBQ4r6+8cYbRQJfd3f3UuuriFx5CjRFRM5Tvnx5ateuXezyzZo144MPPiAoKKhIVq9QaGgoW7dupXXr1kBB5m779u00a9bsguUjIyOxWq1s2LCBmJiYIucLM6r5+fm2Yw0aNMBisXDw4EGHmdCIiAjbwqZC33zzzaVv8jxbtmyhWrVqjB071nbswIEDRcodPHiQw4cPExYWZruOm5sb9erVIzg4mLCwMH799Vd69epVouuLyL+LFgOJiDihV69eVKpUiTvvvJNNmzaxf/9+1q9fz+DBg/ntt98AGDJkCC+88ALLly9n9+7dPPHEExd9Bmb16tWJi4vj0UcfZfny5bY2ly5dCkC1atUwmUysXLmSP/74g6ysLHx9fRkxYgTDhg1j4cKF7Nu3j++//56XXnrJtsCmf//+7Nmzh5EjR5KamsrixYtZsGBBie63Tp06HDx4kCVLlrBv3z7mzJlzwYVNnp6exMXF8cMPP7Bp0yYGDx7MvffeS0hICAATJ05kypQpzJkzh19++YWffvqJ+fPnM2PGjBL1R0Subgo0RUSc4O3tzcaNG6latSrdu3cnIiKCPn36cO7cOVuG86mnnuKhhx4iLi6O6OhofH19ueuuuy7a7muvvcbdd9/NE088Qf369enXrx+nT58G4LrrrmPixIk8/fTTBAcHM2jQIAAmT57M+PHjmTJlChEREXTs2JHPPvuMGjVqAAXzJj/++GOWL19OkyZNmDt3Ls8//3yJ7veOO+5g2LBhDBo0iKZNm7JlyxbGjx9fpFzt2rXp3r07nTt3pkOHDjRu3Nju8UV9+/blzTffZP78+URGRtKmTRsWLFhg66uIXBtMhqPZ6CIiIiIiTlBGU0RERERcQoGmiIiIiLiEAk0RERERcQkFmiIiIiLiEgo0RURERMQlFGiKiIiIiEso0BQRERERl1CgKSIiIiIuoUBTRERERFxCgaaIiIiIuIQCTRERERFxif8HmF9xeiuvEdoAAAAASUVORK5CYII=",
=======
      "image/png": "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",
>>>>>>> 006006e (train model)
=======
      "image/png": "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",
>>>>>>> f0600e8 (update crate full model data 100%💀)
      "text/plain": [
       "<Figure size 640x480 with 2 Axes>"
      ]
     },
     "metadata": {},
     "output_type": "display_data"
    }
   ],
   "source": [
    "cm_1= confusion_matrix(y_test, y_pred_lr, labels=model_lr.classes_)\n",
    "disp_1= ConfusionMatrixDisplay(confusion_matrix=cm_1,\n",
    "                          display_labels=model_lr.classes_)\n",
    "disp_1.plot()"
   ]
  },
  {
   "cell_type": "code",
<<<<<<< HEAD
<<<<<<< HEAD
   "execution_count": 22,
=======
   "execution_count": 117,
>>>>>>> 006006e (train model)
=======
   "execution_count": 205,
>>>>>>> f0600e8 (update crate full model data 100%💀)
   "metadata": {},
   "outputs": [
    {
     "name": "stdout",
     "output_type": "stream",
     "text": [
<<<<<<< HEAD
<<<<<<< HEAD
=======
>>>>>>> f0600e8 (update crate full model data 100%💀)
      "Cross Validation Scores (Logistic Regression): [0.93579348 0.93397319 0.93281483 0.93331127 0.93446963 0.9313255\n",
      " 0.92933973 0.9348006  0.93513156 0.93182194 0.93694141 0.93379676\n",
      " 0.93594836 0.93131413 0.93760344]\n",
      "Mean CV Accuracy: 0.9339\n",
      "Standard Deviation CV Accuracy: 0.0022\n",
<<<<<<< HEAD
      "เวลาที่ใช้ในการทำ Cross Validation: 4.885711 วินาที\n"
=======
      "Cross Validation Scores (Logistic Regression): [0.8755585  0.8661261  0.87671686 0.86976667 0.87456561 0.87456561\n",
      " 0.87224888 0.87158696 0.88184676 0.8806884  0.87421384 0.87537239\n",
      " 0.87735849 0.87669646 0.87636544]\n",
      "Mean CV Accuracy: 0.8749\n",
      "Standard Deviation CV Accuracy: 0.0038\n",
      "เวลาที่ใช้ในการทำ Cross Validation: 2.571348 วินาที\n"
>>>>>>> 006006e (train model)
=======
      "เวลาที่ใช้ในการทำ Cross Validation: 4.637564 วินาที\n"
>>>>>>> f0600e8 (update crate full model data 100%💀)
     ]
    }
   ],
   "source": [
    "start_time_cv = time.time()  # เวลาเริ่มต้นสำหรับ cross-validation\n",
    "cv_scores_lr = cross_val_score(model_lr, X_train, y_train, cv=k_folds, scoring='accuracy')\n",
    "end_time_cv = time.time()  # เวลาสิ้นสุดสำหรับ cross-validation\n",
    "\n",
    "# แสดงผล Cross Validation Scores\n",
    "print(f\"Cross Validation Scores (Logistic Regression): {cv_scores_lr}\")\n",
    "print(f\"Mean CV Accuracy: {np.mean(cv_scores_lr):.4f}\")\n",
    "print(f\"Standard Deviation CV Accuracy: {np.std(cv_scores_lr):.4f}\")\n",
    "\n",
    "# คำนวณเวลาที่ใช้ในการทำ Cross Validation\n",
    "cv_time_LR = end_time_cv - start_time_cv\n",
    "print(f\"เวลาที่ใช้ในการทำ Cross Validation: {cv_time_LR:.6f} วินาที\")"
   ]
  },
  {
   "cell_type": "code",
<<<<<<< HEAD
<<<<<<< HEAD
   "execution_count": 23,
=======
   "execution_count": 118,
>>>>>>> 006006e (train model)
=======
   "execution_count": 206,
>>>>>>> f0600e8 (update crate full model data 100%💀)
   "metadata": {},
   "outputs": [
    {
     "name": "stdout",
     "output_type": "stream",
     "text": [
<<<<<<< HEAD
<<<<<<< HEAD
      "Training Accuracy: 0.9342674315975287\n",
      "Test Accuracy: 0.9329677967410611\n"
=======
      "Training Accuracy: 0.874757281553398\n",
      "Test Accuracy: 0.8728601951244627\n"
>>>>>>> 006006e (train model)
=======
      "Training Accuracy: 0.9342674315975287\n",
      "Test Accuracy: 0.9329677967410611\n"
>>>>>>> f0600e8 (update crate full model data 100%💀)
     ]
    }
   ],
   "source": [
    "# การประเมินผล\n",
    "train_accuracy = accuracy_score(y_train, model_lr.predict(X_train))\n",
    "test_accuracy = accuracy_score(y_test, model_lr.predict(X_test))\n",
    "\n",
    "print(f'Training Accuracy: {train_accuracy}')\n",
    "print(f'Test Accuracy: {test_accuracy}')"
   ]
  },
  {
   "cell_type": "markdown",
   "metadata": {},
   "source": [
    "## K-NN(K Nearest Neighbours)"
   ]
  },
  {
   "cell_type": "code",
<<<<<<< HEAD
<<<<<<< HEAD
   "execution_count": 24,
=======
   "execution_count": 119,
>>>>>>> 006006e (train model)
=======
   "execution_count": 207,
>>>>>>> f0600e8 (update crate full model data 100%💀)
   "metadata": {},
   "outputs": [
    {
     "name": "stdout",
     "output_type": "stream",
     "text": [
<<<<<<< HEAD
<<<<<<< HEAD
      "เวลาที่ใช้ในการฝึกโมเดล: 0.088249 วินาที\n"
=======
      "เวลาที่ใช้ในการฝึกโมเดล: 0.065339 วินาที\n"
>>>>>>> 006006e (train model)
=======
      "เวลาที่ใช้ในการฝึกโมเดล: 0.084447 วินาที\n"
>>>>>>> f0600e8 (update crate full model data 100%💀)
     ]
    }
   ],
   "source": [
    "from sklearn.neighbors import KNeighborsClassifier\n",
    "\n",
    "model_knn=KNeighborsClassifier(n_neighbors=5)\n",
    "\n",
    "#fit the model with trained data\n",
    "start_time = time.time()  # เวลาเริ่มต้น\n",
    "model_knn.fit(X_train,y_train)\n",
    "end_time = time.time()  # เวลาสิ้นสุด\n",
    "\n",
    "# คำนวณเวลาที่ใช้ในการฝึกโมเดล\n",
    "training_time_KNN = end_time - start_time\n",
    "print(f\"เวลาที่ใช้ในการฝึกโมเดล: {training_time_KNN:.6f} วินาที\")\n"
   ]
  },
  {
   "cell_type": "code",
<<<<<<< HEAD
<<<<<<< HEAD
   "execution_count": 25,
=======
   "execution_count": 120,
>>>>>>> 006006e (train model)
=======
   "execution_count": 208,
>>>>>>> f0600e8 (update crate full model data 100%💀)
   "metadata": {},
   "outputs": [
    {
     "name": "stdout",
     "output_type": "stream",
     "text": [
<<<<<<< HEAD
<<<<<<< HEAD
      "Accuracy of Knn is : 94.2 % .\n",
      "Classification Report is : \n",
      "                          precision    recall  f1-score   support\n",
      "\n",
      "neutral or dissatisfied       0.94      0.96      0.95     22029\n",
      "              satisfied       0.94      0.92      0.93     16818\n",
      "\n",
      "               accuracy                           0.94     38847\n",
      "              macro avg       0.94      0.94      0.94     38847\n",
      "           weighted avg       0.94      0.94      0.94     38847\n",
=======
      "Accuracy of Knn is : 92.66 % .\n",
=======
      "Accuracy of Knn is : 94.2 % .\n",
>>>>>>> f0600e8 (update crate full model data 100%💀)
      "Classification Report is : \n",
      "                          precision    recall  f1-score   support\n",
      "\n",
      "neutral or dissatisfied       0.94      0.96      0.95     22029\n",
      "              satisfied       0.94      0.92      0.93     16818\n",
      "\n",
<<<<<<< HEAD
      "               accuracy                           0.93     38847\n",
      "              macro avg       0.93      0.92      0.92     38847\n",
      "           weighted avg       0.93      0.93      0.93     38847\n",
>>>>>>> 006006e (train model)
=======
      "               accuracy                           0.94     38847\n",
      "              macro avg       0.94      0.94      0.94     38847\n",
      "           weighted avg       0.94      0.94      0.94     38847\n",
>>>>>>> f0600e8 (update crate full model data 100%💀)
      "\n"
     ]
    }
   ],
   "source": [
    "\n",
    "#Predict the accuracy of the model\n",
    "y_pred_knn=model_knn.predict(X_test)\n",
    "\n",
    "accuracy_KNN=accuracy_score(y_pred_knn,y_test)\n",
    "print(f\"Accuracy of Knn is : {round(accuracy_KNN*100,2)} % .\")\n",
    "\n",
    "report=classification_report(y_test,y_pred_knn)\n",
    "print(\"Classification Report is : \\n\",report)"
   ]
  },
  {
   "cell_type": "code",
<<<<<<< HEAD
<<<<<<< HEAD
   "execution_count": 26,
=======
   "execution_count": 121,
>>>>>>> 006006e (train model)
=======
   "execution_count": 209,
>>>>>>> f0600e8 (update crate full model data 100%💀)
   "metadata": {},
   "outputs": [
    {
     "data": {
      "text/plain": [
<<<<<<< HEAD
<<<<<<< HEAD
       "<sklearn.metrics._plot.confusion_matrix.ConfusionMatrixDisplay at 0x30c705d00>"
      ]
     },
     "execution_count": 26,
=======
       "<sklearn.metrics._plot.confusion_matrix.ConfusionMatrixDisplay at 0x13ba95d60>"
      ]
     },
     "execution_count": 121,
>>>>>>> 006006e (train model)
=======
       "<sklearn.metrics._plot.confusion_matrix.ConfusionMatrixDisplay at 0x1295e0800>"
      ]
     },
     "execution_count": 209,
>>>>>>> f0600e8 (update crate full model data 100%💀)
     "metadata": {},
     "output_type": "execute_result"
    },
    {
     "data": {
<<<<<<< HEAD
<<<<<<< HEAD
      "image/png": "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",
=======
      "image/png": "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",
>>>>>>> 006006e (train model)
=======
      "image/png": "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",
>>>>>>> f0600e8 (update crate full model data 100%💀)
      "text/plain": [
       "<Figure size 640x480 with 2 Axes>"
      ]
     },
     "metadata": {},
     "output_type": "display_data"
    }
   ],
   "source": [
    "cm_2= confusion_matrix(y_test, y_pred_knn, labels=model_lr.classes_)\n",
    "disp_2= ConfusionMatrixDisplay(confusion_matrix=cm_2,\n",
    "                          display_labels=model_knn.classes_)\n",
    "disp_2.plot()"
   ]
  },
  {
   "cell_type": "code",
<<<<<<< HEAD
<<<<<<< HEAD
   "execution_count": 27,
=======
   "execution_count": 122,
>>>>>>> 006006e (train model)
=======
   "execution_count": 210,
>>>>>>> f0600e8 (update crate full model data 100%💀)
   "metadata": {},
   "outputs": [
    {
     "name": "stdout",
     "output_type": "stream",
     "text": [
<<<<<<< HEAD
<<<<<<< HEAD
=======
>>>>>>> f0600e8 (update crate full model data 100%💀)
      "Cross Validation Scores (KNN): [0.94092338 0.94241271 0.94290915 0.94191627 0.94605328 0.94208175\n",
      " 0.93943406 0.94108886 0.94489492 0.94141982 0.94571334 0.94472029\n",
      " 0.94654088 0.94157564 0.94935452]\n",
      "Mean CV Accuracy: 0.9434\n",
      "Standard Deviation CV Accuracy: 0.0026\n",
<<<<<<< HEAD
      "เวลาที่ใช้ในการทำ Cross Validation: 12.854909 วินาที\n"
=======
      "Cross Validation Scores (KNN): [0.92867781 0.92553368 0.92900877 0.92503723 0.927023   0.92354791\n",
      " 0.92338243 0.92917425 0.93198742 0.92983617 0.9225422  0.93346574\n",
      " 0.93032109 0.92717643 0.9285005 ]\n",
      "Mean CV Accuracy: 0.9277\n",
      "Standard Deviation CV Accuracy: 0.0031\n",
      "เวลาที่ใช้ในการทำ Cross Validation: 5.982291 วินาที\n"
>>>>>>> 006006e (train model)
=======
      "เวลาที่ใช้ในการทำ Cross Validation: 12.456906 วินาที\n"
>>>>>>> f0600e8 (update crate full model data 100%💀)
     ]
    }
   ],
   "source": [
    "# ทำ Cross Validation\n",
    "start_time_cv = time.time()  # เวลาเริ่มต้นสำหรับ cross-validation\n",
    "cv_scores_knn = cross_val_score(model_knn, X_train, y_train, cv=k_folds, scoring='accuracy')\n",
    "end_time_cv = time.time()  # เวลาสิ้นสุดสำหรับ cross-validation\n",
    "\n",
    "# แสดงผล Cross Validation Scores\n",
    "print(f\"Cross Validation Scores (KNN): {cv_scores_knn}\")\n",
    "print(f\"Mean CV Accuracy: {np.mean(cv_scores_knn):.4f}\")\n",
    "print(f\"Standard Deviation CV Accuracy: {np.std(cv_scores_knn):.4f}\")\n",
    "\n",
    "# คำนวณเวลาที่ใช้ในการทำ Cross Validation\n",
    "cv_time_KNN = end_time_cv - start_time_cv\n",
    "print(f\"เวลาที่ใช้ในการทำ Cross Validation: {cv_time_KNN:.6f} วินาที\")\n"
   ]
  },
  {
   "cell_type": "code",
<<<<<<< HEAD
<<<<<<< HEAD
   "execution_count": 28,
=======
   "execution_count": 123,
>>>>>>> 006006e (train model)
=======
   "execution_count": 211,
>>>>>>> f0600e8 (update crate full model data 100%💀)
   "metadata": {},
   "outputs": [
    {
     "name": "stdout",
     "output_type": "stream",
     "text": [
<<<<<<< HEAD
<<<<<<< HEAD
      "Training Accuracy: 0.9597859664607238\n",
      "Test Accuracy: 0.9420289855072463\n"
=======
      "Training Accuracy: 0.9490842894969108\n",
      "Test Accuracy: 0.9265580353695266\n"
>>>>>>> 006006e (train model)
=======
      "Training Accuracy: 0.9597859664607238\n",
      "Test Accuracy: 0.9420289855072463\n"
>>>>>>> f0600e8 (update crate full model data 100%💀)
     ]
    }
   ],
   "source": [
    "# การประเมินผล\n",
    "train_accuracy = accuracy_score(y_train, model_knn.predict(X_train))\n",
    "test_accuracy = accuracy_score(y_test, model_knn.predict(X_test))\n",
    "\n",
    "print(f'Training Accuracy: {train_accuracy}')\n",
    "print(f'Test Accuracy: {test_accuracy}')"
   ]
  },
  {
   "cell_type": "markdown",
   "metadata": {},
   "source": [
    "## Naive-Bayes"
   ]
  },
  {
   "cell_type": "code",
<<<<<<< HEAD
<<<<<<< HEAD
   "execution_count": 29,
=======
   "execution_count": 124,
>>>>>>> 006006e (train model)
=======
   "execution_count": 212,
>>>>>>> f0600e8 (update crate full model data 100%💀)
   "metadata": {},
   "outputs": [
    {
     "name": "stdout",
     "output_type": "stream",
     "text": [
<<<<<<< HEAD
<<<<<<< HEAD
      "เวลาที่ใช้ในการฝึกโมเดล: 0.214140 วินาที\n"
=======
      "เวลาที่ใช้ในการฝึกโมเดล: 0.169356 วินาที\n"
>>>>>>> 006006e (train model)
=======
      "เวลาที่ใช้ในการฝึกโมเดล: 0.175710 วินาที\n"
>>>>>>> f0600e8 (update crate full model data 100%💀)
     ]
    }
   ],
   "source": [
    "from sklearn.naive_bayes import MultinomialNB\n",
    "from sklearn.preprocessing import MinMaxScaler\n",
    "\n",
    "# ใช้ MinMaxScaler แปลง X_train ให้อยู่ในช่วง 0 ถึง 1\n",
    "scaler = MinMaxScaler()\n",
    "\n",
    "X_train_scaled = scaler.fit_transform(X_train)\n",
    "X_test_scaled = scaler.transform(X_test)\n",
    "\n",
    "# ฟิตโมเดลด้วยข้อมูลที่ถูกแปลงแล้ว\n",
    "model_naive = MultinomialNB()\n",
    "\n",
    "start_time = time.time()  # เวลาเริ่มต้น\n",
    "model_naive.fit(X_train_scaled, y_train)\n",
    "end_time = time.time()  # เวลาสิ้นสุด\n",
    "\n",
    "# คำนวณเวลาที่ใช้ในการฝึกโมเดล\n",
    "training_time_NB = end_time - start_time\n",
    "print(f\"เวลาที่ใช้ในการฝึกโมเดล: {training_time_NB:.6f} วินาที\")\n"
   ]
  },
  {
   "cell_type": "code",
<<<<<<< HEAD
<<<<<<< HEAD
   "execution_count": 30,
=======
   "execution_count": 125,
>>>>>>> 006006e (train model)
=======
   "execution_count": 213,
>>>>>>> f0600e8 (update crate full model data 100%💀)
   "metadata": {},
   "outputs": [
    {
     "name": "stdout",
     "output_type": "stream",
     "text": [
<<<<<<< HEAD
<<<<<<< HEAD
      "Accuracy of Naive Bayes is : 88.51 % .\n",
      "Classification Report is : \n",
      "                          precision    recall  f1-score   support\n",
      "\n",
      "neutral or dissatisfied       0.90      0.89      0.90     22029\n",
      "              satisfied       0.86      0.87      0.87     16818\n",
      "\n",
      "               accuracy                           0.89     38847\n",
      "              macro avg       0.88      0.88      0.88     38847\n",
      "           weighted avg       0.89      0.89      0.89     38847\n",
=======
      "Accuracy of Naive Bayes is : 77.0 % .\n",
=======
      "Accuracy of Naive Bayes is : 88.51 % .\n",
>>>>>>> f0600e8 (update crate full model data 100%💀)
      "Classification Report is : \n",
      "                          precision    recall  f1-score   support\n",
      "\n",
      "neutral or dissatisfied       0.90      0.89      0.90     22029\n",
      "              satisfied       0.86      0.87      0.87     16818\n",
      "\n",
<<<<<<< HEAD
      "               accuracy                           0.77     38847\n",
      "              macro avg       0.77      0.77      0.77     38847\n",
      "           weighted avg       0.77      0.77      0.77     38847\n",
>>>>>>> 006006e (train model)
=======
      "               accuracy                           0.89     38847\n",
      "              macro avg       0.88      0.88      0.88     38847\n",
      "           weighted avg       0.89      0.89      0.89     38847\n",
>>>>>>> f0600e8 (update crate full model data 100%💀)
      "\n"
     ]
    }
   ],
   "source": [
    "\n",
    "#Predict the accuracy of the model\n",
    "y_pred_naive=model_naive.predict(X_test_scaled)\n",
    "\n",
    "accuracy_NB=accuracy_score(y_pred_naive,y_test)\n",
    "print(f\"Accuracy of Naive Bayes is : {round(accuracy_NB*100,2)} % .\")\n",
    "\n",
    "report=classification_report(y_test,y_pred_naive)\n",
    "print(\"Classification Report is : \\n\",report)"
   ]
  },
  {
   "cell_type": "code",
<<<<<<< HEAD
<<<<<<< HEAD
   "execution_count": 31,
=======
   "execution_count": 126,
>>>>>>> 006006e (train model)
=======
   "execution_count": 214,
>>>>>>> f0600e8 (update crate full model data 100%💀)
   "metadata": {},
   "outputs": [
    {
     "name": "stdout",
     "output_type": "stream",
     "text": [
<<<<<<< HEAD
<<<<<<< HEAD
=======
>>>>>>> f0600e8 (update crate full model data 100%💀)
      "Cross Validation Scores (Naive Bayes): [0.88730763 0.89045176 0.89045176 0.88366705 0.8987258  0.88565282\n",
      " 0.88052292 0.88217773 0.8901208  0.88681119 0.88613042 0.88546839\n",
      " 0.89490235 0.88894406 0.89126117]\n",
      "Mean CV Accuracy: 0.8882\n",
      "Standard Deviation CV Accuracy: 0.0046\n",
<<<<<<< HEAD
      "เวลาที่ใช้ในการทำ Cross Validation: 2.958862 วินาที\n"
=======
      "Cross Validation Scores (Naive Bayes): [0.77114016 0.76170776 0.76965084 0.76551382 0.75608142 0.76832699\n",
      " 0.76402449 0.77362237 0.7699818  0.76931987 0.77672956 0.76564052\n",
      " 0.77722608 0.7633234  0.76679907]\n",
      "Mean CV Accuracy: 0.7679\n",
      "Standard Deviation CV Accuracy: 0.0054\n",
      "เวลาที่ใช้ในการทำ Cross Validation: 2.598578 วินาที\n"
>>>>>>> 006006e (train model)
=======
      "เวลาที่ใช้ในการทำ Cross Validation: 2.793000 วินาที\n"
>>>>>>> f0600e8 (update crate full model data 100%💀)
     ]
    }
   ],
   "source": [
    "start_time_cv = time.time()  # เวลาเริ่มต้นสำหรับ cross-validation\n",
    "cv_scores_nb = cross_val_score(model_naive, X_train_scaled, y_train, cv=k_folds, scoring='accuracy')\n",
    "end_time_cv = time.time()  # เวลาสิ้นสุดสำหรับ cross-validation\n",
    "\n",
    "# แสดงผล Cross Validation Scores\n",
    "print(f\"Cross Validation Scores (Naive Bayes): {cv_scores_nb}\")\n",
    "print(f\"Mean CV Accuracy: {np.mean(cv_scores_nb):.4f}\")\n",
    "print(f\"Standard Deviation CV Accuracy: {np.std(cv_scores_nb):.4f}\")\n",
    "\n",
    "# คำนวณเวลาที่ใช้ในการทำ Cross Validation\n",
    "cv_time_NB = end_time_cv - start_time_cv\n",
    "print(f\"เวลาที่ใช้ในการทำ Cross Validation: {cv_time_NB:.6f} วินาที\")"
   ]
  },
  {
   "cell_type": "markdown",
   "metadata": {},
   "source": [
    "## Decision Tree"
   ]
  },
  {
   "cell_type": "code",
<<<<<<< HEAD
<<<<<<< HEAD
   "execution_count": 32,
=======
   "execution_count": 127,
>>>>>>> 006006e (train model)
=======
   "execution_count": 215,
>>>>>>> f0600e8 (update crate full model data 100%💀)
   "metadata": {},
   "outputs": [
    {
     "name": "stdout",
     "output_type": "stream",
     "text": [
<<<<<<< HEAD
<<<<<<< HEAD
      "เวลาที่ใช้ในการฝึกโมเดล: 0.147104 วินาที\n"
=======
      "เวลาที่ใช้ในการฝึกโมเดล: 0.159111 วินาที\n"
>>>>>>> 006006e (train model)
=======
      "เวลาที่ใช้ในการฝึกโมเดล: 0.142860 วินาที\n"
>>>>>>> f0600e8 (update crate full model data 100%💀)
     ]
    }
   ],
   "source": [
    "from sklearn.tree import DecisionTreeClassifier\n",
    "\n",
    "model_dt=DecisionTreeClassifier(criterion='gini', splitter='best',max_features=6,random_state=1234)\n",
    "\n",
    "#fit the model with trained data\n",
    "start_time = time.time()  # เวลาเริ่มต้น\n",
    "model_dt.fit(X_train,y_train)\n",
    "end_time = time.time()  # เวลาสิ้นสุด\n",
    "\n",
    "# คำนวณเวลาที่ใช้ในการฝึกโมเดล\n",
    "training_time_DT = end_time - start_time\n",
    "print(f\"เวลาที่ใช้ในการฝึกโมเดล: {training_time_DT:.6f} วินาที\")\n",
    "\n"
   ]
  },
  {
   "cell_type": "code",
<<<<<<< HEAD
<<<<<<< HEAD
   "execution_count": 33,
=======
   "execution_count": 128,
>>>>>>> 006006e (train model)
=======
   "execution_count": 216,
>>>>>>> f0600e8 (update crate full model data 100%💀)
   "metadata": {},
   "outputs": [
    {
     "name": "stdout",
     "output_type": "stream",
     "text": [
<<<<<<< HEAD
<<<<<<< HEAD
      "Accuracy of Decision Tree is : 91.59 % .\n",
      "Classification Report is : \n",
      "                          precision    recall  f1-score   support\n",
      "\n",
      "neutral or dissatisfied       0.93      0.92      0.93     22029\n",
      "              satisfied       0.90      0.91      0.90     16818\n",
      "\n",
      "               accuracy                           0.92     38847\n",
      "              macro avg       0.91      0.91      0.91     38847\n",
      "           weighted avg       0.92      0.92      0.92     38847\n",
=======
      "Accuracy of Decision Tree is : 94.21 % .\n",
=======
      "Accuracy of Decision Tree is : 91.59 % .\n",
>>>>>>> f0600e8 (update crate full model data 100%💀)
      "Classification Report is : \n",
      "                          precision    recall  f1-score   support\n",
      "\n",
      "neutral or dissatisfied       0.93      0.92      0.93     22029\n",
      "              satisfied       0.90      0.91      0.90     16818\n",
      "\n",
<<<<<<< HEAD
      "               accuracy                           0.94     38847\n",
      "              macro avg       0.94      0.94      0.94     38847\n",
      "           weighted avg       0.94      0.94      0.94     38847\n",
>>>>>>> 006006e (train model)
=======
      "               accuracy                           0.92     38847\n",
      "              macro avg       0.91      0.91      0.91     38847\n",
      "           weighted avg       0.92      0.92      0.92     38847\n",
>>>>>>> f0600e8 (update crate full model data 100%💀)
      "\n"
     ]
    }
   ],
   "source": [
    "\n",
    "#Predict the accuracy of the model\n",
    "y_pred_dt=model_dt.predict(X_test)\n",
    "\n",
    "accuracy_DT=accuracy_score(y_pred_dt,y_test)\n",
    "print(f\"Accuracy of Decision Tree is : {round(accuracy_DT*100,2)} % .\")\n",
    "\n",
    "report=classification_report(y_test,y_pred_dt)\n",
    "print(\"Classification Report is : \\n\",report)"
   ]
  },
  {
   "cell_type": "code",
<<<<<<< HEAD
<<<<<<< HEAD
   "execution_count": 34,
=======
   "execution_count": 129,
>>>>>>> 006006e (train model)
=======
   "execution_count": 217,
>>>>>>> f0600e8 (update crate full model data 100%💀)
   "metadata": {},
   "outputs": [
    {
     "name": "stdout",
     "output_type": "stream",
     "text": [
<<<<<<< HEAD
<<<<<<< HEAD
=======
>>>>>>> f0600e8 (update crate full model data 100%💀)
      "Cross Validation Scores (Decision Tree): [0.91494291 0.92652656 0.92056925 0.91891445 0.91560483 0.92222406\n",
      " 0.91775608 0.92255502 0.92205858 0.91775608 0.91774247 0.9245283\n",
      " 0.92121814 0.91377027 0.9203906 ]\n",
      "Mean CV Accuracy: 0.9198\n",
      "Standard Deviation CV Accuracy: 0.0035\n",
<<<<<<< HEAD
      "เวลาที่ใช้ในการทำ Cross Validation: 2.394165 วินาที\n"
=======
      "Cross Validation Scores (Decision Tree): [0.94257819 0.94539136 0.93529704 0.93777925 0.93463512 0.93860665\n",
      " 0.93662088 0.93529704 0.94324011 0.93711733 0.93230718 0.93843098\n",
      " 0.9409136  0.93776895 0.94306521]\n",
      "Mean CV Accuracy: 0.9386\n",
      "Standard Deviation CV Accuracy: 0.0036\n",
      "เวลาที่ใช้ในการทำ Cross Validation: 2.536248 วินาที\n"
>>>>>>> 006006e (train model)
=======
      "เวลาที่ใช้ในการทำ Cross Validation: 2.367532 วินาที\n"
>>>>>>> f0600e8 (update crate full model data 100%💀)
     ]
    }
   ],
   "source": [
    "start_time_cv = time.time()  # เวลาเริ่มต้นสำหรับ cross-validation\n",
    "cv_scores_dt = cross_val_score(model_dt, X_train, y_train, cv=k_folds, scoring='accuracy')\n",
    "end_time_cv = time.time()  # เวลาสิ้นสุดสำหรับ cross-validation\n",
    "\n",
    "# แสดงผล Cross Validation Scores\n",
    "print(f\"Cross Validation Scores (Decision Tree): {cv_scores_dt}\")\n",
    "print(f\"Mean CV Accuracy: {np.mean(cv_scores_dt):.4f}\")\n",
    "print(f\"Standard Deviation CV Accuracy: {np.std(cv_scores_dt):.4f}\")\n",
    "\n",
    "# คำนวณเวลาที่ใช้ในการทำ Cross Validation\n",
    "cv_time_DT = end_time_cv - start_time_cv\n",
    "print(f\"เวลาที่ใช้ในการทำ Cross Validation: {cv_time_DT:.6f} วินาที\")"
   ]
  },
  {
   "cell_type": "code",
<<<<<<< HEAD
<<<<<<< HEAD
   "execution_count": 35,
=======
   "execution_count": 130,
>>>>>>> 006006e (train model)
=======
   "execution_count": 218,
>>>>>>> f0600e8 (update crate full model data 100%💀)
   "metadata": {},
   "outputs": [
    {
     "name": "stdout",
     "output_type": "stream",
     "text": [
      "Training Accuracy: 1.0\n",
<<<<<<< HEAD
<<<<<<< HEAD
      "Test Accuracy: 0.9159265837773831\n"
=======
      "Test Accuracy: 0.942080469534327\n"
>>>>>>> 006006e (train model)
=======
      "Test Accuracy: 0.9159265837773831\n"
>>>>>>> f0600e8 (update crate full model data 100%💀)
     ]
    }
   ],
   "source": [
    "# การประเมินผล\n",
    "train_accuracy = accuracy_score(y_train, model_dt.predict(X_train))\n",
    "test_accuracy = accuracy_score(y_test, model_dt.predict(X_test))\n",
    "\n",
    "print(f'Training Accuracy: {train_accuracy}')\n",
    "print(f'Test Accuracy: {test_accuracy}')"
   ]
  },
  {
   "cell_type": "markdown",
   "metadata": {},
   "source": [
    "## สรูป"
   ]
  },
  {
   "cell_type": "code",
<<<<<<< HEAD
<<<<<<< HEAD
   "execution_count": 36,
=======
   "execution_count": 131,
>>>>>>> 006006e (train model)
=======
   "execution_count": 219,
>>>>>>> f0600e8 (update crate full model data 100%💀)
   "metadata": {},
   "outputs": [
    {
     "name": "stdout",
     "output_type": "stream",
     "text": [
      "------------------------------ สรูป ------------------------------\n",
      "-----------------------------------------------------------------\n",
<<<<<<< HEAD
<<<<<<< HEAD
      "Accuracy of Logistic Regression is : 93.3 % .\n",
      "เวลาที่ใช้ในการฝึกโมเดล: 0.400123 วินาที\n",
      "Mean CV Accuracy: 0.9339\n",
      "Standard Deviation CV Accuracy: 0.0022\n",
      "-----------------------------------------------------------------\n",
      "Accuracy of Knn is : 94.2 % .\n",
      "เวลาที่ใช้ในการฝึกโมเดล: 0.088249 วินาที\n",
      "Mean CV Accuracy: 0.9434\n",
      "Standard Deviation CV Accuracy: 0.0026\n",
      "-----------------------------------------------------------------\n",
      "Accuracy of Naive Bayes is : 88.51 % .\n",
      "เวลาที่ใช้ในการฝึกโมเดล: 0.214140 วินาที\n",
      "Mean CV Accuracy: 0.8882\n",
      "Standard Deviation CV Accuracy: 0.0046\n",
      "-----------------------------------------------------------------\n",
      "Accuracy of Decision Tree is : 91.59 % .\n",
      "เวลาที่ใช้ในการฝึกโมเดล: 0.147104 วินาที\n",
      "Mean CV Accuracy: 0.9198\n",
      "Standard Deviation CV Accuracy: 0.0035\n"
=======
      "Accuracy of Logistic Regression is : 87.29 % .\n",
      "เวลาที่ใช้ในการฝึกโมเดล: 0.173603 วินาที\n",
      "Mean CV Accuracy: 0.8749\n",
      "Standard Deviation CV Accuracy: 0.0038\n",
=======
      "Accuracy of Logistic Regression is : 93.3 % .\n",
      "เวลาที่ใช้ในการฝึกโมเดล: 0.350557 วินาที\n",
      "Mean CV Accuracy: 0.9339\n",
      "Standard Deviation CV Accuracy: 0.0022\n",
>>>>>>> f0600e8 (update crate full model data 100%💀)
      "-----------------------------------------------------------------\n",
      "Accuracy of Knn is : 94.2 % .\n",
      "เวลาที่ใช้ในการฝึกโมเดล: 0.084447 วินาที\n",
      "Mean CV Accuracy: 0.9434\n",
      "Standard Deviation CV Accuracy: 0.0026\n",
      "-----------------------------------------------------------------\n",
      "Accuracy of Naive Bayes is : 88.51 % .\n",
      "เวลาที่ใช้ในการฝึกโมเดล: 0.175710 วินาที\n",
      "Mean CV Accuracy: 0.8882\n",
      "Standard Deviation CV Accuracy: 0.0046\n",
      "-----------------------------------------------------------------\n",
<<<<<<< HEAD
      "Accuracy of Decision Tree is : 94.21 % .\n",
      "เวลาที่ใช้ในการฝึกโมเดล: 0.159111 วินาที\n",
      "Mean CV Accuracy: 0.9386\n",
      "Standard Deviation CV Accuracy: 0.0036\n"
>>>>>>> 006006e (train model)
=======
      "Accuracy of Decision Tree is : 91.59 % .\n",
      "เวลาที่ใช้ในการฝึกโมเดล: 0.142860 วินาที\n",
      "Mean CV Accuracy: 0.9198\n",
      "Standard Deviation CV Accuracy: 0.0035\n"
>>>>>>> f0600e8 (update crate full model data 100%💀)
     ]
    }
   ],
   "source": [
    "print(\"-\"*30,\"สรูป\",\"-\"*30)\n",
    "\n",
    "print(\"-\"*65)\n",
    "print(f\"Accuracy of Logistic Regression is : {round(accuracy_LR*100,2)} % .\")\n",
    "print(f\"เวลาที่ใช้ในการฝึกโมเดล: {training_time_LR:.6f} วินาที\")\n",
    "# print(f\"Cross Validation Scores (Logistic Regression): {cv_scores_lr}\")\n",
    "print(f\"Mean CV Accuracy: {np.mean(cv_scores_lr):.4f}\")\n",
    "print(f\"Standard Deviation CV Accuracy: {np.std(cv_scores_lr):.4f}\")\n",
    "\n",
    "print(\"-\"*65)\n",
    "print(f\"Accuracy of Knn is : {round(accuracy_KNN*100,2)} % .\")\n",
    "print(f\"เวลาที่ใช้ในการฝึกโมเดล: {training_time_KNN:.6f} วินาที\")\n",
    "# print(f\"Cross Validation Scores (KNN): {cv_scores_knn}\")\n",
    "print(f\"Mean CV Accuracy: {np.mean(cv_scores_knn):.4f}\")\n",
    "print(f\"Standard Deviation CV Accuracy: {np.std(cv_scores_knn):.4f}\")\n",
    "\n",
    "print(\"-\"*65)\n",
    "print(f\"Accuracy of Naive Bayes is : {round(accuracy_NB*100,2)} % .\")\n",
    "print(f\"เวลาที่ใช้ในการฝึกโมเดล: {training_time_NB:.6f} วินาที\")\n",
    "# print(f\"Cross Validation Scores (Naive Bayes): {cv_scores_nb}\")\n",
    "print(f\"Mean CV Accuracy: {np.mean(cv_scores_nb):.4f}\")\n",
    "print(f\"Standard Deviation CV Accuracy: {np.std(cv_scores_nb):.4f}\")\n",
    "\n",
    "print(\"-\"*65)\n",
    "print(f\"Accuracy of Decision Tree is : {round(accuracy_DT*100,2)} % .\")\n",
    "print(f\"เวลาที่ใช้ในการฝึกโมเดล: {training_time_DT:.6f} วินาที\")\n",
    "# print(f\"Cross Validation Scores (Decision Tree): {cv_scores_dt}\")\n",
    "print(f\"Mean CV Accuracy: {np.mean(cv_scores_dt):.4f}\")\n",
    "print(f\"Standard Deviation CV Accuracy: {np.std(cv_scores_dt):.4f}\")\n"
   ]
  },
  {
   "cell_type": "code",
<<<<<<< HEAD
<<<<<<< HEAD
   "execution_count": 37,
=======
   "execution_count": 132,
>>>>>>> 006006e (train model)
=======
   "execution_count": 220,
>>>>>>> f0600e8 (update crate full model data 100%💀)
   "metadata": {},
   "outputs": [
    {
     "name": "stdout",
     "output_type": "stream",
     "text": [
      "Results have been written to model_performance.txt\n"
     ]
    }
   ],
   "source": [
    "name = f\"สรุป {data_name}\".center(65)  # จัดให้ name อยู่ตรงกลางในความกว้าง 65 ตัวอักษร\n",
    "line = \"-\" * 65\n",
    "# Prepare data as a string\n",
    "results = \"\"\"\n",
    "{}\n",
    "{}\n",
    "{}\n",
    "Accuracy of Logistic Regression is : {:.2f} % .\n",
    "เวลาที่ใช้ในการฝึกโมเดล: {:.6f} วินาที\n",
    "Mean CV Accuracy: {:.4f}\n",
    "Standard Deviation CV Accuracy: {:.4f}\n",
    "-----------------------------------------------------------------\n",
    "Accuracy of KNN is : {:.2f} % .\n",
    "เวลาที่ใช้ในการฝึกโมเดล: {:.6f} วินาที\n",
    "Mean CV Accuracy: {:.4f}\n",
    "Standard Deviation CV Accuracy: {:.4f}\n",
    "-----------------------------------------------------------------\n",
    "Accuracy of Naive Bayes is : {:.2f} % .\n",
    "เวลาที่ใช้ในการฝึกโมเดล: {:.6f} วินาที\n",
    "Mean CV Accuracy: {:.4f}\n",
    "Standard Deviation CV Accuracy: {:.4f}\n",
    "-----------------------------------------------------------------\n",
    "Accuracy of Decision Tree is : {:.2f} % .\n",
    "เวลาที่ใช้ในการฝึกโมเดล: {:.6f} วินาที\n",
    "Mean CV Accuracy: {:.4f}\n",
    "Standard Deviation CV Accuracy: {:.4f}\n",
    "-----------------------------------------------------------------\n",
    "\"\"\".format(line, name, line,\n",
    "    round(accuracy_LR*100, 2), training_time_LR, np.mean(cv_scores_lr), np.std(cv_scores_lr),\n",
    "    round(accuracy_KNN*100, 2), training_time_KNN, np.mean(cv_scores_knn), np.std(cv_scores_knn),\n",
    "    round(accuracy_NB*100, 2), training_time_NB, np.mean(cv_scores_nb), np.std(cv_scores_nb),\n",
    "    round(accuracy_DT*100, 2), training_time_DT, np.mean(cv_scores_dt), np.std(cv_scores_dt)\n",
    ")\n",
    "\n",
    "# Write the data to a text file\n",
    "with open(f'model_performance_{data_name}.txt', mode='w', encoding='utf-8') as file:\n",
    "    file.write(results)\n",
    "\n",
    "print(\"Results have been written to model_performance.txt\")\n"
   ]
<<<<<<< HEAD
<<<<<<< HEAD
=======
>>>>>>> f0600e8 (update crate full model data 100%💀)
  },
  {
   "cell_type": "markdown",
   "metadata": {},
   "source": [
    " ## FULL Model"
   ]
  },
  {
   "cell_type": "code",
<<<<<<< HEAD
   "execution_count": 38,
=======
   "execution_count": 221,
>>>>>>> f0600e8 (update crate full model data 100%💀)
   "metadata": {},
   "outputs": [
    {
     "data": {
      "text/plain": [
       "array([[-0.1764082 , -0.45550451, -0.5757362 , ..., -0.73199886,\n",
       "         0.2730259 ,  0.07562286],\n",
       "       [-0.1764082 , -0.45550451, -0.5757362 , ..., -0.95754986,\n",
       "        -0.35967326, -0.236345  ],\n",
       "       [-0.1764082 , -0.45550451,  1.7369066 , ..., -0.04832872,\n",
       "        -0.38603572, -0.39232892],\n",
       "       ...,\n",
       "       [-0.1764082 , -0.45550451,  1.7369066 , ..., -0.36309767,\n",
       "        -0.38603572, -0.39232892],\n",
       "       [-0.1764082 , -0.45550451, -0.5757362 , ..., -0.06336546,\n",
       "        -0.38603572, -0.39232892],\n",
       "       [-0.1764082 , -0.45550451,  1.7369066 , ..., -0.92847884,\n",
       "        -0.38603572, -0.39232892]])"
      ]
     },
<<<<<<< HEAD
     "execution_count": 38,
=======
     "execution_count": 221,
>>>>>>> f0600e8 (update crate full model data 100%💀)
     "metadata": {},
     "output_type": "execute_result"
    }
   ],
   "source": [
    "from sklearn.neighbors import KNeighborsClassifier\n",
    "from sklearn.preprocessing import StandardScaler\n",
    "scaler_full = StandardScaler()\n",
    "\n",
    "X = scaler_full.fit_transform(X)\n",
    "X"
   ]
  },
  {
   "cell_type": "code",
<<<<<<< HEAD
   "execution_count": 39,
=======
   "execution_count": 222,
>>>>>>> f0600e8 (update crate full model data 100%💀)
   "metadata": {},
   "outputs": [
    {
     "name": "stdout",
     "output_type": "stream",
     "text": [
<<<<<<< HEAD
      "เวลาที่ใช้ในการฝึกโมเดล: 0.199037 วินาที\n"
=======
      "เวลาที่ใช้ในการฝึกโมเดล: 0.101631 วินาที\n"
>>>>>>> f0600e8 (update crate full model data 100%💀)
     ]
    }
   ],
   "source": [
    "model_knn_FULL=KNeighborsClassifier(n_neighbors=5)\n",
    "\n",
    "#fit the model with trained data\n",
    "start_time = time.time()  # เวลาเริ่มต้น\n",
    "model_knn_FULL.fit(X,y)\n",
    "end_time = time.time()  # เวลาสิ้นสุด\n",
    "\n",
    "# คำนวณเวลาที่ใช้ในการฝึกโมเดล\n",
    "training_time_KNN = end_time - start_time\n",
    "print(f\"เวลาที่ใช้ในการฝึกโมเดล: {training_time_KNN:.6f} วินาที\")"
   ]
  },
  {
   "cell_type": "code",
<<<<<<< HEAD
   "execution_count": 40,
=======
   "execution_count": 223,
>>>>>>> f0600e8 (update crate full model data 100%💀)
   "metadata": {},
   "outputs": [
    {
     "name": "stdout",
     "output_type": "stream",
     "text": [
      "Cross Validation Scores (KNN): [0.94428356 0.94185104 0.94312522 0.94405189 0.94509441 0.94463107\n",
      " 0.94636859 0.94172845 0.94531974 0.94335032 0.94613068 0.94867933\n",
      " 0.94392956 0.9449722  0.94613068]\n",
      "Mean CV Accuracy: 0.9446\n",
      "Standard Deviation CV Accuracy: 0.0017\n"
     ]
    }
   ],
   "source": [
    "cv_scores_KNN_FULL = cross_val_score(model_knn_FULL, X, y, cv=k_folds, scoring='accuracy')\n",
    "\n",
    "print(f\"Cross Validation Scores (KNN): {cv_scores_KNN_FULL}\")\n",
    "print(f\"Mean CV Accuracy: {np.mean(cv_scores_KNN_FULL):.4f}\")\n",
    "print(f\"Standard Deviation CV Accuracy: {np.std(cv_scores_KNN_FULL):.4f}\")"
   ]
<<<<<<< HEAD
  },
  {
   "cell_type": "markdown",
   "metadata": {},
   "source": [
    "## Export model and Pipeline"
   ]
  },
  {
   "cell_type": "code",
   "execution_count": 41,
   "metadata": {},
   "outputs": [],
   "source": [
    "import pickle\n",
    "pickle_out = open(\"../model/model_knn_FULL.pkl\", mode = \"wb\")\n",
    "pickle.dump(model_knn_FULL, pickle_out)\n",
    "pickle_out.close()"
   ]
  },
  {
   "cell_type": "code",
   "execution_count": 42,
   "metadata": {},
   "outputs": [],
   "source": [
    "with open('../model/scaler.pkl', 'wb') as f:\n",
    "    pickle.dump(scaler, f)"
   ]
=======
>>>>>>> 006006e (train model)
=======
>>>>>>> f0600e8 (update crate full model data 100%💀)
  }
 ],
 "metadata": {
  "kernelspec": {
   "display_name": ".venv",
   "language": "python",
   "name": "python3"
  },
  "language_info": {
   "codemirror_mode": {
    "name": "ipython",
    "version": 3
   },
   "file_extension": ".py",
   "mimetype": "text/x-python",
   "name": "python",
   "nbconvert_exporter": "python",
   "pygments_lexer": "ipython3",
   "version": "3.12.4"
  }
 },
 "nbformat": 4,
 "nbformat_minor": 2
}
