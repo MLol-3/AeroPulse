{
 "cells": [
  {
   "cell_type": "code",
   "execution_count": 654,
   "metadata": {},
   "outputs": [],
   "source": [
    "import numpy as np # linear algebra\n",
    "import pandas as pd # data processing\n",
    "import matplotlib.pyplot as plt\n",
    "import seaborn as sns\n",
    "import time\n",
    "from sklearn.model_selection import cross_val_score\n"
   ]
  },
  {
   "cell_type": "markdown",
   "metadata": {},
   "source": [
    "## Read Data"
   ]
  },
  {
   "cell_type": "code",
   "execution_count": null,
   "metadata": {},
   "outputs": [],
   "source": [
    "df_train = pd.read_csv(\"../datasets/train.csv\")\n",
    "df_test = pd.read_csv(\"../datasets/test.csv\")\n",
    "\n",
    "# รวมข้อมูล\n",
    "df = pd.concat([df_train, df_test], ignore_index=True)\n",
    "df_copy = df.copy()\n",
    "df_copy.head()"
   ]
  },
  {
   "cell_type": "markdown",
   "metadata": {},
   "source": [
    "## Understanding Data"
   ]
  },
  {
   "cell_type": "code",
   "execution_count": null,
   "metadata": {},
   "outputs": [],
   "source": [
    "df_copy.keys()"
   ]
  },
  {
   "cell_type": "code",
   "execution_count": null,
   "metadata": {},
   "outputs": [],
   "source": [
    "df_copy.info()"
   ]
  },
  {
   "cell_type": "code",
   "execution_count": null,
   "metadata": {},
   "outputs": [],
   "source": [
    "df_copy.describe().round(2)"
   ]
  },
  {
   "cell_type": "code",
   "execution_count": null,
   "metadata": {},
   "outputs": [],
   "source": [
    "df_copy.isnull().sum()"
   ]
  },
  {
   "cell_type": "code",
   "execution_count": null,
   "metadata": {},
   "outputs": [],
   "source": [
    "df_copy_cleaned = df_copy.dropna()\n",
    "df_copy_cleaned=df_copy_cleaned.drop(['Unnamed: 0','id'],axis=1).reset_index(drop=True)\n",
    "df_copy_cleaned\n"
   ]
  },
  {
   "cell_type": "code",
   "execution_count": null,
   "metadata": {},
   "outputs": [],
   "source": [
    "df_copy_cleaned.isnull().sum()"
   ]
  },
  {
   "cell_type": "code",
   "execution_count": null,
   "metadata": {},
   "outputs": [],
   "source": [
    "df_copy_cleaned.info()"
   ]
  },
  {
   "cell_type": "markdown",
   "metadata": {},
   "source": [
    "## OneHotEncoder"
   ]
  },
  {
   "cell_type": "code",
   "execution_count": null,
   "metadata": {},
   "outputs": [],
   "source": [
    "encoded_need=[]\n",
    "for i in df_copy_cleaned.columns:\n",
    "  if df_copy_cleaned[i].dtype=='object':\n",
    "    print(f\"Unique values of '{i}' is {df_copy_cleaned[i].unique()}\")\n",
    "    encoded_need.append(i)\n",
    "print(\"Categorical values exist in the columns : \",encoded_need)\n",
    "print(encoded_need[:-1])"
   ]
  },
  {
   "cell_type": "code",
   "execution_count": null,
   "metadata": {},
   "outputs": [],
   "source": [
    "df_copy_cleaned.isnull().sum()"
   ]
  },
  {
   "cell_type": "code",
   "execution_count": null,
   "metadata": {},
   "outputs": [],
   "source": [
    "max_values = df_copy_cleaned.max()\n",
    "\n",
    "# หาคอลัมน์ที่มีค่า max = 5\n",
    "columns_with_max_5 = max_values[max_values == 5].index.tolist()\n",
    "\n",
    "print(\"คอลัมน์ที่มีค่า max เท่ากับ 5:\", columns_with_max_5)\n",
    "encoded_all = columns_with_max_5 + encoded_need[:-1]\n",
    "print(encoded_all)"
   ]
  },
  {
   "cell_type": "code",
   "execution_count": null,
   "metadata": {},
   "outputs": [],
   "source": [
    "from sklearn.preprocessing import OneHotEncoder\n",
    "\n",
    "encoder = OneHotEncoder()\n",
    "encoded = encoder.fit_transform(df_copy_cleaned[encoded_all])\n",
    "\n",
    "df_encoded = pd.DataFrame(encoded.toarray(), columns=encoder.get_feature_names_out(encoded_all))\n",
    "df_encoded = df_encoded.astype(int)\n",
    "df_encoded"
   ]
  },
  {
   "cell_type": "code",
   "execution_count": null,
   "metadata": {},
   "outputs": [],
   "source": [
    "df_drop_dummy = df_copy_cleaned.drop(encoded_all, axis=1)\n",
    "df_drop_dummy\n"
   ]
  },
  {
   "cell_type": "code",
   "execution_count": null,
   "metadata": {},
   "outputs": [],
   "source": [
    "df_drop_dummy.info()"
   ]
  },
  {
   "cell_type": "code",
   "execution_count": null,
   "metadata": {},
   "outputs": [],
   "source": [
    "# ตรวจสอบขนาดของ df_drop_dummy และ df_encoded ก่อน\n",
    "print(\"ขนาดของ df_drop_dummy:\", df_drop_dummy.shape)\n",
    "print(\"ขนาดของ df_encoded:\", df_encoded.shape)\n",
    "\n",
    "df_final = pd.concat([df_encoded, df_drop_dummy], axis=1)\n",
    "print(\"ขนาดของ df_final:\", df_final.shape)\n"
   ]
  },
  {
   "cell_type": "code",
   "execution_count": null,
   "metadata": {},
   "outputs": [],
   "source": [
    "df_final"
   ]
  },
  {
   "cell_type": "code",
   "execution_count": 671,
   "metadata": {},
   "outputs": [],
   "source": [
    "# sns.pairplot(df_final)"
   ]
  },
  {
   "cell_type": "markdown",
   "metadata": {},
   "source": [
    "## Train-Test Splitting"
   ]
  },
  {
   "cell_type": "code",
   "execution_count": null,
   "metadata": {},
   "outputs": [],
   "source": [
    "X=df_final.iloc[:,:-1]\n",
    "X"
   ]
  },
  {
   "cell_type": "code",
   "execution_count": null,
   "metadata": {},
   "outputs": [],
   "source": [
    "y = df_final.iloc[:,-1]\n",
    "y"
   ]
  },
  {
   "cell_type": "code",
   "execution_count": null,
   "metadata": {},
   "outputs": [],
   "source": [
    "from sklearn.model_selection import train_test_split\n",
    "\n",
    "X_train,X_test,y_train,y_test=train_test_split(X,y,test_size=0.3,random_state=42)\n",
    "print(f\"Shape of training set is : {X_train.shape} and test set is :{X_test.shape}\" )"
   ]
  },
  {
   "cell_type": "code",
   "execution_count": null,
   "metadata": {},
   "outputs": [],
   "source": [
    "from sklearn.preprocessing import StandardScaler\n",
    "scaler = StandardScaler()\n",
    "\n",
    "X_train = scaler.fit_transform(X_train)\n",
    "X_test = scaler.fit_transform(X_test)\n",
    "\n",
    "X_train"
   ]
  },
  {
   "cell_type": "markdown",
   "metadata": {},
   "source": [
    "## Set paramiter CV"
   ]
  },
  {
   "cell_type": "code",
   "execution_count": 676,
   "metadata": {},
   "outputs": [],
   "source": [
    "# ทำ Cross Validation\n",
    "k_folds = 15  # จำนวน k-folds "
   ]
  },
  {
   "cell_type": "markdown",
   "metadata": {},
   "source": [
    "## Logistic Regression"
   ]
  },
  {
   "cell_type": "code",
   "execution_count": null,
   "metadata": {},
   "outputs": [],
   "source": [
    "from sklearn.linear_model import LogisticRegression\n",
    "\n",
    "# create logistic regression model and fit to training data\n",
    "model_lr = LogisticRegression()\n",
    "\n",
    "start_time = time.time()  # เวลาเริ่มต้น\n",
    "model_lr.fit(X_train, y_train)\n",
    "end_time = time.time()  # เวลาสิ้นสุด\n",
    "\n",
    "# คำนวณเวลาที่ใช้ในการฝึกโมเดล\n",
    "training_time_LR = end_time - start_time\n",
    "print(f\"เวลาที่ใช้ในการฝึกโมเดล: {training_time_LR:.6f} วินาที\")"
   ]
  },
  {
   "cell_type": "code",
   "execution_count": null,
   "metadata": {},
   "outputs": [],
   "source": [
    "from sklearn.metrics import classification_report,ConfusionMatrixDisplay,confusion_matrix\n",
    "from sklearn.metrics import accuracy_score\n",
    "\n",
    "y_pred_lr=model_lr.predict(X_test)\n",
    "accuracy_LR=accuracy_score(y_pred_lr,y_test)\n",
    "print(f\"Accuracy of Logistic Regression is : {round(accuracy_LR*100,2)} % .\")\n",
    "\n",
    "report=classification_report(y_test,y_pred_lr)\n",
    "print(\"Classification Report is : \\n\",report)"
   ]
  },
  {
   "cell_type": "code",
   "execution_count": null,
   "metadata": {},
   "outputs": [],
   "source": [
    "cm_1= confusion_matrix(y_test, y_pred_lr, labels=model_lr.classes_)\n",
    "disp_1= ConfusionMatrixDisplay(confusion_matrix=cm_1,\n",
    "                          display_labels=model_lr.classes_)\n",
    "disp_1.plot()"
   ]
  },
  {
   "cell_type": "code",
   "execution_count": null,
   "metadata": {},
   "outputs": [],
   "source": [
    "start_time_cv = time.time()  # เวลาเริ่มต้นสำหรับ cross-validation\n",
    "cv_scores_lr = cross_val_score(model_lr, X_train, y_train, cv=k_folds, scoring='accuracy')\n",
    "end_time_cv = time.time()  # เวลาสิ้นสุดสำหรับ cross-validation\n",
    "\n",
    "# แสดงผล Cross Validation Scores\n",
    "print(f\"Cross Validation Scores (Logistic Regression): {cv_scores_lr}\")\n",
    "print(f\"Mean CV Accuracy: {np.mean(cv_scores_lr):.4f}\")\n",
    "print(f\"Standard Deviation CV Accuracy: {np.std(cv_scores_lr):.4f}\")\n",
    "\n",
    "# คำนวณเวลาที่ใช้ในการทำ Cross Validation\n",
    "cv_time_LR = end_time_cv - start_time_cv\n",
    "print(f\"เวลาที่ใช้ในการทำ Cross Validation: {cv_time_LR:.6f} วินาที\")"
   ]
  },
  {
   "cell_type": "code",
   "execution_count": null,
   "metadata": {},
   "outputs": [],
   "source": [
    "# การประเมินผล\n",
    "train_accuracy = accuracy_score(y_train, model_lr.predict(X_train))\n",
    "test_accuracy = accuracy_score(y_test, model_lr.predict(X_test))\n",
    "\n",
    "print(f'Training Accuracy: {train_accuracy}')\n",
    "print(f'Test Accuracy: {test_accuracy}')"
   ]
  },
  {
   "cell_type": "markdown",
   "metadata": {},
   "source": [
    "## K-NN(K Nearest Neighbours)"
   ]
  },
  {
   "cell_type": "code",
   "execution_count": null,
   "metadata": {},
   "outputs": [],
   "source": [
    "from sklearn.neighbors import KNeighborsClassifier\n",
    "\n",
    "model_knn=KNeighborsClassifier(n_neighbors=5)\n",
    "\n",
    "#fit the model with trained data\n",
    "start_time = time.time()  # เวลาเริ่มต้น\n",
    "model_knn.fit(X_train,y_train)\n",
    "end_time = time.time()  # เวลาสิ้นสุด\n",
    "\n",
    "# คำนวณเวลาที่ใช้ในการฝึกโมเดล\n",
    "training_time_KNN = end_time - start_time\n",
    "print(f\"เวลาที่ใช้ในการฝึกโมเดล: {training_time_KNN:.6f} วินาที\")\n"
   ]
  },
  {
   "cell_type": "code",
   "execution_count": null,
   "metadata": {},
   "outputs": [],
   "source": [
    "\n",
    "#Predict the accuracy of the model\n",
    "y_pred_knn=model_knn.predict(X_test)\n",
    "\n",
    "accuracy_KNN=accuracy_score(y_pred_knn,y_test)\n",
    "print(f\"Accuracy of Knn is : {round(accuracy_KNN*100,2)} % .\")\n",
    "\n",
    "report=classification_report(y_test,y_pred_knn)\n",
    "print(\"Classification Report is : \\n\",report)"
   ]
  },
  {
   "cell_type": "code",
   "execution_count": null,
   "metadata": {},
   "outputs": [],
   "source": [
    "cm_2= confusion_matrix(y_test, y_pred_knn, labels=model_lr.classes_)\n",
    "disp_2= ConfusionMatrixDisplay(confusion_matrix=cm_2,\n",
    "                          display_labels=model_knn.classes_)\n",
    "disp_2.plot()"
   ]
  },
  {
   "cell_type": "code",
   "execution_count": null,
   "metadata": {},
   "outputs": [],
   "source": [
    "# ทำ Cross Validation\n",
    "start_time_cv = time.time()  # เวลาเริ่มต้นสำหรับ cross-validation\n",
    "cv_scores_knn = cross_val_score(model_knn, X_train, y_train, cv=k_folds, scoring='accuracy')\n",
    "end_time_cv = time.time()  # เวลาสิ้นสุดสำหรับ cross-validation\n",
    "\n",
    "# แสดงผล Cross Validation Scores\n",
    "print(f\"Cross Validation Scores (KNN): {cv_scores_knn}\")\n",
    "print(f\"Mean CV Accuracy: {np.mean(cv_scores_knn):.4f}\")\n",
    "print(f\"Standard Deviation CV Accuracy: {np.std(cv_scores_knn):.4f}\")\n",
    "\n",
    "# คำนวณเวลาที่ใช้ในการทำ Cross Validation\n",
    "cv_time_KNN = end_time_cv - start_time_cv\n",
    "print(f\"เวลาที่ใช้ในการทำ Cross Validation: {cv_time_KNN:.6f} วินาที\")\n"
   ]
  },
  {
   "cell_type": "code",
   "execution_count": null,
   "metadata": {},
   "outputs": [],
   "source": [
    "# การประเมินผล\n",
    "train_accuracy = accuracy_score(y_train, model_knn.predict(X_train))\n",
    "test_accuracy = accuracy_score(y_test, model_knn.predict(X_test))\n",
    "\n",
    "print(f'Training Accuracy: {train_accuracy}')\n",
    "print(f'Test Accuracy: {test_accuracy}')"
   ]
  },
  {
   "cell_type": "markdown",
   "metadata": {},
   "source": [
    "## Naive-Bayes"
   ]
  },
  {
   "cell_type": "code",
   "execution_count": null,
   "metadata": {},
   "outputs": [],
   "source": [
    "from sklearn.naive_bayes import MultinomialNB\n",
    "from sklearn.preprocessing import MinMaxScaler\n",
    "\n",
    "# ใช้ MinMaxScaler แปลง X_train ให้อยู่ในช่วง 0 ถึง 1\n",
    "scaler = MinMaxScaler()\n",
    "\n",
    "X_train_scaled = scaler.fit_transform(X_train)\n",
    "X_test_scaled = scaler.transform(X_test)\n",
    "\n",
    "# ฟิตโมเดลด้วยข้อมูลที่ถูกแปลงแล้ว\n",
    "model_naive = MultinomialNB()\n",
    "\n",
    "start_time = time.time()  # เวลาเริ่มต้น\n",
    "model_naive.fit(X_train_scaled, y_train)\n",
    "end_time = time.time()  # เวลาสิ้นสุด\n",
    "\n",
    "# คำนวณเวลาที่ใช้ในการฝึกโมเดล\n",
    "training_time_NB = end_time - start_time\n",
    "print(f\"เวลาที่ใช้ในการฝึกโมเดล: {training_time_NB:.6f} วินาที\")\n"
   ]
  },
  {
   "cell_type": "code",
   "execution_count": null,
   "metadata": {},
   "outputs": [],
   "source": [
    "\n",
    "#Predict the accuracy of the model\n",
    "y_pred_naive=model_naive.predict(X_test_scaled)\n",
    "\n",
    "accuracy_NB=accuracy_score(y_pred_naive,y_test)\n",
    "print(f\"Accuracy of Naive Bayes is : {round(accuracy_NB*100,2)} % .\")\n",
    "\n",
    "report=classification_report(y_test,y_pred_naive)\n",
    "print(\"Classification Report is : \\n\",report)"
   ]
  },
  {
   "cell_type": "code",
   "execution_count": null,
   "metadata": {},
   "outputs": [],
   "source": [
    "start_time_cv = time.time()  # เวลาเริ่มต้นสำหรับ cross-validation\n",
    "cv_scores_nb = cross_val_score(model_naive, X_train_scaled, y_train, cv=k_folds, scoring='accuracy')\n",
    "end_time_cv = time.time()  # เวลาสิ้นสุดสำหรับ cross-validation\n",
    "\n",
    "# แสดงผล Cross Validation Scores\n",
    "print(f\"Cross Validation Scores (Naive Bayes): {cv_scores_nb}\")\n",
    "print(f\"Mean CV Accuracy: {np.mean(cv_scores_nb):.4f}\")\n",
    "print(f\"Standard Deviation CV Accuracy: {np.std(cv_scores_nb):.4f}\")\n",
    "\n",
    "# คำนวณเวลาที่ใช้ในการทำ Cross Validation\n",
    "cv_time_NB = end_time_cv - start_time_cv\n",
    "print(f\"เวลาที่ใช้ในการทำ Cross Validation: {cv_time_NB:.6f} วินาที\")"
   ]
  },
  {
   "cell_type": "markdown",
   "metadata": {},
   "source": [
    "## Decision Tree"
   ]
  },
  {
   "cell_type": "code",
   "execution_count": null,
   "metadata": {},
   "outputs": [],
   "source": [
    "from sklearn.tree import DecisionTreeClassifier\n",
    "\n",
    "model_dt=DecisionTreeClassifier(criterion='gini', splitter='best',max_features=6,random_state=1234)\n",
    "\n",
    "#fit the model with trained data\n",
    "start_time = time.time()  # เวลาเริ่มต้น\n",
    "model_dt.fit(X_train,y_train)\n",
    "end_time = time.time()  # เวลาสิ้นสุด\n",
    "\n",
    "# คำนวณเวลาที่ใช้ในการฝึกโมเดล\n",
    "training_time_DT = end_time - start_time\n",
    "print(f\"เวลาที่ใช้ในการฝึกโมเดล: {training_time_DT:.6f} วินาที\")\n",
    "\n"
   ]
  },
  {
   "cell_type": "code",
   "execution_count": null,
   "metadata": {},
   "outputs": [],
   "source": [
    "\n",
    "#Predict the accuracy of the model\n",
    "y_pred_dt=model_dt.predict(X_test)\n",
    "\n",
    "accuracy_DT=accuracy_score(y_pred_dt,y_test)\n",
    "print(f\"Accuracy of Decision Tree is : {round(accuracy_DT*100,2)} % .\")\n",
    "\n",
    "report=classification_report(y_test,y_pred_dt)\n",
    "print(\"Classification Report is : \\n\",report)"
   ]
  },
  {
   "cell_type": "code",
   "execution_count": null,
   "metadata": {},
   "outputs": [],
   "source": [
    "start_time_cv = time.time()  # เวลาเริ่มต้นสำหรับ cross-validation\n",
    "cv_scores_dt = cross_val_score(model_dt, X_train, y_train, cv=k_folds, scoring='accuracy')\n",
    "end_time_cv = time.time()  # เวลาสิ้นสุดสำหรับ cross-validation\n",
    "\n",
    "# แสดงผล Cross Validation Scores\n",
    "print(f\"Cross Validation Scores (Decision Tree): {cv_scores_dt}\")\n",
    "print(f\"Mean CV Accuracy: {np.mean(cv_scores_dt):.4f}\")\n",
    "print(f\"Standard Deviation CV Accuracy: {np.std(cv_scores_dt):.4f}\")\n",
    "\n",
    "# คำนวณเวลาที่ใช้ในการทำ Cross Validation\n",
    "cv_time_DT = end_time_cv - start_time_cv\n",
    "print(f\"เวลาที่ใช้ในการทำ Cross Validation: {cv_time_DT:.6f} วินาที\")"
   ]
  },
  {
   "cell_type": "code",
   "execution_count": null,
   "metadata": {},
   "outputs": [],
   "source": [
    "# การประเมินผล\n",
    "train_accuracy = accuracy_score(y_train, model_dt.predict(X_train))\n",
    "test_accuracy = accuracy_score(y_test, model_dt.predict(X_test))\n",
    "\n",
    "print(f'Training Accuracy: {train_accuracy}')\n",
    "print(f'Test Accuracy: {test_accuracy}')"
   ]
  },
  {
   "cell_type": "markdown",
   "metadata": {},
   "source": [
    "## สรูป"
   ]
  },
  {
   "cell_type": "code",
   "execution_count": null,
   "metadata": {},
   "outputs": [],
   "source": [
    "print(\"-\"*30,\"สรูป\",\"-\"*30)\n",
    "\n",
    "print(\"-\"*65)\n",
    "print(f\"Accuracy of Logistic Regression is : {round(accuracy_LR*100,2)} % .\")\n",
    "print(f\"เวลาที่ใช้ในการฝึกโมเดล: {training_time_LR:.6f} วินาที\")\n",
    "# print(f\"Cross Validation Scores (Logistic Regression): {cv_scores_lr}\")\n",
    "print(f\"Mean CV Accuracy: {np.mean(cv_scores_lr):.4f}\")\n",
    "print(f\"Standard Deviation CV Accuracy: {np.std(cv_scores_lr):.4f}\")\n",
    "\n",
    "print(\"-\"*65)\n",
    "print(f\"Accuracy of Knn is : {round(accuracy_KNN*100,2)} % .\")\n",
    "print(f\"เวลาที่ใช้ในการฝึกโมเดล: {training_time_KNN:.6f} วินาที\")\n",
    "# print(f\"Cross Validation Scores (KNN): {cv_scores_knn}\")\n",
    "print(f\"Mean CV Accuracy: {np.mean(cv_scores_knn):.4f}\")\n",
    "print(f\"Standard Deviation CV Accuracy: {np.std(cv_scores_knn):.4f}\")\n",
    "\n",
    "print(\"-\"*65)\n",
    "print(f\"Accuracy of Naive Bayes is : {round(accuracy_NB*100,2)} % .\")\n",
    "print(f\"เวลาที่ใช้ในการฝึกโมเดล: {training_time_NB:.6f} วินาที\")\n",
    "# print(f\"Cross Validation Scores (Naive Bayes): {cv_scores_nb}\")\n",
    "print(f\"Mean CV Accuracy: {np.mean(cv_scores_nb):.4f}\")\n",
    "print(f\"Standard Deviation CV Accuracy: {np.std(cv_scores_nb):.4f}\")\n",
    "\n",
    "print(\"-\"*65)\n",
    "print(f\"Accuracy of Decision Tree is : {round(accuracy_DT*100,2)} % .\")\n",
    "print(f\"เวลาที่ใช้ในการฝึกโมเดล: {training_time_DT:.6f} วินาที\")\n",
    "# print(f\"Cross Validation Scores (Decision Tree): {cv_scores_dt}\")\n",
    "print(f\"Mean CV Accuracy: {np.mean(cv_scores_dt):.4f}\")\n",
    "print(f\"Standard Deviation CV Accuracy: {np.std(cv_scores_dt):.4f}\")\n"
   ]
  }
 ],
 "metadata": {
  "kernelspec": {
   "display_name": ".venv",
   "language": "python",
   "name": "python3"
  },
  "language_info": {
   "codemirror_mode": {
    "name": "ipython",
    "version": 3
   },
   "file_extension": ".py",
   "mimetype": "text/x-python",
   "name": "python",
   "nbconvert_exporter": "python",
   "pygments_lexer": "ipython3",
   "version": "3.12.4"
  }
 },
 "nbformat": 4,
 "nbformat_minor": 2
}
